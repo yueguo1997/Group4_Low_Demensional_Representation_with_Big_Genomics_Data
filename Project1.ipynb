{
 "cells": [
  {
   "cell_type": "markdown",
   "metadata": {
    "id": "vGmIEcOvOqh2"
   },
   "source": [
    "# Load Package"
   ]
  },
  {
   "cell_type": "code",
   "execution_count": 1,
   "metadata": {
    "colab": {
     "base_uri": "https://localhost:8080/"
    },
    "id": "O9ZOdq_j9JUC",
    "outputId": "8f3231d4-9334-404a-b290-f23cafdc2e42"
   },
   "outputs": [
    {
     "name": "stdout",
     "output_type": "stream",
     "text": [
      "Mounted at /content/drive\n"
     ]
    }
   ],
   "source": [
    "from google.colab import drive\n",
    "drive.mount('/content/drive')"
   ]
  },
  {
   "cell_type": "code",
   "execution_count": 2,
   "metadata": {
    "colab": {
     "base_uri": "https://localhost:8080/"
    },
    "id": "7wEGHkoa9Ojl",
    "outputId": "1e21b0fa-487e-445f-bcd7-ac2d8b1b8712"
   },
   "outputs": [
    {
     "name": "stdout",
     "output_type": "stream",
     "text": [
      "/content/drive/MyDrive/Bigdataproject\n"
     ]
    }
   ],
   "source": [
    "\n",
    "import os\n",
    "cur_path = \"/content/drive/MyDrive/Bigdataproject/\"\n",
    "os.chdir(cur_path)\n",
    "!pwd"
   ]
  },
  {
   "cell_type": "code",
   "execution_count": 3,
   "metadata": {
    "colab": {
     "base_uri": "https://localhost:8080/"
    },
    "id": "0MDGVXW64BRa",
    "outputId": "6842e016-4066-49a7-d9fb-70d51fa4b8df"
   },
   "outputs": [
    {
     "name": "stdout",
     "output_type": "stream",
     "text": [
      "Looking in indexes: https://pypi.org/simple, https://us-python.pkg.dev/colab-wheels/public/simple/\n",
      "Collecting pyspark\n",
      "  Downloading pyspark-3.3.2.tar.gz (281.4 MB)\n",
      "\u001b[2K     \u001b[90m━━━━━━━━━━━━━━━━━━━━━━━━━━━━━━━━━━━━━━━\u001b[0m \u001b[32m281.4/281.4 MB\u001b[0m \u001b[31m4.7 MB/s\u001b[0m eta \u001b[36m0:00:00\u001b[0m\n",
      "\u001b[?25h  Preparing metadata (setup.py) ... \u001b[?25l\u001b[?25hdone\n",
      "Collecting py4j==0.10.9.5\n",
      "  Downloading py4j-0.10.9.5-py2.py3-none-any.whl (199 kB)\n",
      "\u001b[2K     \u001b[90m━━━━━━━━━━━━━━━━━━━━━━━━━━━━━━━━━━━━━━\u001b[0m \u001b[32m199.7/199.7 KB\u001b[0m \u001b[31m19.5 MB/s\u001b[0m eta \u001b[36m0:00:00\u001b[0m\n",
      "\u001b[?25hBuilding wheels for collected packages: pyspark\n",
      "  Building wheel for pyspark (setup.py) ... \u001b[?25l\u001b[?25hdone\n",
      "  Created wheel for pyspark: filename=pyspark-3.3.2-py2.py3-none-any.whl size=281824028 sha256=2cd340c3ba8386f00ca719d94b2f624980759b73fdaddbd7d844a8b9ff5ab7c2\n",
      "  Stored in directory: /root/.cache/pip/wheels/6c/e3/9b/0525ce8a69478916513509d43693511463c6468db0de237c86\n",
      "Successfully built pyspark\n",
      "Installing collected packages: py4j, pyspark\n",
      "  Attempting uninstall: py4j\n",
      "    Found existing installation: py4j 0.10.9.7\n",
      "    Uninstalling py4j-0.10.9.7:\n",
      "      Successfully uninstalled py4j-0.10.9.7\n",
      "Successfully installed py4j-0.10.9.5 pyspark-3.3.2\n",
      "Looking in indexes: https://pypi.org/simple, https://us-python.pkg.dev/colab-wheels/public/simple/\n",
      "Requirement already satisfied: pyspark[sql] in /usr/local/lib/python3.9/dist-packages (3.3.2)\n",
      "Requirement already satisfied: py4j==0.10.9.5 in /usr/local/lib/python3.9/dist-packages (from pyspark[sql]) (0.10.9.5)\n",
      "Requirement already satisfied: pandas>=1.0.5 in /usr/local/lib/python3.9/dist-packages (from pyspark[sql]) (1.4.4)\n",
      "Requirement already satisfied: pyarrow>=1.0.0 in /usr/local/lib/python3.9/dist-packages (from pyspark[sql]) (9.0.0)\n",
      "Requirement already satisfied: pytz>=2020.1 in /usr/local/lib/python3.9/dist-packages (from pandas>=1.0.5->pyspark[sql]) (2022.7.1)\n",
      "Requirement already satisfied: python-dateutil>=2.8.1 in /usr/local/lib/python3.9/dist-packages (from pandas>=1.0.5->pyspark[sql]) (2.8.2)\n",
      "Requirement already satisfied: numpy>=1.18.5 in /usr/local/lib/python3.9/dist-packages (from pandas>=1.0.5->pyspark[sql]) (1.22.4)\n",
      "Requirement already satisfied: six>=1.5 in /usr/local/lib/python3.9/dist-packages (from python-dateutil>=2.8.1->pandas>=1.0.5->pyspark[sql]) (1.16.0)\n",
      "The following additional packages will be installed:\n",
      "  libxtst6 openjdk-8-jre-headless\n",
      "Suggested packages:\n",
      "  openjdk-8-demo openjdk-8-source libnss-mdns fonts-dejavu-extra\n",
      "  fonts-ipafont-gothic fonts-ipafont-mincho fonts-wqy-microhei\n",
      "  fonts-wqy-zenhei fonts-indic\n",
      "The following NEW packages will be installed:\n",
      "  libxtst6 openjdk-8-jdk-headless openjdk-8-jre-headless\n",
      "0 upgraded, 3 newly installed, 0 to remove and 24 not upgraded.\n",
      "Need to get 36.5 MB of archives.\n",
      "After this operation, 144 MB of additional disk space will be used.\n",
      "Selecting previously unselected package libxtst6:amd64.\n",
      "(Reading database ... 122349 files and directories currently installed.)\n",
      "Preparing to unpack .../libxtst6_2%3a1.2.3-1_amd64.deb ...\n",
      "Unpacking libxtst6:amd64 (2:1.2.3-1) ...\n",
      "Selecting previously unselected package openjdk-8-jre-headless:amd64.\n",
      "Preparing to unpack .../openjdk-8-jre-headless_8u362-ga-0ubuntu1~20.04.1_amd64.deb ...\n",
      "Unpacking openjdk-8-jre-headless:amd64 (8u362-ga-0ubuntu1~20.04.1) ...\n",
      "Selecting previously unselected package openjdk-8-jdk-headless:amd64.\n",
      "Preparing to unpack .../openjdk-8-jdk-headless_8u362-ga-0ubuntu1~20.04.1_amd64.deb ...\n",
      "Unpacking openjdk-8-jdk-headless:amd64 (8u362-ga-0ubuntu1~20.04.1) ...\n",
      "Setting up libxtst6:amd64 (2:1.2.3-1) ...\n",
      "Setting up openjdk-8-jre-headless:amd64 (8u362-ga-0ubuntu1~20.04.1) ...\n",
      "update-alternatives: using /usr/lib/jvm/java-8-openjdk-amd64/jre/bin/orbd to provide /usr/bin/orbd (orbd) in auto mode\n",
      "update-alternatives: using /usr/lib/jvm/java-8-openjdk-amd64/jre/bin/servertool to provide /usr/bin/servertool (servertool) in auto mode\n",
      "update-alternatives: using /usr/lib/jvm/java-8-openjdk-amd64/jre/bin/tnameserv to provide /usr/bin/tnameserv (tnameserv) in auto mode\n",
      "Setting up openjdk-8-jdk-headless:amd64 (8u362-ga-0ubuntu1~20.04.1) ...\n",
      "update-alternatives: using /usr/lib/jvm/java-8-openjdk-amd64/bin/idlj to provide /usr/bin/idlj (idlj) in auto mode\n",
      "update-alternatives: using /usr/lib/jvm/java-8-openjdk-amd64/bin/wsimport to provide /usr/bin/wsimport (wsimport) in auto mode\n",
      "update-alternatives: using /usr/lib/jvm/java-8-openjdk-amd64/bin/jsadebugd to provide /usr/bin/jsadebugd (jsadebugd) in auto mode\n",
      "update-alternatives: using /usr/lib/jvm/java-8-openjdk-amd64/bin/native2ascii to provide /usr/bin/native2ascii (native2ascii) in auto mode\n",
      "update-alternatives: using /usr/lib/jvm/java-8-openjdk-amd64/bin/javah to provide /usr/bin/javah (javah) in auto mode\n",
      "update-alternatives: using /usr/lib/jvm/java-8-openjdk-amd64/bin/hsdb to provide /usr/bin/hsdb (hsdb) in auto mode\n",
      "update-alternatives: using /usr/lib/jvm/java-8-openjdk-amd64/bin/clhsdb to provide /usr/bin/clhsdb (clhsdb) in auto mode\n",
      "update-alternatives: using /usr/lib/jvm/java-8-openjdk-amd64/bin/xjc to provide /usr/bin/xjc (xjc) in auto mode\n",
      "update-alternatives: using /usr/lib/jvm/java-8-openjdk-amd64/bin/schemagen to provide /usr/bin/schemagen (schemagen) in auto mode\n",
      "update-alternatives: using /usr/lib/jvm/java-8-openjdk-amd64/bin/extcheck to provide /usr/bin/extcheck (extcheck) in auto mode\n",
      "update-alternatives: using /usr/lib/jvm/java-8-openjdk-amd64/bin/jhat to provide /usr/bin/jhat (jhat) in auto mode\n",
      "update-alternatives: using /usr/lib/jvm/java-8-openjdk-amd64/bin/wsgen to provide /usr/bin/wsgen (wsgen) in auto mode\n",
      "Processing triggers for libc-bin (2.31-0ubuntu9.9) ...\n"
     ]
    }
   ],
   "source": [
    "!pip install pyspark\n",
    "!pip install pyspark[sql]\n",
    "!pip install -U -q PyDrive\n",
    "!apt install openjdk-8-jdk-headless -qq \n",
    "import os\n",
    "os.environ[\"JAVA_HOME\"] = \"/usr/lib/jvm/java-8-openjdk-amd64\""
   ]
  },
  {
   "cell_type": "code",
   "execution_count": 4,
   "metadata": {
    "id": "bXw2KzHqNEwD"
   },
   "outputs": [],
   "source": [
    "import pyspark as spark\n",
    "import time\n",
    "from operator import add\n",
    "from pyspark.sql import SparkSession"
   ]
  },
  {
   "cell_type": "markdown",
   "metadata": {
    "id": "BLH0Rq2yOt1R"
   },
   "source": [
    "# Step 0: Read Data"
   ]
  },
  {
   "cell_type": "markdown",
   "metadata": {
    "id": "ynLN-vAXQ653"
   },
   "source": [
    "## Set spark session"
   ]
  },
  {
   "cell_type": "code",
   "execution_count": 5,
   "metadata": {
    "id": "uDsadwheOw8x"
   },
   "outputs": [],
   "source": [
    "# set spark session\n",
    "ss = (SparkSession\n",
    "  .builder\n",
    "  .master(\"local[5]\")\n",
    "  .appName(\"fqproject\")\n",
    "  .getOrCreate())\n"
   ]
  },
  {
   "cell_type": "markdown",
   "metadata": {
    "id": "PIW11UM7OzMy"
   },
   "source": [
    "## Set spark context"
   ]
  },
  {
   "cell_type": "code",
   "execution_count": 6,
   "metadata": {
    "id": "N0ueyutSQ7Px"
   },
   "outputs": [],
   "source": [
    "# set spark session\n",
    "sc = (spark\n",
    "  .SparkContext\n",
    "  .getOrCreate(spark\n",
    "    .SparkConf()\n",
    "    .setAppName(\"fqproject\")\n",
    "    .setMaster('local[*]')\n",
    "    .set('spark.executor.memory', '4G')\n",
    "    .set('spark.driver.memory', '4G')\n",
    "    .set('spark.driver.maxResultSize', '4G')))"
   ]
  },
  {
   "cell_type": "markdown",
   "metadata": {
    "id": "MRsu1WltO1E0"
   },
   "source": [
    "## Read reads.fq"
   ]
  },
  {
   "cell_type": "code",
   "execution_count": 7,
   "metadata": {
    "id": "hEEIfL20O3U1"
   },
   "outputs": [],
   "source": [
    "# read reads.fq and extract the second line of every four lines.\n",
    "reads = (sc\n",
    "  .textFile(cur_path + \"data/reads.fq\")\n",
    "  .zipWithIndex()\n",
    "  .filter(lambda x: (x[1]+1)%2==0 and (x[1]+1)%4!=0)\n",
    "  .map(lambda x: x[0]))"
   ]
  },
  {
   "cell_type": "code",
   "execution_count": 8,
   "metadata": {
    "colab": {
     "base_uri": "https://localhost:8080/"
    },
    "id": "Z2r0uE5pPD4P",
    "outputId": "45690603-b61d-4959-af93-0a48eee94a82"
   },
   "outputs": [
    {
     "data": {
      "text/plain": [
       "['TCCTTACTGGTTTTGCAGGTAACTTATAGAGTATTTCCACTTCCCTTCTCCTATCCCTTGAAAAATTGTCATTTATTTCTCTTATCCATATGGCATAATC',\n",
       " 'GGTTTTTCAGGTAACTTATAGAGTATTTCCACTTCCCTTCTCCTATCCCTGGAAAAATTGTCATTTATTTCTCTTATCCATATGGCATAATCAAAGAATA',\n",
       " 'AGGTAACTTATAGAGTACTTCCACTTCCCTTCTCCTATCCCTTGAAAAATTGTCATTGATTTCTCTTATCCATATGGCATAATCAAAGAATAAATTGGTG',\n",
       " 'CACTTCCCTTCTACTATCCCTTGAAAAATTGTCATTTATTTCTCTTATCCATATGGCATAATCAAAGAATAAATTGGTGATATTTGTTCAAAAATCCATG',\n",
       " 'CCTTCTCCTATCCCTTGAAAAATTGTCATTTATTTCCCTTATCCATATGGCATAATCAAAGAATAAATTGGTGATATTTGTTCAAAAATCCATGCCTTTT',\n",
       " 'ATCCCTTGAAAAATTGTCATTTATTTCTCTTATCCATATGGCATAATCAAAGAATAAATTGGTGATATTTGTTCAAAAATCCGTGCCTATTAGATTCATT',\n",
       " 'TCTTATCCATATGGCATAATCAAAGAATAAATTGGTGATATTTGTTCAAAAATCCATGCCTATTAGATTCATTTAGAATATAAAAAAATTTTATTTTATT',\n",
       " 'TATCCATATGGCATAATCAAAGAATCAATTGTTGATATTTGTTCAAAAATCCATGCCTATTAGATTCATTTAGAATATAAAAAAATTTTATTTTATTTTC',\n",
       " 'TCAAAGAATAAATTGGTGATATTTGTTCAAAAATCCATGCCTATTAGATTCATTTAGATTATAAAAAAATTTTATTTTATTTTCACTTATTTCTTCTCCA',\n",
       " 'TGAATAAATTGGTGATATTTGTTCAAAAATCCATGCCTACTAGATTCATTTAGAATATAAAAAAATTTTATTTTATTTTCACTTATTTCTTCTCCACTGA']"
      ]
     },
     "execution_count": 8,
     "metadata": {},
     "output_type": "execute_result"
    }
   ],
   "source": [
    "reads.take(10)"
   ]
  },
  {
   "cell_type": "markdown",
   "metadata": {
    "id": "zEvNcdARO3-v"
   },
   "source": [
    "## Read reference.fa"
   ]
  },
  {
   "cell_type": "code",
   "execution_count": 9,
   "metadata": {
    "id": "zqg4o_B6O9wD"
   },
   "outputs": [],
   "source": [
    "# read reference\n",
    "reference = (ss\n",
    "  .read\n",
    "  .csv(\n",
    "      cur_path + \"data/reference_chr21_20000000_20050000.fa\",\n",
    "      inferSchema=True,\n",
    "      header=True))"
   ]
  },
  {
   "cell_type": "code",
   "execution_count": 10,
   "metadata": {
    "colab": {
     "base_uri": "https://localhost:8080/"
    },
    "id": "dSWs5YRJPFL0",
    "outputId": "995441f9-9c5c-4610-c7e7-ab91347a0f47"
   },
   "outputs": [
    {
     "name": "stdout",
     "output_type": "stream",
     "text": [
      "+--------+--------+--------------------+\n",
      "|   start|     end|            sequence|\n",
      "+--------+--------+--------------------+\n",
      "|20000000|20000100|CCCTTCTCCTATCCCTT...|\n",
      "|20000100|20000200|TAGATTCATTTAGAATA...|\n",
      "|20000200|20000300|TTCTTCTTCCTGAAGAA...|\n",
      "|20000300|20000400|ACTTTTCAAGGATAGTT...|\n",
      "|20000400|20000500|CTGACAGGACTTCTGCC...|\n",
      "|20000500|20000600|TTTCCTTTTTTTTTTCT...|\n",
      "|20000600|20000700|ATTATAAAAAGGGAGGG...|\n",
      "|20000700|20000800|TTCTTTTCTTTTTCTCC...|\n",
      "|20000800|20000900|ATAAATTTCTGCTTGAA...|\n",
      "|20000900|20001000|TTCGTTAGTGTTTTTTA...|\n",
      "+--------+--------+--------------------+\n",
      "only showing top 10 rows\n",
      "\n"
     ]
    }
   ],
   "source": [
    "reference.show(10)"
   ]
  },
  {
   "cell_type": "markdown",
   "metadata": {
    "id": "59Y3bTkLSAI2"
   },
   "source": [
    "# Step 1: Cut reads into kmers = 15"
   ]
  },
  {
   "cell_type": "markdown",
   "metadata": {
    "id": "ANqDbZ8hS38t"
   },
   "source": [
    "## Define K-mers"
   ]
  },
  {
   "cell_type": "code",
   "execution_count": 11,
   "metadata": {
    "id": "naqY5_vJSFoK"
   },
   "outputs": [],
   "source": [
    "# input a string s and cut k-mers\n",
    "def extract_kmers(s: str, k: int = 15) -> list:\n",
    "    return [s[i:i+k] for i in range(len(s)-k+1)]"
   ]
  },
  {
   "cell_type": "markdown",
   "metadata": {
    "id": "QViG0LdgTPvr"
   },
   "source": [
    "## Map K-mers to reads"
   ]
  },
  {
   "cell_type": "code",
   "execution_count": 12,
   "metadata": {
    "id": "FiS_J2ghTPLb"
   },
   "outputs": [],
   "source": [
    "# K-mers of reads\n",
    "reads_kmers = (reads\n",
    "  .map(extract_kmers))"
   ]
  },
  {
   "cell_type": "code",
   "execution_count": 13,
   "metadata": {
    "colab": {
     "base_uri": "https://localhost:8080/"
    },
    "id": "G0EBAg1nTa1T",
    "outputId": "54c247df-2f12-4e56-b4ab-96bedc46e964"
   },
   "outputs": [
    {
     "data": {
      "text/plain": [
       "[['TCCTTACTGGTTTTG',\n",
       "  'CCTTACTGGTTTTGC',\n",
       "  'CTTACTGGTTTTGCA',\n",
       "  'TTACTGGTTTTGCAG',\n",
       "  'TACTGGTTTTGCAGG',\n",
       "  'ACTGGTTTTGCAGGT',\n",
       "  'CTGGTTTTGCAGGTA',\n",
       "  'TGGTTTTGCAGGTAA',\n",
       "  'GGTTTTGCAGGTAAC',\n",
       "  'GTTTTGCAGGTAACT',\n",
       "  'TTTTGCAGGTAACTT',\n",
       "  'TTTGCAGGTAACTTA',\n",
       "  'TTGCAGGTAACTTAT',\n",
       "  'TGCAGGTAACTTATA',\n",
       "  'GCAGGTAACTTATAG',\n",
       "  'CAGGTAACTTATAGA',\n",
       "  'AGGTAACTTATAGAG',\n",
       "  'GGTAACTTATAGAGT',\n",
       "  'GTAACTTATAGAGTA',\n",
       "  'TAACTTATAGAGTAT',\n",
       "  'AACTTATAGAGTATT',\n",
       "  'ACTTATAGAGTATTT',\n",
       "  'CTTATAGAGTATTTC',\n",
       "  'TTATAGAGTATTTCC',\n",
       "  'TATAGAGTATTTCCA',\n",
       "  'ATAGAGTATTTCCAC',\n",
       "  'TAGAGTATTTCCACT',\n",
       "  'AGAGTATTTCCACTT',\n",
       "  'GAGTATTTCCACTTC',\n",
       "  'AGTATTTCCACTTCC',\n",
       "  'GTATTTCCACTTCCC',\n",
       "  'TATTTCCACTTCCCT',\n",
       "  'ATTTCCACTTCCCTT',\n",
       "  'TTTCCACTTCCCTTC',\n",
       "  'TTCCACTTCCCTTCT',\n",
       "  'TCCACTTCCCTTCTC',\n",
       "  'CCACTTCCCTTCTCC',\n",
       "  'CACTTCCCTTCTCCT',\n",
       "  'ACTTCCCTTCTCCTA',\n",
       "  'CTTCCCTTCTCCTAT',\n",
       "  'TTCCCTTCTCCTATC',\n",
       "  'TCCCTTCTCCTATCC',\n",
       "  'CCCTTCTCCTATCCC',\n",
       "  'CCTTCTCCTATCCCT',\n",
       "  'CTTCTCCTATCCCTT',\n",
       "  'TTCTCCTATCCCTTG',\n",
       "  'TCTCCTATCCCTTGA',\n",
       "  'CTCCTATCCCTTGAA',\n",
       "  'TCCTATCCCTTGAAA',\n",
       "  'CCTATCCCTTGAAAA',\n",
       "  'CTATCCCTTGAAAAA',\n",
       "  'TATCCCTTGAAAAAT',\n",
       "  'ATCCCTTGAAAAATT',\n",
       "  'TCCCTTGAAAAATTG',\n",
       "  'CCCTTGAAAAATTGT',\n",
       "  'CCTTGAAAAATTGTC',\n",
       "  'CTTGAAAAATTGTCA',\n",
       "  'TTGAAAAATTGTCAT',\n",
       "  'TGAAAAATTGTCATT',\n",
       "  'GAAAAATTGTCATTT',\n",
       "  'AAAAATTGTCATTTA',\n",
       "  'AAAATTGTCATTTAT',\n",
       "  'AAATTGTCATTTATT',\n",
       "  'AATTGTCATTTATTT',\n",
       "  'ATTGTCATTTATTTC',\n",
       "  'TTGTCATTTATTTCT',\n",
       "  'TGTCATTTATTTCTC',\n",
       "  'GTCATTTATTTCTCT',\n",
       "  'TCATTTATTTCTCTT',\n",
       "  'CATTTATTTCTCTTA',\n",
       "  'ATTTATTTCTCTTAT',\n",
       "  'TTTATTTCTCTTATC',\n",
       "  'TTATTTCTCTTATCC',\n",
       "  'TATTTCTCTTATCCA',\n",
       "  'ATTTCTCTTATCCAT',\n",
       "  'TTTCTCTTATCCATA',\n",
       "  'TTCTCTTATCCATAT',\n",
       "  'TCTCTTATCCATATG',\n",
       "  'CTCTTATCCATATGG',\n",
       "  'TCTTATCCATATGGC',\n",
       "  'CTTATCCATATGGCA',\n",
       "  'TTATCCATATGGCAT',\n",
       "  'TATCCATATGGCATA',\n",
       "  'ATCCATATGGCATAA',\n",
       "  'TCCATATGGCATAAT',\n",
       "  'CCATATGGCATAATC'],\n",
       " ['GGTTTTTCAGGTAAC',\n",
       "  'GTTTTTCAGGTAACT',\n",
       "  'TTTTTCAGGTAACTT',\n",
       "  'TTTTCAGGTAACTTA',\n",
       "  'TTTCAGGTAACTTAT',\n",
       "  'TTCAGGTAACTTATA',\n",
       "  'TCAGGTAACTTATAG',\n",
       "  'CAGGTAACTTATAGA',\n",
       "  'AGGTAACTTATAGAG',\n",
       "  'GGTAACTTATAGAGT',\n",
       "  'GTAACTTATAGAGTA',\n",
       "  'TAACTTATAGAGTAT',\n",
       "  'AACTTATAGAGTATT',\n",
       "  'ACTTATAGAGTATTT',\n",
       "  'CTTATAGAGTATTTC',\n",
       "  'TTATAGAGTATTTCC',\n",
       "  'TATAGAGTATTTCCA',\n",
       "  'ATAGAGTATTTCCAC',\n",
       "  'TAGAGTATTTCCACT',\n",
       "  'AGAGTATTTCCACTT',\n",
       "  'GAGTATTTCCACTTC',\n",
       "  'AGTATTTCCACTTCC',\n",
       "  'GTATTTCCACTTCCC',\n",
       "  'TATTTCCACTTCCCT',\n",
       "  'ATTTCCACTTCCCTT',\n",
       "  'TTTCCACTTCCCTTC',\n",
       "  'TTCCACTTCCCTTCT',\n",
       "  'TCCACTTCCCTTCTC',\n",
       "  'CCACTTCCCTTCTCC',\n",
       "  'CACTTCCCTTCTCCT',\n",
       "  'ACTTCCCTTCTCCTA',\n",
       "  'CTTCCCTTCTCCTAT',\n",
       "  'TTCCCTTCTCCTATC',\n",
       "  'TCCCTTCTCCTATCC',\n",
       "  'CCCTTCTCCTATCCC',\n",
       "  'CCTTCTCCTATCCCT',\n",
       "  'CTTCTCCTATCCCTG',\n",
       "  'TTCTCCTATCCCTGG',\n",
       "  'TCTCCTATCCCTGGA',\n",
       "  'CTCCTATCCCTGGAA',\n",
       "  'TCCTATCCCTGGAAA',\n",
       "  'CCTATCCCTGGAAAA',\n",
       "  'CTATCCCTGGAAAAA',\n",
       "  'TATCCCTGGAAAAAT',\n",
       "  'ATCCCTGGAAAAATT',\n",
       "  'TCCCTGGAAAAATTG',\n",
       "  'CCCTGGAAAAATTGT',\n",
       "  'CCTGGAAAAATTGTC',\n",
       "  'CTGGAAAAATTGTCA',\n",
       "  'TGGAAAAATTGTCAT',\n",
       "  'GGAAAAATTGTCATT',\n",
       "  'GAAAAATTGTCATTT',\n",
       "  'AAAAATTGTCATTTA',\n",
       "  'AAAATTGTCATTTAT',\n",
       "  'AAATTGTCATTTATT',\n",
       "  'AATTGTCATTTATTT',\n",
       "  'ATTGTCATTTATTTC',\n",
       "  'TTGTCATTTATTTCT',\n",
       "  'TGTCATTTATTTCTC',\n",
       "  'GTCATTTATTTCTCT',\n",
       "  'TCATTTATTTCTCTT',\n",
       "  'CATTTATTTCTCTTA',\n",
       "  'ATTTATTTCTCTTAT',\n",
       "  'TTTATTTCTCTTATC',\n",
       "  'TTATTTCTCTTATCC',\n",
       "  'TATTTCTCTTATCCA',\n",
       "  'ATTTCTCTTATCCAT',\n",
       "  'TTTCTCTTATCCATA',\n",
       "  'TTCTCTTATCCATAT',\n",
       "  'TCTCTTATCCATATG',\n",
       "  'CTCTTATCCATATGG',\n",
       "  'TCTTATCCATATGGC',\n",
       "  'CTTATCCATATGGCA',\n",
       "  'TTATCCATATGGCAT',\n",
       "  'TATCCATATGGCATA',\n",
       "  'ATCCATATGGCATAA',\n",
       "  'TCCATATGGCATAAT',\n",
       "  'CCATATGGCATAATC',\n",
       "  'CATATGGCATAATCA',\n",
       "  'ATATGGCATAATCAA',\n",
       "  'TATGGCATAATCAAA',\n",
       "  'ATGGCATAATCAAAG',\n",
       "  'TGGCATAATCAAAGA',\n",
       "  'GGCATAATCAAAGAA',\n",
       "  'GCATAATCAAAGAAT',\n",
       "  'CATAATCAAAGAATA']]"
      ]
     },
     "execution_count": 13,
     "metadata": {},
     "output_type": "execute_result"
    }
   ],
   "source": [
    "reads_kmers.take(2)"
   ]
  },
  {
   "cell_type": "markdown",
   "metadata": {
    "id": "y9LB3IwwT3RE"
   },
   "source": [
    "# Step 2: • Cut reference bins into kmers = 15"
   ]
  },
  {
   "cell_type": "code",
   "execution_count": 14,
   "metadata": {
    "id": "CVfbDsD0T2Ri"
   },
   "outputs": [],
   "source": [
    "# K-mers of reference\n",
    "reference_kmers = (reference\n",
    "  .select('sequence')\n",
    "  .rdd\n",
    "  .flatMap(lambda x: x)\n",
    "  .map(extract_kmers))"
   ]
  },
  {
   "cell_type": "code",
   "execution_count": 15,
   "metadata": {
    "colab": {
     "base_uri": "https://localhost:8080/"
    },
    "id": "huQx-SdEUbxy",
    "outputId": "8fc06e28-d455-420e-cf8e-3c7cb2cd33f0"
   },
   "outputs": [
    {
     "data": {
      "text/plain": [
       "[['CCCTTCTCCTATCCC',\n",
       "  'CCTTCTCCTATCCCT',\n",
       "  'CTTCTCCTATCCCTT',\n",
       "  'TTCTCCTATCCCTTG',\n",
       "  'TCTCCTATCCCTTGA',\n",
       "  'CTCCTATCCCTTGAA',\n",
       "  'TCCTATCCCTTGAAA',\n",
       "  'CCTATCCCTTGAAAA',\n",
       "  'CTATCCCTTGAAAAA',\n",
       "  'TATCCCTTGAAAAAT',\n",
       "  'ATCCCTTGAAAAATT',\n",
       "  'TCCCTTGAAAAATTG',\n",
       "  'CCCTTGAAAAATTGT',\n",
       "  'CCTTGAAAAATTGTC',\n",
       "  'CTTGAAAAATTGTCA',\n",
       "  'TTGAAAAATTGTCAT',\n",
       "  'TGAAAAATTGTCATT',\n",
       "  'GAAAAATTGTCATTT',\n",
       "  'AAAAATTGTCATTTA',\n",
       "  'AAAATTGTCATTTAT',\n",
       "  'AAATTGTCATTTATT',\n",
       "  'AATTGTCATTTATTT',\n",
       "  'ATTGTCATTTATTTC',\n",
       "  'TTGTCATTTATTTCT',\n",
       "  'TGTCATTTATTTCTC',\n",
       "  'GTCATTTATTTCTCT',\n",
       "  'TCATTTATTTCTCTT',\n",
       "  'CATTTATTTCTCTTA',\n",
       "  'ATTTATTTCTCTTAT',\n",
       "  'TTTATTTCTCTTATC',\n",
       "  'TTATTTCTCTTATCC',\n",
       "  'TATTTCTCTTATCCA',\n",
       "  'ATTTCTCTTATCCAT',\n",
       "  'TTTCTCTTATCCATA',\n",
       "  'TTCTCTTATCCATAT',\n",
       "  'TCTCTTATCCATATG',\n",
       "  'CTCTTATCCATATGG',\n",
       "  'TCTTATCCATATGGC',\n",
       "  'CTTATCCATATGGCA',\n",
       "  'TTATCCATATGGCAT',\n",
       "  'TATCCATATGGCATA',\n",
       "  'ATCCATATGGCATAA',\n",
       "  'TCCATATGGCATAAT',\n",
       "  'CCATATGGCATAATC',\n",
       "  'CATATGGCATAATCA',\n",
       "  'ATATGGCATAATCAA',\n",
       "  'TATGGCATAATCAAA',\n",
       "  'ATGGCATAATCAAAG',\n",
       "  'TGGCATAATCAAAGA',\n",
       "  'GGCATAATCAAAGAA',\n",
       "  'GCATAATCAAAGAAT',\n",
       "  'CATAATCAAAGAATA',\n",
       "  'ATAATCAAAGAATAA',\n",
       "  'TAATCAAAGAATAAA',\n",
       "  'AATCAAAGAATAAAT',\n",
       "  'ATCAAAGAATAAATT',\n",
       "  'TCAAAGAATAAATTG',\n",
       "  'CAAAGAATAAATTGG',\n",
       "  'AAAGAATAAATTGGT',\n",
       "  'AAGAATAAATTGGTG',\n",
       "  'AGAATAAATTGGTGA',\n",
       "  'GAATAAATTGGTGAT',\n",
       "  'AATAAATTGGTGATA',\n",
       "  'ATAAATTGGTGATAT',\n",
       "  'TAAATTGGTGATATT',\n",
       "  'AAATTGGTGATATTT',\n",
       "  'AATTGGTGATATTTG',\n",
       "  'ATTGGTGATATTTGT',\n",
       "  'TTGGTGATATTTGTT',\n",
       "  'TGGTGATATTTGTTC',\n",
       "  'GGTGATATTTGTTCA',\n",
       "  'GTGATATTTGTTCAA',\n",
       "  'TGATATTTGTTCAAA',\n",
       "  'GATATTTGTTCAAAA',\n",
       "  'ATATTTGTTCAAAAA',\n",
       "  'TATTTGTTCAAAAAT',\n",
       "  'ATTTGTTCAAAAATC',\n",
       "  'TTTGTTCAAAAATCC',\n",
       "  'TTGTTCAAAAATCCA',\n",
       "  'TGTTCAAAAATCCAT',\n",
       "  'GTTCAAAAATCCATG',\n",
       "  'TTCAAAAATCCATGC',\n",
       "  'TCAAAAATCCATGCC',\n",
       "  'CAAAAATCCATGCCT',\n",
       "  'AAAAATCCATGCCTA',\n",
       "  'AAAATCCATGCCTAT'],\n",
       " ['TAGATTCATTTAGAA',\n",
       "  'AGATTCATTTAGAAT',\n",
       "  'GATTCATTTAGAATA',\n",
       "  'ATTCATTTAGAATAT',\n",
       "  'TTCATTTAGAATATA',\n",
       "  'TCATTTAGAATATAA',\n",
       "  'CATTTAGAATATAAA',\n",
       "  'ATTTAGAATATAAAA',\n",
       "  'TTTAGAATATAAAAA',\n",
       "  'TTAGAATATAAAAAA',\n",
       "  'TAGAATATAAAAAAA',\n",
       "  'AGAATATAAAAAAAT',\n",
       "  'GAATATAAAAAAATT',\n",
       "  'AATATAAAAAAATTT',\n",
       "  'ATATAAAAAAATTTT',\n",
       "  'TATAAAAAAATTTTA',\n",
       "  'ATAAAAAAATTTTAT',\n",
       "  'TAAAAAAATTTTATT',\n",
       "  'AAAAAAATTTTATTT',\n",
       "  'AAAAAATTTTATTTT',\n",
       "  'AAAAATTTTATTTTA',\n",
       "  'AAAATTTTATTTTAT',\n",
       "  'AAATTTTATTTTATT',\n",
       "  'AATTTTATTTTATTT',\n",
       "  'ATTTTATTTTATTTT',\n",
       "  'TTTTATTTTATTTTC',\n",
       "  'TTTATTTTATTTTCA',\n",
       "  'TTATTTTATTTTCAC',\n",
       "  'TATTTTATTTTCACT',\n",
       "  'ATTTTATTTTCACTT',\n",
       "  'TTTTATTTTCACTTA',\n",
       "  'TTTATTTTCACTTAT',\n",
       "  'TTATTTTCACTTATT',\n",
       "  'TATTTTCACTTATTT',\n",
       "  'ATTTTCACTTATTTC',\n",
       "  'TTTTCACTTATTTCT',\n",
       "  'TTTCACTTATTTCTT',\n",
       "  'TTCACTTATTTCTTC',\n",
       "  'TCACTTATTTCTTCT',\n",
       "  'CACTTATTTCTTCTC',\n",
       "  'ACTTATTTCTTCTCC',\n",
       "  'CTTATTTCTTCTCCA',\n",
       "  'TTATTTCTTCTCCAC',\n",
       "  'TATTTCTTCTCCACT',\n",
       "  'ATTTCTTCTCCACTG',\n",
       "  'TTTCTTCTCCACTGA',\n",
       "  'TTCTTCTCCACTGAT',\n",
       "  'TCTTCTCCACTGATT',\n",
       "  'CTTCTCCACTGATTT',\n",
       "  'TTCTCCACTGATTTT',\n",
       "  'TCTCCACTGATTTTT',\n",
       "  'CTCCACTGATTTTTC',\n",
       "  'TCCACTGATTTTTCT',\n",
       "  'CCACTGATTTTTCTA',\n",
       "  'CACTGATTTTTCTAT',\n",
       "  'ACTGATTTTTCTATT',\n",
       "  'CTGATTTTTCTATTT',\n",
       "  'TGATTTTTCTATTTT',\n",
       "  'GATTTTTCTATTTTT',\n",
       "  'ATTTTTCTATTTTTA',\n",
       "  'TTTTTCTATTTTTAT',\n",
       "  'TTTTCTATTTTTATG',\n",
       "  'TTTCTATTTTTATGT',\n",
       "  'TTCTATTTTTATGTA',\n",
       "  'TCTATTTTTATGTAG',\n",
       "  'CTATTTTTATGTAGA',\n",
       "  'TATTTTTATGTAGAG',\n",
       "  'ATTTTTATGTAGAGA',\n",
       "  'TTTTTATGTAGAGAT',\n",
       "  'TTTTATGTAGAGATG',\n",
       "  'TTTATGTAGAGATGA',\n",
       "  'TTATGTAGAGATGAG',\n",
       "  'TATGTAGAGATGAGT',\n",
       "  'ATGTAGAGATGAGTT',\n",
       "  'TGTAGAGATGAGTTT',\n",
       "  'GTAGAGATGAGTTTC',\n",
       "  'TAGAGATGAGTTTCT',\n",
       "  'AGAGATGAGTTTCTG',\n",
       "  'GAGATGAGTTTCTGA',\n",
       "  'AGATGAGTTTCTGAC',\n",
       "  'GATGAGTTTCTGACA',\n",
       "  'ATGAGTTTCTGACAT',\n",
       "  'TGAGTTTCTGACATA',\n",
       "  'GAGTTTCTGACATAT',\n",
       "  'AGTTTCTGACATATA',\n",
       "  'GTTTCTGACATATAT']]"
      ]
     },
     "execution_count": 15,
     "metadata": {},
     "output_type": "execute_result"
    }
   ],
   "source": [
    "reference_kmers.take(2)"
   ]
  },
  {
   "cell_type": "markdown",
   "metadata": {
    "id": "x4a_UuqMUbcr"
   },
   "source": [
    "# Step 3: Collect all kmers and build a distinct kmer set\n",
    "\n",
    "• Hint: you can use python “set” function\n",
    "\n",
    "• Report the number of distinct kmers (N)"
   ]
  },
  {
   "cell_type": "code",
   "execution_count": 16,
   "metadata": {
    "id": "o8cKZPl-Vp1X"
   },
   "outputs": [],
   "source": [
    "# Merge and distinct, collect to a set\n",
    "kmers = set(reads_kmers \n",
    "  .union(reference_kmers)\n",
    "  .flatMap(lambda x: x) \n",
    "  .distinct()\n",
    "  .collect())"
   ]
  },
  {
   "cell_type": "code",
   "execution_count": 17,
   "metadata": {
    "colab": {
     "base_uri": "https://localhost:8080/"
    },
    "id": "J8wR4jStWvSK",
    "outputId": "a4ed2e82-dfd4-4164-b659-de54a55ad9b7"
   },
   "outputs": [
    {
     "data": {
      "text/plain": [
       "72530"
      ]
     },
     "execution_count": 17,
     "metadata": {},
     "output_type": "execute_result"
    }
   ],
   "source": [
    "len(kmers)"
   ]
  },
  {
   "cell_type": "markdown",
   "metadata": {
    "id": "C3eLWeCXXeiH"
   },
   "source": [
    "**The number of distinct kmers is 72,530**\n"
   ]
  },
  {
   "cell_type": "code",
   "execution_count": 18,
   "metadata": {
    "colab": {
     "base_uri": "https://localhost:8080/"
    },
    "id": "949kQtpBIKpB",
    "outputId": "0ec9400c-dee9-46fb-9adf-9bccb8b6fdd1"
   },
   "outputs": [
    {
     "data": {
      "text/plain": [
       "PythonRDD[33] at RDD at PythonRDD.scala:53"
      ]
     },
     "execution_count": 18,
     "metadata": {},
     "output_type": "execute_result"
    }
   ],
   "source": [
    "reads"
   ]
  },
  {
   "cell_type": "code",
   "execution_count": 18,
   "metadata": {
    "id": "8MY7yM09Kiuz"
   },
   "outputs": [],
   "source": []
  },
  {
   "cell_type": "markdown",
   "metadata": {
    "id": "hRSRaZRPKi7T"
   },
   "source": [
    "# Step4"
   ]
  },
  {
   "cell_type": "code",
   "execution_count": 19,
   "metadata": {
    "id": "1lQ3tv3BKkMX"
   },
   "outputs": [],
   "source": [
    "from pyspark.ml.linalg import Vectors\n",
    "import pandas as pd"
   ]
  },
  {
   "cell_type": "code",
   "execution_count": 20,
   "metadata": {
    "id": "rQF6H_7ScYiW"
   },
   "outputs": [],
   "source": [
    "# turn reads to list \n",
    "r_list = reads.collect()"
   ]
  },
  {
   "cell_type": "code",
   "execution_count": 21,
   "metadata": {
    "id": "1geHIJrTcmkB"
   },
   "outputs": [],
   "source": [
    "# check feature vector of every kmer in each read\n",
    "def check_kmer_features(kmer):\n",
    "  m = []\n",
    "  \n",
    "\n",
    "  for i in range(len(r_list)):\n",
    "    if kmer in r_list[i]:\n",
    "      m.append(i)\n",
    "  v = [1.0 for i in range(len(m))]\n",
    "  return (kmer,Vectors.dense(Vectors.sparse(len(r_list),m,v)))"
   ]
  },
  {
   "cell_type": "code",
   "execution_count": 22,
   "metadata": {
    "id": "z_1L60tdbW0q"
   },
   "outputs": [],
   "source": [
    "kmers_rdd = sc.parallelize(list(kmers))"
   ]
  },
  {
   "cell_type": "code",
   "execution_count": 23,
   "metadata": {
    "id": "pap8knRucBiv"
   },
   "outputs": [],
   "source": [
    "reads_features = kmers_rdd.map(lambda x: check_kmer_features(x))"
   ]
  },
  {
   "cell_type": "code",
   "execution_count": 24,
   "metadata": {
    "id": "QKxMpHBRgpNo"
   },
   "outputs": [],
   "source": [
    "reads_features_df = reads_features.toDF(['kmer','read_features'])"
   ]
  },
  {
   "cell_type": "code",
   "execution_count": 27,
   "metadata": {
    "colab": {
     "base_uri": "https://localhost:8080/"
    },
    "id": "ZbWHjuLfWauj",
    "outputId": "011835dd-b753-41f9-cd27-dd4bf180d7eb"
   },
   "outputs": [
    {
     "name": "stdout",
     "output_type": "stream",
     "text": [
      "+---------------+--------------------+\n",
      "|           kmer|       read_features|\n",
      "+---------------+--------------------+\n",
      "|CAACCTTTTTCATTC|[0.0,0.0,0.0,0.0,...|\n",
      "+---------------+--------------------+\n",
      "only showing top 1 row\n",
      "\n"
     ]
    }
   ],
   "source": [
    "#generate the dataframe with sparse vector\n",
    "reads_features_df.show(1)"
   ]
  },
  {
   "cell_type": "code",
   "execution_count": 28,
   "metadata": {
    "id": "oeMY7GJrWawY"
   },
   "outputs": [],
   "source": [
    "from pyspark.sql.functions import col\n",
    "from pyspark.ml.functions import vector_to_array"
   ]
  },
  {
   "cell_type": "code",
   "execution_count": 29,
   "metadata": {
    "id": "4IHbE5SifYdS"
   },
   "outputs": [],
   "source": [
    "reads_features_df = reads_features_df.withColumn(\"read\", vector_to_array(\"read_features\")).select([\"kmer\"] + [col(\"read\")[i] for i in range(2000)])"
   ]
  },
  {
   "cell_type": "code",
   "execution_count": 47,
   "metadata": {
    "id": "FeEkH4MyofTr"
   },
   "outputs": [],
   "source": [
    "# old code\n",
    "def check_kmer_features_old(read):\n",
    "  m = []\n",
    "  kmers_list = list(kmers)\n",
    "  for i in range(len(kmers_list)):\n",
    "    if kmers_list[i] in read:\n",
    "      m.append(i)\n",
    "  v = [1.0 for i in range(len(m))]\n",
    "  return (read,Vectors.sparse(len(kmers_list),m,v))\n"
   ]
  },
  {
   "cell_type": "code",
   "execution_count": 48,
   "metadata": {
    "id": "RN4pbbKWzc6c"
   },
   "outputs": [],
   "source": [
    "reads_features = reads.map(lambda x: check_kmer_features_old(x))"
   ]
  },
  {
   "cell_type": "code",
   "execution_count": 49,
   "metadata": {
    "colab": {
     "base_uri": "https://localhost:8080/"
    },
    "id": "MfpvphOd0ONF",
    "outputId": "edc29f34-9164-4588-ea49-d04aa5039d64"
   },
   "outputs": [
    {
     "data": {
      "text/plain": [
       "[('TCCTTACTGGTTTTGCAGGTAACTTATAGAGTATTTCCACTTCCCTTCTCCTATCCCTTGAAAAATTGTCATTTATTTCTCTTATCCATATGGCATAATC',\n",
       "  SparseVector(72530, {173: 1.0, 849: 1.0, 1689: 1.0, 2455: 1.0, 4004: 1.0, 4616: 1.0, 6086: 1.0, 6582: 1.0, 7637: 1.0, 7933: 1.0, 9005: 1.0, 11640: 1.0, 13194: 1.0, 16389: 1.0, 17650: 1.0, 18185: 1.0, 18284: 1.0, 19258: 1.0, 19561: 1.0, 20329: 1.0, 20407: 1.0, 21799: 1.0, 22096: 1.0, 23407: 1.0, 23745: 1.0, 23949: 1.0, 23971: 1.0, 24731: 1.0, 25536: 1.0, 25951: 1.0, 26534: 1.0, 26772: 1.0, 27988: 1.0, 28205: 1.0, 30102: 1.0, 31467: 1.0, 34055: 1.0, 34662: 1.0, 35092: 1.0, 36083: 1.0, 37849: 1.0, 38450: 1.0, 38455: 1.0, 40039: 1.0, 40467: 1.0, 40756: 1.0, 41109: 1.0, 41682: 1.0, 42486: 1.0, 42558: 1.0, 42904: 1.0, 43058: 1.0, 43480: 1.0, 44205: 1.0, 45089: 1.0, 46236: 1.0, 50527: 1.0, 51927: 1.0, 53792: 1.0, 54043: 1.0, 54196: 1.0, 54915: 1.0, 55897: 1.0, 56225: 1.0, 58227: 1.0, 59433: 1.0, 59625: 1.0, 61053: 1.0, 61058: 1.0, 61214: 1.0, 61334: 1.0, 61466: 1.0, 61883: 1.0, 61971: 1.0, 62579: 1.0, 63352: 1.0, 63443: 1.0, 65005: 1.0, 65356: 1.0, 65728: 1.0, 66316: 1.0, 67214: 1.0, 67542: 1.0, 69062: 1.0, 70685: 1.0, 72271: 1.0})),\n",
       " ('GGTTTTTCAGGTAACTTATAGAGTATTTCCACTTCCCTTCTCCTATCCCTGGAAAAATTGTCATTTATTTCTCTTATCCATATGGCATAATCAAAGAATA',\n",
       "  SparseVector(72530, {173: 1.0, 849: 1.0, 2455: 1.0, 5003: 1.0, 5913: 1.0, 6086: 1.0, 6582: 1.0, 7637: 1.0, 8835: 1.0, 8855: 1.0, 9005: 1.0, 11446: 1.0, 11640: 1.0, 12582: 1.0, 12975: 1.0, 13194: 1.0, 13828: 1.0, 13930: 1.0, 14376: 1.0, 14968: 1.0, 16667: 1.0, 17650: 1.0, 18185: 1.0, 19561: 1.0, 20407: 1.0, 21799: 1.0, 22096: 1.0, 23407: 1.0, 23745: 1.0, 23949: 1.0, 25536: 1.0, 25631: 1.0, 25951: 1.0, 26391: 1.0, 26534: 1.0, 26772: 1.0, 27988: 1.0, 28205: 1.0, 28443: 1.0, 34146: 1.0, 34662: 1.0, 35092: 1.0, 36121: 1.0, 37849: 1.0, 38455: 1.0, 39707: 1.0, 40039: 1.0, 40756: 1.0, 41109: 1.0, 41682: 1.0, 41928: 1.0, 42558: 1.0, 42904: 1.0, 43058: 1.0, 44150: 1.0, 44205: 1.0, 44582: 1.0, 44952: 1.0, 45089: 1.0, 45207: 1.0, 51571: 1.0, 53349: 1.0, 53792: 1.0, 54043: 1.0, 54093: 1.0, 54196: 1.0, 54915: 1.0, 56225: 1.0, 56667: 1.0, 57833: 1.0, 58837: 1.0, 59625: 1.0, 61058: 1.0, 61214: 1.0, 61334: 1.0, 61466: 1.0, 61883: 1.0, 61971: 1.0, 63352: 1.0, 63443: 1.0, 65005: 1.0, 65728: 1.0, 65974: 1.0, 67214: 1.0, 69062: 1.0, 70685: 1.0}))]"
      ]
     },
     "execution_count": 49,
     "metadata": {},
     "output_type": "execute_result"
    }
   ],
   "source": [
    "reads_features.take(2)"
   ]
  },
  {
   "cell_type": "markdown",
   "metadata": {
    "id": "RSuEBcoLKlwB"
   },
   "source": [
    "# Step5"
   ]
  },
  {
   "cell_type": "code",
   "execution_count": 34,
   "metadata": {
    "id": "jZ1Yef9amA-L"
   },
   "outputs": [],
   "source": [
    "reference_rdd = reference.select(\"sequence\").rdd.map(lambda x: x['sequence'])"
   ]
  },
  {
   "cell_type": "code",
   "execution_count": 35,
   "metadata": {
    "colab": {
     "base_uri": "https://localhost:8080/",
     "height": 35
    },
    "id": "bzpF9dQJmMsb",
    "outputId": "e0c441fd-a24a-416b-872d-c17be41c0912"
   },
   "outputs": [
    {
     "data": {
      "application/vnd.google.colaboratory.intrinsic+json": {
       "type": "string"
      },
      "text/plain": [
       "'CCCTTCTCCTATCCCTTGAAAAATTGTCATTTATTTCTCTTATCCATATGGCATAATCAAAGAATAAATTGGTGATATTTGTTCAAAAATCCATGCCTAT'"
      ]
     },
     "execution_count": 35,
     "metadata": {},
     "output_type": "execute_result"
    }
   ],
   "source": [
    "reference_list = reference_rdd.collect()\n",
    "reference_list[0]"
   ]
  },
  {
   "cell_type": "code",
   "execution_count": 36,
   "metadata": {
    "colab": {
     "base_uri": "https://localhost:8080/",
     "height": 35
    },
    "id": "nCcOrMXOnWJN",
    "outputId": "39df1414-eb56-4965-f6f0-8dfddc9a8a1d"
   },
   "outputs": [
    {
     "data": {
      "application/vnd.google.colaboratory.intrinsic+json": {
       "type": "string"
      },
      "text/plain": [
       "'bin20000000_20000100'"
      ]
     },
     "execution_count": 36,
     "metadata": {},
     "output_type": "execute_result"
    }
   ],
   "source": [
    "#generate the name of columns\n",
    "start_rdd = reference.select(\"start\").rdd.map(lambda x: x['start'])\n",
    "end_rdd = reference.select(\"end\").rdd.map(lambda x: x['end'])\n",
    "s_list = start_rdd.collect()\n",
    "e_list = end_rdd.collect()\n",
    "reference_name = ['bin' + str(s_list[i]) + '_' +  str(e_list[i]) for i in range(len(s_list))]\n",
    "reference_name[0]"
   ]
  },
  {
   "cell_type": "code",
   "execution_count": 37,
   "metadata": {
    "id": "CEoYkzmckd6W"
   },
   "outputs": [],
   "source": [
    "# check feature vector of every kmer in each reference\n",
    "def check_kmer_features_sequence(kmer):\n",
    "  m = []\n",
    "  for i in range(len(reference_list)):\n",
    "    if kmer in reference_list[i]:\n",
    "      m.append(i)\n",
    "  v = [1.0 for i in range(len(m))]\n",
    "  return (kmer,Vectors.dense(Vectors.sparse(len(reference_list),m,v)))"
   ]
  },
  {
   "cell_type": "code",
   "execution_count": 38,
   "metadata": {
    "id": "NqRXCvBAKm-h"
   },
   "outputs": [],
   "source": [
    "reference_features = kmers_rdd.map(lambda x:check_kmer_features_sequence(x))"
   ]
  },
  {
   "cell_type": "code",
   "execution_count": 39,
   "metadata": {
    "id": "WbHSEchnkP1U"
   },
   "outputs": [],
   "source": [
    "# turn to dataframe\n",
    "reference_features_df = reference_features.toDF(['kmer','reference_features'])"
   ]
  },
  {
   "cell_type": "code",
   "execution_count": 40,
   "metadata": {
    "colab": {
     "base_uri": "https://localhost:8080/"
    },
    "id": "7tmq2Xoonm56",
    "outputId": "bb1d6954-2239-4f3e-f05b-607bc78c23f1"
   },
   "outputs": [
    {
     "name": "stdout",
     "output_type": "stream",
     "text": [
      "+---------------+--------------------+\n",
      "|           kmer|  reference_features|\n",
      "+---------------+--------------------+\n",
      "|CAACCTTTTTCATTC|[0.0,0.0,0.0,0.0,...|\n",
      "+---------------+--------------------+\n",
      "only showing top 1 row\n",
      "\n"
     ]
    }
   ],
   "source": [
    "reference_features_df.show(1) "
   ]
  },
  {
   "cell_type": "code",
   "execution_count": 41,
   "metadata": {
    "id": "eFux_1_DntsP"
   },
   "outputs": [],
   "source": [
    "# expand the dense vector to different collomns\n",
    "reference_features_df = reference_features_df.withColumn(\"xs\", vector_to_array(\"reference_features\")).select([\"kmer\"] + [col(\"xs\")[i] for i in range(len(reference_name))])"
   ]
  },
  {
   "cell_type": "code",
   "execution_count": 42,
   "metadata": {
    "id": "TU9eLWHMnUXK"
   },
   "outputs": [],
   "source": [
    "reference_name = ['kmer'] + reference_name\n",
    "reference_features_df = reference_features_df.select([col(c).alias(reference_name[i]) for i, c in enumerate(reference_features_df.columns)])"
   ]
  },
  {
   "cell_type": "code",
   "execution_count": 50,
   "metadata": {
    "colab": {
     "base_uri": "https://localhost:8080/"
    },
    "id": "fUd4m4l50doH",
    "outputId": "811aef5e-8460-47c0-9d5c-a980e49925b3"
   },
   "outputs": [
    {
     "data": {
      "text/plain": [
       "[('CCCTTCTCCTATCCCTTGAAAAATTGTCATTTATTTCTCTTATCCATATGGCATAATCAAAGAATAAATTGGTGATATTTGTTCAAAAATCCATGCCTAT',\n",
       "  SparseVector(72530, {173: 1.0, 849: 1.0, 2582: 1.0, 5003: 1.0, 6086: 1.0, 7344: 1.0, 7637: 1.0, 8855: 1.0, 9005: 1.0, 9272: 1.0, 11640: 1.0, 13478: 1.0, 13828: 1.0, 14095: 1.0, 15251: 1.0, 15326: 1.0, 15836: 1.0, 16315: 1.0, 16667: 1.0, 17220: 1.0, 17650: 1.0, 18185: 1.0, 19258: 1.0, 19561: 1.0, 20329: 1.0, 20407: 1.0, 21799: 1.0, 22096: 1.0, 23022: 1.0, 25536: 1.0, 25631: 1.0, 26031: 1.0, 26534: 1.0, 27988: 1.0, 33455: 1.0, 33762: 1.0, 34055: 1.0, 34652: 1.0, 36121: 1.0, 38455: 1.0, 38721: 1.0, 40467: 1.0, 40756: 1.0, 41109: 1.0, 41682: 1.0, 42036: 1.0, 42486: 1.0, 42558: 1.0, 43058: 1.0, 43784: 1.0, 44205: 1.0, 45089: 1.0, 46236: 1.0, 46870: 1.0, 47314: 1.0, 48111: 1.0, 49405: 1.0, 49872: 1.0, 50165: 1.0, 51927: 1.0, 53091: 1.0, 53758: 1.0, 53792: 1.0, 54043: 1.0, 54093: 1.0, 57833: 1.0, 58227: 1.0, 58706: 1.0, 59433: 1.0, 61053: 1.0, 61214: 1.0, 61971: 1.0, 62465: 1.0, 62579: 1.0, 63352: 1.0, 63443: 1.0, 65034: 1.0, 65356: 1.0, 66316: 1.0, 67538: 1.0, 67542: 1.0, 68337: 1.0, 68964: 1.0, 69387: 1.0, 71167: 1.0, 72271: 1.0}))]"
      ]
     },
     "execution_count": 50,
     "metadata": {},
     "output_type": "execute_result"
    }
   ],
   "source": [
    "# old code \n",
    "reference_features = reference_rdd.map(lambda x: check_kmer_features_old(x))\n",
    "reference_features.take(1)"
   ]
  },
  {
   "cell_type": "markdown",
   "metadata": {
    "id": "1knv_hbyXnoI"
   },
   "source": [
    "\n",
    "# Step 6"
   ]
  },
  {
   "cell_type": "code",
   "execution_count": null,
   "metadata": {
    "id": "9l4M2i2Ipc_S"
   },
   "outputs": [],
   "source": [
    "def check_kmer_features_new(read,k):\n",
    "    m = []\n",
    "  \n",
    "    for i in range(len(k)):\n",
    "        if k[i] in read:\n",
    "            m.append(i)\n",
    "    v = [1.0 for i in range(len(m))]\n",
    "    return (read,Vectors.sparse(len(k),m,v))"
   ]
  },
  {
   "cell_type": "code",
   "execution_count": 56,
   "metadata": {
    "id": "4h4rTKhLX2wx"
   },
   "outputs": [],
   "source": [
    "def extract_sparsevector_index(rdd):\n",
    "    extracted_data = rdd.map(lambda x: (x[0], x[1].toArray().tolist().index(1.0)))\n",
    "    return extracted_data"
   ]
  },
  {
   "cell_type": "code",
   "execution_count": null,
   "metadata": {},
   "outputs": [],
   "source": [
    "def permutaion():\n",
    "    # shuffle kmers\n",
    "    import random\n",
    "    kmers_list = list(kmers)\n",
    "    random.shuffle(kmers_list)\n",
    "\n",
    "    # new ref features\n",
    "    reference_features = reference.select(\"sequence\").rdd.map(lambda x:check_kmer_features_new(x['sequence'],kmers_list))\n",
    "    # new read features\n",
    "    reads_features = reads.map(lambda x: check_kmer_features_new(x,kmers_list))\n",
    "\n",
    "    # pick out the first row number of 1.0 for every read\n",
    "    return extract_sparsevector_index(reads_features), extract_sparsevector_index(reference_features)"
   ]
  },
  {
   "cell_type": "code",
   "execution_count": null,
   "metadata": {},
   "outputs": [],
   "source": [
    "sample_permu_read, sample_permu_ref = permutaion()"
   ]
  },
  {
   "cell_type": "code",
   "execution_count": null,
   "metadata": {},
   "outputs": [],
   "source": [
    "sample_permu_read.take(4)"
   ]
  },
  {
   "cell_type": "code",
   "execution_count": null,
   "metadata": {},
   "outputs": [],
   "source": [
    "sample_permu_ref.take(4)"
   ]
  },
  {
   "cell_type": "code",
   "execution_count": null,
   "metadata": {},
   "outputs": [],
   "source": [
    "def signature_matrix(n):\n",
    "    read_sig_temp = pd.DataFrame()\n",
    "    ref_sig_temp = pd.DataFrame()\n",
    "    sample_permu_read, sample_permu_ref = permutaion()\n",
    "    rowname_read =  sample_permu_read.map(lambda x: x[0]).collect()\n",
    "    rowname_ref =  sample_permu_ref.map(lambda x: x[0]).collect()\n",
    "    read_sig_temp = pd.DataFrame(columns=rowname_read)\n",
    "    ref_sig_temp = pd.DataFrame(columns=rowname_ref)\n",
    "\n",
    "    for i in range(n):\n",
    "        one_permu_read, one_permu_ref = permutaion()\n",
    "\n",
    "        second_elements_read = one_permu_read.map(lambda x: x[1]).collect()\n",
    "        read_sig_temp = read_sig_temp.append(pd.Series(second_elements_read, index=read_sig_temp.columns), ignore_index=True)\n",
    "\n",
    "        second_elements_ref = one_permu_ref.map(lambda x: x[1]).collect()\n",
    "        ref_sig_temp = ref_sig_temp.append(pd.Series(second_elements_ref, index=ref_sig_temp.columns), ignore_index=True)\n",
    "  \n",
    "    return read_sig_temp, ref_sig_temp"
   ]
  },
  {
   "cell_type": "code",
   "execution_count": null,
   "metadata": {},
   "outputs": [],
   "source": [
    "read_sig_temp, ref_sig_temp = signature_matrix(500)"
   ]
  },
  {
   "cell_type": "code",
   "execution_count": null,
   "metadata": {},
   "outputs": [],
   "source": [
    "read_sig_temp.to_csv('read_sig_temp_1.csv', index=False)"
   ]
  },
  {
   "cell_type": "code",
   "execution_count": null,
   "metadata": {},
   "outputs": [],
   "source": [
    "ref_sig_temp.to_csv('ref_sig_temp_1.csv', index=False)"
   ]
  },
  {
   "cell_type": "code",
   "execution_count": null,
   "metadata": {},
   "outputs": [],
   "source": [
    "read_sig_temp_2, ref_sig_temp_2 = signature_matrix(500)"
   ]
  },
  {
   "cell_type": "code",
   "execution_count": null,
   "metadata": {},
   "outputs": [],
   "source": [
    "read_sig_temp_2.to_csv('read_sig_temp_2.csv', index=False)"
   ]
  },
  {
   "cell_type": "code",
   "execution_count": null,
   "metadata": {},
   "outputs": [],
   "source": [
    "ref_sig_temp_2.to_csv('ref_sig_temp_2.csv', index=False)"
   ]
  }
 ],
 "metadata": {
  "colab": {
   "provenance": [],
   "toc_visible": true
  },
  "kernelspec": {
   "display_name": "Python 3",
   "language": "python",
   "name": "python3"
  },
  "language_info": {
   "codemirror_mode": {
    "name": "ipython",
    "version": 3
   },
   "file_extension": ".py",
   "mimetype": "text/x-python",
   "name": "python",
   "nbconvert_exporter": "python",
   "pygments_lexer": "ipython3",
   "version": "3.8.8"
  }
 },
 "nbformat": 4,
 "nbformat_minor": 1
}
