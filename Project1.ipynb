{
  "cells": [
    {
      "cell_type": "markdown",
      "metadata": {
        "id": "vGmIEcOvOqh2"
      },
      "source": [
        "# Load Package"
      ]
    },
    {
      "cell_type": "code",
      "execution_count": 1,
      "metadata": {
        "colab": {
          "base_uri": "https://localhost:8080/"
        },
        "id": "O9ZOdq_j9JUC",
        "outputId": "be8817bc-1fc6-414c-cf68-f2a50d09d745"
      },
      "outputs": [
        {
          "output_type": "stream",
          "name": "stdout",
          "text": [
            "Drive already mounted at /content/drive; to attempt to forcibly remount, call drive.mount(\"/content/drive\", force_remount=True).\n"
          ]
        }
      ],
      "source": [
        "from google.colab import drive\n",
        "drive.mount('/content/drive')"
      ]
    },
    {
      "cell_type": "code",
      "execution_count": 2,
      "metadata": {
        "colab": {
          "base_uri": "https://localhost:8080/"
        },
        "id": "7wEGHkoa9Ojl",
        "outputId": "c876e621-72e2-4c40-b1a5-775b0266f60d"
      },
      "outputs": [
        {
          "output_type": "stream",
          "name": "stdout",
          "text": [
            "/content/drive/MyDrive/Bigdataproject\n"
          ]
        }
      ],
      "source": [
        "\n",
        "import os\n",
        "cur_path = \"/content/drive/MyDrive/Bigdataproject/\"\n",
        "os.chdir(cur_path)\n",
        "!pwd"
      ]
    },
    {
      "cell_type": "code",
      "execution_count": 3,
      "metadata": {
        "colab": {
          "base_uri": "https://localhost:8080/"
        },
        "id": "0MDGVXW64BRa",
        "outputId": "45162056-7a20-4f73-ae12-f00137e4818f"
      },
      "outputs": [
        {
          "output_type": "stream",
          "name": "stdout",
          "text": [
            "Looking in indexes: https://pypi.org/simple, https://us-python.pkg.dev/colab-wheels/public/simple/\n",
            "Requirement already satisfied: pyspark in /usr/local/lib/python3.9/dist-packages (3.3.2)\n",
            "Requirement already satisfied: py4j==0.10.9.5 in /usr/local/lib/python3.9/dist-packages (from pyspark) (0.10.9.5)\n",
            "Looking in indexes: https://pypi.org/simple, https://us-python.pkg.dev/colab-wheels/public/simple/\n",
            "Requirement already satisfied: pyspark[sql] in /usr/local/lib/python3.9/dist-packages (3.3.2)\n",
            "Requirement already satisfied: py4j==0.10.9.5 in /usr/local/lib/python3.9/dist-packages (from pyspark[sql]) (0.10.9.5)\n",
            "Requirement already satisfied: pyarrow>=1.0.0 in /usr/local/lib/python3.9/dist-packages (from pyspark[sql]) (9.0.0)\n",
            "Requirement already satisfied: pandas>=1.0.5 in /usr/local/lib/python3.9/dist-packages (from pyspark[sql]) (1.4.4)\n",
            "Requirement already satisfied: numpy>=1.18.5 in /usr/local/lib/python3.9/dist-packages (from pandas>=1.0.5->pyspark[sql]) (1.22.4)\n",
            "Requirement already satisfied: pytz>=2020.1 in /usr/local/lib/python3.9/dist-packages (from pandas>=1.0.5->pyspark[sql]) (2022.7.1)\n",
            "Requirement already satisfied: python-dateutil>=2.8.1 in /usr/local/lib/python3.9/dist-packages (from pandas>=1.0.5->pyspark[sql]) (2.8.2)\n",
            "Requirement already satisfied: six>=1.5 in /usr/local/lib/python3.9/dist-packages (from python-dateutil>=2.8.1->pandas>=1.0.5->pyspark[sql]) (1.16.0)\n",
            "openjdk-8-jdk-headless is already the newest version (8u362-ga-0ubuntu1~20.04.1).\n",
            "0 upgraded, 0 newly installed, 0 to remove and 24 not upgraded.\n"
          ]
        }
      ],
      "source": [
        "!pip install pyspark\n",
        "!pip install pyspark[sql]\n",
        "!pip install -U -q PyDrive\n",
        "!apt install openjdk-8-jdk-headless -qq \n",
        "import os\n",
        "os.environ[\"JAVA_HOME\"] = \"/usr/lib/jvm/java-8-openjdk-amd64\""
      ]
    },
    {
      "cell_type": "code",
      "execution_count": 4,
      "metadata": {
        "id": "bXw2KzHqNEwD"
      },
      "outputs": [],
      "source": [
        "import pyspark as spark\n",
        "import time\n",
        "from operator import add\n",
        "from pyspark.sql import SparkSession"
      ]
    },
    {
      "cell_type": "code",
      "source": [
        "import numpy as np\n",
        "import random"
      ],
      "metadata": {
        "id": "YZX9deNJlFPv"
      },
      "execution_count": 5,
      "outputs": []
    },
    {
      "cell_type": "markdown",
      "metadata": {
        "id": "BLH0Rq2yOt1R"
      },
      "source": [
        "# Step 0: Read Data"
      ]
    },
    {
      "cell_type": "markdown",
      "metadata": {
        "id": "ynLN-vAXQ653"
      },
      "source": [
        "## Set spark session"
      ]
    },
    {
      "cell_type": "code",
      "execution_count": 6,
      "metadata": {
        "id": "uDsadwheOw8x"
      },
      "outputs": [],
      "source": [
        "# set spark session\n",
        "ss = (SparkSession\n",
        "  .builder\n",
        "  .master(\"local[5]\")\n",
        "  .appName(\"fqproject\")\n",
        "  .getOrCreate())\n"
      ]
    },
    {
      "cell_type": "markdown",
      "metadata": {
        "id": "PIW11UM7OzMy"
      },
      "source": [
        "## Set spark context"
      ]
    },
    {
      "cell_type": "code",
      "execution_count": 7,
      "metadata": {
        "id": "N0ueyutSQ7Px"
      },
      "outputs": [],
      "source": [
        "# set spark session\n",
        "sc = (spark\n",
        "  .SparkContext\n",
        "  .getOrCreate(spark\n",
        "    .SparkConf()\n",
        "    .setAppName(\"fqproject\")\n",
        "    .setMaster('local[*]')\n",
        "    .set('spark.executor.memory', '4G')\n",
        "    .set('spark.driver.memory', '4G')\n",
        "    .set('spark.driver.maxResultSize', '4G')))"
      ]
    },
    {
      "cell_type": "markdown",
      "metadata": {
        "id": "MRsu1WltO1E0"
      },
      "source": [
        "## Read reads.fq"
      ]
    },
    {
      "cell_type": "code",
      "execution_count": 8,
      "metadata": {
        "id": "hEEIfL20O3U1"
      },
      "outputs": [],
      "source": [
        "# read reads.fq and extract the second line of every four lines.\n",
        "reads = (sc\n",
        "  .textFile(cur_path + \"data/reads.fq\")\n",
        "  .zipWithIndex()\n",
        "  .filter(lambda x: (x[1]+1)%2==0 and (x[1]+1)%4!=0)\n",
        "  .map(lambda x: x[0]))"
      ]
    },
    {
      "cell_type": "code",
      "execution_count": 9,
      "metadata": {
        "colab": {
          "base_uri": "https://localhost:8080/"
        },
        "id": "Z2r0uE5pPD4P",
        "outputId": "d2c372e4-f053-43f6-8373-ea726e07eed7"
      },
      "outputs": [
        {
          "output_type": "execute_result",
          "data": {
            "text/plain": [
              "['TCCTTACTGGTTTTGCAGGTAACTTATAGAGTATTTCCACTTCCCTTCTCCTATCCCTTGAAAAATTGTCATTTATTTCTCTTATCCATATGGCATAATC',\n",
              " 'GGTTTTTCAGGTAACTTATAGAGTATTTCCACTTCCCTTCTCCTATCCCTGGAAAAATTGTCATTTATTTCTCTTATCCATATGGCATAATCAAAGAATA',\n",
              " 'AGGTAACTTATAGAGTACTTCCACTTCCCTTCTCCTATCCCTTGAAAAATTGTCATTGATTTCTCTTATCCATATGGCATAATCAAAGAATAAATTGGTG',\n",
              " 'CACTTCCCTTCTACTATCCCTTGAAAAATTGTCATTTATTTCTCTTATCCATATGGCATAATCAAAGAATAAATTGGTGATATTTGTTCAAAAATCCATG',\n",
              " 'CCTTCTCCTATCCCTTGAAAAATTGTCATTTATTTCCCTTATCCATATGGCATAATCAAAGAATAAATTGGTGATATTTGTTCAAAAATCCATGCCTTTT',\n",
              " 'ATCCCTTGAAAAATTGTCATTTATTTCTCTTATCCATATGGCATAATCAAAGAATAAATTGGTGATATTTGTTCAAAAATCCGTGCCTATTAGATTCATT',\n",
              " 'TCTTATCCATATGGCATAATCAAAGAATAAATTGGTGATATTTGTTCAAAAATCCATGCCTATTAGATTCATTTAGAATATAAAAAAATTTTATTTTATT',\n",
              " 'TATCCATATGGCATAATCAAAGAATCAATTGTTGATATTTGTTCAAAAATCCATGCCTATTAGATTCATTTAGAATATAAAAAAATTTTATTTTATTTTC',\n",
              " 'TCAAAGAATAAATTGGTGATATTTGTTCAAAAATCCATGCCTATTAGATTCATTTAGATTATAAAAAAATTTTATTTTATTTTCACTTATTTCTTCTCCA',\n",
              " 'TGAATAAATTGGTGATATTTGTTCAAAAATCCATGCCTACTAGATTCATTTAGAATATAAAAAAATTTTATTTTATTTTCACTTATTTCTTCTCCACTGA']"
            ]
          },
          "metadata": {},
          "execution_count": 9
        }
      ],
      "source": [
        "reads.take(10)"
      ]
    },
    {
      "cell_type": "markdown",
      "metadata": {
        "id": "zEvNcdARO3-v"
      },
      "source": [
        "## Read reference.fa"
      ]
    },
    {
      "cell_type": "code",
      "execution_count": 10,
      "metadata": {
        "id": "zqg4o_B6O9wD"
      },
      "outputs": [],
      "source": [
        "# read reference\n",
        "reference = (ss\n",
        "  .read\n",
        "  .csv(\n",
        "      cur_path + \"data/reference_chr21_20000000_20050000.fa\",\n",
        "      inferSchema=True,\n",
        "      header=True))"
      ]
    },
    {
      "cell_type": "code",
      "execution_count": 11,
      "metadata": {
        "colab": {
          "base_uri": "https://localhost:8080/"
        },
        "id": "dSWs5YRJPFL0",
        "outputId": "f0fc21f8-3b2f-4b2a-d77d-ca6d841c2bcf"
      },
      "outputs": [
        {
          "output_type": "stream",
          "name": "stdout",
          "text": [
            "+--------+--------+--------------------+\n",
            "|   start|     end|            sequence|\n",
            "+--------+--------+--------------------+\n",
            "|20000000|20000100|CCCTTCTCCTATCCCTT...|\n",
            "|20000100|20000200|TAGATTCATTTAGAATA...|\n",
            "|20000200|20000300|TTCTTCTTCCTGAAGAA...|\n",
            "|20000300|20000400|ACTTTTCAAGGATAGTT...|\n",
            "|20000400|20000500|CTGACAGGACTTCTGCC...|\n",
            "|20000500|20000600|TTTCCTTTTTTTTTTCT...|\n",
            "|20000600|20000700|ATTATAAAAAGGGAGGG...|\n",
            "|20000700|20000800|TTCTTTTCTTTTTCTCC...|\n",
            "|20000800|20000900|ATAAATTTCTGCTTGAA...|\n",
            "|20000900|20001000|TTCGTTAGTGTTTTTTA...|\n",
            "+--------+--------+--------------------+\n",
            "only showing top 10 rows\n",
            "\n"
          ]
        }
      ],
      "source": [
        "reference.show(10)"
      ]
    },
    {
      "cell_type": "code",
      "source": [
        "reference.count()"
      ],
      "metadata": {
        "id": "I6twBITsWY7D",
        "outputId": "cdf696cf-7bfd-426e-e11b-ba0c15412d75",
        "colab": {
          "base_uri": "https://localhost:8080/"
        }
      },
      "execution_count": 12,
      "outputs": [
        {
          "output_type": "execute_result",
          "data": {
            "text/plain": [
              "500"
            ]
          },
          "metadata": {},
          "execution_count": 12
        }
      ]
    },
    {
      "cell_type": "markdown",
      "metadata": {
        "id": "59Y3bTkLSAI2"
      },
      "source": [
        "# Step 1: Cut reads into kmers = 15"
      ]
    },
    {
      "cell_type": "markdown",
      "metadata": {
        "id": "ANqDbZ8hS38t"
      },
      "source": [
        "## Define K-mers"
      ]
    },
    {
      "cell_type": "code",
      "execution_count": 13,
      "metadata": {
        "id": "naqY5_vJSFoK"
      },
      "outputs": [],
      "source": [
        "# input a string s and cut k-mers\n",
        "def extract_kmers(s: str, k: int = 15) -> list:\n",
        "    return [s[i:i+k] for i in range(len(s)-k+1)]"
      ]
    },
    {
      "cell_type": "markdown",
      "metadata": {
        "id": "QViG0LdgTPvr"
      },
      "source": [
        "## Map K-mers to reads"
      ]
    },
    {
      "cell_type": "code",
      "execution_count": 14,
      "metadata": {
        "id": "FiS_J2ghTPLb"
      },
      "outputs": [],
      "source": [
        "# K-mers of reads\n",
        "reads_kmers = (reads\n",
        "  .map(extract_kmers))"
      ]
    },
    {
      "cell_type": "code",
      "execution_count": 15,
      "metadata": {
        "colab": {
          "base_uri": "https://localhost:8080/"
        },
        "id": "G0EBAg1nTa1T",
        "outputId": "7acdcb48-88f1-40c8-8526-5904d9a91c51"
      },
      "outputs": [
        {
          "output_type": "execute_result",
          "data": {
            "text/plain": [
              "[['TCCTTACTGGTTTTG',\n",
              "  'CCTTACTGGTTTTGC',\n",
              "  'CTTACTGGTTTTGCA',\n",
              "  'TTACTGGTTTTGCAG',\n",
              "  'TACTGGTTTTGCAGG',\n",
              "  'ACTGGTTTTGCAGGT',\n",
              "  'CTGGTTTTGCAGGTA',\n",
              "  'TGGTTTTGCAGGTAA',\n",
              "  'GGTTTTGCAGGTAAC',\n",
              "  'GTTTTGCAGGTAACT',\n",
              "  'TTTTGCAGGTAACTT',\n",
              "  'TTTGCAGGTAACTTA',\n",
              "  'TTGCAGGTAACTTAT',\n",
              "  'TGCAGGTAACTTATA',\n",
              "  'GCAGGTAACTTATAG',\n",
              "  'CAGGTAACTTATAGA',\n",
              "  'AGGTAACTTATAGAG',\n",
              "  'GGTAACTTATAGAGT',\n",
              "  'GTAACTTATAGAGTA',\n",
              "  'TAACTTATAGAGTAT',\n",
              "  'AACTTATAGAGTATT',\n",
              "  'ACTTATAGAGTATTT',\n",
              "  'CTTATAGAGTATTTC',\n",
              "  'TTATAGAGTATTTCC',\n",
              "  'TATAGAGTATTTCCA',\n",
              "  'ATAGAGTATTTCCAC',\n",
              "  'TAGAGTATTTCCACT',\n",
              "  'AGAGTATTTCCACTT',\n",
              "  'GAGTATTTCCACTTC',\n",
              "  'AGTATTTCCACTTCC',\n",
              "  'GTATTTCCACTTCCC',\n",
              "  'TATTTCCACTTCCCT',\n",
              "  'ATTTCCACTTCCCTT',\n",
              "  'TTTCCACTTCCCTTC',\n",
              "  'TTCCACTTCCCTTCT',\n",
              "  'TCCACTTCCCTTCTC',\n",
              "  'CCACTTCCCTTCTCC',\n",
              "  'CACTTCCCTTCTCCT',\n",
              "  'ACTTCCCTTCTCCTA',\n",
              "  'CTTCCCTTCTCCTAT',\n",
              "  'TTCCCTTCTCCTATC',\n",
              "  'TCCCTTCTCCTATCC',\n",
              "  'CCCTTCTCCTATCCC',\n",
              "  'CCTTCTCCTATCCCT',\n",
              "  'CTTCTCCTATCCCTT',\n",
              "  'TTCTCCTATCCCTTG',\n",
              "  'TCTCCTATCCCTTGA',\n",
              "  'CTCCTATCCCTTGAA',\n",
              "  'TCCTATCCCTTGAAA',\n",
              "  'CCTATCCCTTGAAAA',\n",
              "  'CTATCCCTTGAAAAA',\n",
              "  'TATCCCTTGAAAAAT',\n",
              "  'ATCCCTTGAAAAATT',\n",
              "  'TCCCTTGAAAAATTG',\n",
              "  'CCCTTGAAAAATTGT',\n",
              "  'CCTTGAAAAATTGTC',\n",
              "  'CTTGAAAAATTGTCA',\n",
              "  'TTGAAAAATTGTCAT',\n",
              "  'TGAAAAATTGTCATT',\n",
              "  'GAAAAATTGTCATTT',\n",
              "  'AAAAATTGTCATTTA',\n",
              "  'AAAATTGTCATTTAT',\n",
              "  'AAATTGTCATTTATT',\n",
              "  'AATTGTCATTTATTT',\n",
              "  'ATTGTCATTTATTTC',\n",
              "  'TTGTCATTTATTTCT',\n",
              "  'TGTCATTTATTTCTC',\n",
              "  'GTCATTTATTTCTCT',\n",
              "  'TCATTTATTTCTCTT',\n",
              "  'CATTTATTTCTCTTA',\n",
              "  'ATTTATTTCTCTTAT',\n",
              "  'TTTATTTCTCTTATC',\n",
              "  'TTATTTCTCTTATCC',\n",
              "  'TATTTCTCTTATCCA',\n",
              "  'ATTTCTCTTATCCAT',\n",
              "  'TTTCTCTTATCCATA',\n",
              "  'TTCTCTTATCCATAT',\n",
              "  'TCTCTTATCCATATG',\n",
              "  'CTCTTATCCATATGG',\n",
              "  'TCTTATCCATATGGC',\n",
              "  'CTTATCCATATGGCA',\n",
              "  'TTATCCATATGGCAT',\n",
              "  'TATCCATATGGCATA',\n",
              "  'ATCCATATGGCATAA',\n",
              "  'TCCATATGGCATAAT',\n",
              "  'CCATATGGCATAATC'],\n",
              " ['GGTTTTTCAGGTAAC',\n",
              "  'GTTTTTCAGGTAACT',\n",
              "  'TTTTTCAGGTAACTT',\n",
              "  'TTTTCAGGTAACTTA',\n",
              "  'TTTCAGGTAACTTAT',\n",
              "  'TTCAGGTAACTTATA',\n",
              "  'TCAGGTAACTTATAG',\n",
              "  'CAGGTAACTTATAGA',\n",
              "  'AGGTAACTTATAGAG',\n",
              "  'GGTAACTTATAGAGT',\n",
              "  'GTAACTTATAGAGTA',\n",
              "  'TAACTTATAGAGTAT',\n",
              "  'AACTTATAGAGTATT',\n",
              "  'ACTTATAGAGTATTT',\n",
              "  'CTTATAGAGTATTTC',\n",
              "  'TTATAGAGTATTTCC',\n",
              "  'TATAGAGTATTTCCA',\n",
              "  'ATAGAGTATTTCCAC',\n",
              "  'TAGAGTATTTCCACT',\n",
              "  'AGAGTATTTCCACTT',\n",
              "  'GAGTATTTCCACTTC',\n",
              "  'AGTATTTCCACTTCC',\n",
              "  'GTATTTCCACTTCCC',\n",
              "  'TATTTCCACTTCCCT',\n",
              "  'ATTTCCACTTCCCTT',\n",
              "  'TTTCCACTTCCCTTC',\n",
              "  'TTCCACTTCCCTTCT',\n",
              "  'TCCACTTCCCTTCTC',\n",
              "  'CCACTTCCCTTCTCC',\n",
              "  'CACTTCCCTTCTCCT',\n",
              "  'ACTTCCCTTCTCCTA',\n",
              "  'CTTCCCTTCTCCTAT',\n",
              "  'TTCCCTTCTCCTATC',\n",
              "  'TCCCTTCTCCTATCC',\n",
              "  'CCCTTCTCCTATCCC',\n",
              "  'CCTTCTCCTATCCCT',\n",
              "  'CTTCTCCTATCCCTG',\n",
              "  'TTCTCCTATCCCTGG',\n",
              "  'TCTCCTATCCCTGGA',\n",
              "  'CTCCTATCCCTGGAA',\n",
              "  'TCCTATCCCTGGAAA',\n",
              "  'CCTATCCCTGGAAAA',\n",
              "  'CTATCCCTGGAAAAA',\n",
              "  'TATCCCTGGAAAAAT',\n",
              "  'ATCCCTGGAAAAATT',\n",
              "  'TCCCTGGAAAAATTG',\n",
              "  'CCCTGGAAAAATTGT',\n",
              "  'CCTGGAAAAATTGTC',\n",
              "  'CTGGAAAAATTGTCA',\n",
              "  'TGGAAAAATTGTCAT',\n",
              "  'GGAAAAATTGTCATT',\n",
              "  'GAAAAATTGTCATTT',\n",
              "  'AAAAATTGTCATTTA',\n",
              "  'AAAATTGTCATTTAT',\n",
              "  'AAATTGTCATTTATT',\n",
              "  'AATTGTCATTTATTT',\n",
              "  'ATTGTCATTTATTTC',\n",
              "  'TTGTCATTTATTTCT',\n",
              "  'TGTCATTTATTTCTC',\n",
              "  'GTCATTTATTTCTCT',\n",
              "  'TCATTTATTTCTCTT',\n",
              "  'CATTTATTTCTCTTA',\n",
              "  'ATTTATTTCTCTTAT',\n",
              "  'TTTATTTCTCTTATC',\n",
              "  'TTATTTCTCTTATCC',\n",
              "  'TATTTCTCTTATCCA',\n",
              "  'ATTTCTCTTATCCAT',\n",
              "  'TTTCTCTTATCCATA',\n",
              "  'TTCTCTTATCCATAT',\n",
              "  'TCTCTTATCCATATG',\n",
              "  'CTCTTATCCATATGG',\n",
              "  'TCTTATCCATATGGC',\n",
              "  'CTTATCCATATGGCA',\n",
              "  'TTATCCATATGGCAT',\n",
              "  'TATCCATATGGCATA',\n",
              "  'ATCCATATGGCATAA',\n",
              "  'TCCATATGGCATAAT',\n",
              "  'CCATATGGCATAATC',\n",
              "  'CATATGGCATAATCA',\n",
              "  'ATATGGCATAATCAA',\n",
              "  'TATGGCATAATCAAA',\n",
              "  'ATGGCATAATCAAAG',\n",
              "  'TGGCATAATCAAAGA',\n",
              "  'GGCATAATCAAAGAA',\n",
              "  'GCATAATCAAAGAAT',\n",
              "  'CATAATCAAAGAATA']]"
            ]
          },
          "metadata": {},
          "execution_count": 15
        }
      ],
      "source": [
        "reads_kmers.take(2)"
      ]
    },
    {
      "cell_type": "markdown",
      "metadata": {
        "id": "y9LB3IwwT3RE"
      },
      "source": [
        "# Step 2: Cut reference bins into kmers = 15"
      ]
    },
    {
      "cell_type": "code",
      "execution_count": 16,
      "metadata": {
        "id": "CVfbDsD0T2Ri"
      },
      "outputs": [],
      "source": [
        "# K-mers of reference\n",
        "reference_kmers = (reference\n",
        "  .select('sequence')\n",
        "  .rdd\n",
        "  .flatMap(lambda x: x)\n",
        "  .map(extract_kmers))"
      ]
    },
    {
      "cell_type": "code",
      "execution_count": 17,
      "metadata": {
        "colab": {
          "base_uri": "https://localhost:8080/"
        },
        "id": "huQx-SdEUbxy",
        "outputId": "ab1e9ead-4d60-4cf6-af3b-6bfe7b689490"
      },
      "outputs": [
        {
          "output_type": "execute_result",
          "data": {
            "text/plain": [
              "[['CCCTTCTCCTATCCC',\n",
              "  'CCTTCTCCTATCCCT',\n",
              "  'CTTCTCCTATCCCTT',\n",
              "  'TTCTCCTATCCCTTG',\n",
              "  'TCTCCTATCCCTTGA',\n",
              "  'CTCCTATCCCTTGAA',\n",
              "  'TCCTATCCCTTGAAA',\n",
              "  'CCTATCCCTTGAAAA',\n",
              "  'CTATCCCTTGAAAAA',\n",
              "  'TATCCCTTGAAAAAT',\n",
              "  'ATCCCTTGAAAAATT',\n",
              "  'TCCCTTGAAAAATTG',\n",
              "  'CCCTTGAAAAATTGT',\n",
              "  'CCTTGAAAAATTGTC',\n",
              "  'CTTGAAAAATTGTCA',\n",
              "  'TTGAAAAATTGTCAT',\n",
              "  'TGAAAAATTGTCATT',\n",
              "  'GAAAAATTGTCATTT',\n",
              "  'AAAAATTGTCATTTA',\n",
              "  'AAAATTGTCATTTAT',\n",
              "  'AAATTGTCATTTATT',\n",
              "  'AATTGTCATTTATTT',\n",
              "  'ATTGTCATTTATTTC',\n",
              "  'TTGTCATTTATTTCT',\n",
              "  'TGTCATTTATTTCTC',\n",
              "  'GTCATTTATTTCTCT',\n",
              "  'TCATTTATTTCTCTT',\n",
              "  'CATTTATTTCTCTTA',\n",
              "  'ATTTATTTCTCTTAT',\n",
              "  'TTTATTTCTCTTATC',\n",
              "  'TTATTTCTCTTATCC',\n",
              "  'TATTTCTCTTATCCA',\n",
              "  'ATTTCTCTTATCCAT',\n",
              "  'TTTCTCTTATCCATA',\n",
              "  'TTCTCTTATCCATAT',\n",
              "  'TCTCTTATCCATATG',\n",
              "  'CTCTTATCCATATGG',\n",
              "  'TCTTATCCATATGGC',\n",
              "  'CTTATCCATATGGCA',\n",
              "  'TTATCCATATGGCAT',\n",
              "  'TATCCATATGGCATA',\n",
              "  'ATCCATATGGCATAA',\n",
              "  'TCCATATGGCATAAT',\n",
              "  'CCATATGGCATAATC',\n",
              "  'CATATGGCATAATCA',\n",
              "  'ATATGGCATAATCAA',\n",
              "  'TATGGCATAATCAAA',\n",
              "  'ATGGCATAATCAAAG',\n",
              "  'TGGCATAATCAAAGA',\n",
              "  'GGCATAATCAAAGAA',\n",
              "  'GCATAATCAAAGAAT',\n",
              "  'CATAATCAAAGAATA',\n",
              "  'ATAATCAAAGAATAA',\n",
              "  'TAATCAAAGAATAAA',\n",
              "  'AATCAAAGAATAAAT',\n",
              "  'ATCAAAGAATAAATT',\n",
              "  'TCAAAGAATAAATTG',\n",
              "  'CAAAGAATAAATTGG',\n",
              "  'AAAGAATAAATTGGT',\n",
              "  'AAGAATAAATTGGTG',\n",
              "  'AGAATAAATTGGTGA',\n",
              "  'GAATAAATTGGTGAT',\n",
              "  'AATAAATTGGTGATA',\n",
              "  'ATAAATTGGTGATAT',\n",
              "  'TAAATTGGTGATATT',\n",
              "  'AAATTGGTGATATTT',\n",
              "  'AATTGGTGATATTTG',\n",
              "  'ATTGGTGATATTTGT',\n",
              "  'TTGGTGATATTTGTT',\n",
              "  'TGGTGATATTTGTTC',\n",
              "  'GGTGATATTTGTTCA',\n",
              "  'GTGATATTTGTTCAA',\n",
              "  'TGATATTTGTTCAAA',\n",
              "  'GATATTTGTTCAAAA',\n",
              "  'ATATTTGTTCAAAAA',\n",
              "  'TATTTGTTCAAAAAT',\n",
              "  'ATTTGTTCAAAAATC',\n",
              "  'TTTGTTCAAAAATCC',\n",
              "  'TTGTTCAAAAATCCA',\n",
              "  'TGTTCAAAAATCCAT',\n",
              "  'GTTCAAAAATCCATG',\n",
              "  'TTCAAAAATCCATGC',\n",
              "  'TCAAAAATCCATGCC',\n",
              "  'CAAAAATCCATGCCT',\n",
              "  'AAAAATCCATGCCTA',\n",
              "  'AAAATCCATGCCTAT'],\n",
              " ['TAGATTCATTTAGAA',\n",
              "  'AGATTCATTTAGAAT',\n",
              "  'GATTCATTTAGAATA',\n",
              "  'ATTCATTTAGAATAT',\n",
              "  'TTCATTTAGAATATA',\n",
              "  'TCATTTAGAATATAA',\n",
              "  'CATTTAGAATATAAA',\n",
              "  'ATTTAGAATATAAAA',\n",
              "  'TTTAGAATATAAAAA',\n",
              "  'TTAGAATATAAAAAA',\n",
              "  'TAGAATATAAAAAAA',\n",
              "  'AGAATATAAAAAAAT',\n",
              "  'GAATATAAAAAAATT',\n",
              "  'AATATAAAAAAATTT',\n",
              "  'ATATAAAAAAATTTT',\n",
              "  'TATAAAAAAATTTTA',\n",
              "  'ATAAAAAAATTTTAT',\n",
              "  'TAAAAAAATTTTATT',\n",
              "  'AAAAAAATTTTATTT',\n",
              "  'AAAAAATTTTATTTT',\n",
              "  'AAAAATTTTATTTTA',\n",
              "  'AAAATTTTATTTTAT',\n",
              "  'AAATTTTATTTTATT',\n",
              "  'AATTTTATTTTATTT',\n",
              "  'ATTTTATTTTATTTT',\n",
              "  'TTTTATTTTATTTTC',\n",
              "  'TTTATTTTATTTTCA',\n",
              "  'TTATTTTATTTTCAC',\n",
              "  'TATTTTATTTTCACT',\n",
              "  'ATTTTATTTTCACTT',\n",
              "  'TTTTATTTTCACTTA',\n",
              "  'TTTATTTTCACTTAT',\n",
              "  'TTATTTTCACTTATT',\n",
              "  'TATTTTCACTTATTT',\n",
              "  'ATTTTCACTTATTTC',\n",
              "  'TTTTCACTTATTTCT',\n",
              "  'TTTCACTTATTTCTT',\n",
              "  'TTCACTTATTTCTTC',\n",
              "  'TCACTTATTTCTTCT',\n",
              "  'CACTTATTTCTTCTC',\n",
              "  'ACTTATTTCTTCTCC',\n",
              "  'CTTATTTCTTCTCCA',\n",
              "  'TTATTTCTTCTCCAC',\n",
              "  'TATTTCTTCTCCACT',\n",
              "  'ATTTCTTCTCCACTG',\n",
              "  'TTTCTTCTCCACTGA',\n",
              "  'TTCTTCTCCACTGAT',\n",
              "  'TCTTCTCCACTGATT',\n",
              "  'CTTCTCCACTGATTT',\n",
              "  'TTCTCCACTGATTTT',\n",
              "  'TCTCCACTGATTTTT',\n",
              "  'CTCCACTGATTTTTC',\n",
              "  'TCCACTGATTTTTCT',\n",
              "  'CCACTGATTTTTCTA',\n",
              "  'CACTGATTTTTCTAT',\n",
              "  'ACTGATTTTTCTATT',\n",
              "  'CTGATTTTTCTATTT',\n",
              "  'TGATTTTTCTATTTT',\n",
              "  'GATTTTTCTATTTTT',\n",
              "  'ATTTTTCTATTTTTA',\n",
              "  'TTTTTCTATTTTTAT',\n",
              "  'TTTTCTATTTTTATG',\n",
              "  'TTTCTATTTTTATGT',\n",
              "  'TTCTATTTTTATGTA',\n",
              "  'TCTATTTTTATGTAG',\n",
              "  'CTATTTTTATGTAGA',\n",
              "  'TATTTTTATGTAGAG',\n",
              "  'ATTTTTATGTAGAGA',\n",
              "  'TTTTTATGTAGAGAT',\n",
              "  'TTTTATGTAGAGATG',\n",
              "  'TTTATGTAGAGATGA',\n",
              "  'TTATGTAGAGATGAG',\n",
              "  'TATGTAGAGATGAGT',\n",
              "  'ATGTAGAGATGAGTT',\n",
              "  'TGTAGAGATGAGTTT',\n",
              "  'GTAGAGATGAGTTTC',\n",
              "  'TAGAGATGAGTTTCT',\n",
              "  'AGAGATGAGTTTCTG',\n",
              "  'GAGATGAGTTTCTGA',\n",
              "  'AGATGAGTTTCTGAC',\n",
              "  'GATGAGTTTCTGACA',\n",
              "  'ATGAGTTTCTGACAT',\n",
              "  'TGAGTTTCTGACATA',\n",
              "  'GAGTTTCTGACATAT',\n",
              "  'AGTTTCTGACATATA',\n",
              "  'GTTTCTGACATATAT']]"
            ]
          },
          "metadata": {},
          "execution_count": 17
        }
      ],
      "source": [
        "reference_kmers.take(2)"
      ]
    },
    {
      "cell_type": "markdown",
      "metadata": {
        "id": "x4a_UuqMUbcr"
      },
      "source": [
        "# Step 3: Collect all kmers and build a distinct kmer set\n",
        "\n",
        "• Hint: you can use python “set” function\n",
        "\n",
        "• Report the number of distinct kmers (N)"
      ]
    },
    {
      "cell_type": "code",
      "execution_count": 18,
      "metadata": {
        "id": "o8cKZPl-Vp1X"
      },
      "outputs": [],
      "source": [
        "# Merge and distinct, collect to a set\n",
        "kmers = set(reads_kmers \n",
        "  .union(reference_kmers)\n",
        "  .flatMap(lambda x: x) \n",
        "  .distinct()\n",
        "  .collect())"
      ]
    },
    {
      "cell_type": "code",
      "execution_count": 19,
      "metadata": {
        "colab": {
          "base_uri": "https://localhost:8080/"
        },
        "id": "J8wR4jStWvSK",
        "outputId": "1a49f02c-5093-46ae-ca29-f64e6c958c75"
      },
      "outputs": [
        {
          "output_type": "execute_result",
          "data": {
            "text/plain": [
              "72530"
            ]
          },
          "metadata": {},
          "execution_count": 19
        }
      ],
      "source": [
        "len(kmers)"
      ]
    },
    {
      "cell_type": "markdown",
      "metadata": {
        "id": "C3eLWeCXXeiH"
      },
      "source": [
        "**The number of distinct kmers is 72,530**\n"
      ]
    },
    {
      "cell_type": "code",
      "execution_count": 20,
      "metadata": {
        "colab": {
          "base_uri": "https://localhost:8080/"
        },
        "id": "949kQtpBIKpB",
        "outputId": "10b669a6-2c04-4586-b2d9-29a7be7694cc"
      },
      "outputs": [
        {
          "output_type": "execute_result",
          "data": {
            "text/plain": [
              "PythonRDD[40] at RDD at PythonRDD.scala:53"
            ]
          },
          "metadata": {},
          "execution_count": 20
        }
      ],
      "source": [
        "reads"
      ]
    },
    {
      "cell_type": "code",
      "execution_count": 20,
      "metadata": {
        "id": "8MY7yM09Kiuz"
      },
      "outputs": [],
      "source": []
    },
    {
      "cell_type": "markdown",
      "metadata": {
        "id": "hRSRaZRPKi7T"
      },
      "source": [
        "# Step4"
      ]
    },
    {
      "cell_type": "code",
      "execution_count": 21,
      "metadata": {
        "id": "1lQ3tv3BKkMX"
      },
      "outputs": [],
      "source": [
        "from pyspark.ml.linalg import Vectors\n",
        "import pandas as pd"
      ]
    },
    {
      "cell_type": "code",
      "source": [
        "\n",
        "# turn reads to list \n",
        "r_list = reads.collect()"
      ],
      "metadata": {
        "id": "rQF6H_7ScYiW"
      },
      "execution_count": 22,
      "outputs": []
    },
    {
      "cell_type": "code",
      "source": [
        "# check feature vector of every kmer in each read\n",
        "def check_kmer_features(kmer):\n",
        "  m = []\n",
        "  \n",
        "\n",
        "  for i in range(len(r_list)):\n",
        "    if kmer in r_list[i]:\n",
        "      m.append(i)\n",
        "  v = [1.0 for i in range(len(m))]\n",
        "  return (kmer,Vectors.dense(Vectors.sparse(len(r_list),m,v)))"
      ],
      "metadata": {
        "id": "1geHIJrTcmkB"
      },
      "execution_count": 23,
      "outputs": []
    },
    {
      "cell_type": "code",
      "source": [
        "kmers_rdd = sc.parallelize(list(kmers))"
      ],
      "metadata": {
        "id": "z_1L60tdbW0q"
      },
      "execution_count": 24,
      "outputs": []
    },
    {
      "cell_type": "code",
      "execution_count": 25,
      "metadata": {
        "id": "pap8knRucBiv"
      },
      "outputs": [],
      "source": [
        "reads_features = kmers_rdd.map(lambda x: check_kmer_features(x))"
      ]
    },
    {
      "cell_type": "code",
      "execution_count": 26,
      "metadata": {
        "id": "QKxMpHBRgpNo"
      },
      "outputs": [],
      "source": [
        "reads_features_df = reads_features.toDF(['kmer','read_features'])"
      ]
    },
    {
      "cell_type": "code",
      "execution_count": 27,
      "metadata": {
        "id": "ZbWHjuLfWauj",
        "outputId": "adb4fe02-c0bf-4b0b-c170-fe91b0476766",
        "colab": {
          "base_uri": "https://localhost:8080/"
        }
      },
      "outputs": [
        {
          "output_type": "stream",
          "name": "stdout",
          "text": [
            "+---------------+--------------------+\n",
            "|           kmer|       read_features|\n",
            "+---------------+--------------------+\n",
            "|TTGCCCATCAAACTG|[0.0,0.0,0.0,0.0,...|\n",
            "+---------------+--------------------+\n",
            "only showing top 1 row\n",
            "\n"
          ]
        }
      ],
      "source": [
        "#generate the dataframe with sparse vector\n",
        "reads_features_df.show(1)"
      ]
    },
    {
      "cell_type": "code",
      "execution_count": 28,
      "metadata": {
        "id": "oeMY7GJrWawY"
      },
      "outputs": [],
      "source": [
        "from pyspark.sql.functions import col\n",
        "from pyspark.ml.functions import vector_to_array"
      ]
    },
    {
      "cell_type": "code",
      "source": [
        "reads_features_df = reads_features_df.withColumn(\"read\", vector_to_array(\"read_features\")).select([\"kmer\"] + [col(\"read\")[i] for i in range(2000)])"
      ],
      "metadata": {
        "id": "4IHbE5SifYdS"
      },
      "execution_count": 29,
      "outputs": []
    },
    {
      "cell_type": "code",
      "source": [
        "read_name = {r_list[i]: 'reads' + str(i) for i in range(len(r_list))}"
      ],
      "metadata": {
        "id": "tIBtHfn4V_7E"
      },
      "execution_count": 30,
      "outputs": []
    },
    {
      "cell_type": "code",
      "source": [
        "# old code\n",
        "def check_kmer_features_old1(read):\n",
        "  m = []\n",
        "  kmers_list = list(kmers)\n",
        "  for i in range(len(kmers_list)):\n",
        "    if kmers_list[i] in read:\n",
        "      m.append(i)\n",
        "  v = [1.0 for i in range(len(m))]\n",
        "  return (read_name[read],Vectors.sparse(len(kmers_list),m,v))\n"
      ],
      "metadata": {
        "id": "FeEkH4MyofTr"
      },
      "execution_count": 31,
      "outputs": []
    },
    {
      "cell_type": "code",
      "source": [
        "reads_features = reads.map(lambda x: check_kmer_features_old1(x))"
      ],
      "metadata": {
        "id": "RN4pbbKWzc6c"
      },
      "execution_count": 32,
      "outputs": []
    },
    {
      "cell_type": "code",
      "source": [
        "reads_features.take(2)"
      ],
      "metadata": {
        "id": "MfpvphOd0ONF",
        "outputId": "d1894831-da84-4867-fc68-70c698f0e35b",
        "colab": {
          "base_uri": "https://localhost:8080/"
        }
      },
      "execution_count": 33,
      "outputs": [
        {
          "output_type": "execute_result",
          "data": {
            "text/plain": [
              "[('reads0',\n",
              "  SparseVector(72530, {173: 1.0, 854: 1.0, 1697: 1.0, 2461: 1.0, 4007: 1.0, 4617: 1.0, 4890: 1.0, 6086: 1.0, 6582: 1.0, 7639: 1.0, 7934: 1.0, 9009: 1.0, 11641: 1.0, 13192: 1.0, 16383: 1.0, 17643: 1.0, 18178: 1.0, 18285: 1.0, 19249: 1.0, 19561: 1.0, 20322: 1.0, 20401: 1.0, 21796: 1.0, 22094: 1.0, 23404: 1.0, 23748: 1.0, 23945: 1.0, 23968: 1.0, 24726: 1.0, 25532: 1.0, 25950: 1.0, 26530: 1.0, 26769: 1.0, 27986: 1.0, 28203: 1.0, 30103: 1.0, 31467: 1.0, 34054: 1.0, 34664: 1.0, 35094: 1.0, 36087: 1.0, 37854: 1.0, 38459: 1.0, 40043: 1.0, 40470: 1.0, 40760: 1.0, 41115: 1.0, 41686: 1.0, 42491: 1.0, 42563: 1.0, 42907: 1.0, 43062: 1.0, 43484: 1.0, 44210: 1.0, 45094: 1.0, 46237: 1.0, 50527: 1.0, 51926: 1.0, 53794: 1.0, 54050: 1.0, 54199: 1.0, 54924: 1.0, 55900: 1.0, 56228: 1.0, 58228: 1.0, 59435: 1.0, 59630: 1.0, 61056: 1.0, 61063: 1.0, 61217: 1.0, 61339: 1.0, 61470: 1.0, 61888: 1.0, 61979: 1.0, 62583: 1.0, 63355: 1.0, 63447: 1.0, 65004: 1.0, 65355: 1.0, 65726: 1.0, 66321: 1.0, 67214: 1.0, 67544: 1.0, 69067: 1.0, 70684: 1.0, 72270: 1.0})),\n",
              " ('reads1',\n",
              "  SparseVector(72530, {173: 1.0, 854: 1.0, 2461: 1.0, 4999: 1.0, 5912: 1.0, 6086: 1.0, 6582: 1.0, 7639: 1.0, 8840: 1.0, 8864: 1.0, 9009: 1.0, 11447: 1.0, 11641: 1.0, 12580: 1.0, 12975: 1.0, 13192: 1.0, 13825: 1.0, 13925: 1.0, 14372: 1.0, 14966: 1.0, 16666: 1.0, 17643: 1.0, 18178: 1.0, 19561: 1.0, 20401: 1.0, 21796: 1.0, 22094: 1.0, 23404: 1.0, 23748: 1.0, 23945: 1.0, 25532: 1.0, 25628: 1.0, 25950: 1.0, 26386: 1.0, 26530: 1.0, 26769: 1.0, 27986: 1.0, 28203: 1.0, 28441: 1.0, 34146: 1.0, 34664: 1.0, 35094: 1.0, 36126: 1.0, 37854: 1.0, 38459: 1.0, 39710: 1.0, 40043: 1.0, 40760: 1.0, 41115: 1.0, 41686: 1.0, 41935: 1.0, 42563: 1.0, 42907: 1.0, 43062: 1.0, 44155: 1.0, 44210: 1.0, 44587: 1.0, 44957: 1.0, 45094: 1.0, 45212: 1.0, 51568: 1.0, 53351: 1.0, 53794: 1.0, 54050: 1.0, 54098: 1.0, 54199: 1.0, 54924: 1.0, 56228: 1.0, 56670: 1.0, 57834: 1.0, 58840: 1.0, 59630: 1.0, 61063: 1.0, 61217: 1.0, 61339: 1.0, 61470: 1.0, 61888: 1.0, 61979: 1.0, 63355: 1.0, 63447: 1.0, 65004: 1.0, 65726: 1.0, 65974: 1.0, 67214: 1.0, 69067: 1.0, 70684: 1.0}))]"
            ]
          },
          "metadata": {},
          "execution_count": 33
        }
      ]
    },
    {
      "cell_type": "markdown",
      "metadata": {
        "id": "RSuEBcoLKlwB"
      },
      "source": [
        "# Step5"
      ]
    },
    {
      "cell_type": "code",
      "source": [
        "reference_rdd = reference.select(\"sequence\").rdd.map(lambda x: x['sequence'])"
      ],
      "metadata": {
        "id": "jZ1Yef9amA-L"
      },
      "execution_count": 34,
      "outputs": []
    },
    {
      "cell_type": "code",
      "source": [
        "reference_list = reference_rdd.collect()\n",
        "reference_list[0]"
      ],
      "metadata": {
        "id": "bzpF9dQJmMsb",
        "outputId": "669a35e9-b499-458f-9523-741c7c09b0cd",
        "colab": {
          "base_uri": "https://localhost:8080/",
          "height": 35
        }
      },
      "execution_count": 35,
      "outputs": [
        {
          "output_type": "execute_result",
          "data": {
            "text/plain": [
              "'CCCTTCTCCTATCCCTTGAAAAATTGTCATTTATTTCTCTTATCCATATGGCATAATCAAAGAATAAATTGGTGATATTTGTTCAAAAATCCATGCCTAT'"
            ],
            "application/vnd.google.colaboratory.intrinsic+json": {
              "type": "string"
            }
          },
          "metadata": {},
          "execution_count": 35
        }
      ]
    },
    {
      "cell_type": "code",
      "source": [
        "#generate the name of columns\n",
        "start_rdd = reference.select(\"start\").rdd.map(lambda x: x['start'])\n",
        "end_rdd = reference.select(\"end\").rdd.map(lambda x: x['end'])\n",
        "s_list = start_rdd.collect()\n",
        "e_list = end_rdd.collect()\n",
        "reference_name = ['bin' + str(s_list[i]) + '_' +  str(e_list[i]) for i in range(len(s_list))]\n",
        "reference_name[0]"
      ],
      "metadata": {
        "id": "nCcOrMXOnWJN",
        "outputId": "e589d5ff-259d-4875-ffde-5ebce38dc414",
        "colab": {
          "base_uri": "https://localhost:8080/",
          "height": 35
        }
      },
      "execution_count": 36,
      "outputs": [
        {
          "output_type": "execute_result",
          "data": {
            "text/plain": [
              "'bin20000000_20000100'"
            ],
            "application/vnd.google.colaboratory.intrinsic+json": {
              "type": "string"
            }
          },
          "metadata": {},
          "execution_count": 36
        }
      ]
    },
    {
      "cell_type": "code",
      "source": [],
      "metadata": {
        "id": "kDCOpTHw5Asm"
      },
      "execution_count": 36,
      "outputs": []
    },
    {
      "cell_type": "code",
      "source": [
        "# check feature vector of every kmer in each reference\n",
        "def check_kmer_read_features_sequence(kmer):\n",
        "  m = []\n",
        "  for i in range(len(reference_list)):\n",
        "    if kmer in reference_list[i]:\n",
        "      m.append(i)\n",
        "  v = [1.0 for i in range(len(m))]\n",
        "  return (kmer,Vectors.dense(Vectors.sparse(len(reference_list),m,v)))"
      ],
      "metadata": {
        "id": "CEoYkzmckd6W"
      },
      "execution_count": 37,
      "outputs": []
    },
    {
      "cell_type": "code",
      "execution_count": 38,
      "metadata": {
        "id": "NqRXCvBAKm-h"
      },
      "outputs": [],
      "source": [
        "reference_features = kmers_rdd.map(lambda x:check_kmer_read_features_sequence(x))"
      ]
    },
    {
      "cell_type": "code",
      "source": [
        "# turn to dataframe\n",
        "reference_features_df = reference_features.toDF(['kmer','reference_features'])"
      ],
      "metadata": {
        "id": "WbHSEchnkP1U"
      },
      "execution_count": 39,
      "outputs": []
    },
    {
      "cell_type": "code",
      "execution_count": 40,
      "metadata": {
        "colab": {
          "base_uri": "https://localhost:8080/"
        },
        "id": "7tmq2Xoonm56",
        "outputId": "78139665-afc0-450c-efd3-58fc941a5378"
      },
      "outputs": [
        {
          "output_type": "stream",
          "name": "stdout",
          "text": [
            "+---------------+--------------------+\n",
            "|           kmer|  reference_features|\n",
            "+---------------+--------------------+\n",
            "|TTGCCCATCAAACTG|[0.0,0.0,0.0,0.0,...|\n",
            "+---------------+--------------------+\n",
            "only showing top 1 row\n",
            "\n"
          ]
        }
      ],
      "source": [
        "reference_features_df.show(1) "
      ]
    },
    {
      "cell_type": "code",
      "execution_count": 41,
      "metadata": {
        "id": "eFux_1_DntsP"
      },
      "outputs": [],
      "source": [
        "# expand the dense vector to different collomns\n",
        "reference_features_df = reference_features_df.withColumn(\"xs\", vector_to_array(\"reference_features\")).select([\"kmer\"] + [col(\"xs\")[i] for i in range(len(reference_name))])"
      ]
    },
    {
      "cell_type": "code",
      "source": [
        "reference_name = ['kmer'] + reference_name\n",
        "reference_features_df = reference_features_df.select([col(c).alias(reference_name[i]) for i, c in enumerate(reference_features_df.columns)])"
      ],
      "metadata": {
        "id": "TU9eLWHMnUXK"
      },
      "execution_count": 42,
      "outputs": []
    },
    {
      "cell_type": "code",
      "source": [
        "reference_name_d = {reference_list[i]: reference_name[i+1] for i in range(len(reference_list))}\n",
        "len(reference_name_d)"
      ],
      "metadata": {
        "id": "OJylWwlmWRmi",
        "outputId": "9dd0fbc2-9915-4a52-c5c7-2615c5a350da",
        "colab": {
          "base_uri": "https://localhost:8080/"
        }
      },
      "execution_count": 43,
      "outputs": [
        {
          "output_type": "execute_result",
          "data": {
            "text/plain": [
              "500"
            ]
          },
          "metadata": {},
          "execution_count": 43
        }
      ]
    },
    {
      "cell_type": "code",
      "source": [
        "# old code\n",
        "def check_kmer_features_old(read):\n",
        "  m = []\n",
        "  kmers_list = list(kmers)\n",
        "  for i in range(len(kmers_list)):\n",
        "    if kmers_list[i] in read:\n",
        "      m.append(i)\n",
        "  v = [1.0 for i in range(len(m))]\n",
        "  return (reference_name_d[read],Vectors.sparse(len(kmers_list),m,v))"
      ],
      "metadata": {
        "id": "lNnY0l_v484V"
      },
      "execution_count": 44,
      "outputs": []
    },
    {
      "cell_type": "code",
      "source": [
        "# old code \n",
        "reference_features = reference_rdd.map(lambda x: check_kmer_features_old(x))\n",
        "reference_features.take(1)"
      ],
      "metadata": {
        "id": "fUd4m4l50doH",
        "outputId": "8ec0b81c-e223-4412-87d0-435a1359370f",
        "colab": {
          "base_uri": "https://localhost:8080/"
        }
      },
      "execution_count": 45,
      "outputs": [
        {
          "output_type": "execute_result",
          "data": {
            "text/plain": [
              "[('bin20000000_20000100',\n",
              "  SparseVector(72530, {173: 1.0, 854: 1.0, 2589: 1.0, 4999: 1.0, 6086: 1.0, 7345: 1.0, 7639: 1.0, 8864: 1.0, 9009: 1.0, 9270: 1.0, 11641: 1.0, 13474: 1.0, 13825: 1.0, 14090: 1.0, 15247: 1.0, 15323: 1.0, 15831: 1.0, 16309: 1.0, 16666: 1.0, 17215: 1.0, 17643: 1.0, 18178: 1.0, 19249: 1.0, 19561: 1.0, 20322: 1.0, 20401: 1.0, 21796: 1.0, 22094: 1.0, 23019: 1.0, 25532: 1.0, 25628: 1.0, 26032: 1.0, 26530: 1.0, 27986: 1.0, 33453: 1.0, 33761: 1.0, 34054: 1.0, 34654: 1.0, 36126: 1.0, 38459: 1.0, 38721: 1.0, 40470: 1.0, 40760: 1.0, 41115: 1.0, 41686: 1.0, 42043: 1.0, 42491: 1.0, 42563: 1.0, 43062: 1.0, 43789: 1.0, 44210: 1.0, 45094: 1.0, 46237: 1.0, 46868: 1.0, 47310: 1.0, 48107: 1.0, 49403: 1.0, 49868: 1.0, 50160: 1.0, 51926: 1.0, 53094: 1.0, 53762: 1.0, 53794: 1.0, 54050: 1.0, 54098: 1.0, 57834: 1.0, 58228: 1.0, 58709: 1.0, 59435: 1.0, 61056: 1.0, 61217: 1.0, 61979: 1.0, 62470: 1.0, 62583: 1.0, 63355: 1.0, 63447: 1.0, 65036: 1.0, 65355: 1.0, 66321: 1.0, 67539: 1.0, 67544: 1.0, 68340: 1.0, 68969: 1.0, 69391: 1.0, 71167: 1.0, 72270: 1.0}))]"
            ]
          },
          "metadata": {},
          "execution_count": 45
        }
      ]
    },
    {
      "cell_type": "markdown",
      "metadata": {
        "id": "1knv_hbyXnoI"
      },
      "source": [
        "\n",
        "# Step 6: Use minhash to reduce the feature dimension for reads and reference bins"
      ]
    },
    {
      "cell_type": "code",
      "source": [
        "# define minhash\n",
        "def minhash(hashtable: list, entry: tuple) -> tuple:\n",
        "  ans = []\n",
        "  for ls in hashtable:\n",
        "    for i in ls:\n",
        "      if entry[1][ls[i]]==1:\n",
        "        ans.append(i)\n",
        "        break\n",
        "  return (entry[0], ans)"
      ],
      "metadata": {
        "id": "A2GZi9Znmleg"
      },
      "execution_count": 46,
      "outputs": []
    },
    {
      "cell_type": "code",
      "source": [
        "# create hash table\n",
        "def minhash_table(n: int) -> list:\n",
        "  ans = []\n",
        "  for i in range(n):\n",
        "    ans.append(random.sample(range(72530), 72530))\n",
        "  return ans"
      ],
      "metadata": {
        "id": "9CEIRjDRp3EJ"
      },
      "execution_count": 47,
      "outputs": []
    },
    {
      "cell_type": "code",
      "source": [
        "# set seed\n",
        "random.seed(114514)"
      ],
      "metadata": {
        "id": "n_oDZSHgqDID"
      },
      "execution_count": 48,
      "outputs": []
    },
    {
      "cell_type": "code",
      "source": [
        "# create hash table\n",
        "hashtable = minhash_table(1000)"
      ],
      "metadata": {
        "id": "4h4rTKhLX2wx"
      },
      "execution_count": 49,
      "outputs": []
    },
    {
      "cell_type": "code",
      "source": [
        "# run minhash on reads\n",
        "start = time.time()\n",
        "print(time.localtime(start))\n",
        "read_sig_temp = reads_features.map(lambda x: minhash(hashtable, x))\n",
        "print(time.time()-start)"
      ],
      "metadata": {
        "id": "jgBZFSTorkh5",
        "outputId": "7900b6c5-d46a-47d9-ae9e-785ad7e9c53f",
        "colab": {
          "base_uri": "https://localhost:8080/"
        }
      },
      "execution_count": 50,
      "outputs": [
        {
          "output_type": "stream",
          "name": "stdout",
          "text": [
            "time.struct_time(tm_year=2023, tm_mon=4, tm_mday=11, tm_hour=1, tm_min=42, tm_sec=9, tm_wday=1, tm_yday=101, tm_isdst=0)\n",
            "0.00043511390686035156\n"
          ]
        }
      ]
    },
    {
      "cell_type": "code",
      "source": [
        "# run minhash on references\n",
        "start = time.time()\n",
        "print(time.localtime(start))\n",
        "ref_sig_temp = reference_features.map(lambda x: minhash(hashtable, x))\n",
        "print(time.time()-start)"
      ],
      "metadata": {
        "id": "NoguccloromD",
        "outputId": "bdbc275f-1a3a-454d-b04a-f821775e2382",
        "colab": {
          "base_uri": "https://localhost:8080/"
        }
      },
      "execution_count": 51,
      "outputs": [
        {
          "output_type": "stream",
          "name": "stdout",
          "text": [
            "time.struct_time(tm_year=2023, tm_mon=4, tm_mday=11, tm_hour=1, tm_min=42, tm_sec=9, tm_wday=1, tm_yday=101, tm_isdst=0)\n",
            "0.00022935867309570312\n"
          ]
        }
      ]
    },
    {
      "cell_type": "code",
      "source": [
        "len(read_sig_temp.take(1)[0][1])"
      ],
      "metadata": {
        "id": "hVMDYEt5svUY",
        "outputId": "f9ddf43a-8400-4e59-d01b-c3e647c9b7c6",
        "colab": {
          "base_uri": "https://localhost:8080/"
        }
      },
      "execution_count": 52,
      "outputs": [
        {
          "output_type": "execute_result",
          "data": {
            "text/plain": [
              "1000"
            ]
          },
          "metadata": {},
          "execution_count": 52
        }
      ]
    },
    {
      "cell_type": "code",
      "source": [
        "len(ref_sig_temp.take(1)[0][1])"
      ],
      "metadata": {
        "id": "dnCx784WuOMS",
        "outputId": "3b295338-365a-45ee-dcda-b6719ac7896a",
        "colab": {
          "base_uri": "https://localhost:8080/"
        }
      },
      "execution_count": 53,
      "outputs": [
        {
          "output_type": "execute_result",
          "data": {
            "text/plain": [
              "1000"
            ]
          },
          "metadata": {},
          "execution_count": 53
        }
      ]
    },
    {
      "cell_type": "markdown",
      "source": [
        "# step 7"
      ],
      "metadata": {
        "id": "DZnKV6MXyeqM"
      }
    },
    {
      "cell_type": "code",
      "source": [
        "read_l = read_sig_temp.collect()"
      ],
      "metadata": {
        "id": "QQ-1ch7CEksk"
      },
      "execution_count": 58,
      "outputs": []
    },
    {
      "cell_type": "code",
      "source": [
        "ref_l = ref_sig_temp.collect()"
      ],
      "metadata": {
        "id": "RYxGSnAlEku4"
      },
      "execution_count": 57,
      "outputs": []
    },
    {
      "cell_type": "code",
      "source": [
        "len(read_l)"
      ],
      "metadata": {
        "id": "Km4eh_nSp3x4",
        "outputId": "8f7030f2-2865-4885-cc39-679267e33f80",
        "colab": {
          "base_uri": "https://localhost:8080/"
        }
      },
      "execution_count": 62,
      "outputs": [
        {
          "output_type": "execute_result",
          "data": {
            "text/plain": [
              "2000"
            ]
          },
          "metadata": {},
          "execution_count": 62
        }
      ]
    },
    {
      "cell_type": "code",
      "source": [
        "len(ref_l)"
      ],
      "metadata": {
        "id": "51lp_aR0p5qN",
        "outputId": "bd3a6cc8-5bd1-4481-cb5f-279a9d490623",
        "colab": {
          "base_uri": "https://localhost:8080/"
        }
      },
      "execution_count": 63,
      "outputs": [
        {
          "output_type": "execute_result",
          "data": {
            "text/plain": [
              "500"
            ]
          },
          "metadata": {},
          "execution_count": 63
        }
      ]
    },
    {
      "cell_type": "code",
      "source": [
        "final_read = [i[0] for i in read_l]"
      ],
      "metadata": {
        "id": "7MCc1ifrq_ui"
      },
      "execution_count": 69,
      "outputs": []
    },
    {
      "cell_type": "code",
      "source": [
        "final_ref = []\n",
        "final_score = []\n",
        "count = 0\n",
        "\n",
        "for i in read_l:\n",
        "  count += 1\n",
        "  max_score = 0\n",
        "  max_ref = ''\n",
        "  for j in ref_l:\n",
        "    score = len([1 for e in range(1000) if i[1][e] == j[1][e]])/1000\n",
        "    if score > max_score:\n",
        "      max_ref = j[0]\n",
        "      max_score = score\n",
        "  final_ref.append(max_ref)\n",
        "  final_score.append(max_score)\n",
        "  if count%100 == 0:\n",
        "    print(count)\n",
        "\n",
        "\n"
      ],
      "metadata": {
        "id": "q9IfgiOK-M81",
        "outputId": "8f1ece9a-62f1-49f4-d40f-90071cb4f67a",
        "colab": {
          "base_uri": "https://localhost:8080/"
        }
      },
      "execution_count": 76,
      "outputs": [
        {
          "output_type": "stream",
          "name": "stdout",
          "text": [
            "100\n",
            "200\n",
            "300\n",
            "400\n",
            "500\n",
            "600\n",
            "700\n",
            "800\n",
            "900\n",
            "1000\n",
            "1100\n",
            "1200\n",
            "1300\n",
            "1400\n",
            "1500\n",
            "1600\n",
            "1700\n",
            "1800\n",
            "1900\n",
            "2000\n"
          ]
        }
      ]
    },
    {
      "cell_type": "code",
      "source": [
        "final_ref[:10]"
      ],
      "metadata": {
        "id": "622WXI0p-M-q",
        "outputId": "117a161e-9c8d-4d00-dd1d-3dda386a042b",
        "colab": {
          "base_uri": "https://localhost:8080/"
        }
      },
      "execution_count": 77,
      "outputs": [
        {
          "output_type": "execute_result",
          "data": {
            "text/plain": [
              "['bin20000000_20000100',\n",
              " 'bin20000000_20000100',\n",
              " 'bin20000000_20000100',\n",
              " 'bin20000000_20000100',\n",
              " 'bin20000000_20000100',\n",
              " 'bin20000000_20000100',\n",
              " 'bin20000000_20000100',\n",
              " 'bin20000100_20000200',\n",
              " 'bin20000000_20000100',\n",
              " 'bin20000100_20000200']"
            ]
          },
          "metadata": {},
          "execution_count": 77
        }
      ]
    },
    {
      "cell_type": "code",
      "source": [
        "final_score[:10]"
      ],
      "metadata": {
        "id": "ZLByYrhZ-NAg",
        "outputId": "39d984fc-4144-4c01-8f8e-df8e8fefd8bb",
        "colab": {
          "base_uri": "https://localhost:8080/"
        }
      },
      "execution_count": 81,
      "outputs": [
        {
          "output_type": "execute_result",
          "data": {
            "text/plain": [
              "[0.348, 0.253, 0.357, 0.692, 0.672, 0.641, 0.4, 0.181, 0.232, 0.374]"
            ]
          },
          "metadata": {},
          "execution_count": 81
        }
      ]
    },
    {
      "cell_type": "code",
      "source": [
        "final_df = pd.DataFrame({'read': final_read,'reference': final_ref,'score': final_score})"
      ],
      "metadata": {
        "id": "sDAZLx8H-NCm"
      },
      "execution_count": 82,
      "outputs": []
    },
    {
      "cell_type": "code",
      "source": [
        "final_df.head(5)"
      ],
      "metadata": {
        "id": "RQqkkUhg-NEa",
        "outputId": "c93d93e0-6a0a-4f71-e953-b85097f577d3",
        "colab": {
          "base_uri": "https://localhost:8080/",
          "height": 206
        }
      },
      "execution_count": 85,
      "outputs": [
        {
          "output_type": "execute_result",
          "data": {
            "text/plain": [
              "     read             reference  score\n",
              "0  reads0  bin20000000_20000100  0.348\n",
              "1  reads1  bin20000000_20000100  0.253\n",
              "2  reads2  bin20000000_20000100  0.357\n",
              "3  reads3  bin20000000_20000100  0.692\n",
              "4  reads4  bin20000000_20000100  0.672"
            ],
            "text/html": [
              "\n",
              "  <div id=\"df-94d3bbf7-469b-4554-8550-4a9309d977b0\">\n",
              "    <div class=\"colab-df-container\">\n",
              "      <div>\n",
              "<style scoped>\n",
              "    .dataframe tbody tr th:only-of-type {\n",
              "        vertical-align: middle;\n",
              "    }\n",
              "\n",
              "    .dataframe tbody tr th {\n",
              "        vertical-align: top;\n",
              "    }\n",
              "\n",
              "    .dataframe thead th {\n",
              "        text-align: right;\n",
              "    }\n",
              "</style>\n",
              "<table border=\"1\" class=\"dataframe\">\n",
              "  <thead>\n",
              "    <tr style=\"text-align: right;\">\n",
              "      <th></th>\n",
              "      <th>read</th>\n",
              "      <th>reference</th>\n",
              "      <th>score</th>\n",
              "    </tr>\n",
              "  </thead>\n",
              "  <tbody>\n",
              "    <tr>\n",
              "      <th>0</th>\n",
              "      <td>reads0</td>\n",
              "      <td>bin20000000_20000100</td>\n",
              "      <td>0.348</td>\n",
              "    </tr>\n",
              "    <tr>\n",
              "      <th>1</th>\n",
              "      <td>reads1</td>\n",
              "      <td>bin20000000_20000100</td>\n",
              "      <td>0.253</td>\n",
              "    </tr>\n",
              "    <tr>\n",
              "      <th>2</th>\n",
              "      <td>reads2</td>\n",
              "      <td>bin20000000_20000100</td>\n",
              "      <td>0.357</td>\n",
              "    </tr>\n",
              "    <tr>\n",
              "      <th>3</th>\n",
              "      <td>reads3</td>\n",
              "      <td>bin20000000_20000100</td>\n",
              "      <td>0.692</td>\n",
              "    </tr>\n",
              "    <tr>\n",
              "      <th>4</th>\n",
              "      <td>reads4</td>\n",
              "      <td>bin20000000_20000100</td>\n",
              "      <td>0.672</td>\n",
              "    </tr>\n",
              "  </tbody>\n",
              "</table>\n",
              "</div>\n",
              "      <button class=\"colab-df-convert\" onclick=\"convertToInteractive('df-94d3bbf7-469b-4554-8550-4a9309d977b0')\"\n",
              "              title=\"Convert this dataframe to an interactive table.\"\n",
              "              style=\"display:none;\">\n",
              "        \n",
              "  <svg xmlns=\"http://www.w3.org/2000/svg\" height=\"24px\"viewBox=\"0 0 24 24\"\n",
              "       width=\"24px\">\n",
              "    <path d=\"M0 0h24v24H0V0z\" fill=\"none\"/>\n",
              "    <path d=\"M18.56 5.44l.94 2.06.94-2.06 2.06-.94-2.06-.94-.94-2.06-.94 2.06-2.06.94zm-11 1L8.5 8.5l.94-2.06 2.06-.94-2.06-.94L8.5 2.5l-.94 2.06-2.06.94zm10 10l.94 2.06.94-2.06 2.06-.94-2.06-.94-.94-2.06-.94 2.06-2.06.94z\"/><path d=\"M17.41 7.96l-1.37-1.37c-.4-.4-.92-.59-1.43-.59-.52 0-1.04.2-1.43.59L10.3 9.45l-7.72 7.72c-.78.78-.78 2.05 0 2.83L4 21.41c.39.39.9.59 1.41.59.51 0 1.02-.2 1.41-.59l7.78-7.78 2.81-2.81c.8-.78.8-2.07 0-2.86zM5.41 20L4 18.59l7.72-7.72 1.47 1.35L5.41 20z\"/>\n",
              "  </svg>\n",
              "      </button>\n",
              "      \n",
              "  <style>\n",
              "    .colab-df-container {\n",
              "      display:flex;\n",
              "      flex-wrap:wrap;\n",
              "      gap: 12px;\n",
              "    }\n",
              "\n",
              "    .colab-df-convert {\n",
              "      background-color: #E8F0FE;\n",
              "      border: none;\n",
              "      border-radius: 50%;\n",
              "      cursor: pointer;\n",
              "      display: none;\n",
              "      fill: #1967D2;\n",
              "      height: 32px;\n",
              "      padding: 0 0 0 0;\n",
              "      width: 32px;\n",
              "    }\n",
              "\n",
              "    .colab-df-convert:hover {\n",
              "      background-color: #E2EBFA;\n",
              "      box-shadow: 0px 1px 2px rgba(60, 64, 67, 0.3), 0px 1px 3px 1px rgba(60, 64, 67, 0.15);\n",
              "      fill: #174EA6;\n",
              "    }\n",
              "\n",
              "    [theme=dark] .colab-df-convert {\n",
              "      background-color: #3B4455;\n",
              "      fill: #D2E3FC;\n",
              "    }\n",
              "\n",
              "    [theme=dark] .colab-df-convert:hover {\n",
              "      background-color: #434B5C;\n",
              "      box-shadow: 0px 1px 3px 1px rgba(0, 0, 0, 0.15);\n",
              "      filter: drop-shadow(0px 1px 2px rgba(0, 0, 0, 0.3));\n",
              "      fill: #FFFFFF;\n",
              "    }\n",
              "  </style>\n",
              "\n",
              "      <script>\n",
              "        const buttonEl =\n",
              "          document.querySelector('#df-94d3bbf7-469b-4554-8550-4a9309d977b0 button.colab-df-convert');\n",
              "        buttonEl.style.display =\n",
              "          google.colab.kernel.accessAllowed ? 'block' : 'none';\n",
              "\n",
              "        async function convertToInteractive(key) {\n",
              "          const element = document.querySelector('#df-94d3bbf7-469b-4554-8550-4a9309d977b0');\n",
              "          const dataTable =\n",
              "            await google.colab.kernel.invokeFunction('convertToInteractive',\n",
              "                                                     [key], {});\n",
              "          if (!dataTable) return;\n",
              "\n",
              "          const docLinkHtml = 'Like what you see? Visit the ' +\n",
              "            '<a target=\"_blank\" href=https://colab.research.google.com/notebooks/data_table.ipynb>data table notebook</a>'\n",
              "            + ' to learn more about interactive tables.';\n",
              "          element.innerHTML = '';\n",
              "          dataTable['output_type'] = 'display_data';\n",
              "          await google.colab.output.renderOutput(dataTable, element);\n",
              "          const docLink = document.createElement('div');\n",
              "          docLink.innerHTML = docLinkHtml;\n",
              "          element.appendChild(docLink);\n",
              "        }\n",
              "      </script>\n",
              "    </div>\n",
              "  </div>\n",
              "  "
            ]
          },
          "metadata": {},
          "execution_count": 85
        }
      ]
    },
    {
      "cell_type": "code",
      "source": [
        "final_df.to_csv(cur_path + \"data/final_result.csv\", header=True, index=None, sep=',')\n"
      ],
      "metadata": {
        "id": "zYfJLcm7-NGf"
      },
      "execution_count": 87,
      "outputs": []
    },
    {
      "cell_type": "code",
      "source": [],
      "metadata": {
        "id": "LU1Y2llm-NIp"
      },
      "execution_count": null,
      "outputs": []
    },
    {
      "cell_type": "code",
      "source": [],
      "metadata": {
        "id": "fvCBjiE-O1Af"
      },
      "execution_count": null,
      "outputs": []
    },
    {
      "cell_type": "code",
      "source": [],
      "metadata": {
        "id": "obC2lWAArapt"
      },
      "execution_count": null,
      "outputs": []
    },
    {
      "cell_type": "code",
      "source": [],
      "metadata": {
        "id": "zejb6rZy3T_1"
      },
      "execution_count": null,
      "outputs": []
    },
    {
      "cell_type": "code",
      "source": [],
      "metadata": {
        "id": "YbQTPvaY3UBp"
      },
      "execution_count": null,
      "outputs": []
    }
  ],
  "metadata": {
    "colab": {
      "provenance": [],
      "toc_visible": true,
      "machine_shape": "hm"
    },
    "kernelspec": {
      "display_name": "Python 3",
      "language": "python",
      "name": "python3"
    },
    "language_info": {
      "codemirror_mode": {
        "name": "ipython",
        "version": 3
      },
      "file_extension": ".py",
      "mimetype": "text/x-python",
      "name": "python",
      "nbconvert_exporter": "python",
      "pygments_lexer": "ipython3",
      "version": "3.8.8"
    },
    "gpuClass": "standard"
  },
  "nbformat": 4,
  "nbformat_minor": 0
}