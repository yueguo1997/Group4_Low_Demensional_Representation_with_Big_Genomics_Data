{
  "cells": [
    {
      "cell_type": "markdown",
      "metadata": {
        "id": "vGmIEcOvOqh2"
      },
      "source": [
        "# Load Package"
      ]
    },
    {
      "cell_type": "code",
      "execution_count": 1,
      "metadata": {
        "colab": {
          "base_uri": "https://localhost:8080/"
        },
        "id": "O9ZOdq_j9JUC",
        "outputId": "8e0eff78-2b10-4511-fab0-78f1b3759e31"
      },
      "outputs": [
        {
          "output_type": "stream",
          "name": "stdout",
          "text": [
            "Mounted at /content/drive\n"
          ]
        }
      ],
      "source": [
        "from google.colab import drive\n",
        "drive.mount('/content/drive')"
      ]
    },
    {
      "cell_type": "code",
      "execution_count": 2,
      "metadata": {
        "colab": {
          "base_uri": "https://localhost:8080/"
        },
        "id": "7wEGHkoa9Ojl",
        "outputId": "6f67a70a-4af6-4097-fae9-b037e18578ba"
      },
      "outputs": [
        {
          "output_type": "stream",
          "name": "stdout",
          "text": [
            "/content/drive/MyDrive/Bigdataproject\n"
          ]
        }
      ],
      "source": [
        "\n",
        "\n",
        "import os\n",
        "cur_path = \"/content/drive/MyDrive/Bigdataproject/\"\n",
        "os.chdir(cur_path)\n",
        "!pwd"
      ]
    },
    {
      "cell_type": "code",
      "execution_count": 3,
      "metadata": {
        "colab": {
          "base_uri": "https://localhost:8080/"
        },
        "id": "0MDGVXW64BRa",
        "outputId": "c15a6ec4-b1c4-40a8-e8d4-e62b6296d6f8"
      },
      "outputs": [
        {
          "output_type": "stream",
          "name": "stdout",
          "text": [
            "Looking in indexes: https://pypi.org/simple, https://us-python.pkg.dev/colab-wheels/public/simple/\n",
            "Collecting pyspark\n",
            "  Downloading pyspark-3.4.0.tar.gz (310.8 MB)\n",
            "\u001b[2K     \u001b[90m━━━━━━━━━━━━━━━━━━━━━━━━━━━━━━━━━━━━━━━\u001b[0m \u001b[32m310.8/310.8 MB\u001b[0m \u001b[31m4.3 MB/s\u001b[0m eta \u001b[36m0:00:00\u001b[0m\n",
            "\u001b[?25h  Preparing metadata (setup.py) ... \u001b[?25l\u001b[?25hdone\n",
            "Requirement already satisfied: py4j==0.10.9.7 in /usr/local/lib/python3.9/dist-packages (from pyspark) (0.10.9.7)\n",
            "Building wheels for collected packages: pyspark\n",
            "  Building wheel for pyspark (setup.py) ... \u001b[?25l\u001b[?25hdone\n",
            "  Created wheel for pyspark: filename=pyspark-3.4.0-py2.py3-none-any.whl size=311317145 sha256=6f096cb4e211c3e6098efd250e6acbc276d8608c35e6b43cb1b1c61f62a48605\n",
            "  Stored in directory: /root/.cache/pip/wheels/9f/34/a4/159aa12d0a510d5ff7c8f0220abbea42e5d81ecf588c4fd884\n",
            "Successfully built pyspark\n",
            "Installing collected packages: pyspark\n",
            "Successfully installed pyspark-3.4.0\n",
            "Looking in indexes: https://pypi.org/simple, https://us-python.pkg.dev/colab-wheels/public/simple/\n",
            "Requirement already satisfied: pyspark[sql] in /usr/local/lib/python3.9/dist-packages (3.4.0)\n",
            "Requirement already satisfied: py4j==0.10.9.7 in /usr/local/lib/python3.9/dist-packages (from pyspark[sql]) (0.10.9.7)\n",
            "Requirement already satisfied: pandas>=1.0.5 in /usr/local/lib/python3.9/dist-packages (from pyspark[sql]) (1.5.3)\n",
            "Requirement already satisfied: numpy>=1.15 in /usr/local/lib/python3.9/dist-packages (from pyspark[sql]) (1.22.4)\n",
            "Requirement already satisfied: pyarrow>=1.0.0 in /usr/local/lib/python3.9/dist-packages (from pyspark[sql]) (9.0.0)\n",
            "Requirement already satisfied: python-dateutil>=2.8.1 in /usr/local/lib/python3.9/dist-packages (from pandas>=1.0.5->pyspark[sql]) (2.8.2)\n",
            "Requirement already satisfied: pytz>=2020.1 in /usr/local/lib/python3.9/dist-packages (from pandas>=1.0.5->pyspark[sql]) (2022.7.1)\n",
            "Requirement already satisfied: six>=1.5 in /usr/local/lib/python3.9/dist-packages (from python-dateutil>=2.8.1->pandas>=1.0.5->pyspark[sql]) (1.16.0)\n",
            "The following additional packages will be installed:\n",
            "  libxtst6 openjdk-8-jre-headless\n",
            "Suggested packages:\n",
            "  openjdk-8-demo openjdk-8-source libnss-mdns fonts-dejavu-extra\n",
            "  fonts-ipafont-gothic fonts-ipafont-mincho fonts-wqy-microhei\n",
            "  fonts-wqy-zenhei fonts-indic\n",
            "The following NEW packages will be installed:\n",
            "  libxtst6 openjdk-8-jdk-headless openjdk-8-jre-headless\n",
            "0 upgraded, 3 newly installed, 0 to remove and 24 not upgraded.\n",
            "Need to get 36.5 MB of archives.\n",
            "After this operation, 144 MB of additional disk space will be used.\n",
            "Selecting previously unselected package libxtst6:amd64.\n",
            "(Reading database ... 122349 files and directories currently installed.)\n",
            "Preparing to unpack .../libxtst6_2%3a1.2.3-1_amd64.deb ...\n",
            "Unpacking libxtst6:amd64 (2:1.2.3-1) ...\n",
            "Selecting previously unselected package openjdk-8-jre-headless:amd64.\n",
            "Preparing to unpack .../openjdk-8-jre-headless_8u362-ga-0ubuntu1~20.04.1_amd64.deb ...\n",
            "Unpacking openjdk-8-jre-headless:amd64 (8u362-ga-0ubuntu1~20.04.1) ...\n",
            "Selecting previously unselected package openjdk-8-jdk-headless:amd64.\n",
            "Preparing to unpack .../openjdk-8-jdk-headless_8u362-ga-0ubuntu1~20.04.1_amd64.deb ...\n",
            "Unpacking openjdk-8-jdk-headless:amd64 (8u362-ga-0ubuntu1~20.04.1) ...\n",
            "Setting up libxtst6:amd64 (2:1.2.3-1) ...\n",
            "Setting up openjdk-8-jre-headless:amd64 (8u362-ga-0ubuntu1~20.04.1) ...\n",
            "update-alternatives: using /usr/lib/jvm/java-8-openjdk-amd64/jre/bin/orbd to provide /usr/bin/orbd (orbd) in auto mode\n",
            "update-alternatives: using /usr/lib/jvm/java-8-openjdk-amd64/jre/bin/servertool to provide /usr/bin/servertool (servertool) in auto mode\n",
            "update-alternatives: using /usr/lib/jvm/java-8-openjdk-amd64/jre/bin/tnameserv to provide /usr/bin/tnameserv (tnameserv) in auto mode\n",
            "Setting up openjdk-8-jdk-headless:amd64 (8u362-ga-0ubuntu1~20.04.1) ...\n",
            "update-alternatives: using /usr/lib/jvm/java-8-openjdk-amd64/bin/idlj to provide /usr/bin/idlj (idlj) in auto mode\n",
            "update-alternatives: using /usr/lib/jvm/java-8-openjdk-amd64/bin/wsimport to provide /usr/bin/wsimport (wsimport) in auto mode\n",
            "update-alternatives: using /usr/lib/jvm/java-8-openjdk-amd64/bin/jsadebugd to provide /usr/bin/jsadebugd (jsadebugd) in auto mode\n",
            "update-alternatives: using /usr/lib/jvm/java-8-openjdk-amd64/bin/native2ascii to provide /usr/bin/native2ascii (native2ascii) in auto mode\n",
            "update-alternatives: using /usr/lib/jvm/java-8-openjdk-amd64/bin/javah to provide /usr/bin/javah (javah) in auto mode\n",
            "update-alternatives: using /usr/lib/jvm/java-8-openjdk-amd64/bin/hsdb to provide /usr/bin/hsdb (hsdb) in auto mode\n",
            "update-alternatives: using /usr/lib/jvm/java-8-openjdk-amd64/bin/clhsdb to provide /usr/bin/clhsdb (clhsdb) in auto mode\n",
            "update-alternatives: using /usr/lib/jvm/java-8-openjdk-amd64/bin/xjc to provide /usr/bin/xjc (xjc) in auto mode\n",
            "update-alternatives: using /usr/lib/jvm/java-8-openjdk-amd64/bin/schemagen to provide /usr/bin/schemagen (schemagen) in auto mode\n",
            "update-alternatives: using /usr/lib/jvm/java-8-openjdk-amd64/bin/extcheck to provide /usr/bin/extcheck (extcheck) in auto mode\n",
            "update-alternatives: using /usr/lib/jvm/java-8-openjdk-amd64/bin/jhat to provide /usr/bin/jhat (jhat) in auto mode\n",
            "update-alternatives: using /usr/lib/jvm/java-8-openjdk-amd64/bin/wsgen to provide /usr/bin/wsgen (wsgen) in auto mode\n",
            "Processing triggers for libc-bin (2.31-0ubuntu9.9) ...\n"
          ]
        }
      ],
      "source": [
        "!pip install pyspark\n",
        "!pip install pyspark[sql]\n",
        "!pip install -U -q PyDrive\n",
        "!apt install openjdk-8-jdk-headless -qq \n",
        "import os\n",
        "os.environ[\"JAVA_HOME\"] = \"/usr/lib/jvm/java-8-openjdk-amd64\""
      ]
    },
    {
      "cell_type": "code",
      "execution_count": 4,
      "metadata": {
        "id": "bXw2KzHqNEwD"
      },
      "outputs": [],
      "source": [
        "import pyspark as spark\n",
        "import time\n",
        "from operator import add\n",
        "from pyspark.sql import SparkSession"
      ]
    },
    {
      "cell_type": "code",
      "execution_count": 5,
      "metadata": {
        "id": "YZX9deNJlFPv"
      },
      "outputs": [],
      "source": [
        "import numpy as np\n",
        "import random"
      ]
    },
    {
      "cell_type": "markdown",
      "metadata": {
        "id": "BLH0Rq2yOt1R"
      },
      "source": [
        "# Step 0: Read Data"
      ]
    },
    {
      "cell_type": "markdown",
      "metadata": {
        "id": "ynLN-vAXQ653"
      },
      "source": [
        "## Set spark session"
      ]
    },
    {
      "cell_type": "code",
      "execution_count": null,
      "metadata": {
        "id": "uDsadwheOw8x"
      },
      "outputs": [],
      "source": [
        "# set spark session\n",
        "ss = (SparkSession\n",
        "  .builder\n",
        "  .master(\"local[5]\")\n",
        "  .appName(\"fqproject\")\n",
        "  .getOrCreate())\n"
      ]
    },
    {
      "cell_type": "markdown",
      "metadata": {
        "id": "PIW11UM7OzMy"
      },
      "source": [
        "## Set spark context"
      ]
    },
    {
      "cell_type": "code",
      "execution_count": null,
      "metadata": {
        "id": "N0ueyutSQ7Px"
      },
      "outputs": [],
      "source": [
        "# set spark session\n",
        "sc = (spark\n",
        "  .SparkContext\n",
        "  .getOrCreate(spark\n",
        "    .SparkConf()\n",
        "    .setAppName(\"fqproject\")\n",
        "    .setMaster('local[*]')\n",
        "    .set('spark.executor.memory', '4G')\n",
        "    .set('spark.driver.memory', '4G')\n",
        "    .set('spark.driver.maxResultSize', '4G')))"
      ]
    },
    {
      "cell_type": "markdown",
      "metadata": {
        "id": "MRsu1WltO1E0"
      },
      "source": [
        "## Read reads.fq"
      ]
    },
    {
      "cell_type": "code",
      "execution_count": null,
      "metadata": {
        "id": "hEEIfL20O3U1"
      },
      "outputs": [],
      "source": [
        "# read reads.fq and extract the second line of every four lines.\n",
        "reads = (sc\n",
        "  .textFile(cur_path + \"data/reads.fq\")\n",
        "  .zipWithIndex()\n",
        "  .filter(lambda x: (x[1]+1)%2==0 and (x[1]+1)%4!=0)\n",
        "  .map(lambda x: x[0]))"
      ]
    },
    {
      "cell_type": "code",
      "execution_count": null,
      "metadata": {
        "colab": {
          "base_uri": "https://localhost:8080/"
        },
        "id": "Z2r0uE5pPD4P",
        "outputId": "f53c5c1b-ae1a-4a9d-a95d-0bd9637f1edb"
      },
      "outputs": [
        {
          "data": {
            "text/plain": [
              "['TCCTTACTGGTTTTGCAGGTAACTTATAGAGTATTTCCACTTCCCTTCTCCTATCCCTTGAAAAATTGTCATTTATTTCTCTTATCCATATGGCATAATC',\n",
              " 'GGTTTTTCAGGTAACTTATAGAGTATTTCCACTTCCCTTCTCCTATCCCTGGAAAAATTGTCATTTATTTCTCTTATCCATATGGCATAATCAAAGAATA',\n",
              " 'AGGTAACTTATAGAGTACTTCCACTTCCCTTCTCCTATCCCTTGAAAAATTGTCATTGATTTCTCTTATCCATATGGCATAATCAAAGAATAAATTGGTG',\n",
              " 'CACTTCCCTTCTACTATCCCTTGAAAAATTGTCATTTATTTCTCTTATCCATATGGCATAATCAAAGAATAAATTGGTGATATTTGTTCAAAAATCCATG',\n",
              " 'CCTTCTCCTATCCCTTGAAAAATTGTCATTTATTTCCCTTATCCATATGGCATAATCAAAGAATAAATTGGTGATATTTGTTCAAAAATCCATGCCTTTT',\n",
              " 'ATCCCTTGAAAAATTGTCATTTATTTCTCTTATCCATATGGCATAATCAAAGAATAAATTGGTGATATTTGTTCAAAAATCCGTGCCTATTAGATTCATT',\n",
              " 'TCTTATCCATATGGCATAATCAAAGAATAAATTGGTGATATTTGTTCAAAAATCCATGCCTATTAGATTCATTTAGAATATAAAAAAATTTTATTTTATT',\n",
              " 'TATCCATATGGCATAATCAAAGAATCAATTGTTGATATTTGTTCAAAAATCCATGCCTATTAGATTCATTTAGAATATAAAAAAATTTTATTTTATTTTC',\n",
              " 'TCAAAGAATAAATTGGTGATATTTGTTCAAAAATCCATGCCTATTAGATTCATTTAGATTATAAAAAAATTTTATTTTATTTTCACTTATTTCTTCTCCA',\n",
              " 'TGAATAAATTGGTGATATTTGTTCAAAAATCCATGCCTACTAGATTCATTTAGAATATAAAAAAATTTTATTTTATTTTCACTTATTTCTTCTCCACTGA']"
            ]
          },
          "execution_count": 9,
          "metadata": {},
          "output_type": "execute_result"
        }
      ],
      "source": [
        "reads.take(10)"
      ]
    },
    {
      "cell_type": "markdown",
      "metadata": {
        "id": "zEvNcdARO3-v"
      },
      "source": [
        "## Read reference.fa"
      ]
    },
    {
      "cell_type": "code",
      "execution_count": null,
      "metadata": {
        "id": "zqg4o_B6O9wD"
      },
      "outputs": [],
      "source": [
        "# read reference\n",
        "reference = (ss\n",
        "  .read\n",
        "  .csv(\n",
        "      cur_path + \"data/reference_chr21_20000000_20050000.fa\",\n",
        "      inferSchema=True,\n",
        "      header=True))"
      ]
    },
    {
      "cell_type": "code",
      "execution_count": null,
      "metadata": {
        "colab": {
          "base_uri": "https://localhost:8080/"
        },
        "id": "dSWs5YRJPFL0",
        "outputId": "c98e30ac-9750-4885-ffbc-bd235225ed7a"
      },
      "outputs": [
        {
          "name": "stdout",
          "output_type": "stream",
          "text": [
            "+--------+--------+--------------------+\n",
            "|   start|     end|            sequence|\n",
            "+--------+--------+--------------------+\n",
            "|20000000|20000100|CCCTTCTCCTATCCCTT...|\n",
            "|20000100|20000200|TAGATTCATTTAGAATA...|\n",
            "|20000200|20000300|TTCTTCTTCCTGAAGAA...|\n",
            "|20000300|20000400|ACTTTTCAAGGATAGTT...|\n",
            "|20000400|20000500|CTGACAGGACTTCTGCC...|\n",
            "|20000500|20000600|TTTCCTTTTTTTTTTCT...|\n",
            "|20000600|20000700|ATTATAAAAAGGGAGGG...|\n",
            "|20000700|20000800|TTCTTTTCTTTTTCTCC...|\n",
            "|20000800|20000900|ATAAATTTCTGCTTGAA...|\n",
            "|20000900|20001000|TTCGTTAGTGTTTTTTA...|\n",
            "+--------+--------+--------------------+\n",
            "only showing top 10 rows\n",
            "\n"
          ]
        }
      ],
      "source": [
        "reference.show(10)"
      ]
    },
    {
      "cell_type": "code",
      "execution_count": null,
      "metadata": {
        "colab": {
          "base_uri": "https://localhost:8080/"
        },
        "id": "I6twBITsWY7D",
        "outputId": "ca517b9a-92ab-43b8-934a-11ed2f3a4a91"
      },
      "outputs": [
        {
          "data": {
            "text/plain": [
              "500"
            ]
          },
          "execution_count": 12,
          "metadata": {},
          "output_type": "execute_result"
        }
      ],
      "source": [
        "reference.count()"
      ]
    },
    {
      "cell_type": "markdown",
      "metadata": {
        "id": "59Y3bTkLSAI2"
      },
      "source": [
        "# Step 1: Cut reads into kmers = 15"
      ]
    },
    {
      "cell_type": "markdown",
      "metadata": {
        "id": "ANqDbZ8hS38t"
      },
      "source": [
        "## Define K-mers"
      ]
    },
    {
      "cell_type": "code",
      "execution_count": null,
      "metadata": {
        "id": "naqY5_vJSFoK"
      },
      "outputs": [],
      "source": [
        "# input a string s and cut k-mers\n",
        "def extract_kmers(s: str, k: int = 15) -> list:\n",
        "    return [s[i:i+k] for i in range(len(s)-k+1)]"
      ]
    },
    {
      "cell_type": "markdown",
      "metadata": {
        "id": "QViG0LdgTPvr"
      },
      "source": [
        "## Map K-mers to reads"
      ]
    },
    {
      "cell_type": "code",
      "execution_count": null,
      "metadata": {
        "id": "FiS_J2ghTPLb"
      },
      "outputs": [],
      "source": [
        "# K-mers of reads\n",
        "reads_kmers = (reads\n",
        "  .map(extract_kmers))"
      ]
    },
    {
      "cell_type": "code",
      "execution_count": null,
      "metadata": {
        "colab": {
          "base_uri": "https://localhost:8080/"
        },
        "id": "G0EBAg1nTa1T",
        "outputId": "986c7fb2-edde-4f74-ce4d-b28164317f30"
      },
      "outputs": [
        {
          "data": {
            "text/plain": [
              "[['TCCTTACTGGTTTTG',\n",
              "  'CCTTACTGGTTTTGC',\n",
              "  'CTTACTGGTTTTGCA',\n",
              "  'TTACTGGTTTTGCAG',\n",
              "  'TACTGGTTTTGCAGG',\n",
              "  'ACTGGTTTTGCAGGT',\n",
              "  'CTGGTTTTGCAGGTA',\n",
              "  'TGGTTTTGCAGGTAA',\n",
              "  'GGTTTTGCAGGTAAC',\n",
              "  'GTTTTGCAGGTAACT',\n",
              "  'TTTTGCAGGTAACTT',\n",
              "  'TTTGCAGGTAACTTA',\n",
              "  'TTGCAGGTAACTTAT',\n",
              "  'TGCAGGTAACTTATA',\n",
              "  'GCAGGTAACTTATAG',\n",
              "  'CAGGTAACTTATAGA',\n",
              "  'AGGTAACTTATAGAG',\n",
              "  'GGTAACTTATAGAGT',\n",
              "  'GTAACTTATAGAGTA',\n",
              "  'TAACTTATAGAGTAT',\n",
              "  'AACTTATAGAGTATT',\n",
              "  'ACTTATAGAGTATTT',\n",
              "  'CTTATAGAGTATTTC',\n",
              "  'TTATAGAGTATTTCC',\n",
              "  'TATAGAGTATTTCCA',\n",
              "  'ATAGAGTATTTCCAC',\n",
              "  'TAGAGTATTTCCACT',\n",
              "  'AGAGTATTTCCACTT',\n",
              "  'GAGTATTTCCACTTC',\n",
              "  'AGTATTTCCACTTCC',\n",
              "  'GTATTTCCACTTCCC',\n",
              "  'TATTTCCACTTCCCT',\n",
              "  'ATTTCCACTTCCCTT',\n",
              "  'TTTCCACTTCCCTTC',\n",
              "  'TTCCACTTCCCTTCT',\n",
              "  'TCCACTTCCCTTCTC',\n",
              "  'CCACTTCCCTTCTCC',\n",
              "  'CACTTCCCTTCTCCT',\n",
              "  'ACTTCCCTTCTCCTA',\n",
              "  'CTTCCCTTCTCCTAT',\n",
              "  'TTCCCTTCTCCTATC',\n",
              "  'TCCCTTCTCCTATCC',\n",
              "  'CCCTTCTCCTATCCC',\n",
              "  'CCTTCTCCTATCCCT',\n",
              "  'CTTCTCCTATCCCTT',\n",
              "  'TTCTCCTATCCCTTG',\n",
              "  'TCTCCTATCCCTTGA',\n",
              "  'CTCCTATCCCTTGAA',\n",
              "  'TCCTATCCCTTGAAA',\n",
              "  'CCTATCCCTTGAAAA',\n",
              "  'CTATCCCTTGAAAAA',\n",
              "  'TATCCCTTGAAAAAT',\n",
              "  'ATCCCTTGAAAAATT',\n",
              "  'TCCCTTGAAAAATTG',\n",
              "  'CCCTTGAAAAATTGT',\n",
              "  'CCTTGAAAAATTGTC',\n",
              "  'CTTGAAAAATTGTCA',\n",
              "  'TTGAAAAATTGTCAT',\n",
              "  'TGAAAAATTGTCATT',\n",
              "  'GAAAAATTGTCATTT',\n",
              "  'AAAAATTGTCATTTA',\n",
              "  'AAAATTGTCATTTAT',\n",
              "  'AAATTGTCATTTATT',\n",
              "  'AATTGTCATTTATTT',\n",
              "  'ATTGTCATTTATTTC',\n",
              "  'TTGTCATTTATTTCT',\n",
              "  'TGTCATTTATTTCTC',\n",
              "  'GTCATTTATTTCTCT',\n",
              "  'TCATTTATTTCTCTT',\n",
              "  'CATTTATTTCTCTTA',\n",
              "  'ATTTATTTCTCTTAT',\n",
              "  'TTTATTTCTCTTATC',\n",
              "  'TTATTTCTCTTATCC',\n",
              "  'TATTTCTCTTATCCA',\n",
              "  'ATTTCTCTTATCCAT',\n",
              "  'TTTCTCTTATCCATA',\n",
              "  'TTCTCTTATCCATAT',\n",
              "  'TCTCTTATCCATATG',\n",
              "  'CTCTTATCCATATGG',\n",
              "  'TCTTATCCATATGGC',\n",
              "  'CTTATCCATATGGCA',\n",
              "  'TTATCCATATGGCAT',\n",
              "  'TATCCATATGGCATA',\n",
              "  'ATCCATATGGCATAA',\n",
              "  'TCCATATGGCATAAT',\n",
              "  'CCATATGGCATAATC'],\n",
              " ['GGTTTTTCAGGTAAC',\n",
              "  'GTTTTTCAGGTAACT',\n",
              "  'TTTTTCAGGTAACTT',\n",
              "  'TTTTCAGGTAACTTA',\n",
              "  'TTTCAGGTAACTTAT',\n",
              "  'TTCAGGTAACTTATA',\n",
              "  'TCAGGTAACTTATAG',\n",
              "  'CAGGTAACTTATAGA',\n",
              "  'AGGTAACTTATAGAG',\n",
              "  'GGTAACTTATAGAGT',\n",
              "  'GTAACTTATAGAGTA',\n",
              "  'TAACTTATAGAGTAT',\n",
              "  'AACTTATAGAGTATT',\n",
              "  'ACTTATAGAGTATTT',\n",
              "  'CTTATAGAGTATTTC',\n",
              "  'TTATAGAGTATTTCC',\n",
              "  'TATAGAGTATTTCCA',\n",
              "  'ATAGAGTATTTCCAC',\n",
              "  'TAGAGTATTTCCACT',\n",
              "  'AGAGTATTTCCACTT',\n",
              "  'GAGTATTTCCACTTC',\n",
              "  'AGTATTTCCACTTCC',\n",
              "  'GTATTTCCACTTCCC',\n",
              "  'TATTTCCACTTCCCT',\n",
              "  'ATTTCCACTTCCCTT',\n",
              "  'TTTCCACTTCCCTTC',\n",
              "  'TTCCACTTCCCTTCT',\n",
              "  'TCCACTTCCCTTCTC',\n",
              "  'CCACTTCCCTTCTCC',\n",
              "  'CACTTCCCTTCTCCT',\n",
              "  'ACTTCCCTTCTCCTA',\n",
              "  'CTTCCCTTCTCCTAT',\n",
              "  'TTCCCTTCTCCTATC',\n",
              "  'TCCCTTCTCCTATCC',\n",
              "  'CCCTTCTCCTATCCC',\n",
              "  'CCTTCTCCTATCCCT',\n",
              "  'CTTCTCCTATCCCTG',\n",
              "  'TTCTCCTATCCCTGG',\n",
              "  'TCTCCTATCCCTGGA',\n",
              "  'CTCCTATCCCTGGAA',\n",
              "  'TCCTATCCCTGGAAA',\n",
              "  'CCTATCCCTGGAAAA',\n",
              "  'CTATCCCTGGAAAAA',\n",
              "  'TATCCCTGGAAAAAT',\n",
              "  'ATCCCTGGAAAAATT',\n",
              "  'TCCCTGGAAAAATTG',\n",
              "  'CCCTGGAAAAATTGT',\n",
              "  'CCTGGAAAAATTGTC',\n",
              "  'CTGGAAAAATTGTCA',\n",
              "  'TGGAAAAATTGTCAT',\n",
              "  'GGAAAAATTGTCATT',\n",
              "  'GAAAAATTGTCATTT',\n",
              "  'AAAAATTGTCATTTA',\n",
              "  'AAAATTGTCATTTAT',\n",
              "  'AAATTGTCATTTATT',\n",
              "  'AATTGTCATTTATTT',\n",
              "  'ATTGTCATTTATTTC',\n",
              "  'TTGTCATTTATTTCT',\n",
              "  'TGTCATTTATTTCTC',\n",
              "  'GTCATTTATTTCTCT',\n",
              "  'TCATTTATTTCTCTT',\n",
              "  'CATTTATTTCTCTTA',\n",
              "  'ATTTATTTCTCTTAT',\n",
              "  'TTTATTTCTCTTATC',\n",
              "  'TTATTTCTCTTATCC',\n",
              "  'TATTTCTCTTATCCA',\n",
              "  'ATTTCTCTTATCCAT',\n",
              "  'TTTCTCTTATCCATA',\n",
              "  'TTCTCTTATCCATAT',\n",
              "  'TCTCTTATCCATATG',\n",
              "  'CTCTTATCCATATGG',\n",
              "  'TCTTATCCATATGGC',\n",
              "  'CTTATCCATATGGCA',\n",
              "  'TTATCCATATGGCAT',\n",
              "  'TATCCATATGGCATA',\n",
              "  'ATCCATATGGCATAA',\n",
              "  'TCCATATGGCATAAT',\n",
              "  'CCATATGGCATAATC',\n",
              "  'CATATGGCATAATCA',\n",
              "  'ATATGGCATAATCAA',\n",
              "  'TATGGCATAATCAAA',\n",
              "  'ATGGCATAATCAAAG',\n",
              "  'TGGCATAATCAAAGA',\n",
              "  'GGCATAATCAAAGAA',\n",
              "  'GCATAATCAAAGAAT',\n",
              "  'CATAATCAAAGAATA']]"
            ]
          },
          "execution_count": 15,
          "metadata": {},
          "output_type": "execute_result"
        }
      ],
      "source": [
        "reads_kmers.take(2)"
      ]
    },
    {
      "cell_type": "markdown",
      "metadata": {
        "id": "y9LB3IwwT3RE"
      },
      "source": [
        "# Step 2: Cut reference bins into kmers = 15"
      ]
    },
    {
      "cell_type": "code",
      "execution_count": null,
      "metadata": {
        "id": "CVfbDsD0T2Ri"
      },
      "outputs": [],
      "source": [
        "# K-mers of reference\n",
        "reference_kmers = (reference\n",
        "  .select('sequence')\n",
        "  .rdd\n",
        "  .flatMap(lambda x: x)\n",
        "  .map(extract_kmers))"
      ]
    },
    {
      "cell_type": "code",
      "execution_count": null,
      "metadata": {
        "colab": {
          "base_uri": "https://localhost:8080/"
        },
        "id": "huQx-SdEUbxy",
        "outputId": "9938a17a-0f6d-4857-8609-cae1531701f2"
      },
      "outputs": [
        {
          "data": {
            "text/plain": [
              "[['CCCTTCTCCTATCCC',\n",
              "  'CCTTCTCCTATCCCT',\n",
              "  'CTTCTCCTATCCCTT',\n",
              "  'TTCTCCTATCCCTTG',\n",
              "  'TCTCCTATCCCTTGA',\n",
              "  'CTCCTATCCCTTGAA',\n",
              "  'TCCTATCCCTTGAAA',\n",
              "  'CCTATCCCTTGAAAA',\n",
              "  'CTATCCCTTGAAAAA',\n",
              "  'TATCCCTTGAAAAAT',\n",
              "  'ATCCCTTGAAAAATT',\n",
              "  'TCCCTTGAAAAATTG',\n",
              "  'CCCTTGAAAAATTGT',\n",
              "  'CCTTGAAAAATTGTC',\n",
              "  'CTTGAAAAATTGTCA',\n",
              "  'TTGAAAAATTGTCAT',\n",
              "  'TGAAAAATTGTCATT',\n",
              "  'GAAAAATTGTCATTT',\n",
              "  'AAAAATTGTCATTTA',\n",
              "  'AAAATTGTCATTTAT',\n",
              "  'AAATTGTCATTTATT',\n",
              "  'AATTGTCATTTATTT',\n",
              "  'ATTGTCATTTATTTC',\n",
              "  'TTGTCATTTATTTCT',\n",
              "  'TGTCATTTATTTCTC',\n",
              "  'GTCATTTATTTCTCT',\n",
              "  'TCATTTATTTCTCTT',\n",
              "  'CATTTATTTCTCTTA',\n",
              "  'ATTTATTTCTCTTAT',\n",
              "  'TTTATTTCTCTTATC',\n",
              "  'TTATTTCTCTTATCC',\n",
              "  'TATTTCTCTTATCCA',\n",
              "  'ATTTCTCTTATCCAT',\n",
              "  'TTTCTCTTATCCATA',\n",
              "  'TTCTCTTATCCATAT',\n",
              "  'TCTCTTATCCATATG',\n",
              "  'CTCTTATCCATATGG',\n",
              "  'TCTTATCCATATGGC',\n",
              "  'CTTATCCATATGGCA',\n",
              "  'TTATCCATATGGCAT',\n",
              "  'TATCCATATGGCATA',\n",
              "  'ATCCATATGGCATAA',\n",
              "  'TCCATATGGCATAAT',\n",
              "  'CCATATGGCATAATC',\n",
              "  'CATATGGCATAATCA',\n",
              "  'ATATGGCATAATCAA',\n",
              "  'TATGGCATAATCAAA',\n",
              "  'ATGGCATAATCAAAG',\n",
              "  'TGGCATAATCAAAGA',\n",
              "  'GGCATAATCAAAGAA',\n",
              "  'GCATAATCAAAGAAT',\n",
              "  'CATAATCAAAGAATA',\n",
              "  'ATAATCAAAGAATAA',\n",
              "  'TAATCAAAGAATAAA',\n",
              "  'AATCAAAGAATAAAT',\n",
              "  'ATCAAAGAATAAATT',\n",
              "  'TCAAAGAATAAATTG',\n",
              "  'CAAAGAATAAATTGG',\n",
              "  'AAAGAATAAATTGGT',\n",
              "  'AAGAATAAATTGGTG',\n",
              "  'AGAATAAATTGGTGA',\n",
              "  'GAATAAATTGGTGAT',\n",
              "  'AATAAATTGGTGATA',\n",
              "  'ATAAATTGGTGATAT',\n",
              "  'TAAATTGGTGATATT',\n",
              "  'AAATTGGTGATATTT',\n",
              "  'AATTGGTGATATTTG',\n",
              "  'ATTGGTGATATTTGT',\n",
              "  'TTGGTGATATTTGTT',\n",
              "  'TGGTGATATTTGTTC',\n",
              "  'GGTGATATTTGTTCA',\n",
              "  'GTGATATTTGTTCAA',\n",
              "  'TGATATTTGTTCAAA',\n",
              "  'GATATTTGTTCAAAA',\n",
              "  'ATATTTGTTCAAAAA',\n",
              "  'TATTTGTTCAAAAAT',\n",
              "  'ATTTGTTCAAAAATC',\n",
              "  'TTTGTTCAAAAATCC',\n",
              "  'TTGTTCAAAAATCCA',\n",
              "  'TGTTCAAAAATCCAT',\n",
              "  'GTTCAAAAATCCATG',\n",
              "  'TTCAAAAATCCATGC',\n",
              "  'TCAAAAATCCATGCC',\n",
              "  'CAAAAATCCATGCCT',\n",
              "  'AAAAATCCATGCCTA',\n",
              "  'AAAATCCATGCCTAT'],\n",
              " ['TAGATTCATTTAGAA',\n",
              "  'AGATTCATTTAGAAT',\n",
              "  'GATTCATTTAGAATA',\n",
              "  'ATTCATTTAGAATAT',\n",
              "  'TTCATTTAGAATATA',\n",
              "  'TCATTTAGAATATAA',\n",
              "  'CATTTAGAATATAAA',\n",
              "  'ATTTAGAATATAAAA',\n",
              "  'TTTAGAATATAAAAA',\n",
              "  'TTAGAATATAAAAAA',\n",
              "  'TAGAATATAAAAAAA',\n",
              "  'AGAATATAAAAAAAT',\n",
              "  'GAATATAAAAAAATT',\n",
              "  'AATATAAAAAAATTT',\n",
              "  'ATATAAAAAAATTTT',\n",
              "  'TATAAAAAAATTTTA',\n",
              "  'ATAAAAAAATTTTAT',\n",
              "  'TAAAAAAATTTTATT',\n",
              "  'AAAAAAATTTTATTT',\n",
              "  'AAAAAATTTTATTTT',\n",
              "  'AAAAATTTTATTTTA',\n",
              "  'AAAATTTTATTTTAT',\n",
              "  'AAATTTTATTTTATT',\n",
              "  'AATTTTATTTTATTT',\n",
              "  'ATTTTATTTTATTTT',\n",
              "  'TTTTATTTTATTTTC',\n",
              "  'TTTATTTTATTTTCA',\n",
              "  'TTATTTTATTTTCAC',\n",
              "  'TATTTTATTTTCACT',\n",
              "  'ATTTTATTTTCACTT',\n",
              "  'TTTTATTTTCACTTA',\n",
              "  'TTTATTTTCACTTAT',\n",
              "  'TTATTTTCACTTATT',\n",
              "  'TATTTTCACTTATTT',\n",
              "  'ATTTTCACTTATTTC',\n",
              "  'TTTTCACTTATTTCT',\n",
              "  'TTTCACTTATTTCTT',\n",
              "  'TTCACTTATTTCTTC',\n",
              "  'TCACTTATTTCTTCT',\n",
              "  'CACTTATTTCTTCTC',\n",
              "  'ACTTATTTCTTCTCC',\n",
              "  'CTTATTTCTTCTCCA',\n",
              "  'TTATTTCTTCTCCAC',\n",
              "  'TATTTCTTCTCCACT',\n",
              "  'ATTTCTTCTCCACTG',\n",
              "  'TTTCTTCTCCACTGA',\n",
              "  'TTCTTCTCCACTGAT',\n",
              "  'TCTTCTCCACTGATT',\n",
              "  'CTTCTCCACTGATTT',\n",
              "  'TTCTCCACTGATTTT',\n",
              "  'TCTCCACTGATTTTT',\n",
              "  'CTCCACTGATTTTTC',\n",
              "  'TCCACTGATTTTTCT',\n",
              "  'CCACTGATTTTTCTA',\n",
              "  'CACTGATTTTTCTAT',\n",
              "  'ACTGATTTTTCTATT',\n",
              "  'CTGATTTTTCTATTT',\n",
              "  'TGATTTTTCTATTTT',\n",
              "  'GATTTTTCTATTTTT',\n",
              "  'ATTTTTCTATTTTTA',\n",
              "  'TTTTTCTATTTTTAT',\n",
              "  'TTTTCTATTTTTATG',\n",
              "  'TTTCTATTTTTATGT',\n",
              "  'TTCTATTTTTATGTA',\n",
              "  'TCTATTTTTATGTAG',\n",
              "  'CTATTTTTATGTAGA',\n",
              "  'TATTTTTATGTAGAG',\n",
              "  'ATTTTTATGTAGAGA',\n",
              "  'TTTTTATGTAGAGAT',\n",
              "  'TTTTATGTAGAGATG',\n",
              "  'TTTATGTAGAGATGA',\n",
              "  'TTATGTAGAGATGAG',\n",
              "  'TATGTAGAGATGAGT',\n",
              "  'ATGTAGAGATGAGTT',\n",
              "  'TGTAGAGATGAGTTT',\n",
              "  'GTAGAGATGAGTTTC',\n",
              "  'TAGAGATGAGTTTCT',\n",
              "  'AGAGATGAGTTTCTG',\n",
              "  'GAGATGAGTTTCTGA',\n",
              "  'AGATGAGTTTCTGAC',\n",
              "  'GATGAGTTTCTGACA',\n",
              "  'ATGAGTTTCTGACAT',\n",
              "  'TGAGTTTCTGACATA',\n",
              "  'GAGTTTCTGACATAT',\n",
              "  'AGTTTCTGACATATA',\n",
              "  'GTTTCTGACATATAT']]"
            ]
          },
          "execution_count": 17,
          "metadata": {},
          "output_type": "execute_result"
        }
      ],
      "source": [
        "reference_kmers.take(2)"
      ]
    },
    {
      "cell_type": "markdown",
      "metadata": {
        "id": "x4a_UuqMUbcr"
      },
      "source": [
        "# Step 3: Collect all kmers and build a distinct kmer set\n",
        "\n",
        "• Hint: you can use python “set” function\n",
        "\n",
        "• Report the number of distinct kmers (N)"
      ]
    },
    {
      "cell_type": "code",
      "execution_count": null,
      "metadata": {
        "id": "o8cKZPl-Vp1X"
      },
      "outputs": [],
      "source": [
        "# Merge and distinct, collect to a set\n",
        "kmers = set(reads_kmers \n",
        "  .union(reference_kmers)\n",
        "  .flatMap(lambda x: x) \n",
        "  .distinct()\n",
        "  .collect())"
      ]
    },
    {
      "cell_type": "code",
      "execution_count": null,
      "metadata": {
        "colab": {
          "base_uri": "https://localhost:8080/"
        },
        "id": "J8wR4jStWvSK",
        "outputId": "360c3b56-af69-43cf-bdba-401126ea7e62"
      },
      "outputs": [
        {
          "data": {
            "text/plain": [
              "72530"
            ]
          },
          "execution_count": 19,
          "metadata": {},
          "output_type": "execute_result"
        }
      ],
      "source": [
        "len(kmers)"
      ]
    },
    {
      "cell_type": "markdown",
      "metadata": {
        "id": "C3eLWeCXXeiH"
      },
      "source": [
        "**The number of distinct kmers is 72,530**\n"
      ]
    },
    {
      "cell_type": "code",
      "execution_count": null,
      "metadata": {
        "colab": {
          "base_uri": "https://localhost:8080/"
        },
        "id": "949kQtpBIKpB",
        "outputId": "c7279c85-eec1-4df5-dae0-eefce7e1fb14"
      },
      "outputs": [
        {
          "data": {
            "text/plain": [
              "PythonRDD[40] at RDD at PythonRDD.scala:53"
            ]
          },
          "execution_count": 20,
          "metadata": {},
          "output_type": "execute_result"
        }
      ],
      "source": [
        "reads"
      ]
    },
    {
      "cell_type": "code",
      "execution_count": null,
      "metadata": {
        "id": "8MY7yM09Kiuz"
      },
      "outputs": [],
      "source": []
    },
    {
      "cell_type": "markdown",
      "metadata": {
        "id": "hRSRaZRPKi7T"
      },
      "source": [
        "# Step4"
      ]
    },
    {
      "cell_type": "code",
      "execution_count": null,
      "metadata": {
        "id": "1lQ3tv3BKkMX"
      },
      "outputs": [],
      "source": [
        "from pyspark.ml.linalg import Vectors\n",
        "import pandas as pd"
      ]
    },
    {
      "cell_type": "code",
      "execution_count": null,
      "metadata": {
        "id": "rQF6H_7ScYiW"
      },
      "outputs": [],
      "source": [
        "\n",
        "# turn reads to list \n",
        "r_list = reads.collect()"
      ]
    },
    {
      "cell_type": "code",
      "execution_count": null,
      "metadata": {
        "id": "1geHIJrTcmkB"
      },
      "outputs": [],
      "source": [
        "# check feature vector of every kmer in each read\n",
        "def check_kmer_features(kmer):\n",
        "  m = []\n",
        "  \n",
        "\n",
        "  for i in range(len(r_list)):\n",
        "    if kmer in r_list[i]:\n",
        "      m.append(i)\n",
        "  v = [1.0 for i in range(len(m))]\n",
        "  return (kmer,Vectors.dense(Vectors.sparse(len(r_list),m,v)))"
      ]
    },
    {
      "cell_type": "code",
      "execution_count": null,
      "metadata": {
        "id": "z_1L60tdbW0q"
      },
      "outputs": [],
      "source": [
        "kmers_rdd = sc.parallelize(list(kmers))"
      ]
    },
    {
      "cell_type": "code",
      "execution_count": null,
      "metadata": {
        "id": "pap8knRucBiv"
      },
      "outputs": [],
      "source": [
        "reads_features = kmers_rdd.map(lambda x: check_kmer_features(x))"
      ]
    },
    {
      "cell_type": "code",
      "execution_count": null,
      "metadata": {
        "id": "QKxMpHBRgpNo"
      },
      "outputs": [],
      "source": [
        "reads_features_df = reads_features.toDF(['kmer','read_features'])"
      ]
    },
    {
      "cell_type": "code",
      "execution_count": null,
      "metadata": {
        "colab": {
          "base_uri": "https://localhost:8080/"
        },
        "id": "ZbWHjuLfWauj",
        "outputId": "389565df-bd17-417e-da85-a1f89c3f7599"
      },
      "outputs": [
        {
          "name": "stdout",
          "output_type": "stream",
          "text": [
            "+---------------+--------------------+\n",
            "|           kmer|       read_features|\n",
            "+---------------+--------------------+\n",
            "|CTCATCCCATTACCC|[0.0,0.0,0.0,0.0,...|\n",
            "+---------------+--------------------+\n",
            "only showing top 1 row\n",
            "\n"
          ]
        }
      ],
      "source": [
        "#generate the dataframe with sparse vector\n",
        "reads_features_df.show(1)"
      ]
    },
    {
      "cell_type": "code",
      "execution_count": null,
      "metadata": {
        "id": "oeMY7GJrWawY"
      },
      "outputs": [],
      "source": [
        "from pyspark.sql.functions import col\n",
        "from pyspark.ml.functions import vector_to_array"
      ]
    },
    {
      "cell_type": "code",
      "execution_count": null,
      "metadata": {
        "id": "4IHbE5SifYdS"
      },
      "outputs": [],
      "source": [
        "reads_features_df = reads_features_df.withColumn(\"read\", vector_to_array(\"read_features\")).select([\"kmer\"] + [col(\"read\")[i] for i in range(2000)])"
      ]
    },
    {
      "cell_type": "code",
      "execution_count": null,
      "metadata": {
        "id": "tIBtHfn4V_7E"
      },
      "outputs": [],
      "source": [
        "read_name = {r_list[i]: 'reads' + str(i) for i in range(len(r_list))}"
      ]
    },
    {
      "cell_type": "code",
      "execution_count": null,
      "metadata": {
        "id": "FeEkH4MyofTr"
      },
      "outputs": [],
      "source": [
        "# old code\n",
        "def check_kmer_features_old1(read):\n",
        "  m = []\n",
        "  kmers_list = list(kmers)\n",
        "  for i in range(len(kmers_list)):\n",
        "    if kmers_list[i] in read:\n",
        "      m.append(i)\n",
        "  v = [1.0 for i in range(len(m))]\n",
        "  return (read_name[read],Vectors.sparse(len(kmers_list),m,v))\n"
      ]
    },
    {
      "cell_type": "code",
      "execution_count": null,
      "metadata": {
        "id": "RN4pbbKWzc6c"
      },
      "outputs": [],
      "source": [
        "reads_features = reads.map(lambda x: check_kmer_features_old1(x))"
      ]
    },
    {
      "cell_type": "code",
      "execution_count": null,
      "metadata": {
        "colab": {
          "base_uri": "https://localhost:8080/"
        },
        "id": "MfpvphOd0ONF",
        "outputId": "13f6d1fb-7bd9-4f6d-b5c7-7ba3e7def180"
      },
      "outputs": [
        {
          "data": {
            "text/plain": [
              "[('reads0',\n",
              "  SparseVector(72530, {173: 1.0, 853: 1.0, 1697: 1.0, 2461: 1.0, 2756: 1.0, 4009: 1.0, 4623: 1.0, 4892: 1.0, 6087: 1.0, 6582: 1.0, 7642: 1.0, 7938: 1.0, 9013: 1.0, 11645: 1.0, 13192: 1.0, 16390: 1.0, 17650: 1.0, 18185: 1.0, 18287: 1.0, 19252: 1.0, 19552: 1.0, 20320: 1.0, 20396: 1.0, 21788: 1.0, 22089: 1.0, 23402: 1.0, 23741: 1.0, 23943: 1.0, 23964: 1.0, 24722: 1.0, 25527: 1.0, 25942: 1.0, 26524: 1.0, 26766: 1.0, 27980: 1.0, 28197: 1.0, 30104: 1.0, 31464: 1.0, 34048: 1.0, 34662: 1.0, 35093: 1.0, 36084: 1.0, 37855: 1.0, 38460: 1.0, 40043: 1.0, 40470: 1.0, 40761: 1.0, 41115: 1.0, 41684: 1.0, 42492: 1.0, 42564: 1.0, 42906: 1.0, 43060: 1.0, 43484: 1.0, 44209: 1.0, 45091: 1.0, 46234: 1.0, 50524: 1.0, 51918: 1.0, 53785: 1.0, 54037: 1.0, 54184: 1.0, 54906: 1.0, 55883: 1.0, 56211: 1.0, 58218: 1.0, 59428: 1.0, 59616: 1.0, 61052: 1.0, 61059: 1.0, 61212: 1.0, 61334: 1.0, 61465: 1.0, 61883: 1.0, 61973: 1.0, 62577: 1.0, 63348: 1.0, 63439: 1.0, 65000: 1.0, 65351: 1.0, 65723: 1.0, 67217: 1.0, 67546: 1.0, 69070: 1.0, 70689: 1.0, 72269: 1.0})),\n",
              " ('reads1',\n",
              "  SparseVector(72530, {173: 1.0, 853: 1.0, 2461: 1.0, 5004: 1.0, 5916: 1.0, 6087: 1.0, 6582: 1.0, 7642: 1.0, 8843: 1.0, 8863: 1.0, 9013: 1.0, 11449: 1.0, 11645: 1.0, 12586: 1.0, 12976: 1.0, 13192: 1.0, 13832: 1.0, 13931: 1.0, 14377: 1.0, 14974: 1.0, 16673: 1.0, 17650: 1.0, 18185: 1.0, 19552: 1.0, 20396: 1.0, 21788: 1.0, 22089: 1.0, 23402: 1.0, 23741: 1.0, 23943: 1.0, 25527: 1.0, 25621: 1.0, 25942: 1.0, 26381: 1.0, 26524: 1.0, 26766: 1.0, 27980: 1.0, 28197: 1.0, 28436: 1.0, 34140: 1.0, 34662: 1.0, 35093: 1.0, 36123: 1.0, 37855: 1.0, 38460: 1.0, 39709: 1.0, 40043: 1.0, 40761: 1.0, 41115: 1.0, 41684: 1.0, 41932: 1.0, 42564: 1.0, 42906: 1.0, 43060: 1.0, 44155: 1.0, 44209: 1.0, 44585: 1.0, 44955: 1.0, 45091: 1.0, 45209: 1.0, 51562: 1.0, 53342: 1.0, 53785: 1.0, 54037: 1.0, 54085: 1.0, 54184: 1.0, 54906: 1.0, 56211: 1.0, 56653: 1.0, 57822: 1.0, 58832: 1.0, 59616: 1.0, 61059: 1.0, 61212: 1.0, 61334: 1.0, 61465: 1.0, 61883: 1.0, 61973: 1.0, 63348: 1.0, 63439: 1.0, 65000: 1.0, 65723: 1.0, 65973: 1.0, 67217: 1.0, 69070: 1.0, 70689: 1.0}))]"
            ]
          },
          "execution_count": 33,
          "metadata": {},
          "output_type": "execute_result"
        }
      ],
      "source": [
        "reads_features.take(2)"
      ]
    },
    {
      "cell_type": "markdown",
      "metadata": {
        "id": "RSuEBcoLKlwB"
      },
      "source": [
        "# Step5"
      ]
    },
    {
      "cell_type": "code",
      "execution_count": null,
      "metadata": {
        "id": "jZ1Yef9amA-L"
      },
      "outputs": [],
      "source": [
        "reference_rdd = reference.select(\"sequence\").rdd.map(lambda x: x['sequence'])"
      ]
    },
    {
      "cell_type": "code",
      "execution_count": null,
      "metadata": {
        "colab": {
          "base_uri": "https://localhost:8080/",
          "height": 35
        },
        "id": "bzpF9dQJmMsb",
        "outputId": "598da676-6bac-44e3-d4d2-a7102f0912fb"
      },
      "outputs": [
        {
          "data": {
            "application/vnd.google.colaboratory.intrinsic+json": {
              "type": "string"
            },
            "text/plain": [
              "'CCCTTCTCCTATCCCTTGAAAAATTGTCATTTATTTCTCTTATCCATATGGCATAATCAAAGAATAAATTGGTGATATTTGTTCAAAAATCCATGCCTAT'"
            ]
          },
          "execution_count": 35,
          "metadata": {},
          "output_type": "execute_result"
        }
      ],
      "source": [
        "reference_list = reference_rdd.collect()\n",
        "reference_list[0]"
      ]
    },
    {
      "cell_type": "code",
      "execution_count": null,
      "metadata": {
        "colab": {
          "base_uri": "https://localhost:8080/",
          "height": 35
        },
        "id": "nCcOrMXOnWJN",
        "outputId": "70b4beda-dcfd-4ec2-ce3f-1864d52ebf17"
      },
      "outputs": [
        {
          "data": {
            "application/vnd.google.colaboratory.intrinsic+json": {
              "type": "string"
            },
            "text/plain": [
              "'bin20000000_20000100'"
            ]
          },
          "execution_count": 36,
          "metadata": {},
          "output_type": "execute_result"
        }
      ],
      "source": [
        "#generate the name of columns\n",
        "start_rdd = reference.select(\"start\").rdd.map(lambda x: x['start'])\n",
        "end_rdd = reference.select(\"end\").rdd.map(lambda x: x['end'])\n",
        "s_list = start_rdd.collect()\n",
        "e_list = end_rdd.collect()\n",
        "reference_name = ['bin' + str(s_list[i]) + '_' +  str(e_list[i]) for i in range(len(s_list))]\n",
        "reference_name[0]"
      ]
    },
    {
      "cell_type": "code",
      "execution_count": null,
      "metadata": {
        "id": "kDCOpTHw5Asm"
      },
      "outputs": [],
      "source": []
    },
    {
      "cell_type": "code",
      "execution_count": null,
      "metadata": {
        "id": "CEoYkzmckd6W"
      },
      "outputs": [],
      "source": [
        "# check feature vector of every kmer in each reference\n",
        "def check_kmer_read_features_sequence(kmer):\n",
        "  m = []\n",
        "  for i in range(len(reference_list)):\n",
        "    if kmer in reference_list[i]:\n",
        "      m.append(i)\n",
        "  v = [1.0 for i in range(len(m))]\n",
        "  return (kmer,Vectors.dense(Vectors.sparse(len(reference_list),m,v)))"
      ]
    },
    {
      "cell_type": "code",
      "execution_count": null,
      "metadata": {
        "id": "NqRXCvBAKm-h"
      },
      "outputs": [],
      "source": [
        "reference_features = kmers_rdd.map(lambda x:check_kmer_read_features_sequence(x))"
      ]
    },
    {
      "cell_type": "code",
      "execution_count": null,
      "metadata": {
        "id": "WbHSEchnkP1U"
      },
      "outputs": [],
      "source": [
        "# turn to dataframe\n",
        "reference_features_df = reference_features.toDF(['kmer','reference_features'])"
      ]
    },
    {
      "cell_type": "code",
      "execution_count": null,
      "metadata": {
        "colab": {
          "base_uri": "https://localhost:8080/"
        },
        "id": "7tmq2Xoonm56",
        "outputId": "a7e1156e-4ac0-48c6-c187-8501d5b66728"
      },
      "outputs": [
        {
          "name": "stdout",
          "output_type": "stream",
          "text": [
            "+---------------+--------------------+\n",
            "|           kmer|  reference_features|\n",
            "+---------------+--------------------+\n",
            "|CTCATCCCATTACCC|[0.0,0.0,0.0,0.0,...|\n",
            "+---------------+--------------------+\n",
            "only showing top 1 row\n",
            "\n"
          ]
        }
      ],
      "source": [
        "reference_features_df.show(1) "
      ]
    },
    {
      "cell_type": "code",
      "execution_count": null,
      "metadata": {
        "id": "eFux_1_DntsP"
      },
      "outputs": [],
      "source": [
        "# expand the dense vector to different collomns\n",
        "reference_features_df = reference_features_df.withColumn(\"xs\", vector_to_array(\"reference_features\")).select([\"kmer\"] + [col(\"xs\")[i] for i in range(len(reference_name))])"
      ]
    },
    {
      "cell_type": "code",
      "execution_count": null,
      "metadata": {
        "id": "TU9eLWHMnUXK"
      },
      "outputs": [],
      "source": [
        "reference_name = ['kmer'] + reference_name\n",
        "reference_features_df = reference_features_df.select([col(c).alias(reference_name[i]) for i, c in enumerate(reference_features_df.columns)])"
      ]
    },
    {
      "cell_type": "code",
      "execution_count": null,
      "metadata": {
        "colab": {
          "base_uri": "https://localhost:8080/"
        },
        "id": "OJylWwlmWRmi",
        "outputId": "05557a09-c345-4bcd-cfc4-8039b0039a53"
      },
      "outputs": [
        {
          "data": {
            "text/plain": [
              "500"
            ]
          },
          "execution_count": 43,
          "metadata": {},
          "output_type": "execute_result"
        }
      ],
      "source": [
        "reference_name_d = {reference_list[i]: reference_name[i+1] for i in range(len(reference_list))}\n",
        "len(reference_name_d)"
      ]
    },
    {
      "cell_type": "code",
      "execution_count": null,
      "metadata": {
        "id": "lNnY0l_v484V"
      },
      "outputs": [],
      "source": [
        "# old code\n",
        "def check_kmer_features_old(read):\n",
        "  m = []\n",
        "  kmers_list = list(kmers)\n",
        "  for i in range(len(kmers_list)):\n",
        "    if kmers_list[i] in read:\n",
        "      m.append(i)\n",
        "  v = [1.0 for i in range(len(m))]\n",
        "  return (reference_name_d[read],Vectors.sparse(len(kmers_list),m,v))"
      ]
    },
    {
      "cell_type": "code",
      "execution_count": null,
      "metadata": {
        "colab": {
          "base_uri": "https://localhost:8080/"
        },
        "id": "fUd4m4l50doH",
        "outputId": "1e447d25-3793-4403-c61c-091bfa2ef50b"
      },
      "outputs": [
        {
          "data": {
            "text/plain": [
              "[('bin20000000_20000100',\n",
              "  SparseVector(72530, {173: 1.0, 853: 1.0, 2587: 1.0, 2756: 1.0, 5004: 1.0, 6087: 1.0, 7345: 1.0, 7642: 1.0, 8863: 1.0, 9013: 1.0, 9275: 1.0, 11645: 1.0, 13476: 1.0, 13832: 1.0, 14097: 1.0, 15259: 1.0, 15334: 1.0, 15844: 1.0, 16322: 1.0, 16673: 1.0, 17226: 1.0, 17650: 1.0, 18185: 1.0, 19252: 1.0, 19552: 1.0, 20320: 1.0, 20396: 1.0, 21788: 1.0, 22089: 1.0, 23014: 1.0, 25527: 1.0, 25621: 1.0, 26022: 1.0, 26524: 1.0, 27980: 1.0, 33448: 1.0, 33756: 1.0, 34048: 1.0, 34650: 1.0, 36123: 1.0, 38460: 1.0, 38721: 1.0, 40470: 1.0, 40761: 1.0, 41115: 1.0, 41684: 1.0, 42040: 1.0, 42492: 1.0, 42564: 1.0, 43060: 1.0, 43786: 1.0, 44209: 1.0, 45091: 1.0, 46234: 1.0, 46869: 1.0, 47313: 1.0, 48110: 1.0, 49404: 1.0, 49868: 1.0, 50161: 1.0, 51918: 1.0, 53086: 1.0, 53752: 1.0, 53785: 1.0, 54037: 1.0, 54085: 1.0, 57822: 1.0, 58218: 1.0, 58702: 1.0, 59428: 1.0, 61052: 1.0, 61212: 1.0, 61973: 1.0, 62465: 1.0, 62577: 1.0, 63348: 1.0, 63439: 1.0, 65032: 1.0, 65351: 1.0, 67541: 1.0, 67546: 1.0, 68343: 1.0, 68971: 1.0, 69393: 1.0, 71169: 1.0, 72269: 1.0}))]"
            ]
          },
          "execution_count": 45,
          "metadata": {},
          "output_type": "execute_result"
        }
      ],
      "source": [
        "# old code \n",
        "reference_features = reference_rdd.map(lambda x: check_kmer_features_old(x))\n",
        "reference_features.take(1)"
      ]
    },
    {
      "cell_type": "markdown",
      "metadata": {
        "id": "1knv_hbyXnoI"
      },
      "source": [
        "\n",
        "# Step 6: Use minhash to reduce the feature dimension for reads and reference bins"
      ]
    },
    {
      "cell_type": "code",
      "execution_count": null,
      "metadata": {
        "id": "A2GZi9Znmleg"
      },
      "outputs": [],
      "source": [
        "# define minhash\n",
        "def minhash(hashtable: list, entry: tuple) -> tuple:\n",
        "  ans = []\n",
        "  for ls in hashtable:\n",
        "    for i in ls:\n",
        "      if entry[1][ls[i]]==1:\n",
        "        ans.append(i)\n",
        "        break\n",
        "  return (entry[0], ans)"
      ]
    },
    {
      "cell_type": "code",
      "execution_count": null,
      "metadata": {
        "id": "9CEIRjDRp3EJ"
      },
      "outputs": [],
      "source": [
        "# create hash table\n",
        "def minhash_table(n: int) -> list:\n",
        "  ans = []\n",
        "  for i in range(n):\n",
        "    ans.append(random.sample(range(72530), 72530))\n",
        "  return ans"
      ]
    },
    {
      "cell_type": "code",
      "execution_count": null,
      "metadata": {
        "id": "n_oDZSHgqDID"
      },
      "outputs": [],
      "source": [
        "# set seed\n",
        "random.seed(114514)"
      ]
    },
    {
      "cell_type": "code",
      "execution_count": null,
      "metadata": {
        "id": "4h4rTKhLX2wx"
      },
      "outputs": [],
      "source": [
        "# create hash table\n",
        "hashtable = minhash_table(1000)"
      ]
    },
    {
      "cell_type": "code",
      "execution_count": null,
      "metadata": {
        "colab": {
          "base_uri": "https://localhost:8080/"
        },
        "id": "jgBZFSTorkh5",
        "outputId": "48fb4524-39b8-4063-bc78-cc8ce5fff9e4"
      },
      "outputs": [
        {
          "name": "stdout",
          "output_type": "stream",
          "text": [
            "time.struct_time(tm_year=2023, tm_mon=4, tm_mday=11, tm_hour=20, tm_min=6, tm_sec=49, tm_wday=1, tm_yday=101, tm_isdst=0)\n",
            "5877.96895980835\n"
          ]
        }
      ],
      "source": [
        "# run minhash on reads\n",
        "start = time.time()\n",
        "print(time.localtime(start))\n",
        "read_sig = reads_features.map(lambda x: minhash(hashtable, x))\n",
        "read_sig_temp = read_sig.collect()\n",
        "print(time.time()-start)"
      ]
    },
    {
      "cell_type": "code",
      "execution_count": null,
      "metadata": {
        "colab": {
          "base_uri": "https://localhost:8080/"
        },
        "id": "NoguccloromD",
        "outputId": "317e7e7b-4977-4053-ce0b-203a61c18ac6"
      },
      "outputs": [
        {
          "name": "stdout",
          "output_type": "stream",
          "text": [
            "time.struct_time(tm_year=2023, tm_mon=4, tm_mday=11, tm_hour=21, tm_min=44, tm_sec=47, tm_wday=1, tm_yday=101, tm_isdst=0)\n",
            "2525.6211519241333\n"
          ]
        }
      ],
      "source": [
        "# run minhash on references\n",
        "start = time.time()\n",
        "print(time.localtime(start))\n",
        "ref_sig = reference_features.map(lambda x: minhash(hashtable, x))\n",
        "ref_sig_temp = ref_sig.collect()\n",
        "print(time.time()-start)"
      ]
    },
    {
      "cell_type": "code",
      "execution_count": null,
      "metadata": {
        "colab": {
          "base_uri": "https://localhost:8080/"
        },
        "id": "1BeGkkfEfPGW",
        "outputId": "e1e09a3d-e69f-48b6-d60e-556b2c72bf9f"
      },
      "outputs": [
        {
          "data": {
            "text/plain": [
              "500"
            ]
          },
          "execution_count": 55,
          "metadata": {},
          "output_type": "execute_result"
        }
      ],
      "source": [
        "len(ref_sig_temp)"
      ]
    },
    {
      "cell_type": "code",
      "execution_count": null,
      "metadata": {
        "colab": {
          "base_uri": "https://localhost:8080/"
        },
        "id": "QI-6EsCOfWcj",
        "outputId": "2848f961-e7a8-48fb-e401-7f80a92e3e78"
      },
      "outputs": [
        {
          "data": {
            "text/plain": [
              "2000"
            ]
          },
          "execution_count": 56,
          "metadata": {},
          "output_type": "execute_result"
        }
      ],
      "source": [
        "len(read_sig_temp)"
      ]
    },
    {
      "cell_type": "markdown",
      "metadata": {
        "id": "h-wM7mvu_45e"
      },
      "source": [
        "## Test sequential"
      ]
    },
    {
      "cell_type": "code",
      "execution_count": null,
      "metadata": {
        "id": "r9aRl9ms6t-S"
      },
      "outputs": [],
      "source": [
        "# collect 500 sample for each\n",
        "reads_features_50 = reads_features.take(50)\n",
        "reference_features_50 = reference_features.take(50)"
      ]
    },
    {
      "cell_type": "code",
      "execution_count": null,
      "metadata": {
        "colab": {
          "base_uri": "https://localhost:8080/"
        },
        "id": "WTKVLMprAD4O",
        "outputId": "7dcddc61-3b31-41ad-fdf0-ecd3ff45f959"
      },
      "outputs": [
        {
          "name": "stdout",
          "output_type": "stream",
          "text": [
            "time.struct_time(tm_year=2023, tm_mon=4, tm_mday=11, tm_hour=22, tm_min=46, tm_sec=42, tm_wday=1, tm_yday=101, tm_isdst=0)\n",
            "284.1727809906006\n"
          ]
        }
      ],
      "source": [
        "# run minhash on reads 50\n",
        "start = time.time()\n",
        "print(time.localtime(start))\n",
        "read_sig_50 = list(map(lambda x: minhash(hashtable, x), reads_features_50))\n",
        "print(time.time()-start)"
      ]
    },
    {
      "cell_type": "code",
      "execution_count": null,
      "metadata": {
        "colab": {
          "base_uri": "https://localhost:8080/"
        },
        "id": "8P0UAr1DAPfe",
        "outputId": "b8d066b9-3251-497f-e623-0a7043dd0a04"
      },
      "outputs": [
        {
          "name": "stdout",
          "output_type": "stream",
          "text": [
            "time.struct_time(tm_year=2023, tm_mon=4, tm_mday=11, tm_hour=22, tm_min=51, tm_sec=26, tm_wday=1, tm_yday=101, tm_isdst=0)\n",
            "278.68529081344604\n"
          ]
        }
      ],
      "source": [
        "# run minhash on ref 50\n",
        "start = time.time()\n",
        "print(time.localtime(start))\n",
        "ref_sig_50 = list(map(lambda x: minhash(hashtable, x), reference_features_50))\n",
        "print(time.time()-start)"
      ]
    },
    {
      "cell_type": "markdown",
      "metadata": {
        "id": "DZnKV6MXyeqM"
      },
      "source": [
        "# step 7"
      ]
    },
    {
      "cell_type": "code",
      "execution_count": null,
      "metadata": {
        "id": "QQ-1ch7CEksk"
      },
      "outputs": [],
      "source": [
        "read_l = read_sig_temp.collect()"
      ]
    },
    {
      "cell_type": "code",
      "execution_count": null,
      "metadata": {
        "id": "RYxGSnAlEku4"
      },
      "outputs": [],
      "source": [
        "ref_l = ref_sig_temp.collect()"
      ]
    },
    {
      "cell_type": "code",
      "execution_count": null,
      "metadata": {
        "colab": {
          "base_uri": "https://localhost:8080/"
        },
        "id": "Km4eh_nSp3x4",
        "outputId": "8f7030f2-2865-4885-cc39-679267e33f80"
      },
      "outputs": [
        {
          "data": {
            "text/plain": [
              "2000"
            ]
          },
          "execution_count": 62,
          "metadata": {},
          "output_type": "execute_result"
        }
      ],
      "source": [
        "len(read_l)"
      ]
    },
    {
      "cell_type": "code",
      "execution_count": null,
      "metadata": {
        "colab": {
          "base_uri": "https://localhost:8080/"
        },
        "id": "51lp_aR0p5qN",
        "outputId": "bd3a6cc8-5bd1-4481-cb5f-279a9d490623"
      },
      "outputs": [
        {
          "data": {
            "text/plain": [
              "500"
            ]
          },
          "execution_count": 63,
          "metadata": {},
          "output_type": "execute_result"
        }
      ],
      "source": [
        "len(ref_l)"
      ]
    },
    {
      "cell_type": "code",
      "execution_count": null,
      "metadata": {
        "id": "7MCc1ifrq_ui"
      },
      "outputs": [],
      "source": [
        "final_read = [i[0] for i in read_l]"
      ]
    },
    {
      "cell_type": "code",
      "execution_count": null,
      "metadata": {
        "colab": {
          "base_uri": "https://localhost:8080/"
        },
        "id": "q9IfgiOK-M81",
        "outputId": "8f1ece9a-62f1-49f4-d40f-90071cb4f67a"
      },
      "outputs": [
        {
          "name": "stdout",
          "output_type": "stream",
          "text": [
            "100\n",
            "200\n",
            "300\n",
            "400\n",
            "500\n",
            "600\n",
            "700\n",
            "800\n",
            "900\n",
            "1000\n",
            "1100\n",
            "1200\n",
            "1300\n",
            "1400\n",
            "1500\n",
            "1600\n",
            "1700\n",
            "1800\n",
            "1900\n",
            "2000\n"
          ]
        }
      ],
      "source": [
        "final_ref = []\n",
        "final_score = []\n",
        "count = 0\n",
        "\n",
        "for i in read_l:\n",
        "  count += 1\n",
        "  max_score = 0\n",
        "  max_ref = ''\n",
        "  for j in ref_l:\n",
        "    score = len([1 for e in range(1000) if i[1][e] == j[1][e]])/1000\n",
        "    if score > max_score:\n",
        "      max_ref = j[0]\n",
        "      max_score = score\n",
        "  final_ref.append(max_ref)\n",
        "  final_score.append(max_score)\n",
        "  if count%100 == 0:\n",
        "    print(count)\n",
        "\n",
        "\n"
      ]
    },
    {
      "cell_type": "code",
      "execution_count": null,
      "metadata": {
        "colab": {
          "base_uri": "https://localhost:8080/"
        },
        "id": "622WXI0p-M-q",
        "outputId": "117a161e-9c8d-4d00-dd1d-3dda386a042b"
      },
      "outputs": [
        {
          "data": {
            "text/plain": [
              "['bin20000000_20000100',\n",
              " 'bin20000000_20000100',\n",
              " 'bin20000000_20000100',\n",
              " 'bin20000000_20000100',\n",
              " 'bin20000000_20000100',\n",
              " 'bin20000000_20000100',\n",
              " 'bin20000000_20000100',\n",
              " 'bin20000100_20000200',\n",
              " 'bin20000000_20000100',\n",
              " 'bin20000100_20000200']"
            ]
          },
          "execution_count": 77,
          "metadata": {},
          "output_type": "execute_result"
        }
      ],
      "source": [
        "final_ref[:10]"
      ]
    },
    {
      "cell_type": "code",
      "execution_count": null,
      "metadata": {
        "colab": {
          "base_uri": "https://localhost:8080/"
        },
        "id": "ZLByYrhZ-NAg",
        "outputId": "39d984fc-4144-4c01-8f8e-df8e8fefd8bb"
      },
      "outputs": [
        {
          "data": {
            "text/plain": [
              "[0.348, 0.253, 0.357, 0.692, 0.672, 0.641, 0.4, 0.181, 0.232, 0.374]"
            ]
          },
          "execution_count": 81,
          "metadata": {},
          "output_type": "execute_result"
        }
      ],
      "source": [
        "final_score[:10]"
      ]
    },
    {
      "cell_type": "code",
      "execution_count": null,
      "metadata": {
        "id": "sDAZLx8H-NCm"
      },
      "outputs": [],
      "source": [
        "final_df = pd.DataFrame({'read': final_read,'reference': final_ref,'score': final_score})"
      ]
    },
    {
      "cell_type": "code",
      "execution_count": null,
      "metadata": {
        "colab": {
          "base_uri": "https://localhost:8080/",
          "height": 206
        },
        "id": "RQqkkUhg-NEa",
        "outputId": "c93d93e0-6a0a-4f71-e953-b85097f577d3"
      },
      "outputs": [
        {
          "data": {
            "text/html": [
              "\n",
              "  <div id=\"df-94d3bbf7-469b-4554-8550-4a9309d977b0\">\n",
              "    <div class=\"colab-df-container\">\n",
              "      <div>\n",
              "<style scoped>\n",
              "    .dataframe tbody tr th:only-of-type {\n",
              "        vertical-align: middle;\n",
              "    }\n",
              "\n",
              "    .dataframe tbody tr th {\n",
              "        vertical-align: top;\n",
              "    }\n",
              "\n",
              "    .dataframe thead th {\n",
              "        text-align: right;\n",
              "    }\n",
              "</style>\n",
              "<table border=\"1\" class=\"dataframe\">\n",
              "  <thead>\n",
              "    <tr style=\"text-align: right;\">\n",
              "      <th></th>\n",
              "      <th>read</th>\n",
              "      <th>reference</th>\n",
              "      <th>score</th>\n",
              "    </tr>\n",
              "  </thead>\n",
              "  <tbody>\n",
              "    <tr>\n",
              "      <th>0</th>\n",
              "      <td>reads0</td>\n",
              "      <td>bin20000000_20000100</td>\n",
              "      <td>0.348</td>\n",
              "    </tr>\n",
              "    <tr>\n",
              "      <th>1</th>\n",
              "      <td>reads1</td>\n",
              "      <td>bin20000000_20000100</td>\n",
              "      <td>0.253</td>\n",
              "    </tr>\n",
              "    <tr>\n",
              "      <th>2</th>\n",
              "      <td>reads2</td>\n",
              "      <td>bin20000000_20000100</td>\n",
              "      <td>0.357</td>\n",
              "    </tr>\n",
              "    <tr>\n",
              "      <th>3</th>\n",
              "      <td>reads3</td>\n",
              "      <td>bin20000000_20000100</td>\n",
              "      <td>0.692</td>\n",
              "    </tr>\n",
              "    <tr>\n",
              "      <th>4</th>\n",
              "      <td>reads4</td>\n",
              "      <td>bin20000000_20000100</td>\n",
              "      <td>0.672</td>\n",
              "    </tr>\n",
              "  </tbody>\n",
              "</table>\n",
              "</div>\n",
              "      <button class=\"colab-df-convert\" onclick=\"convertToInteractive('df-94d3bbf7-469b-4554-8550-4a9309d977b0')\"\n",
              "              title=\"Convert this dataframe to an interactive table.\"\n",
              "              style=\"display:none;\">\n",
              "        \n",
              "  <svg xmlns=\"http://www.w3.org/2000/svg\" height=\"24px\"viewBox=\"0 0 24 24\"\n",
              "       width=\"24px\">\n",
              "    <path d=\"M0 0h24v24H0V0z\" fill=\"none\"/>\n",
              "    <path d=\"M18.56 5.44l.94 2.06.94-2.06 2.06-.94-2.06-.94-.94-2.06-.94 2.06-2.06.94zm-11 1L8.5 8.5l.94-2.06 2.06-.94-2.06-.94L8.5 2.5l-.94 2.06-2.06.94zm10 10l.94 2.06.94-2.06 2.06-.94-2.06-.94-.94-2.06-.94 2.06-2.06.94z\"/><path d=\"M17.41 7.96l-1.37-1.37c-.4-.4-.92-.59-1.43-.59-.52 0-1.04.2-1.43.59L10.3 9.45l-7.72 7.72c-.78.78-.78 2.05 0 2.83L4 21.41c.39.39.9.59 1.41.59.51 0 1.02-.2 1.41-.59l7.78-7.78 2.81-2.81c.8-.78.8-2.07 0-2.86zM5.41 20L4 18.59l7.72-7.72 1.47 1.35L5.41 20z\"/>\n",
              "  </svg>\n",
              "      </button>\n",
              "      \n",
              "  <style>\n",
              "    .colab-df-container {\n",
              "      display:flex;\n",
              "      flex-wrap:wrap;\n",
              "      gap: 12px;\n",
              "    }\n",
              "\n",
              "    .colab-df-convert {\n",
              "      background-color: #E8F0FE;\n",
              "      border: none;\n",
              "      border-radius: 50%;\n",
              "      cursor: pointer;\n",
              "      display: none;\n",
              "      fill: #1967D2;\n",
              "      height: 32px;\n",
              "      padding: 0 0 0 0;\n",
              "      width: 32px;\n",
              "    }\n",
              "\n",
              "    .colab-df-convert:hover {\n",
              "      background-color: #E2EBFA;\n",
              "      box-shadow: 0px 1px 2px rgba(60, 64, 67, 0.3), 0px 1px 3px 1px rgba(60, 64, 67, 0.15);\n",
              "      fill: #174EA6;\n",
              "    }\n",
              "\n",
              "    [theme=dark] .colab-df-convert {\n",
              "      background-color: #3B4455;\n",
              "      fill: #D2E3FC;\n",
              "    }\n",
              "\n",
              "    [theme=dark] .colab-df-convert:hover {\n",
              "      background-color: #434B5C;\n",
              "      box-shadow: 0px 1px 3px 1px rgba(0, 0, 0, 0.15);\n",
              "      filter: drop-shadow(0px 1px 2px rgba(0, 0, 0, 0.3));\n",
              "      fill: #FFFFFF;\n",
              "    }\n",
              "  </style>\n",
              "\n",
              "      <script>\n",
              "        const buttonEl =\n",
              "          document.querySelector('#df-94d3bbf7-469b-4554-8550-4a9309d977b0 button.colab-df-convert');\n",
              "        buttonEl.style.display =\n",
              "          google.colab.kernel.accessAllowed ? 'block' : 'none';\n",
              "\n",
              "        async function convertToInteractive(key) {\n",
              "          const element = document.querySelector('#df-94d3bbf7-469b-4554-8550-4a9309d977b0');\n",
              "          const dataTable =\n",
              "            await google.colab.kernel.invokeFunction('convertToInteractive',\n",
              "                                                     [key], {});\n",
              "          if (!dataTable) return;\n",
              "\n",
              "          const docLinkHtml = 'Like what you see? Visit the ' +\n",
              "            '<a target=\"_blank\" href=https://colab.research.google.com/notebooks/data_table.ipynb>data table notebook</a>'\n",
              "            + ' to learn more about interactive tables.';\n",
              "          element.innerHTML = '';\n",
              "          dataTable['output_type'] = 'display_data';\n",
              "          await google.colab.output.renderOutput(dataTable, element);\n",
              "          const docLink = document.createElement('div');\n",
              "          docLink.innerHTML = docLinkHtml;\n",
              "          element.appendChild(docLink);\n",
              "        }\n",
              "      </script>\n",
              "    </div>\n",
              "  </div>\n",
              "  "
            ],
            "text/plain": [
              "     read             reference  score\n",
              "0  reads0  bin20000000_20000100  0.348\n",
              "1  reads1  bin20000000_20000100  0.253\n",
              "2  reads2  bin20000000_20000100  0.357\n",
              "3  reads3  bin20000000_20000100  0.692\n",
              "4  reads4  bin20000000_20000100  0.672"
            ]
          },
          "execution_count": 85,
          "metadata": {},
          "output_type": "execute_result"
        }
      ],
      "source": [
        "final_df.head(5)"
      ]
    },
    {
      "cell_type": "code",
      "execution_count": null,
      "metadata": {
        "id": "zYfJLcm7-NGf"
      },
      "outputs": [],
      "source": [
        "final_df.to_csv(cur_path + \"data/final_result.csv\", header=True, index=None, sep=',')\n"
      ]
    },
    {
      "cell_type": "markdown",
      "metadata": {
        "id": "LU1Y2llm-NIp"
      },
      "source": [
        "# Step 8"
      ]
    },
    {
      "cell_type": "code",
      "execution_count": 6,
      "metadata": {
        "id": "fvCBjiE-O1Af"
      },
      "outputs": [],
      "source": [
        "import pandas as pd\n",
        "import numpy as np\n",
        "from sklearn.metrics import mean_squared_error"
      ]
    },
    {
      "cell_type": "code",
      "execution_count": 7,
      "metadata": {
        "id": "obC2lWAArapt"
      },
      "outputs": [],
      "source": [
        "def extract_start(string):\n",
        "    return string[3:11]"
      ]
    },
    {
      "cell_type": "code",
      "execution_count": 9,
      "metadata": {
        "id": "zejb6rZy3T_1",
        "outputId": "bbead239-9d33-4fab-9c9e-694fc05dd81d",
        "colab": {
          "base_uri": "https://localhost:8080/"
        }
      },
      "outputs": [
        {
          "output_type": "stream",
          "name": "stdout",
          "text": [
            "Pearson:  0.9999971145120188\n",
            "MSE:  896.5645\n"
          ]
        }
      ],
      "source": [
        "benchmark = pd.read_csv(cur_path + 'data/read_position_benchmark.csv')\n",
        "results = pd.read_csv(cur_path + \"data/Final_result/final_result_k15_p1000.csv\")\n",
        "\n",
        "results['pred_start'] = results['reference'].astype(str).apply(extract_start)\n",
        "result_compare = pd.concat([results, benchmark['reference_start']], axis=1).loc[:,['pred_start','reference_start']].astype(str)\n",
        "result_compare = result_compare[result_compare['pred_start'].str.len() == 8].astype(int)\n",
        "\n",
        "# Pearson\n",
        "corr = np.corrcoef(result_compare['pred_start'], result_compare['reference_start'])[0,1]\n",
        "print('Pearson: ',corr)\n",
        "\n",
        "# MSE\n",
        "y_true = result_compare['reference_start']\n",
        "y_pred = result_compare['pred_start']\n",
        "mse = mean_squared_error(y_true, y_pred)\n",
        "print('MSE: ',mse)"
      ]
    },
    {
      "cell_type": "code",
      "execution_count": null,
      "metadata": {
        "id": "YbQTPvaY3UBp"
      },
      "outputs": [],
      "source": []
    }
  ],
  "metadata": {
    "colab": {
      "machine_shape": "hm",
      "provenance": [],
      "toc_visible": true
    },
    "gpuClass": "standard",
    "kernelspec": {
      "display_name": "Python 3",
      "language": "python",
      "name": "python3"
    },
    "language_info": {
      "codemirror_mode": {
        "name": "ipython",
        "version": 3
      },
      "file_extension": ".py",
      "mimetype": "text/x-python",
      "name": "python",
      "nbconvert_exporter": "python",
      "pygments_lexer": "ipython3",
      "version": "3.8.8"
    }
  },
  "nbformat": 4,
  "nbformat_minor": 0
}