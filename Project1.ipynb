{
  "cells": [
    {
      "cell_type": "markdown",
      "metadata": {
        "id": "view-in-github",
        "colab_type": "text"
      },
      "source": [
        "<a href=\"https://colab.research.google.com/github/yueguo1997/Group4_Low_Demensional_Representation_with_Big_Genomics_Data/blob/step45/Project1.ipynb\" target=\"_parent\"><img src=\"https://colab.research.google.com/assets/colab-badge.svg\" alt=\"Open In Colab\"/></a>"
      ]
    },
    {
      "cell_type": "markdown",
      "metadata": {
        "id": "vGmIEcOvOqh2"
      },
      "source": [
        "# Load Package"
      ]
    },
    {
      "cell_type": "code",
      "execution_count": 1,
      "metadata": {
        "colab": {
          "base_uri": "https://localhost:8080/"
        },
        "id": "O9ZOdq_j9JUC",
        "outputId": "feca8e55-07bf-4ca0-afa6-219a4e0ea837"
      },
      "outputs": [
        {
          "output_type": "stream",
          "name": "stdout",
          "text": [
            "Mounted at /content/drive\n"
          ]
        }
      ],
      "source": [
        "from google.colab import drive\n",
        "drive.mount('/content/drive')"
      ]
    },
    {
      "cell_type": "code",
      "execution_count": 2,
      "metadata": {
        "colab": {
          "base_uri": "https://localhost:8080/"
        },
        "id": "7wEGHkoa9Ojl",
        "outputId": "580cf924-71b2-4764-f579-fdb73321202a"
      },
      "outputs": [
        {
          "output_type": "stream",
          "name": "stdout",
          "text": [
            "/content/drive/MyDrive/Bigdataproject\n"
          ]
        }
      ],
      "source": [
        "\n",
        "import os\n",
        "cur_path = \"/content/drive/MyDrive/Bigdataproject/\"\n",
        "os.chdir(cur_path)\n",
        "!pwd"
      ]
    },
    {
      "cell_type": "code",
      "execution_count": 3,
      "metadata": {
        "colab": {
          "base_uri": "https://localhost:8080/"
        },
        "id": "0MDGVXW64BRa",
        "outputId": "26810fcd-ee5d-424f-ecc3-5a5b37f05ae3"
      },
      "outputs": [
        {
          "output_type": "stream",
          "name": "stdout",
          "text": [
            "Looking in indexes: https://pypi.org/simple, https://us-python.pkg.dev/colab-wheels/public/simple/\n",
            "Collecting pyspark\n",
            "  Downloading pyspark-3.3.2.tar.gz (281.4 MB)\n",
            "\u001b[2K     \u001b[90m━━━━━━━━━━━━━━━━━━━━━━━━━━━━━━━━━━━━━━━\u001b[0m \u001b[32m281.4/281.4 MB\u001b[0m \u001b[31m3.7 MB/s\u001b[0m eta \u001b[36m0:00:00\u001b[0m\n",
            "\u001b[?25h  Preparing metadata (setup.py) ... \u001b[?25l\u001b[?25hdone\n",
            "Collecting py4j==0.10.9.5\n",
            "  Downloading py4j-0.10.9.5-py2.py3-none-any.whl (199 kB)\n",
            "\u001b[2K     \u001b[90m━━━━━━━━━━━━━━━━━━━━━━━━━━━━━━━━━━━━━━\u001b[0m \u001b[32m199.7/199.7 kB\u001b[0m \u001b[31m19.4 MB/s\u001b[0m eta \u001b[36m0:00:00\u001b[0m\n",
            "\u001b[?25hBuilding wheels for collected packages: pyspark\n",
            "  Building wheel for pyspark (setup.py) ... \u001b[?25l\u001b[?25hdone\n",
            "  Created wheel for pyspark: filename=pyspark-3.3.2-py2.py3-none-any.whl size=281824028 sha256=f4e2b8ccdfbd147e7e94e9509446323deda6698f04ebbf9247cab0a6b4abd400\n",
            "  Stored in directory: /root/.cache/pip/wheels/6c/e3/9b/0525ce8a69478916513509d43693511463c6468db0de237c86\n",
            "Successfully built pyspark\n",
            "Installing collected packages: py4j, pyspark\n",
            "  Attempting uninstall: py4j\n",
            "    Found existing installation: py4j 0.10.9.7\n",
            "    Uninstalling py4j-0.10.9.7:\n",
            "      Successfully uninstalled py4j-0.10.9.7\n",
            "Successfully installed py4j-0.10.9.5 pyspark-3.3.2\n",
            "Looking in indexes: https://pypi.org/simple, https://us-python.pkg.dev/colab-wheels/public/simple/\n",
            "Requirement already satisfied: pyspark[sql] in /usr/local/lib/python3.9/dist-packages (3.3.2)\n",
            "Requirement already satisfied: py4j==0.10.9.5 in /usr/local/lib/python3.9/dist-packages (from pyspark[sql]) (0.10.9.5)\n",
            "Requirement already satisfied: pandas>=1.0.5 in /usr/local/lib/python3.9/dist-packages (from pyspark[sql]) (1.4.4)\n",
            "Requirement already satisfied: pyarrow>=1.0.0 in /usr/local/lib/python3.9/dist-packages (from pyspark[sql]) (9.0.0)\n",
            "Requirement already satisfied: python-dateutil>=2.8.1 in /usr/local/lib/python3.9/dist-packages (from pandas>=1.0.5->pyspark[sql]) (2.8.2)\n",
            "Requirement already satisfied: numpy>=1.18.5 in /usr/local/lib/python3.9/dist-packages (from pandas>=1.0.5->pyspark[sql]) (1.22.4)\n",
            "Requirement already satisfied: pytz>=2020.1 in /usr/local/lib/python3.9/dist-packages (from pandas>=1.0.5->pyspark[sql]) (2022.7.1)\n",
            "Requirement already satisfied: six>=1.5 in /usr/local/lib/python3.9/dist-packages (from python-dateutil>=2.8.1->pandas>=1.0.5->pyspark[sql]) (1.16.0)\n",
            "The following additional packages will be installed:\n",
            "  libxtst6 openjdk-8-jre-headless\n",
            "Suggested packages:\n",
            "  openjdk-8-demo openjdk-8-source libnss-mdns fonts-dejavu-extra\n",
            "  fonts-ipafont-gothic fonts-ipafont-mincho fonts-wqy-microhei\n",
            "  fonts-wqy-zenhei fonts-indic\n",
            "The following NEW packages will be installed:\n",
            "  libxtst6 openjdk-8-jdk-headless openjdk-8-jre-headless\n",
            "0 upgraded, 3 newly installed, 0 to remove and 24 not upgraded.\n",
            "Need to get 36.5 MB of archives.\n",
            "After this operation, 144 MB of additional disk space will be used.\n",
            "Selecting previously unselected package libxtst6:amd64.\n",
            "(Reading database ... 122349 files and directories currently installed.)\n",
            "Preparing to unpack .../libxtst6_2%3a1.2.3-1_amd64.deb ...\n",
            "Unpacking libxtst6:amd64 (2:1.2.3-1) ...\n",
            "Selecting previously unselected package openjdk-8-jre-headless:amd64.\n",
            "Preparing to unpack .../openjdk-8-jre-headless_8u362-ga-0ubuntu1~20.04.1_amd64.deb ...\n",
            "Unpacking openjdk-8-jre-headless:amd64 (8u362-ga-0ubuntu1~20.04.1) ...\n",
            "Selecting previously unselected package openjdk-8-jdk-headless:amd64.\n",
            "Preparing to unpack .../openjdk-8-jdk-headless_8u362-ga-0ubuntu1~20.04.1_amd64.deb ...\n",
            "Unpacking openjdk-8-jdk-headless:amd64 (8u362-ga-0ubuntu1~20.04.1) ...\n",
            "Setting up libxtst6:amd64 (2:1.2.3-1) ...\n",
            "Setting up openjdk-8-jre-headless:amd64 (8u362-ga-0ubuntu1~20.04.1) ...\n",
            "update-alternatives: using /usr/lib/jvm/java-8-openjdk-amd64/jre/bin/orbd to provide /usr/bin/orbd (orbd) in auto mode\n",
            "update-alternatives: using /usr/lib/jvm/java-8-openjdk-amd64/jre/bin/servertool to provide /usr/bin/servertool (servertool) in auto mode\n",
            "update-alternatives: using /usr/lib/jvm/java-8-openjdk-amd64/jre/bin/tnameserv to provide /usr/bin/tnameserv (tnameserv) in auto mode\n",
            "Setting up openjdk-8-jdk-headless:amd64 (8u362-ga-0ubuntu1~20.04.1) ...\n",
            "update-alternatives: using /usr/lib/jvm/java-8-openjdk-amd64/bin/idlj to provide /usr/bin/idlj (idlj) in auto mode\n",
            "update-alternatives: using /usr/lib/jvm/java-8-openjdk-amd64/bin/wsimport to provide /usr/bin/wsimport (wsimport) in auto mode\n",
            "update-alternatives: using /usr/lib/jvm/java-8-openjdk-amd64/bin/jsadebugd to provide /usr/bin/jsadebugd (jsadebugd) in auto mode\n",
            "update-alternatives: using /usr/lib/jvm/java-8-openjdk-amd64/bin/native2ascii to provide /usr/bin/native2ascii (native2ascii) in auto mode\n",
            "update-alternatives: using /usr/lib/jvm/java-8-openjdk-amd64/bin/javah to provide /usr/bin/javah (javah) in auto mode\n",
            "update-alternatives: using /usr/lib/jvm/java-8-openjdk-amd64/bin/hsdb to provide /usr/bin/hsdb (hsdb) in auto mode\n",
            "update-alternatives: using /usr/lib/jvm/java-8-openjdk-amd64/bin/clhsdb to provide /usr/bin/clhsdb (clhsdb) in auto mode\n",
            "update-alternatives: using /usr/lib/jvm/java-8-openjdk-amd64/bin/xjc to provide /usr/bin/xjc (xjc) in auto mode\n",
            "update-alternatives: using /usr/lib/jvm/java-8-openjdk-amd64/bin/schemagen to provide /usr/bin/schemagen (schemagen) in auto mode\n",
            "update-alternatives: using /usr/lib/jvm/java-8-openjdk-amd64/bin/extcheck to provide /usr/bin/extcheck (extcheck) in auto mode\n",
            "update-alternatives: using /usr/lib/jvm/java-8-openjdk-amd64/bin/jhat to provide /usr/bin/jhat (jhat) in auto mode\n",
            "update-alternatives: using /usr/lib/jvm/java-8-openjdk-amd64/bin/wsgen to provide /usr/bin/wsgen (wsgen) in auto mode\n",
            "Processing triggers for libc-bin (2.31-0ubuntu9.9) ...\n"
          ]
        }
      ],
      "source": [
        "!pip install pyspark\n",
        "!pip install pyspark[sql]\n",
        "!pip install -U -q PyDrive\n",
        "!apt install openjdk-8-jdk-headless -qq \n",
        "import os\n",
        "os.environ[\"JAVA_HOME\"] = \"/usr/lib/jvm/java-8-openjdk-amd64\""
      ]
    },
    {
      "cell_type": "code",
      "execution_count": 4,
      "metadata": {
        "id": "bXw2KzHqNEwD"
      },
      "outputs": [],
      "source": [
        "import pyspark as spark\n",
        "import time\n",
        "from operator import add\n",
        "from pyspark.sql import SparkSession"
      ]
    },
    {
      "cell_type": "markdown",
      "metadata": {
        "id": "BLH0Rq2yOt1R"
      },
      "source": [
        "# Step 0: Read Data"
      ]
    },
    {
      "cell_type": "markdown",
      "metadata": {
        "id": "ynLN-vAXQ653"
      },
      "source": [
        "## Set spark session"
      ]
    },
    {
      "cell_type": "code",
      "execution_count": 5,
      "metadata": {
        "id": "uDsadwheOw8x"
      },
      "outputs": [],
      "source": [
        "# set spark session\n",
        "ss = (SparkSession\n",
        "  .builder\n",
        "  .master(\"local[5]\")\n",
        "  .appName(\"fqproject\")\n",
        "  .getOrCreate())\n"
      ]
    },
    {
      "cell_type": "markdown",
      "metadata": {
        "id": "PIW11UM7OzMy"
      },
      "source": [
        "## Set spark context"
      ]
    },
    {
      "cell_type": "code",
      "execution_count": 6,
      "metadata": {
        "id": "N0ueyutSQ7Px"
      },
      "outputs": [],
      "source": [
        "# set spark session\n",
        "sc = (spark\n",
        "  .SparkContext\n",
        "  .getOrCreate(spark\n",
        "    .SparkConf()\n",
        "    .setAppName(\"fqproject\")\n",
        "    .setMaster('local[*]')\n",
        "    .set('spark.executor.memory', '4G')\n",
        "    .set('spark.driver.memory', '4G')\n",
        "    .set('spark.driver.maxResultSize', '4G')))"
      ]
    },
    {
      "cell_type": "markdown",
      "metadata": {
        "id": "MRsu1WltO1E0"
      },
      "source": [
        "## Read reads.fq"
      ]
    },
    {
      "cell_type": "code",
      "execution_count": 7,
      "metadata": {
        "id": "hEEIfL20O3U1"
      },
      "outputs": [],
      "source": [
        "# read reads.fq and extract the second line of every four lines.\n",
        "reads = (sc\n",
        "  .textFile(cur_path + \"data/reads.fq\")\n",
        "  .zipWithIndex()\n",
        "  .filter(lambda x: (x[1]+1)%2==0 and (x[1]+1)%4!=0)\n",
        "  .map(lambda x: x[0]))"
      ]
    },
    {
      "cell_type": "code",
      "execution_count": 8,
      "metadata": {
        "colab": {
          "base_uri": "https://localhost:8080/"
        },
        "id": "Z2r0uE5pPD4P",
        "outputId": "618c06ae-4de9-4db1-9244-ee56f9abde49"
      },
      "outputs": [
        {
          "output_type": "execute_result",
          "data": {
            "text/plain": [
              "['TCCTTACTGGTTTTGCAGGTAACTTATAGAGTATTTCCACTTCCCTTCTCCTATCCCTTGAAAAATTGTCATTTATTTCTCTTATCCATATGGCATAATC',\n",
              " 'GGTTTTTCAGGTAACTTATAGAGTATTTCCACTTCCCTTCTCCTATCCCTGGAAAAATTGTCATTTATTTCTCTTATCCATATGGCATAATCAAAGAATA',\n",
              " 'AGGTAACTTATAGAGTACTTCCACTTCCCTTCTCCTATCCCTTGAAAAATTGTCATTGATTTCTCTTATCCATATGGCATAATCAAAGAATAAATTGGTG',\n",
              " 'CACTTCCCTTCTACTATCCCTTGAAAAATTGTCATTTATTTCTCTTATCCATATGGCATAATCAAAGAATAAATTGGTGATATTTGTTCAAAAATCCATG',\n",
              " 'CCTTCTCCTATCCCTTGAAAAATTGTCATTTATTTCCCTTATCCATATGGCATAATCAAAGAATAAATTGGTGATATTTGTTCAAAAATCCATGCCTTTT',\n",
              " 'ATCCCTTGAAAAATTGTCATTTATTTCTCTTATCCATATGGCATAATCAAAGAATAAATTGGTGATATTTGTTCAAAAATCCGTGCCTATTAGATTCATT',\n",
              " 'TCTTATCCATATGGCATAATCAAAGAATAAATTGGTGATATTTGTTCAAAAATCCATGCCTATTAGATTCATTTAGAATATAAAAAAATTTTATTTTATT',\n",
              " 'TATCCATATGGCATAATCAAAGAATCAATTGTTGATATTTGTTCAAAAATCCATGCCTATTAGATTCATTTAGAATATAAAAAAATTTTATTTTATTTTC',\n",
              " 'TCAAAGAATAAATTGGTGATATTTGTTCAAAAATCCATGCCTATTAGATTCATTTAGATTATAAAAAAATTTTATTTTATTTTCACTTATTTCTTCTCCA',\n",
              " 'TGAATAAATTGGTGATATTTGTTCAAAAATCCATGCCTACTAGATTCATTTAGAATATAAAAAAATTTTATTTTATTTTCACTTATTTCTTCTCCACTGA']"
            ]
          },
          "metadata": {},
          "execution_count": 8
        }
      ],
      "source": [
        "reads.take(10)"
      ]
    },
    {
      "cell_type": "markdown",
      "metadata": {
        "id": "zEvNcdARO3-v"
      },
      "source": [
        "## Read reference.fa"
      ]
    },
    {
      "cell_type": "code",
      "execution_count": 9,
      "metadata": {
        "id": "zqg4o_B6O9wD"
      },
      "outputs": [],
      "source": [
        "# read reference\n",
        "reference = (ss\n",
        "  .read\n",
        "  .csv(\n",
        "      cur_path + \"data/reference_chr21_20000000_20050000.fa\",\n",
        "      inferSchema=True,\n",
        "      header=True))"
      ]
    },
    {
      "cell_type": "code",
      "execution_count": 10,
      "metadata": {
        "colab": {
          "base_uri": "https://localhost:8080/"
        },
        "id": "dSWs5YRJPFL0",
        "outputId": "51d88ec8-c8a1-4dec-8895-fcef4e0b1d04"
      },
      "outputs": [
        {
          "output_type": "stream",
          "name": "stdout",
          "text": [
            "+--------+--------+--------------------+\n",
            "|   start|     end|            sequence|\n",
            "+--------+--------+--------------------+\n",
            "|20000000|20000100|CCCTTCTCCTATCCCTT...|\n",
            "|20000100|20000200|TAGATTCATTTAGAATA...|\n",
            "|20000200|20000300|TTCTTCTTCCTGAAGAA...|\n",
            "|20000300|20000400|ACTTTTCAAGGATAGTT...|\n",
            "|20000400|20000500|CTGACAGGACTTCTGCC...|\n",
            "|20000500|20000600|TTTCCTTTTTTTTTTCT...|\n",
            "|20000600|20000700|ATTATAAAAAGGGAGGG...|\n",
            "|20000700|20000800|TTCTTTTCTTTTTCTCC...|\n",
            "|20000800|20000900|ATAAATTTCTGCTTGAA...|\n",
            "|20000900|20001000|TTCGTTAGTGTTTTTTA...|\n",
            "+--------+--------+--------------------+\n",
            "only showing top 10 rows\n",
            "\n"
          ]
        }
      ],
      "source": [
        "reference.show(10)"
      ]
    },
    {
      "cell_type": "code",
      "source": [
        "reference.count()"
      ],
      "metadata": {
        "id": "I6twBITsWY7D",
        "outputId": "8d5480ab-88c9-4d51-f54f-29c40615ca36",
        "colab": {
          "base_uri": "https://localhost:8080/"
        }
      },
      "execution_count": 11,
      "outputs": [
        {
          "output_type": "execute_result",
          "data": {
            "text/plain": [
              "500"
            ]
          },
          "metadata": {},
          "execution_count": 11
        }
      ]
    },
    {
      "cell_type": "markdown",
      "metadata": {
        "id": "59Y3bTkLSAI2"
      },
      "source": [
        "# Step 1: Cut reads into kmers = 15"
      ]
    },
    {
      "cell_type": "markdown",
      "metadata": {
        "id": "ANqDbZ8hS38t"
      },
      "source": [
        "## Define K-mers"
      ]
    },
    {
      "cell_type": "code",
      "execution_count": 12,
      "metadata": {
        "id": "naqY5_vJSFoK"
      },
      "outputs": [],
      "source": [
        "# input a string s and cut k-mers\n",
        "def extract_kmers(s: str, k: int = 15) -> list:\n",
        "    return [s[i:i+k] for i in range(len(s)-k+1)]"
      ]
    },
    {
      "cell_type": "markdown",
      "metadata": {
        "id": "QViG0LdgTPvr"
      },
      "source": [
        "## Map K-mers to reads"
      ]
    },
    {
      "cell_type": "code",
      "execution_count": 13,
      "metadata": {
        "id": "FiS_J2ghTPLb"
      },
      "outputs": [],
      "source": [
        "# K-mers of reads\n",
        "reads_kmers = (reads\n",
        "  .map(extract_kmers))"
      ]
    },
    {
      "cell_type": "code",
      "execution_count": 14,
      "metadata": {
        "colab": {
          "base_uri": "https://localhost:8080/"
        },
        "id": "G0EBAg1nTa1T",
        "outputId": "0b24f6bc-3b53-4b10-f253-c7171120e350"
      },
      "outputs": [
        {
          "output_type": "execute_result",
          "data": {
            "text/plain": [
              "[['TCCTTACTGGTTTTG',\n",
              "  'CCTTACTGGTTTTGC',\n",
              "  'CTTACTGGTTTTGCA',\n",
              "  'TTACTGGTTTTGCAG',\n",
              "  'TACTGGTTTTGCAGG',\n",
              "  'ACTGGTTTTGCAGGT',\n",
              "  'CTGGTTTTGCAGGTA',\n",
              "  'TGGTTTTGCAGGTAA',\n",
              "  'GGTTTTGCAGGTAAC',\n",
              "  'GTTTTGCAGGTAACT',\n",
              "  'TTTTGCAGGTAACTT',\n",
              "  'TTTGCAGGTAACTTA',\n",
              "  'TTGCAGGTAACTTAT',\n",
              "  'TGCAGGTAACTTATA',\n",
              "  'GCAGGTAACTTATAG',\n",
              "  'CAGGTAACTTATAGA',\n",
              "  'AGGTAACTTATAGAG',\n",
              "  'GGTAACTTATAGAGT',\n",
              "  'GTAACTTATAGAGTA',\n",
              "  'TAACTTATAGAGTAT',\n",
              "  'AACTTATAGAGTATT',\n",
              "  'ACTTATAGAGTATTT',\n",
              "  'CTTATAGAGTATTTC',\n",
              "  'TTATAGAGTATTTCC',\n",
              "  'TATAGAGTATTTCCA',\n",
              "  'ATAGAGTATTTCCAC',\n",
              "  'TAGAGTATTTCCACT',\n",
              "  'AGAGTATTTCCACTT',\n",
              "  'GAGTATTTCCACTTC',\n",
              "  'AGTATTTCCACTTCC',\n",
              "  'GTATTTCCACTTCCC',\n",
              "  'TATTTCCACTTCCCT',\n",
              "  'ATTTCCACTTCCCTT',\n",
              "  'TTTCCACTTCCCTTC',\n",
              "  'TTCCACTTCCCTTCT',\n",
              "  'TCCACTTCCCTTCTC',\n",
              "  'CCACTTCCCTTCTCC',\n",
              "  'CACTTCCCTTCTCCT',\n",
              "  'ACTTCCCTTCTCCTA',\n",
              "  'CTTCCCTTCTCCTAT',\n",
              "  'TTCCCTTCTCCTATC',\n",
              "  'TCCCTTCTCCTATCC',\n",
              "  'CCCTTCTCCTATCCC',\n",
              "  'CCTTCTCCTATCCCT',\n",
              "  'CTTCTCCTATCCCTT',\n",
              "  'TTCTCCTATCCCTTG',\n",
              "  'TCTCCTATCCCTTGA',\n",
              "  'CTCCTATCCCTTGAA',\n",
              "  'TCCTATCCCTTGAAA',\n",
              "  'CCTATCCCTTGAAAA',\n",
              "  'CTATCCCTTGAAAAA',\n",
              "  'TATCCCTTGAAAAAT',\n",
              "  'ATCCCTTGAAAAATT',\n",
              "  'TCCCTTGAAAAATTG',\n",
              "  'CCCTTGAAAAATTGT',\n",
              "  'CCTTGAAAAATTGTC',\n",
              "  'CTTGAAAAATTGTCA',\n",
              "  'TTGAAAAATTGTCAT',\n",
              "  'TGAAAAATTGTCATT',\n",
              "  'GAAAAATTGTCATTT',\n",
              "  'AAAAATTGTCATTTA',\n",
              "  'AAAATTGTCATTTAT',\n",
              "  'AAATTGTCATTTATT',\n",
              "  'AATTGTCATTTATTT',\n",
              "  'ATTGTCATTTATTTC',\n",
              "  'TTGTCATTTATTTCT',\n",
              "  'TGTCATTTATTTCTC',\n",
              "  'GTCATTTATTTCTCT',\n",
              "  'TCATTTATTTCTCTT',\n",
              "  'CATTTATTTCTCTTA',\n",
              "  'ATTTATTTCTCTTAT',\n",
              "  'TTTATTTCTCTTATC',\n",
              "  'TTATTTCTCTTATCC',\n",
              "  'TATTTCTCTTATCCA',\n",
              "  'ATTTCTCTTATCCAT',\n",
              "  'TTTCTCTTATCCATA',\n",
              "  'TTCTCTTATCCATAT',\n",
              "  'TCTCTTATCCATATG',\n",
              "  'CTCTTATCCATATGG',\n",
              "  'TCTTATCCATATGGC',\n",
              "  'CTTATCCATATGGCA',\n",
              "  'TTATCCATATGGCAT',\n",
              "  'TATCCATATGGCATA',\n",
              "  'ATCCATATGGCATAA',\n",
              "  'TCCATATGGCATAAT',\n",
              "  'CCATATGGCATAATC'],\n",
              " ['GGTTTTTCAGGTAAC',\n",
              "  'GTTTTTCAGGTAACT',\n",
              "  'TTTTTCAGGTAACTT',\n",
              "  'TTTTCAGGTAACTTA',\n",
              "  'TTTCAGGTAACTTAT',\n",
              "  'TTCAGGTAACTTATA',\n",
              "  'TCAGGTAACTTATAG',\n",
              "  'CAGGTAACTTATAGA',\n",
              "  'AGGTAACTTATAGAG',\n",
              "  'GGTAACTTATAGAGT',\n",
              "  'GTAACTTATAGAGTA',\n",
              "  'TAACTTATAGAGTAT',\n",
              "  'AACTTATAGAGTATT',\n",
              "  'ACTTATAGAGTATTT',\n",
              "  'CTTATAGAGTATTTC',\n",
              "  'TTATAGAGTATTTCC',\n",
              "  'TATAGAGTATTTCCA',\n",
              "  'ATAGAGTATTTCCAC',\n",
              "  'TAGAGTATTTCCACT',\n",
              "  'AGAGTATTTCCACTT',\n",
              "  'GAGTATTTCCACTTC',\n",
              "  'AGTATTTCCACTTCC',\n",
              "  'GTATTTCCACTTCCC',\n",
              "  'TATTTCCACTTCCCT',\n",
              "  'ATTTCCACTTCCCTT',\n",
              "  'TTTCCACTTCCCTTC',\n",
              "  'TTCCACTTCCCTTCT',\n",
              "  'TCCACTTCCCTTCTC',\n",
              "  'CCACTTCCCTTCTCC',\n",
              "  'CACTTCCCTTCTCCT',\n",
              "  'ACTTCCCTTCTCCTA',\n",
              "  'CTTCCCTTCTCCTAT',\n",
              "  'TTCCCTTCTCCTATC',\n",
              "  'TCCCTTCTCCTATCC',\n",
              "  'CCCTTCTCCTATCCC',\n",
              "  'CCTTCTCCTATCCCT',\n",
              "  'CTTCTCCTATCCCTG',\n",
              "  'TTCTCCTATCCCTGG',\n",
              "  'TCTCCTATCCCTGGA',\n",
              "  'CTCCTATCCCTGGAA',\n",
              "  'TCCTATCCCTGGAAA',\n",
              "  'CCTATCCCTGGAAAA',\n",
              "  'CTATCCCTGGAAAAA',\n",
              "  'TATCCCTGGAAAAAT',\n",
              "  'ATCCCTGGAAAAATT',\n",
              "  'TCCCTGGAAAAATTG',\n",
              "  'CCCTGGAAAAATTGT',\n",
              "  'CCTGGAAAAATTGTC',\n",
              "  'CTGGAAAAATTGTCA',\n",
              "  'TGGAAAAATTGTCAT',\n",
              "  'GGAAAAATTGTCATT',\n",
              "  'GAAAAATTGTCATTT',\n",
              "  'AAAAATTGTCATTTA',\n",
              "  'AAAATTGTCATTTAT',\n",
              "  'AAATTGTCATTTATT',\n",
              "  'AATTGTCATTTATTT',\n",
              "  'ATTGTCATTTATTTC',\n",
              "  'TTGTCATTTATTTCT',\n",
              "  'TGTCATTTATTTCTC',\n",
              "  'GTCATTTATTTCTCT',\n",
              "  'TCATTTATTTCTCTT',\n",
              "  'CATTTATTTCTCTTA',\n",
              "  'ATTTATTTCTCTTAT',\n",
              "  'TTTATTTCTCTTATC',\n",
              "  'TTATTTCTCTTATCC',\n",
              "  'TATTTCTCTTATCCA',\n",
              "  'ATTTCTCTTATCCAT',\n",
              "  'TTTCTCTTATCCATA',\n",
              "  'TTCTCTTATCCATAT',\n",
              "  'TCTCTTATCCATATG',\n",
              "  'CTCTTATCCATATGG',\n",
              "  'TCTTATCCATATGGC',\n",
              "  'CTTATCCATATGGCA',\n",
              "  'TTATCCATATGGCAT',\n",
              "  'TATCCATATGGCATA',\n",
              "  'ATCCATATGGCATAA',\n",
              "  'TCCATATGGCATAAT',\n",
              "  'CCATATGGCATAATC',\n",
              "  'CATATGGCATAATCA',\n",
              "  'ATATGGCATAATCAA',\n",
              "  'TATGGCATAATCAAA',\n",
              "  'ATGGCATAATCAAAG',\n",
              "  'TGGCATAATCAAAGA',\n",
              "  'GGCATAATCAAAGAA',\n",
              "  'GCATAATCAAAGAAT',\n",
              "  'CATAATCAAAGAATA']]"
            ]
          },
          "metadata": {},
          "execution_count": 14
        }
      ],
      "source": [
        "reads_kmers.take(2)"
      ]
    },
    {
      "cell_type": "markdown",
      "metadata": {
        "id": "y9LB3IwwT3RE"
      },
      "source": [
        "# Step 2: • Cut reference bins into kmers = 15"
      ]
    },
    {
      "cell_type": "code",
      "execution_count": 15,
      "metadata": {
        "id": "CVfbDsD0T2Ri"
      },
      "outputs": [],
      "source": [
        "# K-mers of reference\n",
        "reference_kmers = (reference\n",
        "  .select('sequence')\n",
        "  .rdd\n",
        "  .flatMap(lambda x: x)\n",
        "  .map(extract_kmers))"
      ]
    },
    {
      "cell_type": "code",
      "execution_count": 16,
      "metadata": {
        "colab": {
          "base_uri": "https://localhost:8080/"
        },
        "id": "huQx-SdEUbxy",
        "outputId": "9b87d520-1a7a-4187-d9c3-ac880d172816"
      },
      "outputs": [
        {
          "output_type": "execute_result",
          "data": {
            "text/plain": [
              "[['CCCTTCTCCTATCCC',\n",
              "  'CCTTCTCCTATCCCT',\n",
              "  'CTTCTCCTATCCCTT',\n",
              "  'TTCTCCTATCCCTTG',\n",
              "  'TCTCCTATCCCTTGA',\n",
              "  'CTCCTATCCCTTGAA',\n",
              "  'TCCTATCCCTTGAAA',\n",
              "  'CCTATCCCTTGAAAA',\n",
              "  'CTATCCCTTGAAAAA',\n",
              "  'TATCCCTTGAAAAAT',\n",
              "  'ATCCCTTGAAAAATT',\n",
              "  'TCCCTTGAAAAATTG',\n",
              "  'CCCTTGAAAAATTGT',\n",
              "  'CCTTGAAAAATTGTC',\n",
              "  'CTTGAAAAATTGTCA',\n",
              "  'TTGAAAAATTGTCAT',\n",
              "  'TGAAAAATTGTCATT',\n",
              "  'GAAAAATTGTCATTT',\n",
              "  'AAAAATTGTCATTTA',\n",
              "  'AAAATTGTCATTTAT',\n",
              "  'AAATTGTCATTTATT',\n",
              "  'AATTGTCATTTATTT',\n",
              "  'ATTGTCATTTATTTC',\n",
              "  'TTGTCATTTATTTCT',\n",
              "  'TGTCATTTATTTCTC',\n",
              "  'GTCATTTATTTCTCT',\n",
              "  'TCATTTATTTCTCTT',\n",
              "  'CATTTATTTCTCTTA',\n",
              "  'ATTTATTTCTCTTAT',\n",
              "  'TTTATTTCTCTTATC',\n",
              "  'TTATTTCTCTTATCC',\n",
              "  'TATTTCTCTTATCCA',\n",
              "  'ATTTCTCTTATCCAT',\n",
              "  'TTTCTCTTATCCATA',\n",
              "  'TTCTCTTATCCATAT',\n",
              "  'TCTCTTATCCATATG',\n",
              "  'CTCTTATCCATATGG',\n",
              "  'TCTTATCCATATGGC',\n",
              "  'CTTATCCATATGGCA',\n",
              "  'TTATCCATATGGCAT',\n",
              "  'TATCCATATGGCATA',\n",
              "  'ATCCATATGGCATAA',\n",
              "  'TCCATATGGCATAAT',\n",
              "  'CCATATGGCATAATC',\n",
              "  'CATATGGCATAATCA',\n",
              "  'ATATGGCATAATCAA',\n",
              "  'TATGGCATAATCAAA',\n",
              "  'ATGGCATAATCAAAG',\n",
              "  'TGGCATAATCAAAGA',\n",
              "  'GGCATAATCAAAGAA',\n",
              "  'GCATAATCAAAGAAT',\n",
              "  'CATAATCAAAGAATA',\n",
              "  'ATAATCAAAGAATAA',\n",
              "  'TAATCAAAGAATAAA',\n",
              "  'AATCAAAGAATAAAT',\n",
              "  'ATCAAAGAATAAATT',\n",
              "  'TCAAAGAATAAATTG',\n",
              "  'CAAAGAATAAATTGG',\n",
              "  'AAAGAATAAATTGGT',\n",
              "  'AAGAATAAATTGGTG',\n",
              "  'AGAATAAATTGGTGA',\n",
              "  'GAATAAATTGGTGAT',\n",
              "  'AATAAATTGGTGATA',\n",
              "  'ATAAATTGGTGATAT',\n",
              "  'TAAATTGGTGATATT',\n",
              "  'AAATTGGTGATATTT',\n",
              "  'AATTGGTGATATTTG',\n",
              "  'ATTGGTGATATTTGT',\n",
              "  'TTGGTGATATTTGTT',\n",
              "  'TGGTGATATTTGTTC',\n",
              "  'GGTGATATTTGTTCA',\n",
              "  'GTGATATTTGTTCAA',\n",
              "  'TGATATTTGTTCAAA',\n",
              "  'GATATTTGTTCAAAA',\n",
              "  'ATATTTGTTCAAAAA',\n",
              "  'TATTTGTTCAAAAAT',\n",
              "  'ATTTGTTCAAAAATC',\n",
              "  'TTTGTTCAAAAATCC',\n",
              "  'TTGTTCAAAAATCCA',\n",
              "  'TGTTCAAAAATCCAT',\n",
              "  'GTTCAAAAATCCATG',\n",
              "  'TTCAAAAATCCATGC',\n",
              "  'TCAAAAATCCATGCC',\n",
              "  'CAAAAATCCATGCCT',\n",
              "  'AAAAATCCATGCCTA',\n",
              "  'AAAATCCATGCCTAT'],\n",
              " ['TAGATTCATTTAGAA',\n",
              "  'AGATTCATTTAGAAT',\n",
              "  'GATTCATTTAGAATA',\n",
              "  'ATTCATTTAGAATAT',\n",
              "  'TTCATTTAGAATATA',\n",
              "  'TCATTTAGAATATAA',\n",
              "  'CATTTAGAATATAAA',\n",
              "  'ATTTAGAATATAAAA',\n",
              "  'TTTAGAATATAAAAA',\n",
              "  'TTAGAATATAAAAAA',\n",
              "  'TAGAATATAAAAAAA',\n",
              "  'AGAATATAAAAAAAT',\n",
              "  'GAATATAAAAAAATT',\n",
              "  'AATATAAAAAAATTT',\n",
              "  'ATATAAAAAAATTTT',\n",
              "  'TATAAAAAAATTTTA',\n",
              "  'ATAAAAAAATTTTAT',\n",
              "  'TAAAAAAATTTTATT',\n",
              "  'AAAAAAATTTTATTT',\n",
              "  'AAAAAATTTTATTTT',\n",
              "  'AAAAATTTTATTTTA',\n",
              "  'AAAATTTTATTTTAT',\n",
              "  'AAATTTTATTTTATT',\n",
              "  'AATTTTATTTTATTT',\n",
              "  'ATTTTATTTTATTTT',\n",
              "  'TTTTATTTTATTTTC',\n",
              "  'TTTATTTTATTTTCA',\n",
              "  'TTATTTTATTTTCAC',\n",
              "  'TATTTTATTTTCACT',\n",
              "  'ATTTTATTTTCACTT',\n",
              "  'TTTTATTTTCACTTA',\n",
              "  'TTTATTTTCACTTAT',\n",
              "  'TTATTTTCACTTATT',\n",
              "  'TATTTTCACTTATTT',\n",
              "  'ATTTTCACTTATTTC',\n",
              "  'TTTTCACTTATTTCT',\n",
              "  'TTTCACTTATTTCTT',\n",
              "  'TTCACTTATTTCTTC',\n",
              "  'TCACTTATTTCTTCT',\n",
              "  'CACTTATTTCTTCTC',\n",
              "  'ACTTATTTCTTCTCC',\n",
              "  'CTTATTTCTTCTCCA',\n",
              "  'TTATTTCTTCTCCAC',\n",
              "  'TATTTCTTCTCCACT',\n",
              "  'ATTTCTTCTCCACTG',\n",
              "  'TTTCTTCTCCACTGA',\n",
              "  'TTCTTCTCCACTGAT',\n",
              "  'TCTTCTCCACTGATT',\n",
              "  'CTTCTCCACTGATTT',\n",
              "  'TTCTCCACTGATTTT',\n",
              "  'TCTCCACTGATTTTT',\n",
              "  'CTCCACTGATTTTTC',\n",
              "  'TCCACTGATTTTTCT',\n",
              "  'CCACTGATTTTTCTA',\n",
              "  'CACTGATTTTTCTAT',\n",
              "  'ACTGATTTTTCTATT',\n",
              "  'CTGATTTTTCTATTT',\n",
              "  'TGATTTTTCTATTTT',\n",
              "  'GATTTTTCTATTTTT',\n",
              "  'ATTTTTCTATTTTTA',\n",
              "  'TTTTTCTATTTTTAT',\n",
              "  'TTTTCTATTTTTATG',\n",
              "  'TTTCTATTTTTATGT',\n",
              "  'TTCTATTTTTATGTA',\n",
              "  'TCTATTTTTATGTAG',\n",
              "  'CTATTTTTATGTAGA',\n",
              "  'TATTTTTATGTAGAG',\n",
              "  'ATTTTTATGTAGAGA',\n",
              "  'TTTTTATGTAGAGAT',\n",
              "  'TTTTATGTAGAGATG',\n",
              "  'TTTATGTAGAGATGA',\n",
              "  'TTATGTAGAGATGAG',\n",
              "  'TATGTAGAGATGAGT',\n",
              "  'ATGTAGAGATGAGTT',\n",
              "  'TGTAGAGATGAGTTT',\n",
              "  'GTAGAGATGAGTTTC',\n",
              "  'TAGAGATGAGTTTCT',\n",
              "  'AGAGATGAGTTTCTG',\n",
              "  'GAGATGAGTTTCTGA',\n",
              "  'AGATGAGTTTCTGAC',\n",
              "  'GATGAGTTTCTGACA',\n",
              "  'ATGAGTTTCTGACAT',\n",
              "  'TGAGTTTCTGACATA',\n",
              "  'GAGTTTCTGACATAT',\n",
              "  'AGTTTCTGACATATA',\n",
              "  'GTTTCTGACATATAT']]"
            ]
          },
          "metadata": {},
          "execution_count": 16
        }
      ],
      "source": [
        "reference_kmers.take(2)"
      ]
    },
    {
      "cell_type": "markdown",
      "metadata": {
        "id": "x4a_UuqMUbcr"
      },
      "source": [
        "# Step 3: Collect all kmers and build a distinct kmer set\n",
        "\n",
        "• Hint: you can use python “set” function\n",
        "\n",
        "• Report the number of distinct kmers (N)"
      ]
    },
    {
      "cell_type": "code",
      "execution_count": 17,
      "metadata": {
        "id": "o8cKZPl-Vp1X"
      },
      "outputs": [],
      "source": [
        "# Merge and distinct, collect to a set\n",
        "kmers = set(reads_kmers \n",
        "  .union(reference_kmers)\n",
        "  .flatMap(lambda x: x) \n",
        "  .distinct()\n",
        "  .collect())"
      ]
    },
    {
      "cell_type": "code",
      "execution_count": 18,
      "metadata": {
        "colab": {
          "base_uri": "https://localhost:8080/"
        },
        "id": "J8wR4jStWvSK",
        "outputId": "29de2c90-86d1-4894-8671-a1b4191ea1de"
      },
      "outputs": [
        {
          "output_type": "execute_result",
          "data": {
            "text/plain": [
              "72530"
            ]
          },
          "metadata": {},
          "execution_count": 18
        }
      ],
      "source": [
        "len(kmers)"
      ]
    },
    {
      "cell_type": "markdown",
      "metadata": {
        "id": "C3eLWeCXXeiH"
      },
      "source": [
        "**The number of distinct kmers is 72,530**\n"
      ]
    },
    {
      "cell_type": "code",
      "execution_count": 19,
      "metadata": {
        "colab": {
          "base_uri": "https://localhost:8080/"
        },
        "id": "949kQtpBIKpB",
        "outputId": "1e0e59bf-9a28-4e5d-ed73-c022c326568d"
      },
      "outputs": [
        {
          "output_type": "execute_result",
          "data": {
            "text/plain": [
              "PythonRDD[40] at RDD at PythonRDD.scala:53"
            ]
          },
          "metadata": {},
          "execution_count": 19
        }
      ],
      "source": [
        "reads"
      ]
    },
    {
      "cell_type": "code",
      "execution_count": 19,
      "metadata": {
        "id": "8MY7yM09Kiuz"
      },
      "outputs": [],
      "source": []
    },
    {
      "cell_type": "markdown",
      "metadata": {
        "id": "hRSRaZRPKi7T"
      },
      "source": [
        "# Step4"
      ]
    },
    {
      "cell_type": "code",
      "execution_count": 20,
      "metadata": {
        "id": "1lQ3tv3BKkMX"
      },
      "outputs": [],
      "source": [
        "from pyspark.ml.linalg import Vectors\n",
        "import pandas as pd"
      ]
    },
    {
      "cell_type": "code",
      "source": [
        "\n",
        "# turn reads to list \n",
        "r_list = reads.collect()"
      ],
      "metadata": {
        "id": "rQF6H_7ScYiW"
      },
      "execution_count": 21,
      "outputs": []
    },
    {
      "cell_type": "code",
      "source": [
        "# check feature vector of every kmer in each read\n",
        "def check_kmer_features(kmer):\n",
        "  m = []\n",
        "  \n",
        "\n",
        "  for i in range(len(r_list)):\n",
        "    if kmer in r_list[i]:\n",
        "      m.append(i)\n",
        "  v = [1.0 for i in range(len(m))]\n",
        "  return (kmer,Vectors.dense(Vectors.sparse(len(r_list),m,v)))"
      ],
      "metadata": {
        "id": "1geHIJrTcmkB"
      },
      "execution_count": 22,
      "outputs": []
    },
    {
      "cell_type": "code",
      "source": [
        "kmers_rdd = sc.parallelize(list(kmers))"
      ],
      "metadata": {
        "id": "z_1L60tdbW0q"
      },
      "execution_count": 23,
      "outputs": []
    },
    {
      "cell_type": "code",
      "execution_count": 24,
      "metadata": {
        "id": "pap8knRucBiv"
      },
      "outputs": [],
      "source": [
        "reads_features = kmers_rdd.map(lambda x: check_kmer_features(x))"
      ]
    },
    {
      "cell_type": "code",
      "execution_count": 25,
      "metadata": {
        "id": "QKxMpHBRgpNo"
      },
      "outputs": [],
      "source": [
        "reads_features_df = reads_features.toDF(['kmer','read_features'])"
      ]
    },
    {
      "cell_type": "code",
      "execution_count": 26,
      "metadata": {
        "id": "ZbWHjuLfWauj",
        "outputId": "baaea457-3fcb-40ae-fa9b-c928955ce00f",
        "colab": {
          "base_uri": "https://localhost:8080/"
        }
      },
      "outputs": [
        {
          "output_type": "stream",
          "name": "stdout",
          "text": [
            "+---------------+--------------------+\n",
            "|           kmer|       read_features|\n",
            "+---------------+--------------------+\n",
            "|GATCTGATGGTTTTA|[0.0,0.0,0.0,0.0,...|\n",
            "+---------------+--------------------+\n",
            "only showing top 1 row\n",
            "\n"
          ]
        }
      ],
      "source": [
        "#generate the dataframe with sparse vector\n",
        "reads_features_df.show(1)"
      ]
    },
    {
      "cell_type": "code",
      "execution_count": 27,
      "metadata": {
        "id": "oeMY7GJrWawY"
      },
      "outputs": [],
      "source": [
        "from pyspark.sql.functions import col\n",
        "from pyspark.ml.functions import vector_to_array"
      ]
    },
    {
      "cell_type": "code",
      "source": [
        "reads_features_df = reads_features_df.withColumn(\"read\", vector_to_array(\"read_features\")).select([\"kmer\"] + [col(\"read\")[i] for i in range(2000)])"
      ],
      "metadata": {
        "id": "4IHbE5SifYdS"
      },
      "execution_count": 28,
      "outputs": []
    },
    {
      "cell_type": "code",
      "source": [
        "read_name = {r_list[i]: 'reads' + str(i) for i in range(len(r_list))}"
      ],
      "metadata": {
        "id": "tIBtHfn4V_7E"
      },
      "execution_count": 29,
      "outputs": []
    },
    {
      "cell_type": "code",
      "source": [
        "# old code\n",
        "def check_kmer_features_old1(read):\n",
        "  m = []\n",
        "  kmers_list = list(kmers)\n",
        "  for i in range(len(kmers_list)):\n",
        "    if kmers_list[i] in read:\n",
        "      m.append(i)\n",
        "  v = [1.0 for i in range(len(m))]\n",
        "  return (read_name[read],Vectors.sparse(len(kmers_list),m,v))\n"
      ],
      "metadata": {
        "id": "FeEkH4MyofTr"
      },
      "execution_count": 30,
      "outputs": []
    },
    {
      "cell_type": "code",
      "source": [
        "reads_features = reads.map(lambda x: check_kmer_features_old1(x))"
      ],
      "metadata": {
        "id": "RN4pbbKWzc6c"
      },
      "execution_count": 31,
      "outputs": []
    },
    {
      "cell_type": "code",
      "source": [
        "reads_features.take(2)"
      ],
      "metadata": {
        "id": "MfpvphOd0ONF",
        "outputId": "915e99ce-06ce-4a12-83c6-52b6f131dff0",
        "colab": {
          "base_uri": "https://localhost:8080/"
        }
      },
      "execution_count": 32,
      "outputs": [
        {
          "output_type": "execute_result",
          "data": {
            "text/plain": [
              "[('reads0',\n",
              "  SparseVector(72530, {171: 1.0, 853: 1.0, 1693: 1.0, 2458: 1.0, 4005: 1.0, 4616: 1.0, 4888: 1.0, 6088: 1.0, 6581: 1.0, 7639: 1.0, 7932: 1.0, 9006: 1.0, 11636: 1.0, 13188: 1.0, 16374: 1.0, 17639: 1.0, 18175: 1.0, 18275: 1.0, 19241: 1.0, 19545: 1.0, 20315: 1.0, 20390: 1.0, 21783: 1.0, 22082: 1.0, 23392: 1.0, 23736: 1.0, 23934: 1.0, 23957: 1.0, 24718: 1.0, 25523: 1.0, 25944: 1.0, 26522: 1.0, 26768: 1.0, 27978: 1.0, 28197: 1.0, 30096: 1.0, 31463: 1.0, 34048: 1.0, 34659: 1.0, 35092: 1.0, 36089: 1.0, 37854: 1.0, 38460: 1.0, 40048: 1.0, 40474: 1.0, 40766: 1.0, 41118: 1.0, 41690: 1.0, 42496: 1.0, 42568: 1.0, 42911: 1.0, 43064: 1.0, 43484: 1.0, 44215: 1.0, 45098: 1.0, 46243: 1.0, 50536: 1.0, 51935: 1.0, 53798: 1.0, 54048: 1.0, 54198: 1.0, 54916: 1.0, 55896: 1.0, 56222: 1.0, 58227: 1.0, 59434: 1.0, 59625: 1.0, 61056: 1.0, 61065: 1.0, 61218: 1.0, 61340: 1.0, 61473: 1.0, 61891: 1.0, 61979: 1.0, 62585: 1.0, 63353: 1.0, 63443: 1.0, 65006: 1.0, 65355: 1.0, 65728: 1.0, 66313: 1.0, 67215: 1.0, 67549: 1.0, 69068: 1.0, 70687: 1.0, 72270: 1.0})),\n",
              " ('reads1',\n",
              "  SparseVector(72530, {171: 1.0, 853: 1.0, 2458: 1.0, 4998: 1.0, 5915: 1.0, 6088: 1.0, 6581: 1.0, 7639: 1.0, 8836: 1.0, 8859: 1.0, 9006: 1.0, 11443: 1.0, 11636: 1.0, 12577: 1.0, 12972: 1.0, 13188: 1.0, 13825: 1.0, 13925: 1.0, 14370: 1.0, 14963: 1.0, 16656: 1.0, 17639: 1.0, 18175: 1.0, 19545: 1.0, 20390: 1.0, 21783: 1.0, 22082: 1.0, 23392: 1.0, 23736: 1.0, 23934: 1.0, 25523: 1.0, 25619: 1.0, 25944: 1.0, 26379: 1.0, 26522: 1.0, 26768: 1.0, 27978: 1.0, 28197: 1.0, 28434: 1.0, 34137: 1.0, 34659: 1.0, 35092: 1.0, 36127: 1.0, 37854: 1.0, 38460: 1.0, 39715: 1.0, 40048: 1.0, 40766: 1.0, 41118: 1.0, 41690: 1.0, 41938: 1.0, 42568: 1.0, 42911: 1.0, 43064: 1.0, 44160: 1.0, 44215: 1.0, 44589: 1.0, 44962: 1.0, 45098: 1.0, 45216: 1.0, 51577: 1.0, 53355: 1.0, 53798: 1.0, 54048: 1.0, 54098: 1.0, 54198: 1.0, 54916: 1.0, 56222: 1.0, 56663: 1.0, 57831: 1.0, 58838: 1.0, 59625: 1.0, 61065: 1.0, 61218: 1.0, 61340: 1.0, 61473: 1.0, 61891: 1.0, 61979: 1.0, 63353: 1.0, 63443: 1.0, 65006: 1.0, 65728: 1.0, 65973: 1.0, 67215: 1.0, 69068: 1.0, 70687: 1.0}))]"
            ]
          },
          "metadata": {},
          "execution_count": 32
        }
      ]
    },
    {
      "cell_type": "markdown",
      "metadata": {
        "id": "RSuEBcoLKlwB"
      },
      "source": [
        "# Step5"
      ]
    },
    {
      "cell_type": "code",
      "source": [
        "reference_rdd = reference.select(\"sequence\").rdd.map(lambda x: x['sequence'])"
      ],
      "metadata": {
        "id": "jZ1Yef9amA-L"
      },
      "execution_count": 33,
      "outputs": []
    },
    {
      "cell_type": "code",
      "source": [
        "reference_list = reference_rdd.collect()\n",
        "reference_list[0]"
      ],
      "metadata": {
        "id": "bzpF9dQJmMsb",
        "outputId": "505d06a2-8c0f-430e-d984-96be984d50ff",
        "colab": {
          "base_uri": "https://localhost:8080/",
          "height": 35
        }
      },
      "execution_count": 34,
      "outputs": [
        {
          "output_type": "execute_result",
          "data": {
            "text/plain": [
              "'CCCTTCTCCTATCCCTTGAAAAATTGTCATTTATTTCTCTTATCCATATGGCATAATCAAAGAATAAATTGGTGATATTTGTTCAAAAATCCATGCCTAT'"
            ],
            "application/vnd.google.colaboratory.intrinsic+json": {
              "type": "string"
            }
          },
          "metadata": {},
          "execution_count": 34
        }
      ]
    },
    {
      "cell_type": "code",
      "source": [
        "#generate the name of columns\n",
        "start_rdd = reference.select(\"start\").rdd.map(lambda x: x['start'])\n",
        "end_rdd = reference.select(\"end\").rdd.map(lambda x: x['end'])\n",
        "s_list = start_rdd.collect()\n",
        "e_list = end_rdd.collect()\n",
        "reference_name = ['bin' + str(s_list[i]) + '_' +  str(e_list[i]) for i in range(len(s_list))]\n",
        "reference_name[0]"
      ],
      "metadata": {
        "id": "nCcOrMXOnWJN",
        "outputId": "c0b4bc76-300b-4c0b-e658-0df462947f77",
        "colab": {
          "base_uri": "https://localhost:8080/",
          "height": 35
        }
      },
      "execution_count": 35,
      "outputs": [
        {
          "output_type": "execute_result",
          "data": {
            "text/plain": [
              "'bin20000000_20000100'"
            ],
            "application/vnd.google.colaboratory.intrinsic+json": {
              "type": "string"
            }
          },
          "metadata": {},
          "execution_count": 35
        }
      ]
    },
    {
      "cell_type": "code",
      "source": [],
      "metadata": {
        "id": "kDCOpTHw5Asm"
      },
      "execution_count": 35,
      "outputs": []
    },
    {
      "cell_type": "code",
      "source": [
        "# check feature vector of every kmer in each reference\n",
        "def check_kmer_read_features_sequence(kmer):\n",
        "  m = []\n",
        "  for i in range(len(reference_list)):\n",
        "    if kmer in reference_list[i]:\n",
        "      m.append(i)\n",
        "  v = [1.0 for i in range(len(m))]\n",
        "  return (kmer,Vectors.dense(Vectors.sparse(len(reference_list),m,v)))"
      ],
      "metadata": {
        "id": "CEoYkzmckd6W"
      },
      "execution_count": 36,
      "outputs": []
    },
    {
      "cell_type": "code",
      "execution_count": 37,
      "metadata": {
        "id": "NqRXCvBAKm-h"
      },
      "outputs": [],
      "source": [
        "reference_features = kmers_rdd.map(lambda x:check_kmer_read_features_sequence(x))"
      ]
    },
    {
      "cell_type": "code",
      "source": [
        "# turn to dataframe\n",
        "reference_features_df = reference_features.toDF(['kmer','reference_features'])"
      ],
      "metadata": {
        "id": "WbHSEchnkP1U"
      },
      "execution_count": 38,
      "outputs": []
    },
    {
      "cell_type": "code",
      "execution_count": 39,
      "metadata": {
        "colab": {
          "base_uri": "https://localhost:8080/"
        },
        "id": "7tmq2Xoonm56",
        "outputId": "4ea6bdcc-85ef-4c6b-ff5e-ccb1b2664561"
      },
      "outputs": [
        {
          "output_type": "stream",
          "name": "stdout",
          "text": [
            "+---------------+--------------------+\n",
            "|           kmer|  reference_features|\n",
            "+---------------+--------------------+\n",
            "|GATCTGATGGTTTTA|[0.0,0.0,0.0,0.0,...|\n",
            "+---------------+--------------------+\n",
            "only showing top 1 row\n",
            "\n"
          ]
        }
      ],
      "source": [
        "reference_features_df.show(1) "
      ]
    },
    {
      "cell_type": "code",
      "execution_count": 40,
      "metadata": {
        "id": "eFux_1_DntsP"
      },
      "outputs": [],
      "source": [
        "# expand the dense vector to different collomns\n",
        "reference_features_df = reference_features_df.withColumn(\"xs\", vector_to_array(\"reference_features\")).select([\"kmer\"] + [col(\"xs\")[i] for i in range(len(reference_name))])"
      ]
    },
    {
      "cell_type": "code",
      "source": [
        "reference_name = ['kmer'] + reference_name\n",
        "reference_features_df = reference_features_df.select([col(c).alias(reference_name[i]) for i, c in enumerate(reference_features_df.columns)])"
      ],
      "metadata": {
        "id": "TU9eLWHMnUXK"
      },
      "execution_count": 41,
      "outputs": []
    },
    {
      "cell_type": "code",
      "source": [
        "reference_name_d = {reference_list[i]: reference_name[i+1] for i in range(len(reference_list))}\n",
        "len(reference_name_d)"
      ],
      "metadata": {
        "id": "OJylWwlmWRmi",
        "outputId": "69eaef0a-5667-4b0b-a161-53ba3d0e31a7",
        "colab": {
          "base_uri": "https://localhost:8080/"
        }
      },
      "execution_count": 42,
      "outputs": [
        {
          "output_type": "execute_result",
          "data": {
            "text/plain": [
              "500"
            ]
          },
          "metadata": {},
          "execution_count": 42
        }
      ]
    },
    {
      "cell_type": "code",
      "source": [
        "# old code\n",
        "def check_kmer_features_old(read):\n",
        "  m = []\n",
        "  kmers_list = list(kmers)\n",
        "  for i in range(len(kmers_list)):\n",
        "    if kmers_list[i] in read:\n",
        "      m.append(i)\n",
        "  v = [1.0 for i in range(len(m))]\n",
        "  return (reference_name_d[read],Vectors.sparse(len(kmers_list),m,v))"
      ],
      "metadata": {
        "id": "lNnY0l_v484V"
      },
      "execution_count": 43,
      "outputs": []
    },
    {
      "cell_type": "code",
      "source": [
        "# old code \n",
        "reference_features = reference_rdd.map(lambda x: check_kmer_features_old(x))\n",
        "reference_features.take(1)"
      ],
      "metadata": {
        "id": "fUd4m4l50doH",
        "outputId": "d37f6f26-2525-44f9-bbe1-17222e2ffc50",
        "colab": {
          "base_uri": "https://localhost:8080/"
        }
      },
      "execution_count": 44,
      "outputs": [
        {
          "output_type": "execute_result",
          "data": {
            "text/plain": [
              "[('bin20000000_20000100',\n",
              "  SparseVector(72530, {171: 1.0, 853: 1.0, 2585: 1.0, 4998: 1.0, 6088: 1.0, 7344: 1.0, 7639: 1.0, 8859: 1.0, 9006: 1.0, 9267: 1.0, 11636: 1.0, 13473: 1.0, 13825: 1.0, 14089: 1.0, 15244: 1.0, 15320: 1.0, 15828: 1.0, 16306: 1.0, 16656: 1.0, 17210: 1.0, 17639: 1.0, 18175: 1.0, 19241: 1.0, 19545: 1.0, 20315: 1.0, 20390: 1.0, 21783: 1.0, 22082: 1.0, 23006: 1.0, 25523: 1.0, 25619: 1.0, 26028: 1.0, 26522: 1.0, 27978: 1.0, 33448: 1.0, 33757: 1.0, 34048: 1.0, 34649: 1.0, 36127: 1.0, 38460: 1.0, 38726: 1.0, 40474: 1.0, 40766: 1.0, 41118: 1.0, 41690: 1.0, 42046: 1.0, 42496: 1.0, 42568: 1.0, 43064: 1.0, 43791: 1.0, 44215: 1.0, 45098: 1.0, 46243: 1.0, 46877: 1.0, 47323: 1.0, 48119: 1.0, 49411: 1.0, 49877: 1.0, 50170: 1.0, 51935: 1.0, 53099: 1.0, 53763: 1.0, 53798: 1.0, 54048: 1.0, 54098: 1.0, 57831: 1.0, 58227: 1.0, 58708: 1.0, 59434: 1.0, 61056: 1.0, 61218: 1.0, 61979: 1.0, 62472: 1.0, 62585: 1.0, 63353: 1.0, 63443: 1.0, 65035: 1.0, 65355: 1.0, 66313: 1.0, 67543: 1.0, 67549: 1.0, 68341: 1.0, 68969: 1.0, 69392: 1.0, 71169: 1.0, 72270: 1.0}))]"
            ]
          },
          "metadata": {},
          "execution_count": 44
        }
      ]
    },
    {
      "cell_type": "markdown",
      "metadata": {
        "id": "1knv_hbyXnoI"
      },
      "source": [
        "\n",
        "# Step 6 （没写完版orz）"
      ]
    },
    {
      "cell_type": "code",
      "source": [],
      "metadata": {
        "id": "GituBAQ1en98"
      },
      "execution_count": null,
      "outputs": []
    },
    {
      "cell_type": "code",
      "source": [],
      "metadata": {
        "id": "6mUx9Ztven__"
      },
      "execution_count": null,
      "outputs": []
    },
    {
      "cell_type": "code",
      "source": [],
      "metadata": {
        "id": "rg5vbEcqeoCG"
      },
      "execution_count": null,
      "outputs": []
    },
    {
      "cell_type": "code",
      "source": [],
      "metadata": {
        "id": "RnaWXhAreoEN"
      },
      "execution_count": null,
      "outputs": []
    },
    {
      "cell_type": "code",
      "source": [],
      "metadata": {
        "id": "1r9NaQHSeoGR"
      },
      "execution_count": null,
      "outputs": []
    },
    {
      "cell_type": "code",
      "source": [],
      "metadata": {
        "id": "oF__KkfeeoIG"
      },
      "execution_count": null,
      "outputs": []
    },
    {
      "cell_type": "code",
      "source": [],
      "metadata": {
        "id": "8_sdXSE5eoKK"
      },
      "execution_count": null,
      "outputs": []
    },
    {
      "cell_type": "code",
      "source": [],
      "metadata": {
        "id": "gGVItl78eoMR"
      },
      "execution_count": null,
      "outputs": []
    },
    {
      "cell_type": "code",
      "source": [
        "import random\n",
        "import numpy as np\n",
        "from pyspark.sql.functions import rand\n",
        "from pyspark.ml.feature import MinHashLSH"
      ],
      "metadata": {
        "id": "WYDDeIe1O4Xs"
      },
      "execution_count": 45,
      "outputs": []
    },
    {
      "cell_type": "code",
      "source": [
        "read_df_new = reads_features.toDF(['read','feature'])\n",
        "read_df_new.show(1)\n",
        "                                  \n",
        "                                  "
      ],
      "metadata": {
        "id": "InUYfkcse01j",
        "outputId": "66d225e5-f78e-4d47-e182-fd3413f2b0e8",
        "colab": {
          "base_uri": "https://localhost:8080/"
        }
      },
      "execution_count": 46,
      "outputs": [
        {
          "output_type": "stream",
          "name": "stdout",
          "text": [
            "+------+--------------------+\n",
            "|  read|             feature|\n",
            "+------+--------------------+\n",
            "|reads0|(72530,[171,853,1...|\n",
            "+------+--------------------+\n",
            "only showing top 1 row\n",
            "\n"
          ]
        }
      ]
    },
    {
      "cell_type": "code",
      "source": [
        "mh = MinHashLSH(inputCol=\"feature\", outputCol=\"hashes\", numHashTables=1000)\n",
        "model = mh.fit(read_df_new)"
      ],
      "metadata": {
        "id": "S9aA1PcA17lP"
      },
      "execution_count": 47,
      "outputs": []
    },
    {
      "cell_type": "code",
      "source": [
        "reference_df_new = reference_features.toDF(['reference','feature'])"
      ],
      "metadata": {
        "id": "U1sO9jrgg4pt"
      },
      "execution_count": 48,
      "outputs": []
    },
    {
      "cell_type": "code",
      "source": [
        "model.transform(read_df_new).show(1)"
      ],
      "metadata": {
        "colab": {
          "base_uri": "https://localhost:8080/"
        },
        "id": "uFyQMOBXfbNI",
        "outputId": "44e521d6-8aac-48e3-d6e0-64879e63bbc5"
      },
      "execution_count": 60,
      "outputs": [
        {
          "output_type": "stream",
          "name": "stdout",
          "text": [
            "+-------+--------------------+--------------------+\n",
            "|   read|             feature|              hashes|\n",
            "+-------+--------------------+--------------------+\n",
            "| reads0|(72530,[171,853,1...|[[2.3998118E7], [...|\n",
            "| reads1|(72530,[171,853,2...|[[1.568162E7], [2...|\n",
            "| reads2|(72530,[3171,4521...|[[1.568162E7], [1...|\n",
            "| reads3|(72530,[171,853,2...|[[1.568162E7], [1...|\n",
            "| reads4|(72530,[171,1045,...|[[1.568162E7], [1...|\n",
            "| reads5|(72530,[171,853,2...|[[1.568162E7], [9...|\n",
            "| reads6|(72530,[146,322,5...|[[1.568162E7], [2...|\n",
            "| reads7|(72530,[146,322,5...|[[1.568162E7], [2...|\n",
            "| reads8|(72530,[667,1127,...|[[2.2829075E7], [...|\n",
            "| reads9|(72530,[146,322,5...|[[5.251896E7], [2...|\n",
            "|reads10|(72530,[146,322,7...|[[4.7921676E7], [...|\n",
            "|reads11|(72530,[68,336,66...|[[2679040.0], [62...|\n",
            "|reads12|(72530,[146,751,2...|[[2.0791872E7], [...|\n",
            "|reads13|(72530,[1640,2438...|[[9264173.0], [5....|\n",
            "|reads14|(72530,[2438,4432...|[[9264173.0], [6....|\n",
            "|reads15|(72530,[2438,3332...|[[5322964.0], [3....|\n",
            "|reads16|(72530,[943,1412,...|[[5322964.0], [3....|\n",
            "|reads17|(72530,[943,1412,...|[[7.1544351E7], [...|\n",
            "|reads18|(72530,[943,1412,...|[[1.4729617E7], [...|\n",
            "|reads19|(72530,[943,3642,...|[[3.388325E7], [1...|\n",
            "+-------+--------------------+--------------------+\n",
            "only showing top 20 rows\n",
            "\n"
          ]
        }
      ]
    },
    {
      "cell_type": "code",
      "source": [
        "finalresult = model.approxSimilarityJoin(read_df_new, reference_df_new, 1, distCol=\"JaccardDistance\")\\\n",
        "    .select(col(\"datasetA.read\").alias(\"idread\"),\n",
        "            col(\"datasetB.reference\").alias(\"idreference\"),\n",
        "            col(\"JaccardDistance\"))"
      ],
      "metadata": {
        "id": "ZWCUktY5QQey"
      },
      "execution_count": 49,
      "outputs": []
    },
    {
      "cell_type": "code",
      "source": [
        "finalresult.show(1)"
      ],
      "metadata": {
        "id": "5kyus5Rq024z",
        "outputId": "fa831750-fe46-4e6a-f4ad-b434beb2af8f",
        "colab": {
          "base_uri": "https://localhost:8080/"
        }
      },
      "execution_count": 50,
      "outputs": [
        {
          "output_type": "stream",
          "name": "stdout",
          "text": [
            "+---------+--------------------+-------------------+\n",
            "|   idread|         idreference|    JaccardDistance|\n",
            "+---------+--------------------+-------------------+\n",
            "|reads1117|bin20025100_20025200|0.02298850574712641|\n",
            "+---------+--------------------+-------------------+\n",
            "only showing top 1 row\n",
            "\n"
          ]
        }
      ]
    },
    {
      "cell_type": "code",
      "source": [
        "df_grouped = finalresult.groupBy(\"idread\").min(\"JaccardDistance\")"
      ],
      "metadata": {
        "id": "j6tAatj_17pp"
      },
      "execution_count": 54,
      "outputs": []
    },
    {
      "cell_type": "code",
      "source": [
        "df_grouped.show(1)"
      ],
      "metadata": {
        "colab": {
          "base_uri": "https://localhost:8080/"
        },
        "id": "wnzZg8oDYXq5",
        "outputId": "7b46ad3a-7996-46e5-f6ce-23c5f2b9bb87"
      },
      "execution_count": 55,
      "outputs": [
        {
          "output_type": "stream",
          "name": "stdout",
          "text": [
            "+---------+--------------------+\n",
            "|   idread|min(JaccardDistance)|\n",
            "+---------+--------------------+\n",
            "|reads1102|  0.6666666666666667|\n",
            "+---------+--------------------+\n",
            "only showing top 1 row\n",
            "\n"
          ]
        }
      ]
    },
    {
      "cell_type": "code",
      "source": [],
      "metadata": {
        "id": "tNKIuHP41NPi",
        "outputId": "318f5c72-5bcf-4637-a49d-41d23b5f38bd",
        "colab": {
          "base_uri": "https://localhost:8080/",
          "height": 133
        }
      },
      "execution_count": 59,
      "outputs": [
        {
          "output_type": "error",
          "ename": "SyntaxError",
          "evalue": "ignored",
          "traceback": [
            "\u001b[0;36m  File \u001b[0;32m\"<ipython-input-59-304b56020f19>\"\u001b[0;36m, line \u001b[0;32m1\u001b[0m\n\u001b[0;31m    result_df = finalresult.join(df_grouped, finalresult.idread = df_grouped.idread,'inner')\u001b[0m\n\u001b[0m                                             ^\u001b[0m\n\u001b[0;31mSyntaxError\u001b[0m\u001b[0;31m:\u001b[0m expression cannot contain assignment, perhaps you meant \"==\"?\n"
          ]
        }
      ]
    },
    {
      "cell_type": "code",
      "source": [
        "final = result_df.select('idread','idreference','JaccardDistance')"
      ],
      "metadata": {
        "id": "y292861Z1W8V",
        "outputId": "0b439a60-b220-4c21-c57f-c50b16ce8345",
        "colab": {
          "base_uri": "https://localhost:8080/"
        }
      },
      "execution_count": null,
      "outputs": [
        {
          "output_type": "stream",
          "name": "stderr",
          "text": [
            "ERROR:root:Internal Python error in the inspect module.\n",
            "Below is the traceback from this internal error.\n",
            "\n",
            "ERROR:root:Internal Python error in the inspect module.\n",
            "Below is the traceback from this internal error.\n",
            "\n",
            "ERROR:root:Internal Python error in the inspect module.\n",
            "Below is the traceback from this internal error.\n",
            "\n"
          ]
        },
        {
          "output_type": "stream",
          "name": "stdout",
          "text": [
            "Traceback (most recent call last):\n",
            "  File \"/usr/local/lib/python3.9/dist-packages/IPython/core/interactiveshell.py\", line 3553, in run_code\n",
            "    exec(code_obj, self.user_global_ns, self.user_ns)\n",
            "  File \"<ipython-input-78-1847c6d93c24>\", line 1, in <cell line: 1>\n",
            "    final = result_df.select('idread','idreference','JaccardDistance')\n",
            "NameError: name 'result_df' is not defined\n",
            "\n",
            "During handling of the above exception, another exception occurred:\n",
            "\n",
            "Traceback (most recent call last):\n",
            "  File \"/usr/local/lib/python3.9/dist-packages/IPython/core/interactiveshell.py\", line 2099, in showtraceback\n",
            "    stb = value._render_traceback_()\n",
            "AttributeError: 'NameError' object has no attribute '_render_traceback_'\n",
            "\n",
            "During handling of the above exception, another exception occurred:\n",
            "\n",
            "Traceback (most recent call last):\n",
            "  File \"/usr/local/lib/python3.9/dist-packages/IPython/core/ultratb.py\", line 1101, in get_records\n",
            "    return _fixed_getinnerframes(etb, number_of_lines_of_context, tb_offset)\n",
            "  File \"/usr/local/lib/python3.9/dist-packages/IPython/core/ultratb.py\", line 248, in wrapped\n",
            "    return f(*args, **kwargs)\n",
            "  File \"/usr/local/lib/python3.9/dist-packages/IPython/core/ultratb.py\", line 281, in _fixed_getinnerframes\n",
            "    records = fix_frame_records_filenames(inspect.getinnerframes(etb, context))\n",
            "  File \"/usr/lib/python3.9/inspect.py\", line 1543, in getinnerframes\n",
            "    frameinfo = (tb.tb_frame,) + getframeinfo(tb, context)\n",
            "  File \"/usr/lib/python3.9/inspect.py\", line 1501, in getframeinfo\n",
            "    filename = getsourcefile(frame) or getfile(frame)\n",
            "  File \"/usr/lib/python3.9/inspect.py\", line 709, in getsourcefile\n",
            "    if getattr(getmodule(object, filename), '__loader__', None) is not None:\n",
            "  File \"/usr/lib/python3.9/inspect.py\", line 738, in getmodule\n",
            "    file = getabsfile(object, _filename)\n",
            "  File \"/usr/lib/python3.9/inspect.py\", line 722, in getabsfile\n",
            "    return os.path.normcase(os.path.abspath(_filename))\n",
            "  File \"/usr/lib/python3.9/posixpath.py\", line 380, in abspath\n",
            "    cwd = os.getcwd()\n",
            "OSError: [Errno 107] Transport endpoint is not connected\n",
            "Traceback (most recent call last):\n",
            "  File \"/usr/local/lib/python3.9/dist-packages/IPython/core/interactiveshell.py\", line 3553, in run_code\n",
            "    exec(code_obj, self.user_global_ns, self.user_ns)\n",
            "  File \"<ipython-input-78-1847c6d93c24>\", line 1, in <cell line: 1>\n",
            "    final = result_df.select('idread','idreference','JaccardDistance')\n",
            "NameError: name 'result_df' is not defined\n",
            "\n",
            "During handling of the above exception, another exception occurred:\n",
            "\n",
            "Traceback (most recent call last):\n",
            "  File \"/usr/local/lib/python3.9/dist-packages/IPython/core/interactiveshell.py\", line 2099, in showtraceback\n",
            "    stb = value._render_traceback_()\n",
            "AttributeError: 'NameError' object has no attribute '_render_traceback_'\n",
            "\n",
            "During handling of the above exception, another exception occurred:\n",
            "\n",
            "Traceback (most recent call last):\n",
            "  File \"/usr/local/lib/python3.9/dist-packages/IPython/core/interactiveshell.py\", line 3473, in run_ast_nodes\n",
            "    if (await self.run_code(code, result,  async_=asy)):\n",
            "  File \"/usr/local/lib/python3.9/dist-packages/IPython/core/interactiveshell.py\", line 3575, in run_code\n",
            "    self.showtraceback(running_compiled_code=True)\n",
            "  File \"/usr/local/lib/python3.9/dist-packages/IPython/core/interactiveshell.py\", line 2101, in showtraceback\n",
            "    stb = self.InteractiveTB.structured_traceback(etype,\n",
            "  File \"/usr/local/lib/python3.9/dist-packages/IPython/core/ultratb.py\", line 1367, in structured_traceback\n",
            "    return FormattedTB.structured_traceback(\n",
            "  File \"/usr/local/lib/python3.9/dist-packages/IPython/core/ultratb.py\", line 1267, in structured_traceback\n",
            "    return VerboseTB.structured_traceback(\n",
            "  File \"/usr/local/lib/python3.9/dist-packages/IPython/core/ultratb.py\", line 1124, in structured_traceback\n",
            "    formatted_exception = self.format_exception_as_a_whole(etype, evalue, etb, number_of_lines_of_context,\n",
            "  File \"/usr/local/lib/python3.9/dist-packages/IPython/core/ultratb.py\", line 1082, in format_exception_as_a_whole\n",
            "    last_unique, recursion_repeat = find_recursion(orig_etype, evalue, records)\n",
            "  File \"/usr/local/lib/python3.9/dist-packages/IPython/core/ultratb.py\", line 382, in find_recursion\n",
            "    return len(records), 0\n",
            "TypeError: object of type 'NoneType' has no len()\n",
            "\n",
            "During handling of the above exception, another exception occurred:\n",
            "\n",
            "Traceback (most recent call last):\n",
            "  File \"/usr/local/lib/python3.9/dist-packages/IPython/core/interactiveshell.py\", line 2099, in showtraceback\n",
            "    stb = value._render_traceback_()\n",
            "AttributeError: 'TypeError' object has no attribute '_render_traceback_'\n",
            "\n",
            "During handling of the above exception, another exception occurred:\n",
            "\n",
            "Traceback (most recent call last):\n",
            "  File \"/usr/local/lib/python3.9/dist-packages/IPython/core/ultratb.py\", line 1101, in get_records\n",
            "    return _fixed_getinnerframes(etb, number_of_lines_of_context, tb_offset)\n",
            "  File \"/usr/local/lib/python3.9/dist-packages/IPython/core/ultratb.py\", line 248, in wrapped\n",
            "    return f(*args, **kwargs)\n",
            "  File \"/usr/local/lib/python3.9/dist-packages/IPython/core/ultratb.py\", line 281, in _fixed_getinnerframes\n",
            "    records = fix_frame_records_filenames(inspect.getinnerframes(etb, context))\n",
            "  File \"/usr/lib/python3.9/inspect.py\", line 1543, in getinnerframes\n",
            "    frameinfo = (tb.tb_frame,) + getframeinfo(tb, context)\n",
            "  File \"/usr/lib/python3.9/inspect.py\", line 1501, in getframeinfo\n",
            "    filename = getsourcefile(frame) or getfile(frame)\n",
            "  File \"/usr/lib/python3.9/inspect.py\", line 709, in getsourcefile\n",
            "    if getattr(getmodule(object, filename), '__loader__', None) is not None:\n",
            "  File \"/usr/lib/python3.9/inspect.py\", line 738, in getmodule\n",
            "    file = getabsfile(object, _filename)\n",
            "  File \"/usr/lib/python3.9/inspect.py\", line 722, in getabsfile\n",
            "    return os.path.normcase(os.path.abspath(_filename))\n",
            "  File \"/usr/lib/python3.9/posixpath.py\", line 380, in abspath\n",
            "    cwd = os.getcwd()\n",
            "OSError: [Errno 107] Transport endpoint is not connected\n",
            "Traceback (most recent call last):\n",
            "  File \"/usr/local/lib/python3.9/dist-packages/IPython/core/interactiveshell.py\", line 3553, in run_code\n",
            "    exec(code_obj, self.user_global_ns, self.user_ns)\n",
            "  File \"<ipython-input-78-1847c6d93c24>\", line 1, in <cell line: 1>\n",
            "    final = result_df.select('idread','idreference','JaccardDistance')\n",
            "NameError: name 'result_df' is not defined\n",
            "\n",
            "During handling of the above exception, another exception occurred:\n",
            "\n",
            "Traceback (most recent call last):\n",
            "  File \"/usr/local/lib/python3.9/dist-packages/IPython/core/interactiveshell.py\", line 2099, in showtraceback\n",
            "    stb = value._render_traceback_()\n",
            "AttributeError: 'NameError' object has no attribute '_render_traceback_'\n",
            "\n",
            "During handling of the above exception, another exception occurred:\n",
            "\n",
            "Traceback (most recent call last):\n",
            "  File \"/usr/local/lib/python3.9/dist-packages/IPython/core/interactiveshell.py\", line 3473, in run_ast_nodes\n",
            "    if (await self.run_code(code, result,  async_=asy)):\n",
            "  File \"/usr/local/lib/python3.9/dist-packages/IPython/core/interactiveshell.py\", line 3575, in run_code\n",
            "    self.showtraceback(running_compiled_code=True)\n",
            "  File \"/usr/local/lib/python3.9/dist-packages/IPython/core/interactiveshell.py\", line 2101, in showtraceback\n",
            "    stb = self.InteractiveTB.structured_traceback(etype,\n",
            "  File \"/usr/local/lib/python3.9/dist-packages/IPython/core/ultratb.py\", line 1367, in structured_traceback\n",
            "    return FormattedTB.structured_traceback(\n",
            "  File \"/usr/local/lib/python3.9/dist-packages/IPython/core/ultratb.py\", line 1267, in structured_traceback\n",
            "    return VerboseTB.structured_traceback(\n",
            "  File \"/usr/local/lib/python3.9/dist-packages/IPython/core/ultratb.py\", line 1124, in structured_traceback\n",
            "    formatted_exception = self.format_exception_as_a_whole(etype, evalue, etb, number_of_lines_of_context,\n",
            "  File \"/usr/local/lib/python3.9/dist-packages/IPython/core/ultratb.py\", line 1082, in format_exception_as_a_whole\n",
            "    last_unique, recursion_repeat = find_recursion(orig_etype, evalue, records)\n",
            "  File \"/usr/local/lib/python3.9/dist-packages/IPython/core/ultratb.py\", line 382, in find_recursion\n",
            "    return len(records), 0\n",
            "TypeError: object of type 'NoneType' has no len()\n",
            "\n",
            "During handling of the above exception, another exception occurred:\n",
            "\n",
            "Traceback (most recent call last):\n",
            "  File \"/usr/local/lib/python3.9/dist-packages/IPython/core/interactiveshell.py\", line 2099, in showtraceback\n",
            "    stb = value._render_traceback_()\n",
            "AttributeError: 'TypeError' object has no attribute '_render_traceback_'\n",
            "\n",
            "During handling of the above exception, another exception occurred:\n",
            "\n",
            "Traceback (most recent call last):\n",
            "  File \"/usr/local/lib/python3.9/dist-packages/IPython/core/interactiveshell.py\", line 3030, in _run_cell\n",
            "    return runner(coro)\n",
            "  File \"/usr/local/lib/python3.9/dist-packages/IPython/core/async_helpers.py\", line 78, in _pseudo_sync_runner\n",
            "    coro.send(None)\n",
            "  File \"/usr/local/lib/python3.9/dist-packages/IPython/core/interactiveshell.py\", line 3257, in run_cell_async\n",
            "    has_raised = await self.run_ast_nodes(code_ast.body, cell_name,\n",
            "  File \"/usr/local/lib/python3.9/dist-packages/IPython/core/interactiveshell.py\", line 3492, in run_ast_nodes\n",
            "    self.showtraceback()\n",
            "  File \"/usr/local/lib/python3.9/dist-packages/IPython/core/interactiveshell.py\", line 2101, in showtraceback\n",
            "    stb = self.InteractiveTB.structured_traceback(etype,\n",
            "  File \"/usr/local/lib/python3.9/dist-packages/IPython/core/ultratb.py\", line 1367, in structured_traceback\n",
            "    return FormattedTB.structured_traceback(\n",
            "  File \"/usr/local/lib/python3.9/dist-packages/IPython/core/ultratb.py\", line 1267, in structured_traceback\n",
            "    return VerboseTB.structured_traceback(\n",
            "  File \"/usr/local/lib/python3.9/dist-packages/IPython/core/ultratb.py\", line 1142, in structured_traceback\n",
            "    formatted_exceptions += self.format_exception_as_a_whole(etype, evalue, etb, lines_of_context,\n",
            "  File \"/usr/local/lib/python3.9/dist-packages/IPython/core/ultratb.py\", line 1082, in format_exception_as_a_whole\n",
            "    last_unique, recursion_repeat = find_recursion(orig_etype, evalue, records)\n",
            "  File \"/usr/local/lib/python3.9/dist-packages/IPython/core/ultratb.py\", line 382, in find_recursion\n",
            "    return len(records), 0\n",
            "TypeError: object of type 'NoneType' has no len()\n",
            "\n",
            "During handling of the above exception, another exception occurred:\n",
            "\n",
            "Traceback (most recent call last):\n",
            "  File \"/usr/local/lib/python3.9/dist-packages/IPython/core/interactiveshell.py\", line 2099, in showtraceback\n",
            "    stb = value._render_traceback_()\n",
            "AttributeError: 'TypeError' object has no attribute '_render_traceback_'\n",
            "\n",
            "During handling of the above exception, another exception occurred:\n",
            "\n",
            "Traceback (most recent call last):\n",
            "  File \"/usr/local/lib/python3.9/dist-packages/IPython/core/ultratb.py\", line 1101, in get_records\n",
            "    return _fixed_getinnerframes(etb, number_of_lines_of_context, tb_offset)\n",
            "  File \"/usr/local/lib/python3.9/dist-packages/IPython/core/ultratb.py\", line 248, in wrapped\n",
            "    return f(*args, **kwargs)\n",
            "  File \"/usr/local/lib/python3.9/dist-packages/IPython/core/ultratb.py\", line 281, in _fixed_getinnerframes\n",
            "    records = fix_frame_records_filenames(inspect.getinnerframes(etb, context))\n",
            "  File \"/usr/lib/python3.9/inspect.py\", line 1543, in getinnerframes\n",
            "    frameinfo = (tb.tb_frame,) + getframeinfo(tb, context)\n",
            "  File \"/usr/lib/python3.9/inspect.py\", line 1501, in getframeinfo\n",
            "    filename = getsourcefile(frame) or getfile(frame)\n",
            "  File \"/usr/lib/python3.9/inspect.py\", line 709, in getsourcefile\n",
            "    if getattr(getmodule(object, filename), '__loader__', None) is not None:\n",
            "  File \"/usr/lib/python3.9/inspect.py\", line 738, in getmodule\n",
            "    file = getabsfile(object, _filename)\n",
            "  File \"/usr/lib/python3.9/inspect.py\", line 722, in getabsfile\n",
            "    return os.path.normcase(os.path.abspath(_filename))\n",
            "  File \"/usr/lib/python3.9/posixpath.py\", line 380, in abspath\n",
            "    cwd = os.getcwd()\n",
            "OSError: [Errno 107] Transport endpoint is not connected\n"
          ]
        }
      ]
    },
    {
      "cell_type": "markdown",
      "metadata": {
        "id": "Us8OP3PrXnoI"
      },
      "source": [
        "## read signature"
      ]
    },
    {
      "cell_type": "markdown",
      "metadata": {
        "id": "kyn87hi2XnoI"
      },
      "source": [
        "## reference signature"
      ]
    },
    {
      "cell_type": "code",
      "source": [],
      "metadata": {
        "id": "4h4rTKhLX2wx"
      },
      "execution_count": null,
      "outputs": []
    }
  ],
  "metadata": {
    "colab": {
      "provenance": [],
      "toc_visible": true,
      "include_colab_link": true
    },
    "kernelspec": {
      "display_name": "Python 3",
      "language": "python",
      "name": "python3"
    },
    "language_info": {
      "codemirror_mode": {
        "name": "ipython",
        "version": 3
      },
      "file_extension": ".py",
      "mimetype": "text/x-python",
      "name": "python",
      "nbconvert_exporter": "python",
      "pygments_lexer": "ipython3",
      "version": "3.8.8"
    }
  },
  "nbformat": 4,
  "nbformat_minor": 0
}