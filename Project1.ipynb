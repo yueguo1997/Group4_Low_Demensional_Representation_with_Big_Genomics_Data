{
  "cells": [
    {
      "cell_type": "markdown",
      "metadata": {
        "id": "vGmIEcOvOqh2"
      },
      "source": [
        "# Load Package"
      ]
    },
    {
      "cell_type": "code",
      "execution_count": null,
      "metadata": {
        "colab": {
          "base_uri": "https://localhost:8080/"
        },
        "id": "O9ZOdq_j9JUC",
        "outputId": "305e0799-e382-49b0-fce4-3fe01fb10aa6"
      },
      "outputs": [
        {
          "output_type": "stream",
          "name": "stdout",
          "text": [
            "Mounted at /content/drive\n"
          ]
        }
      ],
      "source": [
        "from google.colab import drive\n",
        "drive.mount('/content/drive')"
      ]
    },
    {
      "cell_type": "code",
      "execution_count": null,
      "metadata": {
        "colab": {
          "base_uri": "https://localhost:8080/"
        },
        "id": "7wEGHkoa9Ojl",
        "outputId": "56df8cd9-b4f7-439e-cd89-35a5816c39f9"
      },
      "outputs": [
        {
          "output_type": "stream",
          "name": "stdout",
          "text": [
            "/content/drive/.shortcut-targets-by-id/17vQsBka11gF9J6q62UIKd778-o_uQJUU/Bigdataproject\n"
          ]
        }
      ],
      "source": [
        "\n",
        "import os\n",
        "cur_path = \"/content/drive/MyDrive/Bigdataproject/\"\n",
        "os.chdir(cur_path)\n",
        "!pwd"
      ]
    },
    {
      "cell_type": "code",
      "execution_count": null,
      "metadata": {
        "colab": {
          "base_uri": "https://localhost:8080/"
        },
        "id": "0MDGVXW64BRa",
        "outputId": "f74398c1-d90e-4769-9698-6a72b8f5e9ab"
      },
      "outputs": [
        {
          "output_type": "stream",
          "name": "stdout",
          "text": [
            "Looking in indexes: https://pypi.org/simple, https://us-python.pkg.dev/colab-wheels/public/simple/\n",
            "Collecting pyspark\n",
            "  Downloading pyspark-3.3.2.tar.gz (281.4 MB)\n",
            "\u001b[2K     \u001b[90m━━━━━━━━━━━━━━━━━━━━━━━━━━━━━━━━━━━━━━━\u001b[0m \u001b[32m281.4/281.4 MB\u001b[0m \u001b[31m4.4 MB/s\u001b[0m eta \u001b[36m0:00:00\u001b[0m\n",
            "\u001b[?25h  Preparing metadata (setup.py) ... \u001b[?25l\u001b[?25hdone\n",
            "Collecting py4j==0.10.9.5\n",
            "  Downloading py4j-0.10.9.5-py2.py3-none-any.whl (199 kB)\n",
            "\u001b[2K     \u001b[90m━━━━━━━━━━━━━━━━━━━━━━━━━━━━━━━━━━━━━━\u001b[0m \u001b[32m199.7/199.7 kB\u001b[0m \u001b[31m17.6 MB/s\u001b[0m eta \u001b[36m0:00:00\u001b[0m\n",
            "\u001b[?25hBuilding wheels for collected packages: pyspark\n",
            "  Building wheel for pyspark (setup.py) ... \u001b[?25l\u001b[?25hdone\n",
            "  Created wheel for pyspark: filename=pyspark-3.3.2-py2.py3-none-any.whl size=281824028 sha256=5df4c3e646ad7352742c520a6bef5b45547b8405ce0fad0f7880222cb0ac7248\n",
            "  Stored in directory: /root/.cache/pip/wheels/6c/e3/9b/0525ce8a69478916513509d43693511463c6468db0de237c86\n",
            "Successfully built pyspark\n",
            "Installing collected packages: py4j, pyspark\n",
            "  Attempting uninstall: py4j\n",
            "    Found existing installation: py4j 0.10.9.7\n",
            "    Uninstalling py4j-0.10.9.7:\n",
            "      Successfully uninstalled py4j-0.10.9.7\n",
            "Successfully installed py4j-0.10.9.5 pyspark-3.3.2\n",
            "Looking in indexes: https://pypi.org/simple, https://us-python.pkg.dev/colab-wheels/public/simple/\n",
            "Requirement already satisfied: pyspark[sql] in /usr/local/lib/python3.9/dist-packages (3.3.2)\n",
            "Requirement already satisfied: py4j==0.10.9.5 in /usr/local/lib/python3.9/dist-packages (from pyspark[sql]) (0.10.9.5)\n",
            "Requirement already satisfied: pyarrow>=1.0.0 in /usr/local/lib/python3.9/dist-packages (from pyspark[sql]) (9.0.0)\n",
            "Requirement already satisfied: pandas>=1.0.5 in /usr/local/lib/python3.9/dist-packages (from pyspark[sql]) (1.4.4)\n",
            "Requirement already satisfied: python-dateutil>=2.8.1 in /usr/local/lib/python3.9/dist-packages (from pandas>=1.0.5->pyspark[sql]) (2.8.2)\n",
            "Requirement already satisfied: pytz>=2020.1 in /usr/local/lib/python3.9/dist-packages (from pandas>=1.0.5->pyspark[sql]) (2022.7.1)\n",
            "Requirement already satisfied: numpy>=1.18.5 in /usr/local/lib/python3.9/dist-packages (from pandas>=1.0.5->pyspark[sql]) (1.22.4)\n",
            "Requirement already satisfied: six>=1.5 in /usr/local/lib/python3.9/dist-packages (from python-dateutil>=2.8.1->pandas>=1.0.5->pyspark[sql]) (1.16.0)\n",
            "The following additional packages will be installed:\n",
            "  libxtst6 openjdk-8-jre-headless\n",
            "Suggested packages:\n",
            "  openjdk-8-demo openjdk-8-source libnss-mdns fonts-dejavu-extra\n",
            "  fonts-ipafont-gothic fonts-ipafont-mincho fonts-wqy-microhei\n",
            "  fonts-wqy-zenhei fonts-indic\n",
            "The following NEW packages will be installed:\n",
            "  libxtst6 openjdk-8-jdk-headless openjdk-8-jre-headless\n",
            "0 upgraded, 3 newly installed, 0 to remove and 24 not upgraded.\n",
            "Need to get 36.5 MB of archives.\n",
            "After this operation, 144 MB of additional disk space will be used.\n",
            "Selecting previously unselected package libxtst6:amd64.\n",
            "(Reading database ... 122349 files and directories currently installed.)\n",
            "Preparing to unpack .../libxtst6_2%3a1.2.3-1_amd64.deb ...\n",
            "Unpacking libxtst6:amd64 (2:1.2.3-1) ...\n",
            "Selecting previously unselected package openjdk-8-jre-headless:amd64.\n",
            "Preparing to unpack .../openjdk-8-jre-headless_8u362-ga-0ubuntu1~20.04.1_amd64.deb ...\n",
            "Unpacking openjdk-8-jre-headless:amd64 (8u362-ga-0ubuntu1~20.04.1) ...\n",
            "Selecting previously unselected package openjdk-8-jdk-headless:amd64.\n",
            "Preparing to unpack .../openjdk-8-jdk-headless_8u362-ga-0ubuntu1~20.04.1_amd64.deb ...\n",
            "Unpacking openjdk-8-jdk-headless:amd64 (8u362-ga-0ubuntu1~20.04.1) ...\n",
            "Setting up libxtst6:amd64 (2:1.2.3-1) ...\n",
            "Setting up openjdk-8-jre-headless:amd64 (8u362-ga-0ubuntu1~20.04.1) ...\n",
            "update-alternatives: using /usr/lib/jvm/java-8-openjdk-amd64/jre/bin/orbd to provide /usr/bin/orbd (orbd) in auto mode\n",
            "update-alternatives: using /usr/lib/jvm/java-8-openjdk-amd64/jre/bin/servertool to provide /usr/bin/servertool (servertool) in auto mode\n",
            "update-alternatives: using /usr/lib/jvm/java-8-openjdk-amd64/jre/bin/tnameserv to provide /usr/bin/tnameserv (tnameserv) in auto mode\n",
            "Setting up openjdk-8-jdk-headless:amd64 (8u362-ga-0ubuntu1~20.04.1) ...\n",
            "update-alternatives: using /usr/lib/jvm/java-8-openjdk-amd64/bin/idlj to provide /usr/bin/idlj (idlj) in auto mode\n",
            "update-alternatives: using /usr/lib/jvm/java-8-openjdk-amd64/bin/wsimport to provide /usr/bin/wsimport (wsimport) in auto mode\n",
            "update-alternatives: using /usr/lib/jvm/java-8-openjdk-amd64/bin/jsadebugd to provide /usr/bin/jsadebugd (jsadebugd) in auto mode\n",
            "update-alternatives: using /usr/lib/jvm/java-8-openjdk-amd64/bin/native2ascii to provide /usr/bin/native2ascii (native2ascii) in auto mode\n",
            "update-alternatives: using /usr/lib/jvm/java-8-openjdk-amd64/bin/javah to provide /usr/bin/javah (javah) in auto mode\n",
            "update-alternatives: using /usr/lib/jvm/java-8-openjdk-amd64/bin/hsdb to provide /usr/bin/hsdb (hsdb) in auto mode\n",
            "update-alternatives: using /usr/lib/jvm/java-8-openjdk-amd64/bin/clhsdb to provide /usr/bin/clhsdb (clhsdb) in auto mode\n",
            "update-alternatives: using /usr/lib/jvm/java-8-openjdk-amd64/bin/xjc to provide /usr/bin/xjc (xjc) in auto mode\n",
            "update-alternatives: using /usr/lib/jvm/java-8-openjdk-amd64/bin/schemagen to provide /usr/bin/schemagen (schemagen) in auto mode\n",
            "update-alternatives: using /usr/lib/jvm/java-8-openjdk-amd64/bin/extcheck to provide /usr/bin/extcheck (extcheck) in auto mode\n",
            "update-alternatives: using /usr/lib/jvm/java-8-openjdk-amd64/bin/jhat to provide /usr/bin/jhat (jhat) in auto mode\n",
            "update-alternatives: using /usr/lib/jvm/java-8-openjdk-amd64/bin/wsgen to provide /usr/bin/wsgen (wsgen) in auto mode\n",
            "Processing triggers for libc-bin (2.31-0ubuntu9.9) ...\n"
          ]
        }
      ],
      "source": [
        "!pip install pyspark\n",
        "!pip install pyspark[sql]\n",
        "!pip install -U -q PyDrive\n",
        "!apt install openjdk-8-jdk-headless -qq \n",
        "import os\n",
        "os.environ[\"JAVA_HOME\"] = \"/usr/lib/jvm/java-8-openjdk-amd64\""
      ]
    },
    {
      "cell_type": "code",
      "execution_count": null,
      "metadata": {
        "id": "bXw2KzHqNEwD"
      },
      "outputs": [],
      "source": [
        "import pyspark as spark\n",
        "import time\n",
        "from operator import add\n",
        "from pyspark.sql import SparkSession"
      ]
    },
    {
      "cell_type": "code",
      "source": [
        "import numpy as np\n",
        "import random"
      ],
      "metadata": {
        "id": "YZX9deNJlFPv"
      },
      "execution_count": null,
      "outputs": []
    },
    {
      "cell_type": "markdown",
      "metadata": {
        "id": "BLH0Rq2yOt1R"
      },
      "source": [
        "# Step 0: Read Data"
      ]
    },
    {
      "cell_type": "markdown",
      "metadata": {
        "id": "ynLN-vAXQ653"
      },
      "source": [
        "## Set spark session"
      ]
    },
    {
      "cell_type": "code",
      "execution_count": null,
      "metadata": {
        "id": "uDsadwheOw8x"
      },
      "outputs": [],
      "source": [
        "# set spark session\n",
        "ss = (SparkSession\n",
        "  .builder\n",
        "  .master(\"local[5]\")\n",
        "  .appName(\"fqproject\")\n",
        "  .getOrCreate())\n"
      ]
    },
    {
      "cell_type": "markdown",
      "metadata": {
        "id": "PIW11UM7OzMy"
      },
      "source": [
        "## Set spark context"
      ]
    },
    {
      "cell_type": "code",
      "execution_count": null,
      "metadata": {
        "id": "N0ueyutSQ7Px"
      },
      "outputs": [],
      "source": [
        "# set spark session\n",
        "sc = (spark\n",
        "  .SparkContext\n",
        "  .getOrCreate(spark\n",
        "    .SparkConf()\n",
        "    .setAppName(\"fqproject\")\n",
        "    .setMaster('local[*]')\n",
        "    .set('spark.executor.memory', '4G')\n",
        "    .set('spark.driver.memory', '4G')\n",
        "    .set('spark.driver.maxResultSize', '4G')))"
      ]
    },
    {
      "cell_type": "markdown",
      "metadata": {
        "id": "MRsu1WltO1E0"
      },
      "source": [
        "## Read reads.fq"
      ]
    },
    {
      "cell_type": "code",
      "execution_count": null,
      "metadata": {
        "id": "hEEIfL20O3U1"
      },
      "outputs": [],
      "source": [
        "# read reads.fq and extract the second line of every four lines.\n",
        "reads = (sc\n",
        "  .textFile(cur_path + \"data/reads.fq\")\n",
        "  .zipWithIndex()\n",
        "  .filter(lambda x: (x[1]+1)%2==0 and (x[1]+1)%4!=0)\n",
        "  .map(lambda x: x[0]))"
      ]
    },
    {
      "cell_type": "code",
      "execution_count": null,
      "metadata": {
        "colab": {
          "base_uri": "https://localhost:8080/"
        },
        "id": "Z2r0uE5pPD4P",
        "outputId": "e1bfb868-2533-4bfe-ba1d-3ba8690b986e"
      },
      "outputs": [
        {
          "output_type": "execute_result",
          "data": {
            "text/plain": [
              "['TCCTTACTGGTTTTGCAGGTAACTTATAGAGTATTTCCACTTCCCTTCTCCTATCCCTTGAAAAATTGTCATTTATTTCTCTTATCCATATGGCATAATC',\n",
              " 'GGTTTTTCAGGTAACTTATAGAGTATTTCCACTTCCCTTCTCCTATCCCTGGAAAAATTGTCATTTATTTCTCTTATCCATATGGCATAATCAAAGAATA',\n",
              " 'AGGTAACTTATAGAGTACTTCCACTTCCCTTCTCCTATCCCTTGAAAAATTGTCATTGATTTCTCTTATCCATATGGCATAATCAAAGAATAAATTGGTG',\n",
              " 'CACTTCCCTTCTACTATCCCTTGAAAAATTGTCATTTATTTCTCTTATCCATATGGCATAATCAAAGAATAAATTGGTGATATTTGTTCAAAAATCCATG',\n",
              " 'CCTTCTCCTATCCCTTGAAAAATTGTCATTTATTTCCCTTATCCATATGGCATAATCAAAGAATAAATTGGTGATATTTGTTCAAAAATCCATGCCTTTT',\n",
              " 'ATCCCTTGAAAAATTGTCATTTATTTCTCTTATCCATATGGCATAATCAAAGAATAAATTGGTGATATTTGTTCAAAAATCCGTGCCTATTAGATTCATT',\n",
              " 'TCTTATCCATATGGCATAATCAAAGAATAAATTGGTGATATTTGTTCAAAAATCCATGCCTATTAGATTCATTTAGAATATAAAAAAATTTTATTTTATT',\n",
              " 'TATCCATATGGCATAATCAAAGAATCAATTGTTGATATTTGTTCAAAAATCCATGCCTATTAGATTCATTTAGAATATAAAAAAATTTTATTTTATTTTC',\n",
              " 'TCAAAGAATAAATTGGTGATATTTGTTCAAAAATCCATGCCTATTAGATTCATTTAGATTATAAAAAAATTTTATTTTATTTTCACTTATTTCTTCTCCA',\n",
              " 'TGAATAAATTGGTGATATTTGTTCAAAAATCCATGCCTACTAGATTCATTTAGAATATAAAAAAATTTTATTTTATTTTCACTTATTTCTTCTCCACTGA']"
            ]
          },
          "metadata": {},
          "execution_count": 9
        }
      ],
      "source": [
        "reads.take(10)"
      ]
    },
    {
      "cell_type": "markdown",
      "metadata": {
        "id": "zEvNcdARO3-v"
      },
      "source": [
        "## Read reference.fa"
      ]
    },
    {
      "cell_type": "code",
      "execution_count": null,
      "metadata": {
        "id": "zqg4o_B6O9wD"
      },
      "outputs": [],
      "source": [
        "# read reference\n",
        "reference = (ss\n",
        "  .read\n",
        "  .csv(\n",
        "      cur_path + \"data/reference_chr21_20000000_20050000.fa\",\n",
        "      inferSchema=True,\n",
        "      header=True))"
      ]
    },
    {
      "cell_type": "code",
      "execution_count": null,
      "metadata": {
        "colab": {
          "base_uri": "https://localhost:8080/"
        },
        "id": "dSWs5YRJPFL0",
        "outputId": "95fcbc08-9ed4-41c3-9489-3b6e76f1788f"
      },
      "outputs": [
        {
          "output_type": "stream",
          "name": "stdout",
          "text": [
            "+--------+--------+--------------------+\n",
            "|   start|     end|            sequence|\n",
            "+--------+--------+--------------------+\n",
            "|20000000|20000100|CCCTTCTCCTATCCCTT...|\n",
            "|20000100|20000200|TAGATTCATTTAGAATA...|\n",
            "|20000200|20000300|TTCTTCTTCCTGAAGAA...|\n",
            "|20000300|20000400|ACTTTTCAAGGATAGTT...|\n",
            "|20000400|20000500|CTGACAGGACTTCTGCC...|\n",
            "|20000500|20000600|TTTCCTTTTTTTTTTCT...|\n",
            "|20000600|20000700|ATTATAAAAAGGGAGGG...|\n",
            "|20000700|20000800|TTCTTTTCTTTTTCTCC...|\n",
            "|20000800|20000900|ATAAATTTCTGCTTGAA...|\n",
            "|20000900|20001000|TTCGTTAGTGTTTTTTA...|\n",
            "+--------+--------+--------------------+\n",
            "only showing top 10 rows\n",
            "\n"
          ]
        }
      ],
      "source": [
        "reference.show(10)"
      ]
    },
    {
      "cell_type": "code",
      "source": [
        "reference.count()"
      ],
      "metadata": {
        "id": "I6twBITsWY7D",
        "outputId": "73529668-f5e6-4192-e636-1d5578f90f98",
        "colab": {
          "base_uri": "https://localhost:8080/"
        }
      },
      "execution_count": null,
      "outputs": [
        {
          "output_type": "execute_result",
          "data": {
            "text/plain": [
              "500"
            ]
          },
          "metadata": {},
          "execution_count": 12
        }
      ]
    },
    {
      "cell_type": "markdown",
      "metadata": {
        "id": "59Y3bTkLSAI2"
      },
      "source": [
        "# Step 1: Cut reads into kmers = 15"
      ]
    },
    {
      "cell_type": "markdown",
      "metadata": {
        "id": "ANqDbZ8hS38t"
      },
      "source": [
        "## Define K-mers"
      ]
    },
    {
      "cell_type": "code",
      "execution_count": null,
      "metadata": {
        "id": "naqY5_vJSFoK"
      },
      "outputs": [],
      "source": [
        "# input a string s and cut k-mers\n",
        "def extract_kmers(s: str, k: int = 15) -> list:\n",
        "    return [s[i:i+k] for i in range(len(s)-k+1)]"
      ]
    },
    {
      "cell_type": "markdown",
      "metadata": {
        "id": "QViG0LdgTPvr"
      },
      "source": [
        "## Map K-mers to reads"
      ]
    },
    {
      "cell_type": "code",
      "execution_count": null,
      "metadata": {
        "id": "FiS_J2ghTPLb"
      },
      "outputs": [],
      "source": [
        "# K-mers of reads\n",
        "reads_kmers = (reads\n",
        "  .map(extract_kmers))"
      ]
    },
    {
      "cell_type": "code",
      "execution_count": null,
      "metadata": {
        "colab": {
          "base_uri": "https://localhost:8080/"
        },
        "id": "G0EBAg1nTa1T",
        "outputId": "aca32b71-8e8b-42ae-9cee-5984ddf2989a"
      },
      "outputs": [
        {
          "output_type": "execute_result",
          "data": {
            "text/plain": [
              "[['TCCTTACTGGTTTTG',\n",
              "  'CCTTACTGGTTTTGC',\n",
              "  'CTTACTGGTTTTGCA',\n",
              "  'TTACTGGTTTTGCAG',\n",
              "  'TACTGGTTTTGCAGG',\n",
              "  'ACTGGTTTTGCAGGT',\n",
              "  'CTGGTTTTGCAGGTA',\n",
              "  'TGGTTTTGCAGGTAA',\n",
              "  'GGTTTTGCAGGTAAC',\n",
              "  'GTTTTGCAGGTAACT',\n",
              "  'TTTTGCAGGTAACTT',\n",
              "  'TTTGCAGGTAACTTA',\n",
              "  'TTGCAGGTAACTTAT',\n",
              "  'TGCAGGTAACTTATA',\n",
              "  'GCAGGTAACTTATAG',\n",
              "  'CAGGTAACTTATAGA',\n",
              "  'AGGTAACTTATAGAG',\n",
              "  'GGTAACTTATAGAGT',\n",
              "  'GTAACTTATAGAGTA',\n",
              "  'TAACTTATAGAGTAT',\n",
              "  'AACTTATAGAGTATT',\n",
              "  'ACTTATAGAGTATTT',\n",
              "  'CTTATAGAGTATTTC',\n",
              "  'TTATAGAGTATTTCC',\n",
              "  'TATAGAGTATTTCCA',\n",
              "  'ATAGAGTATTTCCAC',\n",
              "  'TAGAGTATTTCCACT',\n",
              "  'AGAGTATTTCCACTT',\n",
              "  'GAGTATTTCCACTTC',\n",
              "  'AGTATTTCCACTTCC',\n",
              "  'GTATTTCCACTTCCC',\n",
              "  'TATTTCCACTTCCCT',\n",
              "  'ATTTCCACTTCCCTT',\n",
              "  'TTTCCACTTCCCTTC',\n",
              "  'TTCCACTTCCCTTCT',\n",
              "  'TCCACTTCCCTTCTC',\n",
              "  'CCACTTCCCTTCTCC',\n",
              "  'CACTTCCCTTCTCCT',\n",
              "  'ACTTCCCTTCTCCTA',\n",
              "  'CTTCCCTTCTCCTAT',\n",
              "  'TTCCCTTCTCCTATC',\n",
              "  'TCCCTTCTCCTATCC',\n",
              "  'CCCTTCTCCTATCCC',\n",
              "  'CCTTCTCCTATCCCT',\n",
              "  'CTTCTCCTATCCCTT',\n",
              "  'TTCTCCTATCCCTTG',\n",
              "  'TCTCCTATCCCTTGA',\n",
              "  'CTCCTATCCCTTGAA',\n",
              "  'TCCTATCCCTTGAAA',\n",
              "  'CCTATCCCTTGAAAA',\n",
              "  'CTATCCCTTGAAAAA',\n",
              "  'TATCCCTTGAAAAAT',\n",
              "  'ATCCCTTGAAAAATT',\n",
              "  'TCCCTTGAAAAATTG',\n",
              "  'CCCTTGAAAAATTGT',\n",
              "  'CCTTGAAAAATTGTC',\n",
              "  'CTTGAAAAATTGTCA',\n",
              "  'TTGAAAAATTGTCAT',\n",
              "  'TGAAAAATTGTCATT',\n",
              "  'GAAAAATTGTCATTT',\n",
              "  'AAAAATTGTCATTTA',\n",
              "  'AAAATTGTCATTTAT',\n",
              "  'AAATTGTCATTTATT',\n",
              "  'AATTGTCATTTATTT',\n",
              "  'ATTGTCATTTATTTC',\n",
              "  'TTGTCATTTATTTCT',\n",
              "  'TGTCATTTATTTCTC',\n",
              "  'GTCATTTATTTCTCT',\n",
              "  'TCATTTATTTCTCTT',\n",
              "  'CATTTATTTCTCTTA',\n",
              "  'ATTTATTTCTCTTAT',\n",
              "  'TTTATTTCTCTTATC',\n",
              "  'TTATTTCTCTTATCC',\n",
              "  'TATTTCTCTTATCCA',\n",
              "  'ATTTCTCTTATCCAT',\n",
              "  'TTTCTCTTATCCATA',\n",
              "  'TTCTCTTATCCATAT',\n",
              "  'TCTCTTATCCATATG',\n",
              "  'CTCTTATCCATATGG',\n",
              "  'TCTTATCCATATGGC',\n",
              "  'CTTATCCATATGGCA',\n",
              "  'TTATCCATATGGCAT',\n",
              "  'TATCCATATGGCATA',\n",
              "  'ATCCATATGGCATAA',\n",
              "  'TCCATATGGCATAAT',\n",
              "  'CCATATGGCATAATC'],\n",
              " ['GGTTTTTCAGGTAAC',\n",
              "  'GTTTTTCAGGTAACT',\n",
              "  'TTTTTCAGGTAACTT',\n",
              "  'TTTTCAGGTAACTTA',\n",
              "  'TTTCAGGTAACTTAT',\n",
              "  'TTCAGGTAACTTATA',\n",
              "  'TCAGGTAACTTATAG',\n",
              "  'CAGGTAACTTATAGA',\n",
              "  'AGGTAACTTATAGAG',\n",
              "  'GGTAACTTATAGAGT',\n",
              "  'GTAACTTATAGAGTA',\n",
              "  'TAACTTATAGAGTAT',\n",
              "  'AACTTATAGAGTATT',\n",
              "  'ACTTATAGAGTATTT',\n",
              "  'CTTATAGAGTATTTC',\n",
              "  'TTATAGAGTATTTCC',\n",
              "  'TATAGAGTATTTCCA',\n",
              "  'ATAGAGTATTTCCAC',\n",
              "  'TAGAGTATTTCCACT',\n",
              "  'AGAGTATTTCCACTT',\n",
              "  'GAGTATTTCCACTTC',\n",
              "  'AGTATTTCCACTTCC',\n",
              "  'GTATTTCCACTTCCC',\n",
              "  'TATTTCCACTTCCCT',\n",
              "  'ATTTCCACTTCCCTT',\n",
              "  'TTTCCACTTCCCTTC',\n",
              "  'TTCCACTTCCCTTCT',\n",
              "  'TCCACTTCCCTTCTC',\n",
              "  'CCACTTCCCTTCTCC',\n",
              "  'CACTTCCCTTCTCCT',\n",
              "  'ACTTCCCTTCTCCTA',\n",
              "  'CTTCCCTTCTCCTAT',\n",
              "  'TTCCCTTCTCCTATC',\n",
              "  'TCCCTTCTCCTATCC',\n",
              "  'CCCTTCTCCTATCCC',\n",
              "  'CCTTCTCCTATCCCT',\n",
              "  'CTTCTCCTATCCCTG',\n",
              "  'TTCTCCTATCCCTGG',\n",
              "  'TCTCCTATCCCTGGA',\n",
              "  'CTCCTATCCCTGGAA',\n",
              "  'TCCTATCCCTGGAAA',\n",
              "  'CCTATCCCTGGAAAA',\n",
              "  'CTATCCCTGGAAAAA',\n",
              "  'TATCCCTGGAAAAAT',\n",
              "  'ATCCCTGGAAAAATT',\n",
              "  'TCCCTGGAAAAATTG',\n",
              "  'CCCTGGAAAAATTGT',\n",
              "  'CCTGGAAAAATTGTC',\n",
              "  'CTGGAAAAATTGTCA',\n",
              "  'TGGAAAAATTGTCAT',\n",
              "  'GGAAAAATTGTCATT',\n",
              "  'GAAAAATTGTCATTT',\n",
              "  'AAAAATTGTCATTTA',\n",
              "  'AAAATTGTCATTTAT',\n",
              "  'AAATTGTCATTTATT',\n",
              "  'AATTGTCATTTATTT',\n",
              "  'ATTGTCATTTATTTC',\n",
              "  'TTGTCATTTATTTCT',\n",
              "  'TGTCATTTATTTCTC',\n",
              "  'GTCATTTATTTCTCT',\n",
              "  'TCATTTATTTCTCTT',\n",
              "  'CATTTATTTCTCTTA',\n",
              "  'ATTTATTTCTCTTAT',\n",
              "  'TTTATTTCTCTTATC',\n",
              "  'TTATTTCTCTTATCC',\n",
              "  'TATTTCTCTTATCCA',\n",
              "  'ATTTCTCTTATCCAT',\n",
              "  'TTTCTCTTATCCATA',\n",
              "  'TTCTCTTATCCATAT',\n",
              "  'TCTCTTATCCATATG',\n",
              "  'CTCTTATCCATATGG',\n",
              "  'TCTTATCCATATGGC',\n",
              "  'CTTATCCATATGGCA',\n",
              "  'TTATCCATATGGCAT',\n",
              "  'TATCCATATGGCATA',\n",
              "  'ATCCATATGGCATAA',\n",
              "  'TCCATATGGCATAAT',\n",
              "  'CCATATGGCATAATC',\n",
              "  'CATATGGCATAATCA',\n",
              "  'ATATGGCATAATCAA',\n",
              "  'TATGGCATAATCAAA',\n",
              "  'ATGGCATAATCAAAG',\n",
              "  'TGGCATAATCAAAGA',\n",
              "  'GGCATAATCAAAGAA',\n",
              "  'GCATAATCAAAGAAT',\n",
              "  'CATAATCAAAGAATA']]"
            ]
          },
          "metadata": {},
          "execution_count": 15
        }
      ],
      "source": [
        "reads_kmers.take(2)"
      ]
    },
    {
      "cell_type": "markdown",
      "metadata": {
        "id": "y9LB3IwwT3RE"
      },
      "source": [
        "# Step 2: Cut reference bins into kmers = 15"
      ]
    },
    {
      "cell_type": "code",
      "execution_count": null,
      "metadata": {
        "id": "CVfbDsD0T2Ri"
      },
      "outputs": [],
      "source": [
        "# K-mers of reference\n",
        "reference_kmers = (reference\n",
        "  .select('sequence')\n",
        "  .rdd\n",
        "  .flatMap(lambda x: x)\n",
        "  .map(extract_kmers))"
      ]
    },
    {
      "cell_type": "code",
      "execution_count": null,
      "metadata": {
        "colab": {
          "base_uri": "https://localhost:8080/"
        },
        "id": "huQx-SdEUbxy",
        "outputId": "79a97b4c-4544-4036-8a9d-a3021cd1091c"
      },
      "outputs": [
        {
          "output_type": "execute_result",
          "data": {
            "text/plain": [
              "[['CCCTTCTCCTATCCC',\n",
              "  'CCTTCTCCTATCCCT',\n",
              "  'CTTCTCCTATCCCTT',\n",
              "  'TTCTCCTATCCCTTG',\n",
              "  'TCTCCTATCCCTTGA',\n",
              "  'CTCCTATCCCTTGAA',\n",
              "  'TCCTATCCCTTGAAA',\n",
              "  'CCTATCCCTTGAAAA',\n",
              "  'CTATCCCTTGAAAAA',\n",
              "  'TATCCCTTGAAAAAT',\n",
              "  'ATCCCTTGAAAAATT',\n",
              "  'TCCCTTGAAAAATTG',\n",
              "  'CCCTTGAAAAATTGT',\n",
              "  'CCTTGAAAAATTGTC',\n",
              "  'CTTGAAAAATTGTCA',\n",
              "  'TTGAAAAATTGTCAT',\n",
              "  'TGAAAAATTGTCATT',\n",
              "  'GAAAAATTGTCATTT',\n",
              "  'AAAAATTGTCATTTA',\n",
              "  'AAAATTGTCATTTAT',\n",
              "  'AAATTGTCATTTATT',\n",
              "  'AATTGTCATTTATTT',\n",
              "  'ATTGTCATTTATTTC',\n",
              "  'TTGTCATTTATTTCT',\n",
              "  'TGTCATTTATTTCTC',\n",
              "  'GTCATTTATTTCTCT',\n",
              "  'TCATTTATTTCTCTT',\n",
              "  'CATTTATTTCTCTTA',\n",
              "  'ATTTATTTCTCTTAT',\n",
              "  'TTTATTTCTCTTATC',\n",
              "  'TTATTTCTCTTATCC',\n",
              "  'TATTTCTCTTATCCA',\n",
              "  'ATTTCTCTTATCCAT',\n",
              "  'TTTCTCTTATCCATA',\n",
              "  'TTCTCTTATCCATAT',\n",
              "  'TCTCTTATCCATATG',\n",
              "  'CTCTTATCCATATGG',\n",
              "  'TCTTATCCATATGGC',\n",
              "  'CTTATCCATATGGCA',\n",
              "  'TTATCCATATGGCAT',\n",
              "  'TATCCATATGGCATA',\n",
              "  'ATCCATATGGCATAA',\n",
              "  'TCCATATGGCATAAT',\n",
              "  'CCATATGGCATAATC',\n",
              "  'CATATGGCATAATCA',\n",
              "  'ATATGGCATAATCAA',\n",
              "  'TATGGCATAATCAAA',\n",
              "  'ATGGCATAATCAAAG',\n",
              "  'TGGCATAATCAAAGA',\n",
              "  'GGCATAATCAAAGAA',\n",
              "  'GCATAATCAAAGAAT',\n",
              "  'CATAATCAAAGAATA',\n",
              "  'ATAATCAAAGAATAA',\n",
              "  'TAATCAAAGAATAAA',\n",
              "  'AATCAAAGAATAAAT',\n",
              "  'ATCAAAGAATAAATT',\n",
              "  'TCAAAGAATAAATTG',\n",
              "  'CAAAGAATAAATTGG',\n",
              "  'AAAGAATAAATTGGT',\n",
              "  'AAGAATAAATTGGTG',\n",
              "  'AGAATAAATTGGTGA',\n",
              "  'GAATAAATTGGTGAT',\n",
              "  'AATAAATTGGTGATA',\n",
              "  'ATAAATTGGTGATAT',\n",
              "  'TAAATTGGTGATATT',\n",
              "  'AAATTGGTGATATTT',\n",
              "  'AATTGGTGATATTTG',\n",
              "  'ATTGGTGATATTTGT',\n",
              "  'TTGGTGATATTTGTT',\n",
              "  'TGGTGATATTTGTTC',\n",
              "  'GGTGATATTTGTTCA',\n",
              "  'GTGATATTTGTTCAA',\n",
              "  'TGATATTTGTTCAAA',\n",
              "  'GATATTTGTTCAAAA',\n",
              "  'ATATTTGTTCAAAAA',\n",
              "  'TATTTGTTCAAAAAT',\n",
              "  'ATTTGTTCAAAAATC',\n",
              "  'TTTGTTCAAAAATCC',\n",
              "  'TTGTTCAAAAATCCA',\n",
              "  'TGTTCAAAAATCCAT',\n",
              "  'GTTCAAAAATCCATG',\n",
              "  'TTCAAAAATCCATGC',\n",
              "  'TCAAAAATCCATGCC',\n",
              "  'CAAAAATCCATGCCT',\n",
              "  'AAAAATCCATGCCTA',\n",
              "  'AAAATCCATGCCTAT'],\n",
              " ['TAGATTCATTTAGAA',\n",
              "  'AGATTCATTTAGAAT',\n",
              "  'GATTCATTTAGAATA',\n",
              "  'ATTCATTTAGAATAT',\n",
              "  'TTCATTTAGAATATA',\n",
              "  'TCATTTAGAATATAA',\n",
              "  'CATTTAGAATATAAA',\n",
              "  'ATTTAGAATATAAAA',\n",
              "  'TTTAGAATATAAAAA',\n",
              "  'TTAGAATATAAAAAA',\n",
              "  'TAGAATATAAAAAAA',\n",
              "  'AGAATATAAAAAAAT',\n",
              "  'GAATATAAAAAAATT',\n",
              "  'AATATAAAAAAATTT',\n",
              "  'ATATAAAAAAATTTT',\n",
              "  'TATAAAAAAATTTTA',\n",
              "  'ATAAAAAAATTTTAT',\n",
              "  'TAAAAAAATTTTATT',\n",
              "  'AAAAAAATTTTATTT',\n",
              "  'AAAAAATTTTATTTT',\n",
              "  'AAAAATTTTATTTTA',\n",
              "  'AAAATTTTATTTTAT',\n",
              "  'AAATTTTATTTTATT',\n",
              "  'AATTTTATTTTATTT',\n",
              "  'ATTTTATTTTATTTT',\n",
              "  'TTTTATTTTATTTTC',\n",
              "  'TTTATTTTATTTTCA',\n",
              "  'TTATTTTATTTTCAC',\n",
              "  'TATTTTATTTTCACT',\n",
              "  'ATTTTATTTTCACTT',\n",
              "  'TTTTATTTTCACTTA',\n",
              "  'TTTATTTTCACTTAT',\n",
              "  'TTATTTTCACTTATT',\n",
              "  'TATTTTCACTTATTT',\n",
              "  'ATTTTCACTTATTTC',\n",
              "  'TTTTCACTTATTTCT',\n",
              "  'TTTCACTTATTTCTT',\n",
              "  'TTCACTTATTTCTTC',\n",
              "  'TCACTTATTTCTTCT',\n",
              "  'CACTTATTTCTTCTC',\n",
              "  'ACTTATTTCTTCTCC',\n",
              "  'CTTATTTCTTCTCCA',\n",
              "  'TTATTTCTTCTCCAC',\n",
              "  'TATTTCTTCTCCACT',\n",
              "  'ATTTCTTCTCCACTG',\n",
              "  'TTTCTTCTCCACTGA',\n",
              "  'TTCTTCTCCACTGAT',\n",
              "  'TCTTCTCCACTGATT',\n",
              "  'CTTCTCCACTGATTT',\n",
              "  'TTCTCCACTGATTTT',\n",
              "  'TCTCCACTGATTTTT',\n",
              "  'CTCCACTGATTTTTC',\n",
              "  'TCCACTGATTTTTCT',\n",
              "  'CCACTGATTTTTCTA',\n",
              "  'CACTGATTTTTCTAT',\n",
              "  'ACTGATTTTTCTATT',\n",
              "  'CTGATTTTTCTATTT',\n",
              "  'TGATTTTTCTATTTT',\n",
              "  'GATTTTTCTATTTTT',\n",
              "  'ATTTTTCTATTTTTA',\n",
              "  'TTTTTCTATTTTTAT',\n",
              "  'TTTTCTATTTTTATG',\n",
              "  'TTTCTATTTTTATGT',\n",
              "  'TTCTATTTTTATGTA',\n",
              "  'TCTATTTTTATGTAG',\n",
              "  'CTATTTTTATGTAGA',\n",
              "  'TATTTTTATGTAGAG',\n",
              "  'ATTTTTATGTAGAGA',\n",
              "  'TTTTTATGTAGAGAT',\n",
              "  'TTTTATGTAGAGATG',\n",
              "  'TTTATGTAGAGATGA',\n",
              "  'TTATGTAGAGATGAG',\n",
              "  'TATGTAGAGATGAGT',\n",
              "  'ATGTAGAGATGAGTT',\n",
              "  'TGTAGAGATGAGTTT',\n",
              "  'GTAGAGATGAGTTTC',\n",
              "  'TAGAGATGAGTTTCT',\n",
              "  'AGAGATGAGTTTCTG',\n",
              "  'GAGATGAGTTTCTGA',\n",
              "  'AGATGAGTTTCTGAC',\n",
              "  'GATGAGTTTCTGACA',\n",
              "  'ATGAGTTTCTGACAT',\n",
              "  'TGAGTTTCTGACATA',\n",
              "  'GAGTTTCTGACATAT',\n",
              "  'AGTTTCTGACATATA',\n",
              "  'GTTTCTGACATATAT']]"
            ]
          },
          "metadata": {},
          "execution_count": 17
        }
      ],
      "source": [
        "reference_kmers.take(2)"
      ]
    },
    {
      "cell_type": "markdown",
      "metadata": {
        "id": "x4a_UuqMUbcr"
      },
      "source": [
        "# Step 3: Collect all kmers and build a distinct kmer set\n",
        "\n",
        "• Hint: you can use python “set” function\n",
        "\n",
        "• Report the number of distinct kmers (N)"
      ]
    },
    {
      "cell_type": "code",
      "execution_count": null,
      "metadata": {
        "id": "o8cKZPl-Vp1X"
      },
      "outputs": [],
      "source": [
        "# Merge and distinct, collect to a set\n",
        "kmers = set(reads_kmers \n",
        "  .union(reference_kmers)\n",
        "  .flatMap(lambda x: x) \n",
        "  .distinct()\n",
        "  .collect())"
      ]
    },
    {
      "cell_type": "code",
      "execution_count": null,
      "metadata": {
        "colab": {
          "base_uri": "https://localhost:8080/"
        },
        "id": "J8wR4jStWvSK",
        "outputId": "d9f882fe-7c75-4eec-a93e-555b46556d4a"
      },
      "outputs": [
        {
          "output_type": "execute_result",
          "data": {
            "text/plain": [
              "72530"
            ]
          },
          "metadata": {},
          "execution_count": 19
        }
      ],
      "source": [
        "len(kmers)"
      ]
    },
    {
      "cell_type": "markdown",
      "metadata": {
        "id": "C3eLWeCXXeiH"
      },
      "source": [
        "**The number of distinct kmers is 72,530**\n"
      ]
    },
    {
      "cell_type": "code",
      "execution_count": null,
      "metadata": {
        "colab": {
          "base_uri": "https://localhost:8080/"
        },
        "id": "949kQtpBIKpB",
        "outputId": "b34f4f5f-e93c-451e-d1bf-69654923f8e3"
      },
      "outputs": [
        {
          "output_type": "execute_result",
          "data": {
            "text/plain": [
              "PythonRDD[40] at RDD at PythonRDD.scala:53"
            ]
          },
          "metadata": {},
          "execution_count": 20
        }
      ],
      "source": [
        "reads"
      ]
    },
    {
      "cell_type": "code",
      "execution_count": null,
      "metadata": {
        "id": "8MY7yM09Kiuz"
      },
      "outputs": [],
      "source": []
    },
    {
      "cell_type": "markdown",
      "metadata": {
        "id": "hRSRaZRPKi7T"
      },
      "source": [
        "# Step4"
      ]
    },
    {
      "cell_type": "code",
      "execution_count": null,
      "metadata": {
        "id": "1lQ3tv3BKkMX"
      },
      "outputs": [],
      "source": [
        "from pyspark.ml.linalg import Vectors\n",
        "import pandas as pd"
      ]
    },
    {
      "cell_type": "code",
      "source": [
        "\n",
        "# turn reads to list \n",
        "r_list = reads.collect()"
      ],
      "metadata": {
        "id": "rQF6H_7ScYiW"
      },
      "execution_count": null,
      "outputs": []
    },
    {
      "cell_type": "code",
      "source": [
        "# check feature vector of every kmer in each read\n",
        "def check_kmer_features(kmer):\n",
        "  m = []\n",
        "  \n",
        "\n",
        "  for i in range(len(r_list)):\n",
        "    if kmer in r_list[i]:\n",
        "      m.append(i)\n",
        "  v = [1.0 for i in range(len(m))]\n",
        "  return (kmer,Vectors.dense(Vectors.sparse(len(r_list),m,v)))"
      ],
      "metadata": {
        "id": "1geHIJrTcmkB"
      },
      "execution_count": null,
      "outputs": []
    },
    {
      "cell_type": "code",
      "source": [
        "kmers_rdd = sc.parallelize(list(kmers))"
      ],
      "metadata": {
        "id": "z_1L60tdbW0q"
      },
      "execution_count": null,
      "outputs": []
    },
    {
      "cell_type": "code",
      "execution_count": null,
      "metadata": {
        "id": "pap8knRucBiv"
      },
      "outputs": [],
      "source": [
        "reads_features = kmers_rdd.map(lambda x: check_kmer_features(x))"
      ]
    },
    {
      "cell_type": "code",
      "execution_count": null,
      "metadata": {
        "id": "QKxMpHBRgpNo"
      },
      "outputs": [],
      "source": [
        "reads_features_df = reads_features.toDF(['kmer','read_features'])"
      ]
    },
    {
      "cell_type": "code",
      "execution_count": null,
      "metadata": {
        "id": "ZbWHjuLfWauj",
        "outputId": "75055006-96e8-43a6-e363-084b19edb6db",
        "colab": {
          "base_uri": "https://localhost:8080/"
        }
      },
      "outputs": [
        {
          "output_type": "stream",
          "name": "stdout",
          "text": [
            "+---------------+--------------------+\n",
            "|           kmer|       read_features|\n",
            "+---------------+--------------------+\n",
            "|CCTGTTGAAGGCCAT|[0.0,0.0,0.0,0.0,...|\n",
            "+---------------+--------------------+\n",
            "only showing top 1 row\n",
            "\n"
          ]
        }
      ],
      "source": [
        "#generate the dataframe with sparse vector\n",
        "reads_features_df.show(1)"
      ]
    },
    {
      "cell_type": "code",
      "execution_count": null,
      "metadata": {
        "id": "oeMY7GJrWawY"
      },
      "outputs": [],
      "source": [
        "from pyspark.sql.functions import col\n",
        "from pyspark.ml.functions import vector_to_array"
      ]
    },
    {
      "cell_type": "code",
      "source": [
        "reads_features_df = reads_features_df.withColumn(\"read\", vector_to_array(\"read_features\")).select([\"kmer\"] + [col(\"read\")[i] for i in range(2000)])"
      ],
      "metadata": {
        "id": "4IHbE5SifYdS"
      },
      "execution_count": null,
      "outputs": []
    },
    {
      "cell_type": "code",
      "source": [
        "read_name = {r_list[i]: 'reads' + str(i) for i in range(len(r_list))}"
      ],
      "metadata": {
        "id": "tIBtHfn4V_7E"
      },
      "execution_count": null,
      "outputs": []
    },
    {
      "cell_type": "code",
      "source": [
        "# old code\n",
        "def check_kmer_features_old1(read):\n",
        "  m = []\n",
        "  kmers_list = list(kmers)\n",
        "  for i in range(len(kmers_list)):\n",
        "    if kmers_list[i] in read:\n",
        "      m.append(i)\n",
        "  v = [1.0 for i in range(len(m))]\n",
        "  return (read_name[read],Vectors.sparse(len(kmers_list),m,v))\n"
      ],
      "metadata": {
        "id": "FeEkH4MyofTr"
      },
      "execution_count": null,
      "outputs": []
    },
    {
      "cell_type": "code",
      "source": [
        "reads_features = reads.map(lambda x: check_kmer_features_old1(x))"
      ],
      "metadata": {
        "id": "RN4pbbKWzc6c"
      },
      "execution_count": null,
      "outputs": []
    },
    {
      "cell_type": "code",
      "source": [
        "reads_features.take(2)"
      ],
      "metadata": {
        "id": "MfpvphOd0ONF",
        "outputId": "0cec3ddc-b048-4663-a844-80528a9865f8",
        "colab": {
          "base_uri": "https://localhost:8080/"
        }
      },
      "execution_count": null,
      "outputs": [
        {
          "output_type": "execute_result",
          "data": {
            "text/plain": [
              "[('reads0',\n",
              "  SparseVector(72530, {172: 1.0, 851: 1.0, 1696: 1.0, 2460: 1.0, 4002: 1.0, 4611: 1.0, 4892: 1.0, 6085: 1.0, 6582: 1.0, 7638: 1.0, 7930: 1.0, 9003: 1.0, 11635: 1.0, 13193: 1.0, 16383: 1.0, 17643: 1.0, 18179: 1.0, 18278: 1.0, 19246: 1.0, 19553: 1.0, 20322: 1.0, 20400: 1.0, 21792: 1.0, 22091: 1.0, 23404: 1.0, 23745: 1.0, 23949: 1.0, 23970: 1.0, 24726: 1.0, 25534: 1.0, 25949: 1.0, 26535: 1.0, 26776: 1.0, 27996: 1.0, 28211: 1.0, 30111: 1.0, 31479: 1.0, 34065: 1.0, 34677: 1.0, 35105: 1.0, 36098: 1.0, 37866: 1.0, 38470: 1.0, 40054: 1.0, 40483: 1.0, 40773: 1.0, 41127: 1.0, 41696: 1.0, 42503: 1.0, 42575: 1.0, 42917: 1.0, 43070: 1.0, 43495: 1.0, 44224: 1.0, 45103: 1.0, 46246: 1.0, 50538: 1.0, 51935: 1.0, 53797: 1.0, 54047: 1.0, 54197: 1.0, 54917: 1.0, 55895: 1.0, 56222: 1.0, 58227: 1.0, 59428: 1.0, 59622: 1.0, 61052: 1.0, 61058: 1.0, 61213: 1.0, 61337: 1.0, 61470: 1.0, 61885: 1.0, 61974: 1.0, 62578: 1.0, 63348: 1.0, 63440: 1.0, 64999: 1.0, 65353: 1.0, 65724: 1.0, 66310: 1.0, 67208: 1.0, 67540: 1.0, 69060: 1.0, 70683: 1.0, 72270: 1.0})),\n",
              " ('reads1',\n",
              "  SparseVector(72530, {172: 1.0, 851: 1.0, 2460: 1.0, 4996: 1.0, 5911: 1.0, 6085: 1.0, 6582: 1.0, 7638: 1.0, 8834: 1.0, 8856: 1.0, 9003: 1.0, 11440: 1.0, 11635: 1.0, 12581: 1.0, 12977: 1.0, 13193: 1.0, 13825: 1.0, 13927: 1.0, 14372: 1.0, 14968: 1.0, 15621: 1.0, 16660: 1.0, 17643: 1.0, 18179: 1.0, 19553: 1.0, 20400: 1.0, 21792: 1.0, 22091: 1.0, 23404: 1.0, 23745: 1.0, 23949: 1.0, 25534: 1.0, 25949: 1.0, 26391: 1.0, 26535: 1.0, 26776: 1.0, 27996: 1.0, 28211: 1.0, 28448: 1.0, 34155: 1.0, 34677: 1.0, 35105: 1.0, 36137: 1.0, 37866: 1.0, 38470: 1.0, 39721: 1.0, 40054: 1.0, 40773: 1.0, 41127: 1.0, 41696: 1.0, 41946: 1.0, 42575: 1.0, 42917: 1.0, 43070: 1.0, 44170: 1.0, 44224: 1.0, 44598: 1.0, 44966: 1.0, 45103: 1.0, 45221: 1.0, 51579: 1.0, 53356: 1.0, 53797: 1.0, 54047: 1.0, 54097: 1.0, 54197: 1.0, 54917: 1.0, 56222: 1.0, 56664: 1.0, 57833: 1.0, 58834: 1.0, 59622: 1.0, 61058: 1.0, 61213: 1.0, 61337: 1.0, 61470: 1.0, 61885: 1.0, 61974: 1.0, 63348: 1.0, 63440: 1.0, 64999: 1.0, 65724: 1.0, 65968: 1.0, 67208: 1.0, 69060: 1.0, 70683: 1.0}))]"
            ]
          },
          "metadata": {},
          "execution_count": 33
        }
      ]
    },
    {
      "cell_type": "markdown",
      "metadata": {
        "id": "RSuEBcoLKlwB"
      },
      "source": [
        "# Step5"
      ]
    },
    {
      "cell_type": "code",
      "source": [
        "reference_rdd = reference.select(\"sequence\").rdd.map(lambda x: x['sequence'])"
      ],
      "metadata": {
        "id": "jZ1Yef9amA-L"
      },
      "execution_count": null,
      "outputs": []
    },
    {
      "cell_type": "code",
      "source": [
        "reference_list = reference_rdd.collect()\n",
        "reference_list[0]"
      ],
      "metadata": {
        "id": "bzpF9dQJmMsb",
        "outputId": "acd42ac5-986e-49d2-ce32-98691595f192",
        "colab": {
          "base_uri": "https://localhost:8080/",
          "height": 53
        }
      },
      "execution_count": null,
      "outputs": [
        {
          "output_type": "execute_result",
          "data": {
            "text/plain": [
              "'CCCTTCTCCTATCCCTTGAAAAATTGTCATTTATTTCTCTTATCCATATGGCATAATCAAAGAATAAATTGGTGATATTTGTTCAAAAATCCATGCCTAT'"
            ],
            "application/vnd.google.colaboratory.intrinsic+json": {
              "type": "string"
            }
          },
          "metadata": {},
          "execution_count": 35
        }
      ]
    },
    {
      "cell_type": "code",
      "source": [
        "#generate the name of columns\n",
        "start_rdd = reference.select(\"start\").rdd.map(lambda x: x['start'])\n",
        "end_rdd = reference.select(\"end\").rdd.map(lambda x: x['end'])\n",
        "s_list = start_rdd.collect()\n",
        "e_list = end_rdd.collect()\n",
        "reference_name = ['bin' + str(s_list[i]) + '_' +  str(e_list[i]) for i in range(len(s_list))]\n",
        "reference_name[0]"
      ],
      "metadata": {
        "id": "nCcOrMXOnWJN",
        "outputId": "78e28975-45f5-4461-9720-051ffc2077e1",
        "colab": {
          "base_uri": "https://localhost:8080/",
          "height": 35
        }
      },
      "execution_count": null,
      "outputs": [
        {
          "output_type": "execute_result",
          "data": {
            "text/plain": [
              "'bin20000000_20000100'"
            ],
            "application/vnd.google.colaboratory.intrinsic+json": {
              "type": "string"
            }
          },
          "metadata": {},
          "execution_count": 36
        }
      ]
    },
    {
      "cell_type": "code",
      "source": [],
      "metadata": {
        "id": "kDCOpTHw5Asm"
      },
      "execution_count": null,
      "outputs": []
    },
    {
      "cell_type": "code",
      "source": [
        "# check feature vector of every kmer in each reference\n",
        "def check_kmer_read_features_sequence(kmer):\n",
        "  m = []\n",
        "  for i in range(len(reference_list)):\n",
        "    if kmer in reference_list[i]:\n",
        "      m.append(i)\n",
        "  v = [1.0 for i in range(len(m))]\n",
        "  return (kmer,Vectors.dense(Vectors.sparse(len(reference_list),m,v)))"
      ],
      "metadata": {
        "id": "CEoYkzmckd6W"
      },
      "execution_count": null,
      "outputs": []
    },
    {
      "cell_type": "code",
      "execution_count": null,
      "metadata": {
        "id": "NqRXCvBAKm-h"
      },
      "outputs": [],
      "source": [
        "reference_features = kmers_rdd.map(lambda x:check_kmer_read_features_sequence(x))"
      ]
    },
    {
      "cell_type": "code",
      "source": [
        "# turn to dataframe\n",
        "reference_features_df = reference_features.toDF(['kmer','reference_features'])"
      ],
      "metadata": {
        "id": "WbHSEchnkP1U"
      },
      "execution_count": null,
      "outputs": []
    },
    {
      "cell_type": "code",
      "execution_count": null,
      "metadata": {
        "colab": {
          "base_uri": "https://localhost:8080/"
        },
        "id": "7tmq2Xoonm56",
        "outputId": "8b742f18-d07f-46a0-e9a4-b38a46972c84"
      },
      "outputs": [
        {
          "output_type": "stream",
          "name": "stdout",
          "text": [
            "+---------------+--------------------+\n",
            "|           kmer|  reference_features|\n",
            "+---------------+--------------------+\n",
            "|CCTGTTGAAGGCCAT|[0.0,0.0,0.0,0.0,...|\n",
            "+---------------+--------------------+\n",
            "only showing top 1 row\n",
            "\n"
          ]
        }
      ],
      "source": [
        "reference_features_df.show(1) "
      ]
    },
    {
      "cell_type": "code",
      "execution_count": null,
      "metadata": {
        "id": "eFux_1_DntsP"
      },
      "outputs": [],
      "source": [
        "# expand the dense vector to different collomns\n",
        "reference_features_df = reference_features_df.withColumn(\"xs\", vector_to_array(\"reference_features\")).select([\"kmer\"] + [col(\"xs\")[i] for i in range(len(reference_name))])"
      ]
    },
    {
      "cell_type": "code",
      "source": [
        "reference_name = ['kmer'] + reference_name\n",
        "reference_features_df = reference_features_df.select([col(c).alias(reference_name[i]) for i, c in enumerate(reference_features_df.columns)])"
      ],
      "metadata": {
        "id": "TU9eLWHMnUXK"
      },
      "execution_count": null,
      "outputs": []
    },
    {
      "cell_type": "code",
      "source": [
        "reference_name_d = {reference_list[i]: reference_name[i+1] for i in range(len(reference_list))}\n",
        "len(reference_name_d)"
      ],
      "metadata": {
        "id": "OJylWwlmWRmi",
        "outputId": "f809edb4-b834-4943-fd66-82aff0ff4718",
        "colab": {
          "base_uri": "https://localhost:8080/"
        }
      },
      "execution_count": null,
      "outputs": [
        {
          "output_type": "execute_result",
          "data": {
            "text/plain": [
              "500"
            ]
          },
          "metadata": {},
          "execution_count": 43
        }
      ]
    },
    {
      "cell_type": "code",
      "source": [
        "# old code\n",
        "def check_kmer_features_old(read):\n",
        "  m = []\n",
        "  kmers_list = list(kmers)\n",
        "  for i in range(len(kmers_list)):\n",
        "    if kmers_list[i] in read:\n",
        "      m.append(i)\n",
        "  v = [1.0 for i in range(len(m))]\n",
        "  return (reference_name_d[read],Vectors.sparse(len(kmers_list),m,v))"
      ],
      "metadata": {
        "id": "lNnY0l_v484V"
      },
      "execution_count": null,
      "outputs": []
    },
    {
      "cell_type": "code",
      "source": [
        "# old code \n",
        "reference_features = reference_rdd.map(lambda x: check_kmer_features_old(x))\n",
        "reference_features.take(1)"
      ],
      "metadata": {
        "id": "fUd4m4l50doH",
        "outputId": "56c56844-2e8f-46c2-fdeb-a588accc1b31",
        "colab": {
          "base_uri": "https://localhost:8080/"
        }
      },
      "execution_count": null,
      "outputs": [
        {
          "output_type": "execute_result",
          "data": {
            "text/plain": [
              "[('bin20000000_20000100',\n",
              "  SparseVector(72530, {172: 1.0, 851: 1.0, 2589: 1.0, 4996: 1.0, 6085: 1.0, 7345: 1.0, 7638: 1.0, 8856: 1.0, 9003: 1.0, 9265: 1.0, 11635: 1.0, 13476: 1.0, 13825: 1.0, 14091: 1.0, 15250: 1.0, 15325: 1.0, 15621: 1.0, 15832: 1.0, 16310: 1.0, 16660: 1.0, 17214: 1.0, 17643: 1.0, 18179: 1.0, 19246: 1.0, 19553: 1.0, 20322: 1.0, 20400: 1.0, 21792: 1.0, 22091: 1.0, 23017: 1.0, 25534: 1.0, 26030: 1.0, 26535: 1.0, 27996: 1.0, 33468: 1.0, 33776: 1.0, 34065: 1.0, 34665: 1.0, 36137: 1.0, 38470: 1.0, 38736: 1.0, 40483: 1.0, 40773: 1.0, 41127: 1.0, 41696: 1.0, 42055: 1.0, 42503: 1.0, 42575: 1.0, 43070: 1.0, 43799: 1.0, 44224: 1.0, 45103: 1.0, 46246: 1.0, 46882: 1.0, 47325: 1.0, 48122: 1.0, 49416: 1.0, 49880: 1.0, 50174: 1.0, 51935: 1.0, 53098: 1.0, 53764: 1.0, 53797: 1.0, 54047: 1.0, 54097: 1.0, 57833: 1.0, 58227: 1.0, 58702: 1.0, 59428: 1.0, 61052: 1.0, 61213: 1.0, 61974: 1.0, 62465: 1.0, 62578: 1.0, 63348: 1.0, 63440: 1.0, 65030: 1.0, 65353: 1.0, 66310: 1.0, 67536: 1.0, 67540: 1.0, 68333: 1.0, 68961: 1.0, 69383: 1.0, 71164: 1.0, 72270: 1.0}))]"
            ]
          },
          "metadata": {},
          "execution_count": 45
        }
      ]
    },
    {
      "cell_type": "markdown",
      "metadata": {
        "id": "1knv_hbyXnoI"
      },
      "source": [
        "\n",
        "# Step 6: Use minhash to reduce the feature dimension for reads and reference bins"
      ]
    },
    {
      "cell_type": "code",
      "source": [
        "# define minhash\n",
        "def minhash(hashtable: list, entry: tuple) -> tuple:\n",
        "  ans = []\n",
        "  for ls in hashtable:\n",
        "    for i in ls:\n",
        "      if entry[1][i]==1:\n",
        "        ans.append(i)\n",
        "        break\n",
        "  return (entry[0], ans)"
      ],
      "metadata": {
        "id": "A2GZi9Znmleg"
      },
      "execution_count": null,
      "outputs": []
    },
    {
      "cell_type": "code",
      "source": [
        "# create hash table\n",
        "def minhash_table(n: int) -> list:\n",
        "  ans = []\n",
        "  for i in range(n):\n",
        "    ans.append(random.sample(range(72530), 72530))\n",
        "  return ans"
      ],
      "metadata": {
        "id": "9CEIRjDRp3EJ"
      },
      "execution_count": null,
      "outputs": []
    },
    {
      "cell_type": "code",
      "source": [
        "# set seed\n",
        "random.seed(114514)"
      ],
      "metadata": {
        "id": "n_oDZSHgqDID"
      },
      "execution_count": null,
      "outputs": []
    },
    {
      "cell_type": "code",
      "source": [
        "# create hash table\n",
        "hashtable = minhash_table(1000)"
      ],
      "metadata": {
        "id": "4h4rTKhLX2wx"
      },
      "execution_count": null,
      "outputs": []
    },
    {
      "cell_type": "code",
      "source": [
        "# run minhash on reads\n",
        "start = time.time()\n",
        "print(time.localtime(start))\n",
        "read_sig_temp = reads_features.map(lambda x: minhash(hashtable, x))\n",
        "print(time.time()-start)"
      ],
      "metadata": {
        "id": "jgBZFSTorkh5",
        "outputId": "bcdb4b75-9d35-4e32-8a24-bbe95eeab563",
        "colab": {
          "base_uri": "https://localhost:8080/"
        }
      },
      "execution_count": null,
      "outputs": [
        {
          "output_type": "stream",
          "name": "stdout",
          "text": [
            "time.struct_time(tm_year=2023, tm_mon=4, tm_mday=10, tm_hour=19, tm_min=48, tm_sec=19, tm_wday=0, tm_yday=100, tm_isdst=0)\n",
            "0.0011811256408691406\n"
          ]
        }
      ]
    },
    {
      "cell_type": "code",
      "source": [
        "# run minhash on references\n",
        "start = time.time()\n",
        "print(time.localtime(start))\n",
        "ref_sig_temp = reference_features.map(lambda x: minhash(hashtable, x))\n",
        "print(time.time()-start)"
      ],
      "metadata": {
        "id": "NoguccloromD",
        "outputId": "779f2195-c6af-476d-edd9-5d4b57267a3a",
        "colab": {
          "base_uri": "https://localhost:8080/"
        }
      },
      "execution_count": null,
      "outputs": [
        {
          "output_type": "stream",
          "name": "stdout",
          "text": [
            "time.struct_time(tm_year=2023, tm_mon=4, tm_mday=10, tm_hour=19, tm_min=51, tm_sec=4, tm_wday=0, tm_yday=100, tm_isdst=0)\n",
            "0.0007219314575195312\n"
          ]
        }
      ]
    },
    {
      "cell_type": "code",
      "source": [
        "len(read_sig_temp.take(1)[0][1])"
      ],
      "metadata": {
        "id": "hVMDYEt5svUY",
        "outputId": "b8116665-923b-4eb6-dddc-3d0d21c7bdbe",
        "colab": {
          "base_uri": "https://localhost:8080/"
        }
      },
      "execution_count": null,
      "outputs": [
        {
          "output_type": "execute_result",
          "data": {
            "text/plain": [
              "1000"
            ]
          },
          "metadata": {},
          "execution_count": 53
        }
      ]
    },
    {
      "cell_type": "code",
      "source": [
        "len(ref_sig_temp.take(1)[0][1])"
      ],
      "metadata": {
        "id": "dnCx784WuOMS",
        "outputId": "6cd38bba-68f3-4e81-aaf9-0ef7ec01fd80",
        "colab": {
          "base_uri": "https://localhost:8080/"
        }
      },
      "execution_count": null,
      "outputs": [
        {
          "output_type": "execute_result",
          "data": {
            "text/plain": [
              "1000"
            ]
          },
          "metadata": {},
          "execution_count": 55
        }
      ]
    }
  ],
  "metadata": {
    "colab": {
      "provenance": [],
      "toc_visible": true,
      "machine_shape": "hm"
    },
    "kernelspec": {
      "display_name": "Python 3",
      "language": "python",
      "name": "python3"
    },
    "language_info": {
      "codemirror_mode": {
        "name": "ipython",
        "version": 3
      },
      "file_extension": ".py",
      "mimetype": "text/x-python",
      "name": "python",
      "nbconvert_exporter": "python",
      "pygments_lexer": "ipython3",
      "version": "3.8.8"
    },
    "gpuClass": "standard"
  },
  "nbformat": 4,
  "nbformat_minor": 0
}