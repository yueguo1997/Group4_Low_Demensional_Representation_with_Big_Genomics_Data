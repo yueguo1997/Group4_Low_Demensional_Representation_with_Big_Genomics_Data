{
 "cells": [
  {
   "cell_type": "markdown",
   "metadata": {
    "id": "vGmIEcOvOqh2"
   },
   "source": [
    "# Load Package"
   ]
  },
  {
   "cell_type": "code",
   "execution_count": 1,
   "metadata": {
    "colab": {
     "base_uri": "https://localhost:8080/"
    },
    "id": "O9ZOdq_j9JUC",
    "outputId": "2b9a2c38-5823-4919-bb69-f0f46a0b23de"
   },
   "outputs": [
    {
     "name": "stdout",
     "output_type": "stream",
     "text": [
      "Mounted at /content/drive\n"
     ]
    }
   ],
   "source": [
    "from google.colab import drive\n",
    "drive.mount('/content/drive')"
   ]
  },
  {
   "cell_type": "code",
   "execution_count": 2,
   "metadata": {
    "colab": {
     "base_uri": "https://localhost:8080/"
    },
    "id": "7wEGHkoa9Ojl",
    "outputId": "692b7d3a-1f98-47a5-a89a-58c01927a3bf"
   },
   "outputs": [
    {
     "name": "stdout",
     "output_type": "stream",
     "text": [
      "/content/drive/MyDrive/Bigdataproject\n"
     ]
    }
   ],
   "source": [
    "import os\n",
    "cur_path = \"/content/drive/MyDrive/Bigdataproject/\"\n",
    "os.chdir(cur_path)\n",
    "!pwd"
   ]
  },
  {
   "cell_type": "code",
   "execution_count": 3,
   "metadata": {
    "colab": {
     "base_uri": "https://localhost:8080/"
    },
    "id": "0MDGVXW64BRa",
    "outputId": "9767e550-d263-41c8-b264-90de00ded62f"
   },
   "outputs": [
    {
     "name": "stdout",
     "output_type": "stream",
     "text": [
      "Looking in indexes: https://pypi.org/simple, https://us-python.pkg.dev/colab-wheels/public/simple/\n",
      "Collecting pyspark\n",
      "  Downloading pyspark-3.3.2.tar.gz (281.4 MB)\n",
      "\u001b[2K     \u001b[90m━━━━━━━━━━━━━━━━━━━━━━━━━━━━━━━━━━━━━━━\u001b[0m \u001b[32m281.4/281.4 MB\u001b[0m \u001b[31m5.3 MB/s\u001b[0m eta \u001b[36m0:00:00\u001b[0m\n",
      "\u001b[?25h  Preparing metadata (setup.py) ... \u001b[?25l\u001b[?25hdone\n",
      "Collecting py4j==0.10.9.5\n",
      "  Downloading py4j-0.10.9.5-py2.py3-none-any.whl (199 kB)\n",
      "\u001b[2K     \u001b[90m━━━━━━━━━━━━━━━━━━━━━━━━━━━━━━━━━━━━━━\u001b[0m \u001b[32m199.7/199.7 KB\u001b[0m \u001b[31m24.5 MB/s\u001b[0m eta \u001b[36m0:00:00\u001b[0m\n",
      "\u001b[?25hBuilding wheels for collected packages: pyspark\n",
      "  Building wheel for pyspark (setup.py) ... \u001b[?25l\u001b[?25hdone\n",
      "  Created wheel for pyspark: filename=pyspark-3.3.2-py2.py3-none-any.whl size=281824028 sha256=9a10dc860f467b3e9113c9c3674a7fcff82c9304d17198b891af10bb7f6083f3\n",
      "  Stored in directory: /root/.cache/pip/wheels/6c/e3/9b/0525ce8a69478916513509d43693511463c6468db0de237c86\n",
      "Successfully built pyspark\n",
      "Installing collected packages: py4j, pyspark\n",
      "  Attempting uninstall: py4j\n",
      "    Found existing installation: py4j 0.10.9.7\n",
      "    Uninstalling py4j-0.10.9.7:\n",
      "      Successfully uninstalled py4j-0.10.9.7\n",
      "Successfully installed py4j-0.10.9.5 pyspark-3.3.2\n",
      "Looking in indexes: https://pypi.org/simple, https://us-python.pkg.dev/colab-wheels/public/simple/\n",
      "Requirement already satisfied: pyspark[sql] in /usr/local/lib/python3.9/dist-packages (3.3.2)\n",
      "Requirement already satisfied: py4j==0.10.9.5 in /usr/local/lib/python3.9/dist-packages (from pyspark[sql]) (0.10.9.5)\n",
      "Requirement already satisfied: pandas>=1.0.5 in /usr/local/lib/python3.9/dist-packages (from pyspark[sql]) (1.4.4)\n",
      "Requirement already satisfied: pyarrow>=1.0.0 in /usr/local/lib/python3.9/dist-packages (from pyspark[sql]) (9.0.0)\n",
      "Requirement already satisfied: pytz>=2020.1 in /usr/local/lib/python3.9/dist-packages (from pandas>=1.0.5->pyspark[sql]) (2022.7.1)\n",
      "Requirement already satisfied: numpy>=1.18.5 in /usr/local/lib/python3.9/dist-packages (from pandas>=1.0.5->pyspark[sql]) (1.22.4)\n",
      "Requirement already satisfied: python-dateutil>=2.8.1 in /usr/local/lib/python3.9/dist-packages (from pandas>=1.0.5->pyspark[sql]) (2.8.2)\n",
      "Requirement already satisfied: six>=1.5 in /usr/local/lib/python3.9/dist-packages (from python-dateutil>=2.8.1->pandas>=1.0.5->pyspark[sql]) (1.16.0)\n",
      "The following additional packages will be installed:\n",
      "  openjdk-8-jre-headless\n",
      "Suggested packages:\n",
      "  openjdk-8-demo openjdk-8-source libnss-mdns fonts-dejavu-extra\n",
      "  fonts-ipafont-gothic fonts-ipafont-mincho fonts-wqy-microhei\n",
      "  fonts-wqy-zenhei fonts-indic\n",
      "The following NEW packages will be installed:\n",
      "  openjdk-8-jdk-headless openjdk-8-jre-headless\n",
      "0 upgraded, 2 newly installed, 0 to remove and 23 not upgraded.\n",
      "Need to get 36.5 MB of archives.\n",
      "After this operation, 144 MB of additional disk space will be used.\n",
      "Selecting previously unselected package openjdk-8-jre-headless:amd64.\n",
      "(Reading database ... 128285 files and directories currently installed.)\n",
      "Preparing to unpack .../openjdk-8-jre-headless_8u362-ga-0ubuntu1~20.04.1_amd64.deb ...\n",
      "Unpacking openjdk-8-jre-headless:amd64 (8u362-ga-0ubuntu1~20.04.1) ...\n",
      "Selecting previously unselected package openjdk-8-jdk-headless:amd64.\n",
      "Preparing to unpack .../openjdk-8-jdk-headless_8u362-ga-0ubuntu1~20.04.1_amd64.deb ...\n",
      "Unpacking openjdk-8-jdk-headless:amd64 (8u362-ga-0ubuntu1~20.04.1) ...\n",
      "Setting up openjdk-8-jre-headless:amd64 (8u362-ga-0ubuntu1~20.04.1) ...\n",
      "update-alternatives: using /usr/lib/jvm/java-8-openjdk-amd64/jre/bin/orbd to provide /usr/bin/orbd (orbd) in auto mode\n",
      "update-alternatives: using /usr/lib/jvm/java-8-openjdk-amd64/jre/bin/servertool to provide /usr/bin/servertool (servertool) in auto mode\n",
      "update-alternatives: using /usr/lib/jvm/java-8-openjdk-amd64/jre/bin/tnameserv to provide /usr/bin/tnameserv (tnameserv) in auto mode\n",
      "Setting up openjdk-8-jdk-headless:amd64 (8u362-ga-0ubuntu1~20.04.1) ...\n",
      "update-alternatives: using /usr/lib/jvm/java-8-openjdk-amd64/bin/idlj to provide /usr/bin/idlj (idlj) in auto mode\n",
      "update-alternatives: using /usr/lib/jvm/java-8-openjdk-amd64/bin/wsimport to provide /usr/bin/wsimport (wsimport) in auto mode\n",
      "update-alternatives: using /usr/lib/jvm/java-8-openjdk-amd64/bin/jsadebugd to provide /usr/bin/jsadebugd (jsadebugd) in auto mode\n",
      "update-alternatives: using /usr/lib/jvm/java-8-openjdk-amd64/bin/native2ascii to provide /usr/bin/native2ascii (native2ascii) in auto mode\n",
      "update-alternatives: using /usr/lib/jvm/java-8-openjdk-amd64/bin/javah to provide /usr/bin/javah (javah) in auto mode\n",
      "update-alternatives: using /usr/lib/jvm/java-8-openjdk-amd64/bin/hsdb to provide /usr/bin/hsdb (hsdb) in auto mode\n",
      "update-alternatives: using /usr/lib/jvm/java-8-openjdk-amd64/bin/clhsdb to provide /usr/bin/clhsdb (clhsdb) in auto mode\n",
      "update-alternatives: using /usr/lib/jvm/java-8-openjdk-amd64/bin/xjc to provide /usr/bin/xjc (xjc) in auto mode\n",
      "update-alternatives: using /usr/lib/jvm/java-8-openjdk-amd64/bin/schemagen to provide /usr/bin/schemagen (schemagen) in auto mode\n",
      "update-alternatives: using /usr/lib/jvm/java-8-openjdk-amd64/bin/extcheck to provide /usr/bin/extcheck (extcheck) in auto mode\n",
      "update-alternatives: using /usr/lib/jvm/java-8-openjdk-amd64/bin/jhat to provide /usr/bin/jhat (jhat) in auto mode\n",
      "update-alternatives: using /usr/lib/jvm/java-8-openjdk-amd64/bin/wsgen to provide /usr/bin/wsgen (wsgen) in auto mode\n"
     ]
    }
   ],
   "source": [
    "!pip install pyspark\n",
    "!pip install pyspark[sql]\n",
    "!pip install -U -q PyDrive\n",
    "!apt install openjdk-8-jdk-headless -qq \n",
    "import os\n",
    "os.environ[\"JAVA_HOME\"] = \"/usr/lib/jvm/java-8-openjdk-amd64\""
   ]
  },
  {
   "cell_type": "code",
   "execution_count": 4,
   "metadata": {
    "id": "bXw2KzHqNEwD"
   },
   "outputs": [],
   "source": [
    "import pyspark as spark\n",
    "import time\n",
    "from operator import add\n",
    "from pyspark.sql import SparkSession"
   ]
  },
  {
   "cell_type": "markdown",
   "metadata": {
    "id": "BLH0Rq2yOt1R"
   },
   "source": [
    "# Step 0: Read Data"
   ]
  },
  {
   "cell_type": "markdown",
   "metadata": {
    "id": "ynLN-vAXQ653"
   },
   "source": [
    "## Set spark session"
   ]
  },
  {
   "cell_type": "code",
   "execution_count": 5,
   "metadata": {
    "id": "uDsadwheOw8x"
   },
   "outputs": [],
   "source": [
    "# set spark session\n",
    "ss = (SparkSession\n",
    "  .builder\n",
    "  .master(\"local[5]\")\n",
    "  .appName(\"fqproject\")\n",
    "  .getOrCreate())\n"
   ]
  },
  {
   "cell_type": "markdown",
   "metadata": {
    "id": "PIW11UM7OzMy"
   },
   "source": [
    "## Set spark context"
   ]
  },
  {
   "cell_type": "code",
   "execution_count": 6,
   "metadata": {
    "id": "N0ueyutSQ7Px"
   },
   "outputs": [],
   "source": [
    "# set spark session\n",
    "sc = (spark\n",
    "  .SparkContext\n",
    "  .getOrCreate(spark\n",
    "    .SparkConf()\n",
    "    .setAppName(\"fqproject\")\n",
    "    .setMaster('local[*]')\n",
    "    .set('spark.executor.memory', '4G')\n",
    "    .set('spark.driver.memory', '4G')\n",
    "    .set('spark.driver.maxResultSize', '4G')))"
   ]
  },
  {
   "cell_type": "markdown",
   "metadata": {
    "id": "MRsu1WltO1E0"
   },
   "source": [
    "## Read reads.fq"
   ]
  },
  {
   "cell_type": "code",
   "execution_count": 7,
   "metadata": {
    "id": "hEEIfL20O3U1"
   },
   "outputs": [],
   "source": [
    "# read reads.fq and extract the second line of every four lines.\n",
    "reads = (sc\n",
    "  .textFile(cur_path + \"data/reads.fq\")\n",
    "  .zipWithIndex()\n",
    "  .filter(lambda x: (x[1]+1)%2==0 and (x[1]+1)%4!=0)\n",
    "  .map(lambda x: x[0]))"
   ]
  },
  {
   "cell_type": "code",
   "execution_count": 8,
   "metadata": {
    "colab": {
     "base_uri": "https://localhost:8080/"
    },
    "id": "Z2r0uE5pPD4P",
    "outputId": "9849e6b9-dde2-4b3e-b3b5-3ae6f40be870"
   },
   "outputs": [
    {
     "data": {
      "text/plain": [
       "['TCCTTACTGGTTTTGCAGGTAACTTATAGAGTATTTCCACTTCCCTTCTCCTATCCCTTGAAAAATTGTCATTTATTTCTCTTATCCATATGGCATAATC',\n",
       " 'GGTTTTTCAGGTAACTTATAGAGTATTTCCACTTCCCTTCTCCTATCCCTGGAAAAATTGTCATTTATTTCTCTTATCCATATGGCATAATCAAAGAATA',\n",
       " 'AGGTAACTTATAGAGTACTTCCACTTCCCTTCTCCTATCCCTTGAAAAATTGTCATTGATTTCTCTTATCCATATGGCATAATCAAAGAATAAATTGGTG',\n",
       " 'CACTTCCCTTCTACTATCCCTTGAAAAATTGTCATTTATTTCTCTTATCCATATGGCATAATCAAAGAATAAATTGGTGATATTTGTTCAAAAATCCATG',\n",
       " 'CCTTCTCCTATCCCTTGAAAAATTGTCATTTATTTCCCTTATCCATATGGCATAATCAAAGAATAAATTGGTGATATTTGTTCAAAAATCCATGCCTTTT',\n",
       " 'ATCCCTTGAAAAATTGTCATTTATTTCTCTTATCCATATGGCATAATCAAAGAATAAATTGGTGATATTTGTTCAAAAATCCGTGCCTATTAGATTCATT',\n",
       " 'TCTTATCCATATGGCATAATCAAAGAATAAATTGGTGATATTTGTTCAAAAATCCATGCCTATTAGATTCATTTAGAATATAAAAAAATTTTATTTTATT',\n",
       " 'TATCCATATGGCATAATCAAAGAATCAATTGTTGATATTTGTTCAAAAATCCATGCCTATTAGATTCATTTAGAATATAAAAAAATTTTATTTTATTTTC',\n",
       " 'TCAAAGAATAAATTGGTGATATTTGTTCAAAAATCCATGCCTATTAGATTCATTTAGATTATAAAAAAATTTTATTTTATTTTCACTTATTTCTTCTCCA',\n",
       " 'TGAATAAATTGGTGATATTTGTTCAAAAATCCATGCCTACTAGATTCATTTAGAATATAAAAAAATTTTATTTTATTTTCACTTATTTCTTCTCCACTGA']"
      ]
     },
     "execution_count": 8,
     "metadata": {},
     "output_type": "execute_result"
    }
   ],
   "source": [
    "reads.take(10)"
   ]
  },
  {
   "cell_type": "markdown",
   "metadata": {
    "id": "zEvNcdARO3-v"
   },
   "source": [
    "## Read reference.fa"
   ]
  },
  {
   "cell_type": "code",
   "execution_count": 9,
   "metadata": {
    "id": "zqg4o_B6O9wD"
   },
   "outputs": [],
   "source": [
    "# read reference\n",
    "reference = (ss\n",
    "  .read\n",
    "  .csv(\n",
    "      cur_path + \"data/reference_chr21_20000000_20050000.fa\",\n",
    "      inferSchema=True,\n",
    "      header=True))"
   ]
  },
  {
   "cell_type": "code",
   "execution_count": 10,
   "metadata": {
    "colab": {
     "base_uri": "https://localhost:8080/"
    },
    "id": "dSWs5YRJPFL0",
    "outputId": "ebad3885-a226-4b75-c12c-4a5f4cf6088c"
   },
   "outputs": [
    {
     "name": "stdout",
     "output_type": "stream",
     "text": [
      "+--------+--------+--------------------+\n",
      "|   start|     end|            sequence|\n",
      "+--------+--------+--------------------+\n",
      "|20000000|20000100|CCCTTCTCCTATCCCTT...|\n",
      "|20000100|20000200|TAGATTCATTTAGAATA...|\n",
      "|20000200|20000300|TTCTTCTTCCTGAAGAA...|\n",
      "|20000300|20000400|ACTTTTCAAGGATAGTT...|\n",
      "|20000400|20000500|CTGACAGGACTTCTGCC...|\n",
      "|20000500|20000600|TTTCCTTTTTTTTTTCT...|\n",
      "|20000600|20000700|ATTATAAAAAGGGAGGG...|\n",
      "|20000700|20000800|TTCTTTTCTTTTTCTCC...|\n",
      "|20000800|20000900|ATAAATTTCTGCTTGAA...|\n",
      "|20000900|20001000|TTCGTTAGTGTTTTTTA...|\n",
      "+--------+--------+--------------------+\n",
      "only showing top 10 rows\n",
      "\n"
     ]
    }
   ],
   "source": [
    "reference.show(10)"
   ]
  },
  {
   "cell_type": "markdown",
   "metadata": {
    "id": "59Y3bTkLSAI2"
   },
   "source": [
    "# Step 1: Cut reads into kmers = 15"
   ]
  },
  {
   "cell_type": "markdown",
   "metadata": {
    "id": "ANqDbZ8hS38t"
   },
   "source": [
    "## Define K-mers"
   ]
  },
  {
   "cell_type": "code",
   "execution_count": 11,
   "metadata": {
    "id": "naqY5_vJSFoK"
   },
   "outputs": [],
   "source": [
    "# input a string s and cut k-mers\n",
    "def extract_kmers(s: str, k: int = 15) -> list:\n",
    "    return [s[i:i+k] for i in range(len(s)-k+1)]"
   ]
  },
  {
   "cell_type": "markdown",
   "metadata": {
    "id": "QViG0LdgTPvr"
   },
   "source": [
    "## Map K-mers to reads"
   ]
  },
  {
   "cell_type": "code",
   "execution_count": 12,
   "metadata": {
    "id": "FiS_J2ghTPLb"
   },
   "outputs": [],
   "source": [
    "# K-mers of reads\n",
    "reads_kmers = (reads\n",
    "  .map(extract_kmers))"
   ]
  },
  {
   "cell_type": "code",
   "execution_count": 13,
   "metadata": {
    "colab": {
     "base_uri": "https://localhost:8080/"
    },
    "id": "G0EBAg1nTa1T",
    "outputId": "9f263e44-cb23-40c1-e340-faccbd062cb0"
   },
   "outputs": [
    {
     "data": {
      "text/plain": [
       "[['TCCTTACTGGTTTTG',\n",
       "  'CCTTACTGGTTTTGC',\n",
       "  'CTTACTGGTTTTGCA',\n",
       "  'TTACTGGTTTTGCAG',\n",
       "  'TACTGGTTTTGCAGG',\n",
       "  'ACTGGTTTTGCAGGT',\n",
       "  'CTGGTTTTGCAGGTA',\n",
       "  'TGGTTTTGCAGGTAA',\n",
       "  'GGTTTTGCAGGTAAC',\n",
       "  'GTTTTGCAGGTAACT',\n",
       "  'TTTTGCAGGTAACTT',\n",
       "  'TTTGCAGGTAACTTA',\n",
       "  'TTGCAGGTAACTTAT',\n",
       "  'TGCAGGTAACTTATA',\n",
       "  'GCAGGTAACTTATAG',\n",
       "  'CAGGTAACTTATAGA',\n",
       "  'AGGTAACTTATAGAG',\n",
       "  'GGTAACTTATAGAGT',\n",
       "  'GTAACTTATAGAGTA',\n",
       "  'TAACTTATAGAGTAT',\n",
       "  'AACTTATAGAGTATT',\n",
       "  'ACTTATAGAGTATTT',\n",
       "  'CTTATAGAGTATTTC',\n",
       "  'TTATAGAGTATTTCC',\n",
       "  'TATAGAGTATTTCCA',\n",
       "  'ATAGAGTATTTCCAC',\n",
       "  'TAGAGTATTTCCACT',\n",
       "  'AGAGTATTTCCACTT',\n",
       "  'GAGTATTTCCACTTC',\n",
       "  'AGTATTTCCACTTCC',\n",
       "  'GTATTTCCACTTCCC',\n",
       "  'TATTTCCACTTCCCT',\n",
       "  'ATTTCCACTTCCCTT',\n",
       "  'TTTCCACTTCCCTTC',\n",
       "  'TTCCACTTCCCTTCT',\n",
       "  'TCCACTTCCCTTCTC',\n",
       "  'CCACTTCCCTTCTCC',\n",
       "  'CACTTCCCTTCTCCT',\n",
       "  'ACTTCCCTTCTCCTA',\n",
       "  'CTTCCCTTCTCCTAT',\n",
       "  'TTCCCTTCTCCTATC',\n",
       "  'TCCCTTCTCCTATCC',\n",
       "  'CCCTTCTCCTATCCC',\n",
       "  'CCTTCTCCTATCCCT',\n",
       "  'CTTCTCCTATCCCTT',\n",
       "  'TTCTCCTATCCCTTG',\n",
       "  'TCTCCTATCCCTTGA',\n",
       "  'CTCCTATCCCTTGAA',\n",
       "  'TCCTATCCCTTGAAA',\n",
       "  'CCTATCCCTTGAAAA',\n",
       "  'CTATCCCTTGAAAAA',\n",
       "  'TATCCCTTGAAAAAT',\n",
       "  'ATCCCTTGAAAAATT',\n",
       "  'TCCCTTGAAAAATTG',\n",
       "  'CCCTTGAAAAATTGT',\n",
       "  'CCTTGAAAAATTGTC',\n",
       "  'CTTGAAAAATTGTCA',\n",
       "  'TTGAAAAATTGTCAT',\n",
       "  'TGAAAAATTGTCATT',\n",
       "  'GAAAAATTGTCATTT',\n",
       "  'AAAAATTGTCATTTA',\n",
       "  'AAAATTGTCATTTAT',\n",
       "  'AAATTGTCATTTATT',\n",
       "  'AATTGTCATTTATTT',\n",
       "  'ATTGTCATTTATTTC',\n",
       "  'TTGTCATTTATTTCT',\n",
       "  'TGTCATTTATTTCTC',\n",
       "  'GTCATTTATTTCTCT',\n",
       "  'TCATTTATTTCTCTT',\n",
       "  'CATTTATTTCTCTTA',\n",
       "  'ATTTATTTCTCTTAT',\n",
       "  'TTTATTTCTCTTATC',\n",
       "  'TTATTTCTCTTATCC',\n",
       "  'TATTTCTCTTATCCA',\n",
       "  'ATTTCTCTTATCCAT',\n",
       "  'TTTCTCTTATCCATA',\n",
       "  'TTCTCTTATCCATAT',\n",
       "  'TCTCTTATCCATATG',\n",
       "  'CTCTTATCCATATGG',\n",
       "  'TCTTATCCATATGGC',\n",
       "  'CTTATCCATATGGCA',\n",
       "  'TTATCCATATGGCAT',\n",
       "  'TATCCATATGGCATA',\n",
       "  'ATCCATATGGCATAA',\n",
       "  'TCCATATGGCATAAT',\n",
       "  'CCATATGGCATAATC'],\n",
       " ['GGTTTTTCAGGTAAC',\n",
       "  'GTTTTTCAGGTAACT',\n",
       "  'TTTTTCAGGTAACTT',\n",
       "  'TTTTCAGGTAACTTA',\n",
       "  'TTTCAGGTAACTTAT',\n",
       "  'TTCAGGTAACTTATA',\n",
       "  'TCAGGTAACTTATAG',\n",
       "  'CAGGTAACTTATAGA',\n",
       "  'AGGTAACTTATAGAG',\n",
       "  'GGTAACTTATAGAGT',\n",
       "  'GTAACTTATAGAGTA',\n",
       "  'TAACTTATAGAGTAT',\n",
       "  'AACTTATAGAGTATT',\n",
       "  'ACTTATAGAGTATTT',\n",
       "  'CTTATAGAGTATTTC',\n",
       "  'TTATAGAGTATTTCC',\n",
       "  'TATAGAGTATTTCCA',\n",
       "  'ATAGAGTATTTCCAC',\n",
       "  'TAGAGTATTTCCACT',\n",
       "  'AGAGTATTTCCACTT',\n",
       "  'GAGTATTTCCACTTC',\n",
       "  'AGTATTTCCACTTCC',\n",
       "  'GTATTTCCACTTCCC',\n",
       "  'TATTTCCACTTCCCT',\n",
       "  'ATTTCCACTTCCCTT',\n",
       "  'TTTCCACTTCCCTTC',\n",
       "  'TTCCACTTCCCTTCT',\n",
       "  'TCCACTTCCCTTCTC',\n",
       "  'CCACTTCCCTTCTCC',\n",
       "  'CACTTCCCTTCTCCT',\n",
       "  'ACTTCCCTTCTCCTA',\n",
       "  'CTTCCCTTCTCCTAT',\n",
       "  'TTCCCTTCTCCTATC',\n",
       "  'TCCCTTCTCCTATCC',\n",
       "  'CCCTTCTCCTATCCC',\n",
       "  'CCTTCTCCTATCCCT',\n",
       "  'CTTCTCCTATCCCTG',\n",
       "  'TTCTCCTATCCCTGG',\n",
       "  'TCTCCTATCCCTGGA',\n",
       "  'CTCCTATCCCTGGAA',\n",
       "  'TCCTATCCCTGGAAA',\n",
       "  'CCTATCCCTGGAAAA',\n",
       "  'CTATCCCTGGAAAAA',\n",
       "  'TATCCCTGGAAAAAT',\n",
       "  'ATCCCTGGAAAAATT',\n",
       "  'TCCCTGGAAAAATTG',\n",
       "  'CCCTGGAAAAATTGT',\n",
       "  'CCTGGAAAAATTGTC',\n",
       "  'CTGGAAAAATTGTCA',\n",
       "  'TGGAAAAATTGTCAT',\n",
       "  'GGAAAAATTGTCATT',\n",
       "  'GAAAAATTGTCATTT',\n",
       "  'AAAAATTGTCATTTA',\n",
       "  'AAAATTGTCATTTAT',\n",
       "  'AAATTGTCATTTATT',\n",
       "  'AATTGTCATTTATTT',\n",
       "  'ATTGTCATTTATTTC',\n",
       "  'TTGTCATTTATTTCT',\n",
       "  'TGTCATTTATTTCTC',\n",
       "  'GTCATTTATTTCTCT',\n",
       "  'TCATTTATTTCTCTT',\n",
       "  'CATTTATTTCTCTTA',\n",
       "  'ATTTATTTCTCTTAT',\n",
       "  'TTTATTTCTCTTATC',\n",
       "  'TTATTTCTCTTATCC',\n",
       "  'TATTTCTCTTATCCA',\n",
       "  'ATTTCTCTTATCCAT',\n",
       "  'TTTCTCTTATCCATA',\n",
       "  'TTCTCTTATCCATAT',\n",
       "  'TCTCTTATCCATATG',\n",
       "  'CTCTTATCCATATGG',\n",
       "  'TCTTATCCATATGGC',\n",
       "  'CTTATCCATATGGCA',\n",
       "  'TTATCCATATGGCAT',\n",
       "  'TATCCATATGGCATA',\n",
       "  'ATCCATATGGCATAA',\n",
       "  'TCCATATGGCATAAT',\n",
       "  'CCATATGGCATAATC',\n",
       "  'CATATGGCATAATCA',\n",
       "  'ATATGGCATAATCAA',\n",
       "  'TATGGCATAATCAAA',\n",
       "  'ATGGCATAATCAAAG',\n",
       "  'TGGCATAATCAAAGA',\n",
       "  'GGCATAATCAAAGAA',\n",
       "  'GCATAATCAAAGAAT',\n",
       "  'CATAATCAAAGAATA']]"
      ]
     },
     "execution_count": 13,
     "metadata": {},
     "output_type": "execute_result"
    }
   ],
   "source": [
    "reads_kmers.take(2)"
   ]
  },
  {
   "cell_type": "markdown",
   "metadata": {
    "id": "y9LB3IwwT3RE"
   },
   "source": [
    "# Step 2: • Cut reference bins into kmers = 15"
   ]
  },
  {
   "cell_type": "code",
   "execution_count": 14,
   "metadata": {
    "id": "CVfbDsD0T2Ri"
   },
   "outputs": [],
   "source": [
    "# K-mers of reference\n",
    "reference_kmers = (reference\n",
    "  .select('sequence')\n",
    "  .rdd\n",
    "  .flatMap(lambda x: x)\n",
    "  .map(extract_kmers))"
   ]
  },
  {
   "cell_type": "code",
   "execution_count": 15,
   "metadata": {
    "colab": {
     "base_uri": "https://localhost:8080/"
    },
    "id": "huQx-SdEUbxy",
    "outputId": "0fe20e78-a7f6-4414-d893-70c83bf45c68"
   },
   "outputs": [
    {
     "data": {
      "text/plain": [
       "[['CCCTTCTCCTATCCC',\n",
       "  'CCTTCTCCTATCCCT',\n",
       "  'CTTCTCCTATCCCTT',\n",
       "  'TTCTCCTATCCCTTG',\n",
       "  'TCTCCTATCCCTTGA',\n",
       "  'CTCCTATCCCTTGAA',\n",
       "  'TCCTATCCCTTGAAA',\n",
       "  'CCTATCCCTTGAAAA',\n",
       "  'CTATCCCTTGAAAAA',\n",
       "  'TATCCCTTGAAAAAT',\n",
       "  'ATCCCTTGAAAAATT',\n",
       "  'TCCCTTGAAAAATTG',\n",
       "  'CCCTTGAAAAATTGT',\n",
       "  'CCTTGAAAAATTGTC',\n",
       "  'CTTGAAAAATTGTCA',\n",
       "  'TTGAAAAATTGTCAT',\n",
       "  'TGAAAAATTGTCATT',\n",
       "  'GAAAAATTGTCATTT',\n",
       "  'AAAAATTGTCATTTA',\n",
       "  'AAAATTGTCATTTAT',\n",
       "  'AAATTGTCATTTATT',\n",
       "  'AATTGTCATTTATTT',\n",
       "  'ATTGTCATTTATTTC',\n",
       "  'TTGTCATTTATTTCT',\n",
       "  'TGTCATTTATTTCTC',\n",
       "  'GTCATTTATTTCTCT',\n",
       "  'TCATTTATTTCTCTT',\n",
       "  'CATTTATTTCTCTTA',\n",
       "  'ATTTATTTCTCTTAT',\n",
       "  'TTTATTTCTCTTATC',\n",
       "  'TTATTTCTCTTATCC',\n",
       "  'TATTTCTCTTATCCA',\n",
       "  'ATTTCTCTTATCCAT',\n",
       "  'TTTCTCTTATCCATA',\n",
       "  'TTCTCTTATCCATAT',\n",
       "  'TCTCTTATCCATATG',\n",
       "  'CTCTTATCCATATGG',\n",
       "  'TCTTATCCATATGGC',\n",
       "  'CTTATCCATATGGCA',\n",
       "  'TTATCCATATGGCAT',\n",
       "  'TATCCATATGGCATA',\n",
       "  'ATCCATATGGCATAA',\n",
       "  'TCCATATGGCATAAT',\n",
       "  'CCATATGGCATAATC',\n",
       "  'CATATGGCATAATCA',\n",
       "  'ATATGGCATAATCAA',\n",
       "  'TATGGCATAATCAAA',\n",
       "  'ATGGCATAATCAAAG',\n",
       "  'TGGCATAATCAAAGA',\n",
       "  'GGCATAATCAAAGAA',\n",
       "  'GCATAATCAAAGAAT',\n",
       "  'CATAATCAAAGAATA',\n",
       "  'ATAATCAAAGAATAA',\n",
       "  'TAATCAAAGAATAAA',\n",
       "  'AATCAAAGAATAAAT',\n",
       "  'ATCAAAGAATAAATT',\n",
       "  'TCAAAGAATAAATTG',\n",
       "  'CAAAGAATAAATTGG',\n",
       "  'AAAGAATAAATTGGT',\n",
       "  'AAGAATAAATTGGTG',\n",
       "  'AGAATAAATTGGTGA',\n",
       "  'GAATAAATTGGTGAT',\n",
       "  'AATAAATTGGTGATA',\n",
       "  'ATAAATTGGTGATAT',\n",
       "  'TAAATTGGTGATATT',\n",
       "  'AAATTGGTGATATTT',\n",
       "  'AATTGGTGATATTTG',\n",
       "  'ATTGGTGATATTTGT',\n",
       "  'TTGGTGATATTTGTT',\n",
       "  'TGGTGATATTTGTTC',\n",
       "  'GGTGATATTTGTTCA',\n",
       "  'GTGATATTTGTTCAA',\n",
       "  'TGATATTTGTTCAAA',\n",
       "  'GATATTTGTTCAAAA',\n",
       "  'ATATTTGTTCAAAAA',\n",
       "  'TATTTGTTCAAAAAT',\n",
       "  'ATTTGTTCAAAAATC',\n",
       "  'TTTGTTCAAAAATCC',\n",
       "  'TTGTTCAAAAATCCA',\n",
       "  'TGTTCAAAAATCCAT',\n",
       "  'GTTCAAAAATCCATG',\n",
       "  'TTCAAAAATCCATGC',\n",
       "  'TCAAAAATCCATGCC',\n",
       "  'CAAAAATCCATGCCT',\n",
       "  'AAAAATCCATGCCTA',\n",
       "  'AAAATCCATGCCTAT'],\n",
       " ['TAGATTCATTTAGAA',\n",
       "  'AGATTCATTTAGAAT',\n",
       "  'GATTCATTTAGAATA',\n",
       "  'ATTCATTTAGAATAT',\n",
       "  'TTCATTTAGAATATA',\n",
       "  'TCATTTAGAATATAA',\n",
       "  'CATTTAGAATATAAA',\n",
       "  'ATTTAGAATATAAAA',\n",
       "  'TTTAGAATATAAAAA',\n",
       "  'TTAGAATATAAAAAA',\n",
       "  'TAGAATATAAAAAAA',\n",
       "  'AGAATATAAAAAAAT',\n",
       "  'GAATATAAAAAAATT',\n",
       "  'AATATAAAAAAATTT',\n",
       "  'ATATAAAAAAATTTT',\n",
       "  'TATAAAAAAATTTTA',\n",
       "  'ATAAAAAAATTTTAT',\n",
       "  'TAAAAAAATTTTATT',\n",
       "  'AAAAAAATTTTATTT',\n",
       "  'AAAAAATTTTATTTT',\n",
       "  'AAAAATTTTATTTTA',\n",
       "  'AAAATTTTATTTTAT',\n",
       "  'AAATTTTATTTTATT',\n",
       "  'AATTTTATTTTATTT',\n",
       "  'ATTTTATTTTATTTT',\n",
       "  'TTTTATTTTATTTTC',\n",
       "  'TTTATTTTATTTTCA',\n",
       "  'TTATTTTATTTTCAC',\n",
       "  'TATTTTATTTTCACT',\n",
       "  'ATTTTATTTTCACTT',\n",
       "  'TTTTATTTTCACTTA',\n",
       "  'TTTATTTTCACTTAT',\n",
       "  'TTATTTTCACTTATT',\n",
       "  'TATTTTCACTTATTT',\n",
       "  'ATTTTCACTTATTTC',\n",
       "  'TTTTCACTTATTTCT',\n",
       "  'TTTCACTTATTTCTT',\n",
       "  'TTCACTTATTTCTTC',\n",
       "  'TCACTTATTTCTTCT',\n",
       "  'CACTTATTTCTTCTC',\n",
       "  'ACTTATTTCTTCTCC',\n",
       "  'CTTATTTCTTCTCCA',\n",
       "  'TTATTTCTTCTCCAC',\n",
       "  'TATTTCTTCTCCACT',\n",
       "  'ATTTCTTCTCCACTG',\n",
       "  'TTTCTTCTCCACTGA',\n",
       "  'TTCTTCTCCACTGAT',\n",
       "  'TCTTCTCCACTGATT',\n",
       "  'CTTCTCCACTGATTT',\n",
       "  'TTCTCCACTGATTTT',\n",
       "  'TCTCCACTGATTTTT',\n",
       "  'CTCCACTGATTTTTC',\n",
       "  'TCCACTGATTTTTCT',\n",
       "  'CCACTGATTTTTCTA',\n",
       "  'CACTGATTTTTCTAT',\n",
       "  'ACTGATTTTTCTATT',\n",
       "  'CTGATTTTTCTATTT',\n",
       "  'TGATTTTTCTATTTT',\n",
       "  'GATTTTTCTATTTTT',\n",
       "  'ATTTTTCTATTTTTA',\n",
       "  'TTTTTCTATTTTTAT',\n",
       "  'TTTTCTATTTTTATG',\n",
       "  'TTTCTATTTTTATGT',\n",
       "  'TTCTATTTTTATGTA',\n",
       "  'TCTATTTTTATGTAG',\n",
       "  'CTATTTTTATGTAGA',\n",
       "  'TATTTTTATGTAGAG',\n",
       "  'ATTTTTATGTAGAGA',\n",
       "  'TTTTTATGTAGAGAT',\n",
       "  'TTTTATGTAGAGATG',\n",
       "  'TTTATGTAGAGATGA',\n",
       "  'TTATGTAGAGATGAG',\n",
       "  'TATGTAGAGATGAGT',\n",
       "  'ATGTAGAGATGAGTT',\n",
       "  'TGTAGAGATGAGTTT',\n",
       "  'GTAGAGATGAGTTTC',\n",
       "  'TAGAGATGAGTTTCT',\n",
       "  'AGAGATGAGTTTCTG',\n",
       "  'GAGATGAGTTTCTGA',\n",
       "  'AGATGAGTTTCTGAC',\n",
       "  'GATGAGTTTCTGACA',\n",
       "  'ATGAGTTTCTGACAT',\n",
       "  'TGAGTTTCTGACATA',\n",
       "  'GAGTTTCTGACATAT',\n",
       "  'AGTTTCTGACATATA',\n",
       "  'GTTTCTGACATATAT']]"
      ]
     },
     "execution_count": 15,
     "metadata": {},
     "output_type": "execute_result"
    }
   ],
   "source": [
    "reference_kmers.take(2)"
   ]
  },
  {
   "cell_type": "markdown",
   "metadata": {
    "id": "x4a_UuqMUbcr"
   },
   "source": [
    "# Step 3: Collect all kmers and build a distinct kmer set\n",
    "\n",
    "• Hint: you can use python “set” function\n",
    "\n",
    "• Report the number of distinct kmers (N)"
   ]
  },
  {
   "cell_type": "code",
   "execution_count": 16,
   "metadata": {
    "id": "o8cKZPl-Vp1X"
   },
   "outputs": [],
   "source": [
    "# Merge and distinct, collect to a set\n",
    "kmers = set(reads_kmers \n",
    "  .union(reference_kmers)\n",
    "  .flatMap(lambda x: x) \n",
    "  .distinct()\n",
    "  .collect())"
   ]
  },
  {
   "cell_type": "code",
   "execution_count": 17,
   "metadata": {
    "colab": {
     "base_uri": "https://localhost:8080/"
    },
    "id": "J8wR4jStWvSK",
    "outputId": "f17d4d9d-4a96-41c0-c462-9bf51561a527"
   },
   "outputs": [
    {
     "data": {
      "text/plain": [
       "72530"
      ]
     },
     "execution_count": 17,
     "metadata": {},
     "output_type": "execute_result"
    }
   ],
   "source": [
    "len(kmers)"
   ]
  },
  {
   "cell_type": "markdown",
   "metadata": {
    "id": "C3eLWeCXXeiH"
   },
   "source": [
    "**The number of distinct kmers is 72,530**\n"
   ]
  },
  {
   "cell_type": "code",
   "execution_count": 22,
   "metadata": {
    "colab": {
     "base_uri": "https://localhost:8080/"
    },
    "id": "949kQtpBIKpB",
    "outputId": "e8051c4f-21d2-49ba-be1f-cf1692ba7787"
   },
   "outputs": [
    {
     "data": {
      "text/plain": [
       "PythonRDD[34] at RDD at PythonRDD.scala:53"
      ]
     },
     "execution_count": 22,
     "metadata": {},
     "output_type": "execute_result"
    }
   ],
   "source": [
    "reads"
   ]
  },
  {
   "cell_type": "code",
   "execution_count": null,
   "metadata": {
    "id": "8MY7yM09Kiuz"
   },
   "outputs": [],
   "source": []
  },
  {
   "cell_type": "markdown",
   "metadata": {
    "id": "hRSRaZRPKi7T"
   },
   "source": [
    "# Step4"
   ]
  },
  {
   "cell_type": "code",
   "execution_count": 115,
   "metadata": {
    "id": "1lQ3tv3BKkMX"
   },
   "outputs": [],
   "source": [
    "from pyspark.ml.linalg import Vectors\n",
    "import pandas as pd"
   ]
  },
  {
   "cell_type": "code",
   "execution_count": 162,
   "metadata": {
    "id": "OXqEo8FPKloc"
   },
   "outputs": [],
   "source": [
    "def check_kmer_features(read):\n",
    "\n",
    "  kmers_l = list(kmers)\n",
    "  m = []\n",
    "  \n",
    "\n",
    "  for i in range(len(kmers)):\n",
    "    if kmers_l[i] in read:\n",
    "      m.append(i)\n",
    "  v = [1.0 for i in range(len(m))]\n",
    "  return (read,Vectors.sparse(len(kmers),m,v))\n",
    "\n"
   ]
  },
  {
   "cell_type": "code",
   "execution_count": 163,
   "metadata": {
    "id": "pap8knRucBiv"
   },
   "outputs": [],
   "source": [
    "reads_features = reads.map(lambda x: check_kmer_features(x))"
   ]
  },
  {
   "cell_type": "code",
   "execution_count": 164,
   "metadata": {
    "colab": {
     "base_uri": "https://localhost:8080/"
    },
    "id": "HWNxwrj1cl-u",
    "outputId": "71dc67a7-4c73-45da-b654-f91d7e0bdc9d"
   },
   "outputs": [
    {
     "data": {
      "text/plain": [
       "[('TCCTTACTGGTTTTGCAGGTAACTTATAGAGTATTTCCACTTCCCTTCTCCTATCCCTTGAAAAATTGTCATTTATTTCTCTTATCCATATGGCATAATC',\n",
       "  SparseVector(72530, {172: 1.0, 850: 1.0, 1692: 1.0, 2458: 1.0, 4003: 1.0, 4611: 1.0, 6082: 1.0, 6575: 1.0, 7633: 1.0, 7926: 1.0, 9001: 1.0, 11636: 1.0, 13191: 1.0, 16387: 1.0, 17650: 1.0, 18186: 1.0, 18285: 1.0, 19256: 1.0, 19559: 1.0, 20326: 1.0, 20403: 1.0, 21798: 1.0, 22094: 1.0, 23410: 1.0, 23749: 1.0, 23953: 1.0, 23974: 1.0, 24733: 1.0, 25542: 1.0, 25959: 1.0, 26539: 1.0, 26778: 1.0, 27996: 1.0, 28213: 1.0, 30113: 1.0, 31480: 1.0, 34069: 1.0, 34680: 1.0, 35112: 1.0, 36107: 1.0, 37876: 1.0, 38474: 1.0, 38479: 1.0, 40068: 1.0, 40495: 1.0, 40783: 1.0, 41140: 1.0, 41709: 1.0, 42513: 1.0, 42585: 1.0, 42929: 1.0, 43083: 1.0, 43503: 1.0, 44230: 1.0, 45111: 1.0, 46254: 1.0, 50539: 1.0, 51937: 1.0, 53795: 1.0, 54047: 1.0, 54194: 1.0, 54919: 1.0, 55894: 1.0, 56222: 1.0, 58226: 1.0, 59433: 1.0, 59625: 1.0, 61056: 1.0, 61062: 1.0, 61217: 1.0, 61337: 1.0, 61469: 1.0, 61883: 1.0, 61972: 1.0, 62579: 1.0, 63353: 1.0, 63445: 1.0, 65007: 1.0, 65358: 1.0, 65732: 1.0, 66318: 1.0, 67220: 1.0, 67552: 1.0, 69074: 1.0, 70689: 1.0, 72271: 1.0}))]"
      ]
     },
     "execution_count": 164,
     "metadata": {},
     "output_type": "execute_result"
    }
   ],
   "source": [
    "reads_features.take(1)"
   ]
  },
  {
   "cell_type": "code",
   "execution_count": 116,
   "metadata": {
    "id": "QKxMpHBRgpNo"
   },
   "outputs": [],
   "source": [
    "reads_feature_df = pd.DataFrame()"
   ]
  },
  {
   "cell_type": "code",
   "execution_count": null,
   "metadata": {
    "id": "ZbWHjuLfWauj"
   },
   "outputs": [],
   "source": []
  },
  {
   "cell_type": "code",
   "execution_count": null,
   "metadata": {
    "id": "oeMY7GJrWawY"
   },
   "outputs": [],
   "source": []
  },
  {
   "cell_type": "markdown",
   "metadata": {
    "id": "RSuEBcoLKlwB"
   },
   "source": [
    "# Step5"
   ]
  },
  {
   "cell_type": "code",
   "execution_count": 165,
   "metadata": {
    "id": "NqRXCvBAKm-h"
   },
   "outputs": [],
   "source": [
    "reference_features = reference.select(\"sequence\").rdd.map(lambda x:check_kmer_features(x['sequence']))"
   ]
  },
  {
   "cell_type": "code",
   "execution_count": 166,
   "metadata": {
    "colab": {
     "base_uri": "https://localhost:8080/"
    },
    "id": "7tmq2Xoonm56",
    "outputId": "d3272e90-fc7a-4836-97c4-a8c0f1686b2c"
   },
   "outputs": [
    {
     "data": {
      "text/plain": [
       "[('CCCTTCTCCTATCCCTTGAAAAATTGTCATTTATTTCTCTTATCCATATGGCATAATCAAAGAATAAATTGGTGATATTTGTTCAAAAATCCATGCCTAT',\n",
       "  SparseVector(72530, {172: 1.0, 850: 1.0, 2586: 1.0, 4998: 1.0, 6082: 1.0, 7339: 1.0, 7633: 1.0, 8854: 1.0, 9001: 1.0, 9265: 1.0, 11636: 1.0, 13476: 1.0, 13838: 1.0, 14098: 1.0, 15257: 1.0, 15332: 1.0, 15838: 1.0, 16319: 1.0, 16669: 1.0, 17222: 1.0, 17650: 1.0, 18186: 1.0, 19256: 1.0, 19559: 1.0, 20326: 1.0, 20403: 1.0, 21798: 1.0, 22094: 1.0, 23024: 1.0, 25542: 1.0, 25636: 1.0, 26037: 1.0, 26539: 1.0, 27996: 1.0, 33472: 1.0, 33779: 1.0, 34069: 1.0, 34670: 1.0, 36146: 1.0, 38479: 1.0, 38744: 1.0, 40495: 1.0, 40783: 1.0, 41140: 1.0, 41709: 1.0, 42063: 1.0, 42513: 1.0, 42585: 1.0, 43083: 1.0, 43809: 1.0, 44230: 1.0, 45111: 1.0, 46254: 1.0, 46887: 1.0, 47328: 1.0, 48123: 1.0, 49417: 1.0, 49885: 1.0, 50177: 1.0, 51937: 1.0, 53096: 1.0, 53761: 1.0, 53795: 1.0, 54047: 1.0, 54095: 1.0, 57833: 1.0, 58226: 1.0, 58705: 1.0, 59433: 1.0, 61056: 1.0, 61217: 1.0, 61972: 1.0, 62467: 1.0, 62579: 1.0, 63353: 1.0, 63445: 1.0, 65037: 1.0, 65358: 1.0, 66318: 1.0, 67548: 1.0, 67552: 1.0, 68348: 1.0, 68977: 1.0, 69401: 1.0, 71172: 1.0, 72271: 1.0}))]"
      ]
     },
     "execution_count": 166,
     "metadata": {},
     "output_type": "execute_result"
    }
   ],
   "source": [
    "reference_features.take(1) "
   ]
  },
  {
   "cell_type": "code",
   "execution_count": null,
   "metadata": {
    "id": "eFux_1_DntsP"
   },
   "outputs": [],
   "source": []
  },
  {
   "cell_type": "markdown",
   "metadata": {},
   "source": [
    "# Step 6 （没写完版orz）"
   ]
  },
  {
   "cell_type": "markdown",
   "metadata": {},
   "source": [
    "## read signature"
   ]
  },
  {
   "cell_type": "code",
   "execution_count": null,
   "metadata": {},
   "outputs": [],
   "source": [
    "def check_kmer_features_new(read,k):\n",
    "    m = []\n",
    "  \n",
    "    for i in range(len(k)):\n",
    "        if k[i] in read:\n",
    "            m.append(i)\n",
    "    v = [1.0 for i in range(len(m))]\n",
    "    return (read,Vectors.sparse(len(k),m,v))"
   ]
  },
  {
   "cell_type": "code",
   "execution_count": null,
   "metadata": {},
   "outputs": [],
   "source": [
    "def extract_sparsevector_index(rdd):\n",
    "\n",
    "    extracted_data = rdd.map(lambda x: (x[0], x[1].toArray().tolist().index(1.0)))\n",
    "    return extracted_data"
   ]
  },
  {
   "cell_type": "code",
   "execution_count": null,
   "metadata": {},
   "outputs": [],
   "source": [
    "def permutaion_read():\n",
    "\n",
    "    # shuffle kmers\n",
    "    import random\n",
    "    kmers_list = list(kmers)\n",
    "    random.shuffle(kmers_list)\n",
    "\n",
    "    # new read features\n",
    "    reads_features = reads.map(lambda x: check_kmer_features_new(x,kmers_list))\n",
    "\n",
    "    # pick out the first row number of 1.0 for every read\n",
    "    return extract_sparsevector_index(reads_features)"
   ]
  },
  {
   "cell_type": "code",
   "execution_count": null,
   "metadata": {},
   "outputs": [],
   "source": [
    "sample_permu_read = permutaion_read()\n",
    "sample_permu_read.take(4)"
   ]
  },
  {
   "cell_type": "markdown",
   "metadata": {},
   "source": [
    "## reference signature"
   ]
  },
  {
   "cell_type": "code",
   "execution_count": null,
   "metadata": {},
   "outputs": [],
   "source": [
    "def permutaion_ref():\n",
    "\n",
    "    # shuffle kmers\n",
    "    import random\n",
    "    kmers_list = list(kmers)\n",
    "    random.shuffle(kmers_list)\n",
    "\n",
    "    # new read features\n",
    "    reference_features = reference.select(\"sequence\").rdd.map(lambda x:check_kmer_features_new(x['sequence'],kmers_list))\n",
    "\n",
    "    # pick out the first row number of 1.0 for every read\n",
    "    return extract_sparsevector_index(reference_features)"
   ]
  },
  {
   "cell_type": "code",
   "execution_count": null,
   "metadata": {},
   "outputs": [],
   "source": [
    "sample_permu_ref = permutaion_ref()\n",
    "sample_permu_ref.take(4)"
   ]
  }
 ],
 "metadata": {
  "colab": {
   "provenance": [],
   "toc_visible": true
  },
  "kernelspec": {
   "display_name": "Python 3",
   "language": "python",
   "name": "python3"
  },
  "language_info": {
   "codemirror_mode": {
    "name": "ipython",
    "version": 3
   },
   "file_extension": ".py",
   "mimetype": "text/x-python",
   "name": "python",
   "nbconvert_exporter": "python",
   "pygments_lexer": "ipython3",
   "version": "3.8.8"
  }
 },
 "nbformat": 4,
 "nbformat_minor": 1
}
