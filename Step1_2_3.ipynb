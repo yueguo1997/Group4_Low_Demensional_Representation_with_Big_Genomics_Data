{
  "nbformat": 4,
  "nbformat_minor": 0,
  "metadata": {
    "colab": {
      "provenance": [],
      "toc_visible": true
    },
    "kernelspec": {
      "name": "python3",
      "display_name": "Python 3"
    },
    "language_info": {
      "name": "python"
    }
  },
  "cells": [
    {
      "cell_type": "markdown",
      "source": [
        "# Load Package"
      ],
      "metadata": {
        "id": "vGmIEcOvOqh2"
      }
    },
    {
      "cell_type": "code",
      "source": [
        "from google.colab import drive\n",
        "drive.mount('/content/drive')"
      ],
      "metadata": {
        "colab": {
          "base_uri": "https://localhost:8080/"
        },
        "id": "O9ZOdq_j9JUC",
        "outputId": "e1fff23a-b11f-41f1-d87b-2dfde712caa7"
      },
      "execution_count": 1,
      "outputs": [
        {
          "output_type": "stream",
          "name": "stdout",
          "text": [
            "Drive already mounted at /content/drive; to attempt to forcibly remount, call drive.mount(\"/content/drive\", force_remount=True).\n"
          ]
        }
      ]
    },
    {
      "cell_type": "code",
      "source": [
        "import os\n",
        "cur_path = \"/content/drive/MyDrive/Bigdataproject/\"\n",
        "os.chdir(cur_path)\n",
        "!pwd"
      ],
      "metadata": {
        "colab": {
          "base_uri": "https://localhost:8080/"
        },
        "id": "7wEGHkoa9Ojl",
        "outputId": "4582245e-a10c-4990-e90e-5ff3f5e72769"
      },
      "execution_count": 2,
      "outputs": [
        {
          "output_type": "stream",
          "name": "stdout",
          "text": [
            "/content/drive/.shortcut-targets-by-id/17vQsBka11gF9J6q62UIKd778-o_uQJUU/Bigdataproject\n"
          ]
        }
      ]
    },
    {
      "cell_type": "code",
      "source": [
        "!pip install pyspark\n",
        "!pip install pyspark[sql]\n",
        "!pip install -U -q PyDrive\n",
        "!apt install openjdk-8-jdk-headless -qq \n",
        "import os\n",
        "os.environ[\"JAVA_HOME\"] = \"/usr/lib/jvm/java-8-openjdk-amd64\""
      ],
      "metadata": {
        "colab": {
          "base_uri": "https://localhost:8080/"
        },
        "id": "0MDGVXW64BRa",
        "outputId": "997f17f9-df90-46e0-abc4-d4ee4023bb7e"
      },
      "execution_count": 3,
      "outputs": [
        {
          "output_type": "stream",
          "name": "stdout",
          "text": [
            "Looking in indexes: https://pypi.org/simple, https://us-python.pkg.dev/colab-wheels/public/simple/\n",
            "Requirement already satisfied: pyspark in /usr/local/lib/python3.9/dist-packages (3.3.2)\n",
            "Requirement already satisfied: py4j==0.10.9.5 in /usr/local/lib/python3.9/dist-packages (from pyspark) (0.10.9.5)\n",
            "Looking in indexes: https://pypi.org/simple, https://us-python.pkg.dev/colab-wheels/public/simple/\n",
            "Requirement already satisfied: pyspark[sql] in /usr/local/lib/python3.9/dist-packages (3.3.2)\n",
            "Requirement already satisfied: py4j==0.10.9.5 in /usr/local/lib/python3.9/dist-packages (from pyspark[sql]) (0.10.9.5)\n",
            "Requirement already satisfied: pandas>=1.0.5 in /usr/local/lib/python3.9/dist-packages (from pyspark[sql]) (1.4.4)\n",
            "Requirement already satisfied: pyarrow>=1.0.0 in /usr/local/lib/python3.9/dist-packages (from pyspark[sql]) (9.0.0)\n",
            "Requirement already satisfied: numpy>=1.18.5 in /usr/local/lib/python3.9/dist-packages (from pandas>=1.0.5->pyspark[sql]) (1.22.4)\n",
            "Requirement already satisfied: python-dateutil>=2.8.1 in /usr/local/lib/python3.9/dist-packages (from pandas>=1.0.5->pyspark[sql]) (2.8.2)\n",
            "Requirement already satisfied: pytz>=2020.1 in /usr/local/lib/python3.9/dist-packages (from pandas>=1.0.5->pyspark[sql]) (2022.7.1)\n",
            "Requirement already satisfied: six>=1.5 in /usr/local/lib/python3.9/dist-packages (from python-dateutil>=2.8.1->pandas>=1.0.5->pyspark[sql]) (1.16.0)\n",
            "openjdk-8-jdk-headless is already the newest version (8u362-ga-0ubuntu1~20.04.1).\n",
            "0 upgraded, 0 newly installed, 0 to remove and 23 not upgraded.\n"
          ]
        }
      ]
    },
    {
      "cell_type": "code",
      "source": [
        "import pyspark as spark\n",
        "import time\n",
        "from operator import add\n",
        "from pyspark.sql import SparkSession"
      ],
      "metadata": {
        "id": "bXw2KzHqNEwD"
      },
      "execution_count": 4,
      "outputs": []
    },
    {
      "cell_type": "markdown",
      "source": [
        "# Step 0: Read Data"
      ],
      "metadata": {
        "id": "BLH0Rq2yOt1R"
      }
    },
    {
      "cell_type": "markdown",
      "source": [
        "## Set spark session"
      ],
      "metadata": {
        "id": "ynLN-vAXQ653"
      }
    },
    {
      "cell_type": "code",
      "source": [
        "# set spark session\n",
        "ss = (SparkSession\n",
        "  .builder\n",
        "  .master(\"local[5]\")\n",
        "  .appName(\"fqproject\")\n",
        "  .getOrCreate())\n"
      ],
      "metadata": {
        "id": "uDsadwheOw8x"
      },
      "execution_count": 5,
      "outputs": []
    },
    {
      "cell_type": "markdown",
      "source": [
        "## Set spark context"
      ],
      "metadata": {
        "id": "PIW11UM7OzMy"
      }
    },
    {
      "cell_type": "code",
      "source": [
        "# set spark session\n",
        "sc = (spark\n",
        "  .SparkContext\n",
        "  .getOrCreate(spark\n",
        "    .SparkConf()\n",
        "    .setAppName(\"fqproject\")\n",
        "    .setMaster('local[*]')\n",
        "    .set('spark.executor.memory', '4G')\n",
        "    .set('spark.driver.memory', '4G')\n",
        "    .set('spark.driver.maxResultSize', '4G')))"
      ],
      "metadata": {
        "id": "N0ueyutSQ7Px"
      },
      "execution_count": 6,
      "outputs": []
    },
    {
      "cell_type": "markdown",
      "source": [
        "## Read reads.fq"
      ],
      "metadata": {
        "id": "MRsu1WltO1E0"
      }
    },
    {
      "cell_type": "code",
      "source": [
        "# read reads.fq and extract the second line of every four lines.\n",
        "reads = (sc\n",
        "  .textFile(cur_path + \"data/reads.fq\")\n",
        "  .zipWithIndex()\n",
        "  .filter(lambda x: (x[1]+1)%2==0 and (x[1]+1)%4!=0)\n",
        "  .map(lambda x: x[0]))"
      ],
      "metadata": {
        "id": "hEEIfL20O3U1"
      },
      "execution_count": 7,
      "outputs": []
    },
    {
      "cell_type": "code",
      "source": [
        "reads.take(10)"
      ],
      "metadata": {
        "colab": {
          "base_uri": "https://localhost:8080/"
        },
        "id": "Z2r0uE5pPD4P",
        "outputId": "ebe4b7f9-546e-4464-a947-b55fc07aa9ea"
      },
      "execution_count": 9,
      "outputs": [
        {
          "output_type": "execute_result",
          "data": {
            "text/plain": [
              "['TCCTTACTGGTTTTGCAGGTAACTTATAGAGTATTTCCACTTCCCTTCTCCTATCCCTTGAAAAATTGTCATTTATTTCTCTTATCCATATGGCATAATC',\n",
              " 'GGTTTTTCAGGTAACTTATAGAGTATTTCCACTTCCCTTCTCCTATCCCTGGAAAAATTGTCATTTATTTCTCTTATCCATATGGCATAATCAAAGAATA',\n",
              " 'AGGTAACTTATAGAGTACTTCCACTTCCCTTCTCCTATCCCTTGAAAAATTGTCATTGATTTCTCTTATCCATATGGCATAATCAAAGAATAAATTGGTG',\n",
              " 'CACTTCCCTTCTACTATCCCTTGAAAAATTGTCATTTATTTCTCTTATCCATATGGCATAATCAAAGAATAAATTGGTGATATTTGTTCAAAAATCCATG',\n",
              " 'CCTTCTCCTATCCCTTGAAAAATTGTCATTTATTTCCCTTATCCATATGGCATAATCAAAGAATAAATTGGTGATATTTGTTCAAAAATCCATGCCTTTT',\n",
              " 'ATCCCTTGAAAAATTGTCATTTATTTCTCTTATCCATATGGCATAATCAAAGAATAAATTGGTGATATTTGTTCAAAAATCCGTGCCTATTAGATTCATT',\n",
              " 'TCTTATCCATATGGCATAATCAAAGAATAAATTGGTGATATTTGTTCAAAAATCCATGCCTATTAGATTCATTTAGAATATAAAAAAATTTTATTTTATT',\n",
              " 'TATCCATATGGCATAATCAAAGAATCAATTGTTGATATTTGTTCAAAAATCCATGCCTATTAGATTCATTTAGAATATAAAAAAATTTTATTTTATTTTC',\n",
              " 'TCAAAGAATAAATTGGTGATATTTGTTCAAAAATCCATGCCTATTAGATTCATTTAGATTATAAAAAAATTTTATTTTATTTTCACTTATTTCTTCTCCA',\n",
              " 'TGAATAAATTGGTGATATTTGTTCAAAAATCCATGCCTACTAGATTCATTTAGAATATAAAAAAATTTTATTTTATTTTCACTTATTTCTTCTCCACTGA']"
            ]
          },
          "metadata": {},
          "execution_count": 9
        }
      ]
    },
    {
      "cell_type": "markdown",
      "source": [
        "## Read reference.fa"
      ],
      "metadata": {
        "id": "zEvNcdARO3-v"
      }
    },
    {
      "cell_type": "code",
      "source": [
        "# read reference\n",
        "reference = (ss\n",
        "  .read\n",
        "  .csv(\n",
        "      cur_path + \"data/reference_chr21_20000000_20050000.fa\",\n",
        "      inferSchema=True,\n",
        "      header=True))"
      ],
      "metadata": {
        "id": "zqg4o_B6O9wD"
      },
      "execution_count": 13,
      "outputs": []
    },
    {
      "cell_type": "code",
      "source": [
        "reference.show(10)"
      ],
      "metadata": {
        "colab": {
          "base_uri": "https://localhost:8080/"
        },
        "id": "dSWs5YRJPFL0",
        "outputId": "e3be106c-d32d-4c83-fb3e-a444b182f427"
      },
      "execution_count": 15,
      "outputs": [
        {
          "output_type": "stream",
          "name": "stdout",
          "text": [
            "+--------+--------+--------------------+\n",
            "|   start|     end|            sequence|\n",
            "+--------+--------+--------------------+\n",
            "|20000000|20000100|CCCTTCTCCTATCCCTT...|\n",
            "|20000100|20000200|TAGATTCATTTAGAATA...|\n",
            "|20000200|20000300|TTCTTCTTCCTGAAGAA...|\n",
            "|20000300|20000400|ACTTTTCAAGGATAGTT...|\n",
            "|20000400|20000500|CTGACAGGACTTCTGCC...|\n",
            "|20000500|20000600|TTTCCTTTTTTTTTTCT...|\n",
            "|20000600|20000700|ATTATAAAAAGGGAGGG...|\n",
            "|20000700|20000800|TTCTTTTCTTTTTCTCC...|\n",
            "|20000800|20000900|ATAAATTTCTGCTTGAA...|\n",
            "|20000900|20001000|TTCGTTAGTGTTTTTTA...|\n",
            "+--------+--------+--------------------+\n",
            "only showing top 10 rows\n",
            "\n"
          ]
        }
      ]
    },
    {
      "cell_type": "markdown",
      "source": [
        "# Step 1: Cut reads into kmers = 15"
      ],
      "metadata": {
        "id": "59Y3bTkLSAI2"
      }
    },
    {
      "cell_type": "markdown",
      "source": [
        "## Define K-mers"
      ],
      "metadata": {
        "id": "ANqDbZ8hS38t"
      }
    },
    {
      "cell_type": "code",
      "source": [
        "# input a string s and cut k-mers\n",
        "def extract_kmers(s: str, k: int = 15) -> list:\n",
        "    return [s[i:i+k] for i in range(len(s)-k+1)]"
      ],
      "metadata": {
        "id": "naqY5_vJSFoK"
      },
      "execution_count": 18,
      "outputs": []
    },
    {
      "cell_type": "markdown",
      "source": [
        "## Map K-mers to reads"
      ],
      "metadata": {
        "id": "QViG0LdgTPvr"
      }
    },
    {
      "cell_type": "code",
      "source": [
        "# K-mers of reads\n",
        "reads_kmers = (reads\n",
        "  .map(extract_kmers))"
      ],
      "metadata": {
        "id": "FiS_J2ghTPLb"
      },
      "execution_count": 19,
      "outputs": []
    },
    {
      "cell_type": "code",
      "source": [
        "reads_kmers.take(2)"
      ],
      "metadata": {
        "id": "G0EBAg1nTa1T"
      },
      "execution_count": null,
      "outputs": []
    },
    {
      "cell_type": "markdown",
      "source": [
        "# Step 2: • Cut reference bins into kmers = 15"
      ],
      "metadata": {
        "id": "y9LB3IwwT3RE"
      }
    },
    {
      "cell_type": "code",
      "source": [
        "# K-mers of reference\n",
        "reference_kmers = (reference\n",
        "  .select('sequence')\n",
        "  .rdd\n",
        "  .flatMap(lambda x: x)\n",
        "  .map(extract_kmers))"
      ],
      "metadata": {
        "id": "CVfbDsD0T2Ri"
      },
      "execution_count": 41,
      "outputs": []
    },
    {
      "cell_type": "code",
      "source": [
        "reference_kmers.take(2)"
      ],
      "metadata": {
        "id": "huQx-SdEUbxy"
      },
      "execution_count": null,
      "outputs": []
    },
    {
      "cell_type": "markdown",
      "source": [
        "# Step 3: Collect all kmers and build a distinct kmer set\n",
        "\n",
        "• Hint: you can use python “set” function\n",
        "\n",
        "• Report the number of distinct kmers (N)"
      ],
      "metadata": {
        "id": "x4a_UuqMUbcr"
      }
    },
    {
      "cell_type": "code",
      "source": [
        "# Merge and distinct, collect to a set\n",
        "kmers = set(reads_kmers \n",
        "  .union(reference_kmers)\n",
        "  .flatMap(lambda x: x) \n",
        "  .distinct()\n",
        "  .collect())"
      ],
      "metadata": {
        "id": "o8cKZPl-Vp1X"
      },
      "execution_count": 64,
      "outputs": []
    },
    {
      "cell_type": "code",
      "source": [
        "len(kmers)"
      ],
      "metadata": {
        "colab": {
          "base_uri": "https://localhost:8080/"
        },
        "id": "J8wR4jStWvSK",
        "outputId": "05515e9d-b3f7-4965-dc3a-ea89d99f238b"
      },
      "execution_count": 65,
      "outputs": [
        {
          "output_type": "execute_result",
          "data": {
            "text/plain": [
              "72530"
            ]
          },
          "metadata": {},
          "execution_count": 65
        }
      ]
    },
    {
      "cell_type": "markdown",
      "source": [
        "**The number of distinct kmers is 72,530**\n"
      ],
      "metadata": {
        "id": "C3eLWeCXXeiH"
      }
    }
  ]
}